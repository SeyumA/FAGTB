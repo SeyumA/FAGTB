{
  "nbformat": 4,
  "nbformat_minor": 0,
  "metadata": {
    "colab": {
      "name": "FAGTB.ipynb",
      "provenance": [],
      "collapsed_sections": [],
      "toc_visible": true,
      "authorship_tag": "ABX9TyNlJnRQnOql8ad9BwZ3aX5p",
      "include_colab_link": true
    },
    "kernelspec": {
      "name": "python3",
      "display_name": "Python 3"
    }
  },
  "cells": [
    {
      "cell_type": "markdown",
      "metadata": {
        "id": "view-in-github",
        "colab_type": "text"
      },
      "source": [
        "<a href=\"https://colab.research.google.com/github/vincent-grari/FAGTB/blob/master/FAGTB.ipynb\" target=\"_parent\"><img src=\"https://colab.research.google.com/assets/colab-badge.svg\" alt=\"Open In Colab\"/></a>"
      ]
    },
    {
      "cell_type": "markdown",
      "metadata": {
        "id": "3Ksdz6ESmGSY",
        "colab_type": "text"
      },
      "source": [
        "Clone the Github Repository"
      ]
    },
    {
      "cell_type": "code",
      "metadata": {
        "id": "YI1Cg2-TmFpk",
        "colab_type": "code",
        "colab": {
          "base_uri": "https://localhost:8080/",
          "height": 400
        },
        "outputId": "12baf216-b30e-40f4-b4be-0880432fdde2"
      },
      "source": [
        "!pip3 install fairness\n",
        "!git clone https://github.com/vincent-grari/FAGTB\n",
        "import urllib.request, sys, os\n",
        "!bash -c '/content/FAGTB/ProcessedData.py', '/usr/local/lib/python3.6/dist-packages/fairness/data/objects/ProcessedData.py'\n",
        "sys.path.append('FAGTB')"
      ],
      "execution_count": 1,
      "outputs": [
        {
          "output_type": "stream",
          "text": [
            "Requirement already satisfied: fairness in /usr/local/lib/python3.6/dist-packages (0.1.8)\n",
            "Requirement already satisfied: scikit-learn>=0.18.1 in /usr/local/lib/python3.6/dist-packages (from fairness) (0.22.2.post1)\n",
            "Requirement already satisfied: six>=1.10.0 in /usr/local/lib/python3.6/dist-packages (from fairness) (1.12.0)\n",
            "Requirement already satisfied: pyparsing>=2.1.4 in /usr/local/lib/python3.6/dist-packages (from fairness) (2.4.7)\n",
            "Requirement already satisfied: pandas>=0.21.1 in /usr/local/lib/python3.6/dist-packages (from fairness) (1.0.5)\n",
            "Requirement already satisfied: fire in /usr/local/lib/python3.6/dist-packages (from fairness) (0.3.1)\n",
            "Requirement already satisfied: scipy>=0.19.0 in /usr/local/lib/python3.6/dist-packages (from fairness) (1.4.1)\n",
            "Requirement already satisfied: python-dateutil>=2.6.0 in /usr/local/lib/python3.6/dist-packages (from fairness) (2.8.1)\n",
            "Requirement already satisfied: BlackBoxAuditing>=0.1.26ggplot in /usr/local/lib/python3.6/dist-packages (from fairness) (0.1.54)\n",
            "Requirement already satisfied: pytz in /usr/local/lib/python3.6/dist-packages (from fairness) (2018.9)\n",
            "Requirement already satisfied: wheel>=0.29.0 in /usr/local/lib/python3.6/dist-packages (from fairness) (0.34.2)\n",
            "Requirement already satisfied: numpy>=1.11.0 in /usr/local/lib/python3.6/dist-packages (from scikit-learn>=0.18.1->fairness) (1.18.5)\n",
            "Requirement already satisfied: joblib>=0.11 in /usr/local/lib/python3.6/dist-packages (from scikit-learn>=0.18.1->fairness) (0.15.1)\n",
            "Requirement already satisfied: termcolor in /usr/local/lib/python3.6/dist-packages (from fire->fairness) (1.1.0)\n",
            "Requirement already satisfied: networkx in /usr/local/lib/python3.6/dist-packages (from BlackBoxAuditing>=0.1.26ggplot->fairness) (2.4)\n",
            "Requirement already satisfied: matplotlib in /usr/local/lib/python3.6/dist-packages (from BlackBoxAuditing>=0.1.26ggplot->fairness) (3.2.2)\n",
            "Requirement already satisfied: decorator>=4.3.0 in /usr/local/lib/python3.6/dist-packages (from networkx->BlackBoxAuditing>=0.1.26ggplot->fairness) (4.4.2)\n",
            "Requirement already satisfied: kiwisolver>=1.0.1 in /usr/local/lib/python3.6/dist-packages (from matplotlib->BlackBoxAuditing>=0.1.26ggplot->fairness) (1.2.0)\n",
            "Requirement already satisfied: cycler>=0.10 in /usr/local/lib/python3.6/dist-packages (from matplotlib->BlackBoxAuditing>=0.1.26ggplot->fairness) (0.10.0)\n",
            "fatal: destination path 'FAGTB' already exists and is not an empty directory.\n",
            "/usr/local/lib/python3.6/dist-packages/fairness/data/objects/ProcessedData.py: /content/FAGTB/ProcessedData.py,: No such file or directory\n"
          ],
          "name": "stdout"
        }
      ]
    },
    {
      "cell_type": "markdown",
      "metadata": {
        "id": "HfzoXabceL8p",
        "colab_type": "text"
      },
      "source": [
        "Import all libraries and functions"
      ]
    },
    {
      "cell_type": "code",
      "metadata": {
        "id": "wNxgkEwlE0-I",
        "colab_type": "code",
        "colab": {
          "base_uri": "https://localhost:8080/",
          "height": 435
        },
        "outputId": "0331313d-88aa-413a-a690-342ec5e429b2"
      },
      "source": [
        "from functions import *"
      ],
      "execution_count": 2,
      "outputs": [
        {
          "output_type": "stream",
          "text": [
            "Available algorithms:\n",
            "  SVM\n",
            "  GaussianNB\n",
            "  LR\n",
            "  DecisionTree\n",
            "  Kamishima\n",
            "  Calders\n",
            "  ZafarBaseline\n",
            "  ZafarFairness\n",
            "  ZafarAccuracy\n",
            "  Kamishima-accuracy\n",
            "  Kamishima-DIavgall\n",
            "  Feldman-SVM\n",
            "  Feldman-GaussianNB\n",
            "  Feldman-LR\n",
            "  Feldman-DecisionTree\n",
            "  Feldman-SVM-DIavgall\n",
            "  Feldman-SVM-accuracy\n",
            "  Feldman-GaussianNB-DIavgall\n",
            "  Feldman-GaussianNB-accuracy\n",
            "WARNING:tensorflow:From /usr/local/lib/python3.6/dist-packages/tensorflow/python/compat/v2_compat.py:96: disable_resource_variables (from tensorflow.python.ops.variable_scope) is deprecated and will be removed in a future version.\n",
            "Instructions for updating:\n",
            "non-resource variables are not supported in the long term\n"
          ],
          "name": "stdout"
        }
      ]
    },
    {
      "cell_type": "markdown",
      "metadata": {
        "id": "sp9dG3kpeXn8",
        "colab_type": "text"
      },
      "source": [
        "Import the Adult UCI data set"
      ]
    },
    {
      "cell_type": "code",
      "metadata": {
        "id": "vAlyPoMBXY9n",
        "colab_type": "code",
        "colab": {}
      },
      "source": [
        "X_train, X_test, y_train, y_test, sensitive, sensitivet = DATA_TRAIN_TEST(1,'sex',\"income-per-year\",['sex','income-per-year','race-sex'])  #,'race','race-sex','sex'"
      ],
      "execution_count": 6,
      "outputs": []
    },
    {
      "cell_type": "markdown",
      "metadata": {
        "id": "VaOPVgMhfGro",
        "colab_type": "text"
      },
      "source": [
        "Train an unfair GTB:"
      ]
    },
    {
      "cell_type": "code",
      "metadata": {
        "id": "KLGUNp0pfOG7",
        "colab_type": "code",
        "colab": {
          "base_uri": "https://localhost:8080/",
          "height": 1000
        },
        "outputId": "3f6f69fb-7bfc-4b6f-ec60-4126824f5eb5"
      },
      "source": [
        "table = [0,0,0,0]\n",
        "for k  in range(10):\n",
        "    np.random.seed()\n",
        "    X_train, X_test, y_train, y_test, sensitive, sensitivet = DATA_TRAIN_TEST(1,'sex',\"income-per-year\",['sex','income-per-year','race-sex']) \n",
        "    \n",
        "    gb = GradientBoostingClassifier(n_estimators=500, learning_rate = 0.05, max_depth = 3, max_features=90,random_state=0,  min_impurity_decrease=0.0, min_impurity_split=None,\n",
        "      min_samples_leaf=2, min_samples_split=2,\n",
        "      min_weight_fraction_leaf=0.0,\n",
        "      presort='auto')\n",
        "    gb.fit(X_train, y_train)\n",
        "\n",
        "    ##### Results on Test dataset #####\n",
        "    y_predt2= gb.predict_proba(X_test.values)[:,1]\n",
        "    print('')\n",
        "    print('Results on test set :')\n",
        "    Res = display_results(y_predt2, y_test.values, sensitivet)\n",
        "    table = np.vstack([table,[Res['Accuracy']*100,Res['PRULE'],Res['DispFPR'],Res['DispFNR']]])\n"
      ],
      "execution_count": 7,
      "outputs": [
        {
          "output_type": "stream",
          "text": [
            "/usr/local/lib/python3.6/dist-packages/sklearn/ensemble/_gb.py:1342: FutureWarning: The parameter 'presort' is deprecated and has no effect. It will be removed in v0.24. You can suppress this warning by not passing any value to the 'presort' parameter. We also recommend using HistGradientBoosting models instead.\n",
            "  FutureWarning)\n"
          ],
          "name": "stderr"
        },
        {
          "output_type": "stream",
          "text": [
            "\n",
            "Results on test set :\n",
            "Accuracy: 0.8652277700417744\n",
            "PRULE :  34.22051218911598\n",
            "DI :  0.1684513804981482\n",
            "DispFPR :  0.06352655329256522\n",
            "DispFNR :  0.05264617209682687\n"
          ],
          "name": "stdout"
        },
        {
          "output_type": "stream",
          "text": [
            "/usr/local/lib/python3.6/dist-packages/sklearn/ensemble/_gb.py:1342: FutureWarning: The parameter 'presort' is deprecated and has no effect. It will be removed in v0.24. You can suppress this warning by not passing any value to the 'presort' parameter. We also recommend using HistGradientBoosting models instead.\n",
            "  FutureWarning)\n"
          ],
          "name": "stderr"
        },
        {
          "output_type": "stream",
          "text": [
            "\n",
            "Results on test set :\n",
            "Accuracy: 0.8659240103441417\n",
            "PRULE :  30.46054210936594\n",
            "DI :  0.18473030121940906\n",
            "DispFPR :  0.06913046227731592\n",
            "DispFNR :  0.0884794952038247\n"
          ],
          "name": "stdout"
        },
        {
          "output_type": "stream",
          "text": [
            "/usr/local/lib/python3.6/dist-packages/sklearn/ensemble/_gb.py:1342: FutureWarning: The parameter 'presort' is deprecated and has no effect. It will be removed in v0.24. You can suppress this warning by not passing any value to the 'presort' parameter. We also recommend using HistGradientBoosting models instead.\n",
            "  FutureWarning)\n"
          ],
          "name": "stderr"
        },
        {
          "output_type": "stream",
          "text": [
            "\n",
            "Results on test set :\n",
            "Accuracy: 0.8637358265367018\n",
            "PRULE :  32.18570354658799\n",
            "DI :  0.181962574536295\n",
            "DispFPR :  0.07168981271164862\n",
            "DispFNR :  0.08595225448536348\n"
          ],
          "name": "stdout"
        },
        {
          "output_type": "stream",
          "text": [
            "/usr/local/lib/python3.6/dist-packages/sklearn/ensemble/_gb.py:1342: FutureWarning: The parameter 'presort' is deprecated and has no effect. It will be removed in v0.24. You can suppress this warning by not passing any value to the 'presort' parameter. We also recommend using HistGradientBoosting models instead.\n",
            "  FutureWarning)\n"
          ],
          "name": "stderr"
        },
        {
          "output_type": "stream",
          "text": [
            "\n",
            "Results on test set :\n",
            "Accuracy: 0.8680127312512433\n",
            "PRULE :  30.72963799046427\n",
            "DI :  0.1884137373327146\n",
            "DispFPR :  0.07242663511854913\n",
            "DispFNR :  0.09656882761271113\n"
          ],
          "name": "stdout"
        },
        {
          "output_type": "stream",
          "text": [
            "/usr/local/lib/python3.6/dist-packages/sklearn/ensemble/_gb.py:1342: FutureWarning: The parameter 'presort' is deprecated and has no effect. It will be removed in v0.24. You can suppress this warning by not passing any value to the 'presort' parameter. We also recommend using HistGradientBoosting models instead.\n",
            "  FutureWarning)\n"
          ],
          "name": "stderr"
        },
        {
          "output_type": "stream",
          "text": [
            "\n",
            "Results on test set :\n",
            "Accuracy: 0.8642331410383927\n",
            "PRULE :  30.305491933099887\n",
            "DI :  0.183950146731739\n",
            "DispFPR :  0.0655990625915438\n",
            "DispFNR :  0.10439390934532067\n"
          ],
          "name": "stdout"
        },
        {
          "output_type": "stream",
          "text": [
            "/usr/local/lib/python3.6/dist-packages/sklearn/ensemble/_gb.py:1342: FutureWarning: The parameter 'presort' is deprecated and has no effect. It will be removed in v0.24. You can suppress this warning by not passing any value to the 'presort' parameter. We also recommend using HistGradientBoosting models instead.\n",
            "  FutureWarning)\n"
          ],
          "name": "stderr"
        },
        {
          "output_type": "stream",
          "text": [
            "\n",
            "Results on test set :\n",
            "Accuracy: 0.8665207877461707\n",
            "PRULE :  34.600799276567194\n",
            "DI :  0.16962495555000717\n",
            "DispFPR :  0.06275027017882442\n",
            "DispFNR :  0.04113210823608249\n"
          ],
          "name": "stdout"
        },
        {
          "output_type": "stream",
          "text": [
            "/usr/local/lib/python3.6/dist-packages/sklearn/ensemble/_gb.py:1342: FutureWarning: The parameter 'presort' is deprecated and has no effect. It will be removed in v0.24. You can suppress this warning by not passing any value to the 'presort' parameter. We also recommend using HistGradientBoosting models instead.\n",
            "  FutureWarning)\n"
          ],
          "name": "stderr"
        },
        {
          "output_type": "stream",
          "text": [
            "\n",
            "Results on test set :\n",
            "Accuracy: 0.8685100457529341\n",
            "PRULE :  31.321102498898878\n",
            "DI :  0.183291596677924\n",
            "DispFPR :  0.06435491865738446\n",
            "DispFNR :  0.046122978296508355\n"
          ],
          "name": "stdout"
        },
        {
          "output_type": "stream",
          "text": [
            "/usr/local/lib/python3.6/dist-packages/sklearn/ensemble/_gb.py:1342: FutureWarning: The parameter 'presort' is deprecated and has no effect. It will be removed in v0.24. You can suppress this warning by not passing any value to the 'presort' parameter. We also recommend using HistGradientBoosting models instead.\n",
            "  FutureWarning)\n"
          ],
          "name": "stderr"
        },
        {
          "output_type": "stream",
          "text": [
            "\n",
            "Results on test set :\n",
            "Accuracy: 0.8679132683509051\n",
            "PRULE :  32.06271104763587\n",
            "DI :  0.17522196635084633\n",
            "DispFPR :  0.06363065236417662\n",
            "DispFNR :  0.04622165085738872\n"
          ],
          "name": "stdout"
        },
        {
          "output_type": "stream",
          "text": [
            "/usr/local/lib/python3.6/dist-packages/sklearn/ensemble/_gb.py:1342: FutureWarning: The parameter 'presort' is deprecated and has no effect. It will be removed in v0.24. You can suppress this warning by not passing any value to the 'presort' parameter. We also recommend using HistGradientBoosting models instead.\n",
            "  FutureWarning)\n"
          ],
          "name": "stderr"
        },
        {
          "output_type": "stream",
          "text": [
            "\n",
            "Results on test set :\n",
            "Accuracy: 0.8665207877461707\n",
            "PRULE :  32.72304171394504\n",
            "DI :  0.17723712343064435\n",
            "DispFPR :  0.0640612611127288\n",
            "DispFNR :  0.053517370053082436\n"
          ],
          "name": "stdout"
        },
        {
          "output_type": "stream",
          "text": [
            "/usr/local/lib/python3.6/dist-packages/sklearn/ensemble/_gb.py:1342: FutureWarning: The parameter 'presort' is deprecated and has no effect. It will be removed in v0.24. You can suppress this warning by not passing any value to the 'presort' parameter. We also recommend using HistGradientBoosting models instead.\n",
            "  FutureWarning)\n"
          ],
          "name": "stderr"
        },
        {
          "output_type": "stream",
          "text": [
            "\n",
            "Results on test set :\n",
            "Accuracy: 0.8651283071414363\n",
            "PRULE :  33.489883106243624\n",
            "DI :  0.1702777584070464\n",
            "DispFPR :  0.05574511203593009\n",
            "DispFNR :  0.09304958462738855\n",
            "86.62\n",
            "32.21\n",
            " 0.07\n",
            " 0.07\n"
          ],
          "name": "stdout"
        }
      ]
    },
    {
      "cell_type": "code",
      "metadata": {
        "id": "G3MiMCiQf3_O",
        "colab_type": "code",
        "colab": {
          "base_uri": "https://localhost:8080/",
          "height": 356
        },
        "outputId": "2fc02a16-06f4-4cc2-f4e9-eb375174e753"
      },
      "source": [
        "import seaborn as sns\n",
        "import matplotlib.pyplot as plt\n",
        "\n",
        "%matplotlib inline\n",
        "sns.set_context('notebook')\n",
        "%config InlineBackend.figure_format = 'retina'\n",
        "\n",
        "y_pred_S1=gb.predict_proba(X_train)[:,1][sensitive==1]\n",
        "y_pred_S0=gb.predict_proba(X_train)[:,1][sensitive==0]\n",
        "\n",
        "fig, ax1 = plt.subplots()\n",
        "ax1.set_facecolor('white')\n",
        "ax1.grid(color='gray', linestyle=':', linewidth=1)\n",
        "plt.rcParams[\"figure.figsize\"] = (6,6)\n",
        "plt.rcParams[\"font.size\"] = 16.0\n",
        "ax1.hist(y_pred_S1, bins=100, density=1, histtype=\"step\", label=\"$p(f(X)|S=1)$\")\n",
        "ax1.hist(y_pred_S0, bins=100, density=1, histtype=\"step\", label=\"$p(f(X)|S=0)$\")\n",
        "leg = plt.legend(loc=\"best\")\n",
        "#plt.ylim(0,15)\n",
        "plt.xlabel(\"$f(X)$\")\n",
        "plt.ylabel(\"$p(f(X))$\")\n",
        "plt.legend(loc=\"upper left\")\n",
        "plt.savefig(\"f-plain.pdf\")\n",
        "plt.legend(loc='upper center', bbox_to_anchor=(0.8, 0.9),shadow=False, ncol=1)\n",
        "plt.show()\n",
        "plt.title('Unfair model (FAGTB with   =0.000)')\n",
        "plt.savefig(\"test.pdf\" , bbox_inches='tight')\n",
        "plt.clf() \n",
        "\n",
        "plt.show()\n"
      ],
      "execution_count": 9,
      "outputs": [
        {
          "output_type": "stream",
          "text": [
            "/usr/local/lib/python3.6/dist-packages/statsmodels/tools/_testing.py:19: FutureWarning: pandas.util.testing is deprecated. Use the functions in the public API at pandas.testing instead.\n",
            "  import pandas.util.testing as tm\n"
          ],
          "name": "stderr"
        },
        {
          "output_type": "display_data",
          "data": {
            "image/png": "[encoded data removed]",
            "text/plain": [
              "<Figure size 432x288 with 1 Axes>"
            ]
          },
          "metadata": {
            "tags": [],
            "image/png": {
              "width": 390,
              "height": 268
            },
            "needs_background": "light"
          }
        },
        {
          "output_type": "display_data",
          "data": {
            "text/plain": [
              "<Figure size 432x432 with 0 Axes>"
            ]
          },
          "metadata": {
            "tags": []
          }
        }
      ]
    },
    {
      "cell_type": "markdown",
      "metadata": {
        "id": "8o7LWU3WfDwr",
        "colab_type": "text"
      },
      "source": [
        "Train the FAGTB algorithm on 10 iterations:"
      ]
    },
    {
      "cell_type": "code",
      "metadata": {
        "id": "jruLj9ewE9LT",
        "colab_type": "code",
        "colab": {
          "base_uri": "https://localhost:8080/",
          "height": 1000
        },
        "outputId": "6dd662de-dd1a-4205-9ee6-7fd993fa1a68"
      },
      "source": [
        "table = [0,0,0,0]\n",
        "\n",
        "for i in range(10):\n",
        "    X_train, X_test, y_train, y_test, sensitive, sensitivet = DATA_TRAIN_TEST(1,'sex',\"income-per-year\",['sex','income-per-year','race-sex']) \n",
        "   \n",
        "    classifier= FAGTB(n_estimators=300, learning_rate = 0.01, max_depth = 10,min_samples_split=1.0, min_impurity =False, max_features =20, regression =1)\n",
        "    y_pred = classifier.fit(X_train.values, y_train.values, sensitive, LAMBDA=0.15, Xtest=X_test.values, yt=y_test,\n",
        "                      sensitivet=sensitivet)\n",
        "    \n",
        "    ##### Results on Test dataset #####\n",
        "    y_predt2 = classifier.predict(X_test.values)\n",
        "    print('')\n",
        "    print('Results on test set :')\n",
        "    Res = display_results(y_predt2, y_test.values, sensitivet)\n",
        "    table = np.vstack([table,[Res['Accuracy']*100,Res['PRULE'],Res['DispFPR'],Res['DispFNR']]])\n",
        "np.savetxt(sys.stdout, np.mean(table[1:,], axis=0).astype(float), '%5.2f')\n"
      ],
      "execution_count": 10,
      "outputs": [
        {
          "output_type": "stream",
          "text": [
            "FAGTB/functions.py:131: RuntimeWarning: invalid value encountered in double_scalars\n",
            "  odds = y_z_1.mean() / y_z_0.mean()\n",
            "FAGTB/functions.py:131: RuntimeWarning: invalid value encountered in double_scalars\n",
            "  odds = y_z_1.mean() / y_z_0.mean()\n",
            "FAGTB/functions.py:131: RuntimeWarning: invalid value encountered in double_scalars\n",
            "  odds = y_z_1.mean() / y_z_0.mean()\n",
            "FAGTB/functions.py:131: RuntimeWarning: invalid value encountered in double_scalars\n",
            "  odds = y_z_1.mean() / y_z_0.mean()\n"
          ],
          "name": "stderr"
        },
        {
          "output_type": "stream",
          "text": [
            "0 11301.400093299457 11229.782312249054 12924.99232624397 Accuracy: 0.7529  test :  0.7475  Prule Train :  nan  Prule test :  nan\n"
          ],
          "name": "stdout"
        },
        {
          "output_type": "stream",
          "text": [
            "FAGTB/functions.py:131: RuntimeWarning: invalid value encountered in double_scalars\n",
            "  odds = y_z_1.mean() / y_z_0.mean()\n",
            "FAGTB/functions.py:131: RuntimeWarning: invalid value encountered in double_scalars\n",
            "  odds = y_z_1.mean() / y_z_0.mean()\n",
            "FAGTB/functions.py:131: RuntimeWarning: invalid value encountered in double_scalars\n",
            "  odds = y_z_1.mean() / y_z_0.mean()\n",
            "FAGTB/functions.py:131: RuntimeWarning: invalid value encountered in double_scalars\n",
            "  odds = y_z_1.mean() / y_z_0.mean()\n"
          ],
          "name": "stderr"
        },
        {
          "output_type": "stream",
          "text": [
            "5 33363.703890390214 11162.209113934096 16166.764697492628 Accuracy: 0.7529  test :  0.7475  Prule Train :  nan  Prule test :  nan\n"
          ],
          "name": "stdout"
        },
        {
          "output_type": "stream",
          "text": [
            "FAGTB/functions.py:131: RuntimeWarning: invalid value encountered in double_scalars\n",
            "  odds = y_z_1.mean() / y_z_0.mean()\n",
            "FAGTB/functions.py:131: RuntimeWarning: invalid value encountered in double_scalars\n",
            "  odds = y_z_1.mean() / y_z_0.mean()\n",
            "FAGTB/functions.py:131: RuntimeWarning: invalid value encountered in double_scalars\n",
            "  odds = y_z_1.mean() / y_z_0.mean()\n",
            "FAGTB/functions.py:131: RuntimeWarning: invalid value encountered in double_scalars\n",
            "  odds = y_z_1.mean() / y_z_0.mean()\n"
          ],
          "name": "stderr"
        },
        {
          "output_type": "stream",
          "text": [
            "10 12778.492561929756 11091.480710896318 13008.254595185783 Accuracy: 0.7529  test :  0.7475  Prule Train :  nan  Prule test :  nan\n"
          ],
          "name": "stdout"
        },
        {
          "output_type": "stream",
          "text": [
            "FAGTB/functions.py:131: RuntimeWarning: invalid value encountered in double_scalars\n",
            "  odds = y_z_1.mean() / y_z_0.mean()\n",
            "FAGTB/functions.py:131: RuntimeWarning: invalid value encountered in double_scalars\n",
            "  odds = y_z_1.mean() / y_z_0.mean()\n",
            "FAGTB/functions.py:131: RuntimeWarning: invalid value encountered in double_scalars\n",
            "  odds = y_z_1.mean() / y_z_0.mean()\n",
            "FAGTB/functions.py:131: RuntimeWarning: invalid value encountered in double_scalars\n",
            "  odds = y_z_1.mean() / y_z_0.mean()\n"
          ],
          "name": "stderr"
        },
        {
          "output_type": "stream",
          "text": [
            "15 16204.969045539041 11030.328156745394 13461.073513576252 Accuracy: 0.7529  test :  0.7475  Prule Train :  nan  Prule test :  nan\n"
          ],
          "name": "stdout"
        },
        {
          "output_type": "stream",
          "text": [
            "FAGTB/functions.py:131: RuntimeWarning: invalid value encountered in double_scalars\n",
            "  odds = y_z_1.mean() / y_z_0.mean()\n",
            "FAGTB/functions.py:131: RuntimeWarning: invalid value encountered in double_scalars\n",
            "  odds = y_z_1.mean() / y_z_0.mean()\n",
            "FAGTB/functions.py:131: RuntimeWarning: invalid value encountered in double_scalars\n",
            "  odds = y_z_1.mean() / y_z_0.mean()\n",
            "FAGTB/functions.py:131: RuntimeWarning: invalid value encountered in double_scalars\n",
            "  odds = y_z_1.mean() / y_z_0.mean()\n",
            "FAGTB/functions.py:131: RuntimeWarning: invalid value encountered in double_scalars\n",
            "  odds = y_z_1.mean() / y_z_0.mean()\n",
            "FAGTB/functions.py:131: RuntimeWarning: invalid value encountered in double_scalars\n",
            "  odds = y_z_1.mean() / y_z_0.mean()\n",
            "FAGTB/functions.py:131: RuntimeWarning: invalid value encountered in double_scalars\n",
            "  odds = y_z_1.mean() / y_z_0.mean()\n",
            "FAGTB/functions.py:131: RuntimeWarning: invalid value encountered in double_scalars\n",
            "  odds = y_z_1.mean() / y_z_0.mean()\n"
          ],
          "name": "stderr"
        },
        {
          "output_type": "stream",
          "text": [
            "20 39040.50152088511 10968.784635285909 16824.85986341868 Accuracy: 0.7529  test :  0.7475  Prule Train :  nan  Prule test :  nan\n"
          ],
          "name": "stdout"
        },
        {
          "output_type": "stream",
          "text": [
            "FAGTB/functions.py:131: RuntimeWarning: invalid value encountered in double_scalars\n",
            "  odds = y_z_1.mean() / y_z_0.mean()\n",
            "FAGTB/functions.py:131: RuntimeWarning: invalid value encountered in double_scalars\n",
            "  odds = y_z_1.mean() / y_z_0.mean()\n",
            "FAGTB/functions.py:131: RuntimeWarning: invalid value encountered in double_scalars\n",
            "  odds = y_z_1.mean() / y_z_0.mean()\n",
            "FAGTB/functions.py:131: RuntimeWarning: invalid value encountered in double_scalars\n",
            "  odds = y_z_1.mean() / y_z_0.mean()\n"
          ],
          "name": "stderr"
        },
        {
          "output_type": "stream",
          "text": [
            "25 3496.7293733503925 10905.549461189861 11430.05886719242 Accuracy: 0.7529  test :  0.7475  Prule Train :  nan  Prule test :  nan\n"
          ],
          "name": "stdout"
        },
        {
          "output_type": "stream",
          "text": [
            "FAGTB/functions.py:131: RuntimeWarning: invalid value encountered in double_scalars\n",
            "  odds = y_z_1.mean() / y_z_0.mean()\n",
            "FAGTB/functions.py:131: RuntimeWarning: invalid value encountered in double_scalars\n",
            "  odds = y_z_1.mean() / y_z_0.mean()\n",
            "FAGTB/functions.py:131: RuntimeWarning: invalid value encountered in double_scalars\n",
            "  odds = y_z_1.mean() / y_z_0.mean()\n",
            "FAGTB/functions.py:131: RuntimeWarning: invalid value encountered in double_scalars\n",
            "  odds = y_z_1.mean() / y_z_0.mean()\n"
          ],
          "name": "stderr"
        },
        {
          "output_type": "stream",
          "text": [
            "30 20397.540475517544 10852.860125476445 13912.491196804078 Accuracy: 0.7529  test :  0.7475  Prule Train :  nan  Prule test :  nan\n"
          ],
          "name": "stdout"
        },
        {
          "output_type": "stream",
          "text": [
            "FAGTB/functions.py:131: RuntimeWarning: invalid value encountered in double_scalars\n",
            "  odds = y_z_1.mean() / y_z_0.mean()\n",
            "FAGTB/functions.py:131: RuntimeWarning: invalid value encountered in double_scalars\n",
            "  odds = y_z_1.mean() / y_z_0.mean()\n",
            "FAGTB/functions.py:131: RuntimeWarning: invalid value encountered in double_scalars\n",
            "  odds = y_z_1.mean() / y_z_0.mean()\n",
            "FAGTB/functions.py:131: RuntimeWarning: invalid value encountered in double_scalars\n",
            "  odds = y_z_1.mean() / y_z_0.mean()\n"
          ],
          "name": "stderr"
        },
        {
          "output_type": "stream",
          "text": [
            "35 41980.481547267904 10796.14115310205 17093.213385192234 Accuracy: 0.7529  test :  0.7475  Prule Train :  nan  Prule test :  nan\n"
          ],
          "name": "stdout"
        },
        {
          "output_type": "stream",
          "text": [
            "FAGTB/functions.py:131: RuntimeWarning: invalid value encountered in double_scalars\n",
            "  odds = y_z_1.mean() / y_z_0.mean()\n",
            "FAGTB/functions.py:131: RuntimeWarning: invalid value encountered in double_scalars\n",
            "  odds = y_z_1.mean() / y_z_0.mean()\n",
            "FAGTB/functions.py:131: RuntimeWarning: invalid value encountered in double_scalars\n",
            "  odds = y_z_1.mean() / y_z_0.mean()\n",
            "FAGTB/functions.py:131: RuntimeWarning: invalid value encountered in double_scalars\n",
            "  odds = y_z_1.mean() / y_z_0.mean()\n",
            "FAGTB/functions.py:131: RuntimeWarning: invalid value encountered in double_scalars\n",
            "  odds = y_z_1.mean() / y_z_0.mean()\n",
            "FAGTB/functions.py:131: RuntimeWarning: invalid value encountered in double_scalars\n",
            "  odds = y_z_1.mean() / y_z_0.mean()\n",
            "FAGTB/functions.py:131: RuntimeWarning: invalid value encountered in double_scalars\n",
            "  odds = y_z_1.mean() / y_z_0.mean()\n",
            "FAGTB/functions.py:131: RuntimeWarning: invalid value encountered in double_scalars\n",
            "  odds = y_z_1.mean() / y_z_0.mean()\n"
          ],
          "name": "stderr"
        },
        {
          "output_type": "stream",
          "text": [
            "40 3812.1659750569647 10739.348911026496 11311.173807285038 Accuracy: 0.7529  test :  0.7475  Prule Train :  nan  Prule test :  nan\n"
          ],
          "name": "stdout"
        },
        {
          "output_type": "stream",
          "text": [
            "FAGTB/functions.py:131: RuntimeWarning: invalid value encountered in double_scalars\n",
            "  odds = y_z_1.mean() / y_z_0.mean()\n",
            "FAGTB/functions.py:131: RuntimeWarning: invalid value encountered in double_scalars\n",
            "  odds = y_z_1.mean() / y_z_0.mean()\n",
            "FAGTB/functions.py:131: RuntimeWarning: invalid value encountered in double_scalars\n",
            "  odds = y_z_1.mean() / y_z_0.mean()\n",
            "FAGTB/functions.py:131: RuntimeWarning: invalid value encountered in double_scalars\n",
            "  odds = y_z_1.mean() / y_z_0.mean()\n"
          ],
          "name": "stderr"
        },
        {
          "output_type": "stream",
          "text": [
            "45 19328.44426636039 10692.162176815054 13591.428816769116 Accuracy: 0.7529  test :  0.7475  Prule Train :  nan  Prule test :  nan\n"
          ],
          "name": "stdout"
        },
        {
          "output_type": "stream",
          "text": [
            "FAGTB/functions.py:131: RuntimeWarning: invalid value encountered in double_scalars\n",
            "  odds = y_z_1.mean() / y_z_0.mean()\n",
            "FAGTB/functions.py:131: RuntimeWarning: invalid value encountered in double_scalars\n",
            "  odds = y_z_1.mean() / y_z_0.mean()\n",
            "FAGTB/functions.py:131: RuntimeWarning: invalid value encountered in double_scalars\n",
            "  odds = y_z_1.mean() / y_z_0.mean()\n",
            "FAGTB/functions.py:131: RuntimeWarning: invalid value encountered in double_scalars\n",
            "  odds = y_z_1.mean() / y_z_0.mean()\n"
          ],
          "name": "stderr"
        },
        {
          "output_type": "stream",
          "text": [
            "50 41642.14792121191 10640.100456525925 16886.42264470771 Accuracy: 0.7529  test :  0.7475  Prule Train :  nan  Prule test :  nan\n"
          ],
          "name": "stdout"
        },
        {
          "output_type": "stream",
          "text": [
            "FAGTB/functions.py:131: RuntimeWarning: invalid value encountered in double_scalars\n",
            "  odds = y_z_1.mean() / y_z_0.mean()\n",
            "FAGTB/functions.py:131: RuntimeWarning: invalid value encountered in double_scalars\n",
            "  odds = y_z_1.mean() / y_z_0.mean()\n",
            "FAGTB/functions.py:131: RuntimeWarning: invalid value encountered in double_scalars\n",
            "  odds = y_z_1.mean() / y_z_0.mean()\n",
            "FAGTB/functions.py:131: RuntimeWarning: invalid value encountered in double_scalars\n",
            "  odds = y_z_1.mean() / y_z_0.mean()\n"
          ],
          "name": "stderr"
        },
        {
          "output_type": "stream",
          "text": [
            "55 5674.044585747752 10585.199223631083 11436.305911493248 Accuracy: 0.7529  test :  0.7475  Prule Train :  nan  Prule test :  nan\n"
          ],
          "name": "stdout"
        },
        {
          "output_type": "stream",
          "text": [
            "FAGTB/functions.py:131: RuntimeWarning: invalid value encountered in double_scalars\n",
            "  odds = y_z_1.mean() / y_z_0.mean()\n",
            "FAGTB/functions.py:131: RuntimeWarning: invalid value encountered in double_scalars\n",
            "  odds = y_z_1.mean() / y_z_0.mean()\n",
            "FAGTB/functions.py:131: RuntimeWarning: invalid value encountered in double_scalars\n",
            "  odds = y_z_1.mean() / y_z_0.mean()\n",
            "FAGTB/functions.py:131: RuntimeWarning: invalid value encountered in double_scalars\n",
            "  odds = y_z_1.mean() / y_z_0.mean()\n",
            "FAGTB/functions.py:131: RuntimeWarning: invalid value encountered in double_scalars\n",
            "  odds = y_z_1.mean() / y_z_0.mean()\n",
            "FAGTB/functions.py:131: RuntimeWarning: invalid value encountered in double_scalars\n",
            "  odds = y_z_1.mean() / y_z_0.mean()\n",
            "FAGTB/functions.py:131: RuntimeWarning: invalid value encountered in double_scalars\n",
            "  odds = y_z_1.mean() / y_z_0.mean()\n",
            "FAGTB/functions.py:131: RuntimeWarning: invalid value encountered in double_scalars\n",
            "  odds = y_z_1.mean() / y_z_0.mean()\n"
          ],
          "name": "stderr"
        },
        {
          "output_type": "stream",
          "text": [
            "60 18854.740769253553 10537.229687924908 13365.44080331294 Accuracy: 0.7529  test :  0.7475  Prule Train :  nan  Prule test :  nan\n"
          ],
          "name": "stdout"
        },
        {
          "output_type": "stream",
          "text": [
            "FAGTB/functions.py:131: RuntimeWarning: invalid value encountered in double_scalars\n",
            "  odds = y_z_1.mean() / y_z_0.mean()\n",
            "FAGTB/functions.py:131: RuntimeWarning: invalid value encountered in double_scalars\n",
            "  odds = y_z_1.mean() / y_z_0.mean()\n",
            "FAGTB/functions.py:131: RuntimeWarning: invalid value encountered in double_scalars\n",
            "  odds = y_z_1.mean() / y_z_0.mean()\n",
            "FAGTB/functions.py:131: RuntimeWarning: invalid value encountered in double_scalars\n",
            "  odds = y_z_1.mean() / y_z_0.mean()\n"
          ],
          "name": "stderr"
        },
        {
          "output_type": "stream",
          "text": [
            "65 41046.32738287876 10485.086652130718 16642.035759562532 Accuracy: 0.7529  test :  0.7475  Prule Train :  nan  Prule test :  nan\n"
          ],
          "name": "stdout"
        },
        {
          "output_type": "stream",
          "text": [
            "FAGTB/functions.py:131: RuntimeWarning: invalid value encountered in double_scalars\n",
            "  odds = y_z_1.mean() / y_z_0.mean()\n",
            "FAGTB/functions.py:131: RuntimeWarning: invalid value encountered in double_scalars\n",
            "  odds = y_z_1.mean() / y_z_0.mean()\n",
            "FAGTB/functions.py:131: RuntimeWarning: invalid value encountered in double_scalars\n",
            "  odds = y_z_1.mean() / y_z_0.mean()\n",
            "FAGTB/functions.py:131: RuntimeWarning: invalid value encountered in double_scalars\n",
            "  odds = y_z_1.mean() / y_z_0.mean()\n"
          ],
          "name": "stderr"
        },
        {
          "output_type": "stream",
          "text": [
            "70 12946.230608851438 10428.61826173446 12370.552853062174 Accuracy: 0.7529  test :  0.7475  Prule Train :  nan  Prule test :  nan\n"
          ],
          "name": "stdout"
        },
        {
          "output_type": "stream",
          "text": [
            "FAGTB/functions.py:131: RuntimeWarning: invalid value encountered in double_scalars\n",
            "  odds = y_z_1.mean() / y_z_0.mean()\n",
            "FAGTB/functions.py:131: RuntimeWarning: invalid value encountered in double_scalars\n",
            "  odds = y_z_1.mean() / y_z_0.mean()\n",
            "FAGTB/functions.py:131: RuntimeWarning: invalid value encountered in double_scalars\n",
            "  odds = y_z_1.mean() / y_z_0.mean()\n",
            "FAGTB/functions.py:131: RuntimeWarning: invalid value encountered in double_scalars\n",
            "  odds = y_z_1.mean() / y_z_0.mean()\n"
          ],
          "name": "stderr"
        },
        {
          "output_type": "stream",
          "text": [
            "75 16403.00101913139 10382.27661785973 12842.726770729438 Accuracy: 0.7529  test :  0.7475  Prule Train :  nan  Prule test :  nan\n"
          ],
          "name": "stdout"
        },
        {
          "output_type": "stream",
          "text": [
            "FAGTB/functions.py:131: RuntimeWarning: invalid value encountered in double_scalars\n",
            "  odds = y_z_1.mean() / y_z_0.mean()\n",
            "FAGTB/functions.py:131: RuntimeWarning: invalid value encountered in double_scalars\n",
            "  odds = y_z_1.mean() / y_z_0.mean()\n",
            "FAGTB/functions.py:131: RuntimeWarning: invalid value encountered in double_scalars\n",
            "  odds = y_z_1.mean() / y_z_0.mean()\n",
            "FAGTB/functions.py:131: RuntimeWarning: invalid value encountered in double_scalars\n",
            "  odds = y_z_1.mean() / y_z_0.mean()\n",
            "FAGTB/functions.py:131: RuntimeWarning: invalid value encountered in double_scalars\n",
            "  odds = y_z_1.mean() / y_z_0.mean()\n",
            "FAGTB/functions.py:131: RuntimeWarning: invalid value encountered in double_scalars\n",
            "  odds = y_z_1.mean() / y_z_0.mean()\n",
            "FAGTB/functions.py:131: RuntimeWarning: invalid value encountered in double_scalars\n",
            "  odds = y_z_1.mean() / y_z_0.mean()\n",
            "FAGTB/functions.py:131: RuntimeWarning: invalid value encountered in double_scalars\n",
            "  odds = y_z_1.mean() / y_z_0.mean()\n"
          ],
          "name": "stderr"
        },
        {
          "output_type": "stream",
          "text": [
            "80 38623.18593599205 10332.066111796796 16125.544002195604 Accuracy: 0.7529  test :  0.7475  Prule Train :  nan  Prule test :  nan\n"
          ],
          "name": "stdout"
        },
        {
          "output_type": "stream",
          "text": [
            "FAGTB/functions.py:131: RuntimeWarning: invalid value encountered in double_scalars\n",
            "  odds = y_z_1.mean() / y_z_0.mean()\n",
            "FAGTB/functions.py:131: RuntimeWarning: invalid value encountered in double_scalars\n",
            "  odds = y_z_1.mean() / y_z_0.mean()\n",
            "FAGTB/functions.py:131: RuntimeWarning: invalid value encountered in double_scalars\n",
            "  odds = y_z_1.mean() / y_z_0.mean()\n",
            "FAGTB/functions.py:131: RuntimeWarning: invalid value encountered in double_scalars\n",
            "  odds = y_z_1.mean() / y_z_0.mean()\n"
          ],
          "name": "stderr"
        },
        {
          "output_type": "stream",
          "text": [
            "85 16567.777014644984 10277.220619272035 12762.387171468781 Accuracy: 0.7529  test :  0.7475  Prule Train :  nan  Prule test :  nan\n"
          ],
          "name": "stdout"
        },
        {
          "output_type": "stream",
          "text": [
            "FAGTB/functions.py:131: RuntimeWarning: invalid value encountered in double_scalars\n",
            "  odds = y_z_1.mean() / y_z_0.mean()\n",
            "FAGTB/functions.py:131: RuntimeWarning: invalid value encountered in double_scalars\n",
            "  odds = y_z_1.mean() / y_z_0.mean()\n",
            "FAGTB/functions.py:131: RuntimeWarning: invalid value encountered in double_scalars\n",
            "  odds = y_z_1.mean() / y_z_0.mean()\n",
            "FAGTB/functions.py:131: RuntimeWarning: invalid value encountered in double_scalars\n",
            "  odds = y_z_1.mean() / y_z_0.mean()\n"
          ],
          "name": "stderr"
        },
        {
          "output_type": "stream",
          "text": [
            "90 14440.04332725743 10233.059982438002 12399.066481526617 Accuracy: 0.7529  test :  0.7475  Prule Train :  nan  Prule test :  nan\n"
          ],
          "name": "stdout"
        },
        {
          "output_type": "stream",
          "text": [
            "FAGTB/functions.py:131: RuntimeWarning: invalid value encountered in double_scalars\n",
            "  odds = y_z_1.mean() / y_z_0.mean()\n",
            "FAGTB/functions.py:131: RuntimeWarning: invalid value encountered in double_scalars\n",
            "  odds = y_z_1.mean() / y_z_0.mean()\n",
            "FAGTB/functions.py:131: RuntimeWarning: invalid value encountered in double_scalars\n",
            "  odds = y_z_1.mean() / y_z_0.mean()\n",
            "FAGTB/functions.py:131: RuntimeWarning: invalid value encountered in double_scalars\n",
            "  odds = y_z_1.mean() / y_z_0.mean()\n"
          ],
          "name": "stderr"
        },
        {
          "output_type": "stream",
          "text": [
            "95 37684.658924135125 10183.465543539623 15836.164382159892 Accuracy: 0.7529  test :  0.7475  Prule Train :  nan  Prule test :  nan\n"
          ],
          "name": "stdout"
        },
        {
          "output_type": "stream",
          "text": [
            "FAGTB/functions.py:131: RuntimeWarning: invalid value encountered in double_scalars\n",
            "  odds = y_z_1.mean() / y_z_0.mean()\n",
            "FAGTB/functions.py:131: RuntimeWarning: invalid value encountered in double_scalars\n",
            "  odds = y_z_1.mean() / y_z_0.mean()\n",
            "FAGTB/functions.py:131: RuntimeWarning: invalid value encountered in double_scalars\n",
            "  odds = y_z_1.mean() / y_z_0.mean()\n",
            "FAGTB/functions.py:131: RuntimeWarning: invalid value encountered in double_scalars\n",
            "  odds = y_z_1.mean() / y_z_0.mean()\n",
            "FAGTB/functions.py:132: RuntimeWarning: divide by zero encountered in double_scalars\n",
            "  return np.min([odds, 1/odds]) * 100\n",
            "FAGTB/functions.py:131: RuntimeWarning: invalid value encountered in double_scalars\n",
            "  odds = y_z_1.mean() / y_z_0.mean()\n",
            "FAGTB/functions.py:132: RuntimeWarning: divide by zero encountered in double_scalars\n",
            "  return np.min([odds, 1/odds]) * 100\n",
            "FAGTB/functions.py:132: RuntimeWarning: divide by zero encountered in double_scalars\n",
            "  return np.min([odds, 1/odds]) * 100\n",
            "FAGTB/functions.py:132: RuntimeWarning: divide by zero encountered in double_scalars\n",
            "  return np.min([odds, 1/odds]) * 100\n"
          ],
          "name": "stderr"
        },
        {
          "output_type": "stream",
          "text": [
            "100 23776.016019286923 10129.119074072249 13695.521476965288 Accuracy: 0.7529  test :  0.7475  Prule Train :  0.0  Prule test :  nan\n"
          ],
          "name": "stdout"
        },
        {
          "output_type": "stream",
          "text": [
            "FAGTB/functions.py:132: RuntimeWarning: divide by zero encountered in double_scalars\n",
            "  return np.min([odds, 1/odds]) * 100\n",
            "FAGTB/functions.py:132: RuntimeWarning: divide by zero encountered in double_scalars\n",
            "  return np.min([odds, 1/odds]) * 100\n",
            "FAGTB/functions.py:132: RuntimeWarning: divide by zero encountered in double_scalars\n",
            "  return np.min([odds, 1/odds]) * 100\n",
            "FAGTB/functions.py:132: RuntimeWarning: divide by zero encountered in double_scalars\n",
            "  return np.min([odds, 1/odds]) * 100\n"
          ],
          "name": "stderr"
        },
        {
          "output_type": "stream",
          "text": [
            "105 11613.880493836747 10085.458591148474 11827.540665223987 Accuracy: 0.7553  test :  0.7484  Prule Train :  0.0  Prule test :  0.0\n"
          ],
          "name": "stdout"
        },
        {
          "output_type": "stream",
          "text": [
            "FAGTB/functions.py:132: RuntimeWarning: divide by zero encountered in double_scalars\n",
            "  return np.min([odds, 1/odds]) * 100\n",
            "FAGTB/functions.py:132: RuntimeWarning: divide by zero encountered in double_scalars\n",
            "  return np.min([odds, 1/odds]) * 100\n",
            "FAGTB/functions.py:132: RuntimeWarning: divide by zero encountered in double_scalars\n",
            "  return np.min([odds, 1/odds]) * 100\n",
            "FAGTB/functions.py:132: RuntimeWarning: divide by zero encountered in double_scalars\n",
            "  return np.min([odds, 1/odds]) * 100\n"
          ],
          "name": "stderr"
        },
        {
          "output_type": "stream",
          "text": [
            "110 36445.12928490082 10039.188212262941 15505.957604998062 Accuracy: 0.7568  test :  0.7505  Prule Train :  0.0  Prule test :  0.0\n"
          ],
          "name": "stdout"
        },
        {
          "output_type": "stream",
          "text": [
            "FAGTB/functions.py:132: RuntimeWarning: divide by zero encountered in double_scalars\n",
            "  return np.min([odds, 1/odds]) * 100\n",
            "FAGTB/functions.py:132: RuntimeWarning: divide by zero encountered in double_scalars\n",
            "  return np.min([odds, 1/odds]) * 100\n",
            "FAGTB/functions.py:132: RuntimeWarning: divide by zero encountered in double_scalars\n",
            "  return np.min([odds, 1/odds]) * 100\n",
            "FAGTB/functions.py:132: RuntimeWarning: divide by zero encountered in double_scalars\n",
            "  return np.min([odds, 1/odds]) * 100\n"
          ],
          "name": "stderr"
        },
        {
          "output_type": "stream",
          "text": [
            "115 25161.092481650114 9987.609967272574 13761.77383952009 Accuracy: 0.7582  test :  0.7509  Prule Train :  0.0  Prule test :  0.0\n"
          ],
          "name": "stdout"
        },
        {
          "output_type": "stream",
          "text": [
            "FAGTB/functions.py:132: RuntimeWarning: divide by zero encountered in double_scalars\n",
            "  return np.min([odds, 1/odds]) * 100\n",
            "FAGTB/functions.py:132: RuntimeWarning: divide by zero encountered in double_scalars\n",
            "  return np.min([odds, 1/odds]) * 100\n",
            "FAGTB/functions.py:132: RuntimeWarning: divide by zero encountered in double_scalars\n",
            "  return np.min([odds, 1/odds]) * 100\n",
            "FAGTB/functions.py:132: RuntimeWarning: divide by zero encountered in double_scalars\n",
            "  return np.min([odds, 1/odds]) * 100\n",
            "FAGTB/functions.py:132: RuntimeWarning: divide by zero encountered in double_scalars\n",
            "  return np.min([odds, 1/odds]) * 100\n",
            "FAGTB/functions.py:132: RuntimeWarning: divide by zero encountered in double_scalars\n",
            "  return np.min([odds, 1/odds]) * 100\n",
            "FAGTB/functions.py:132: RuntimeWarning: divide by zero encountered in double_scalars\n",
            "  return np.min([odds, 1/odds]) * 100\n",
            "FAGTB/functions.py:132: RuntimeWarning: divide by zero encountered in double_scalars\n",
            "  return np.min([odds, 1/odds]) * 100\n"
          ],
          "name": "stderr"
        },
        {
          "output_type": "stream",
          "text": [
            "120 11962.852885444454 9947.108477440495 11741.536410257164 Accuracy: 0.7604  test :  0.7516  Prule Train :  0.0  Prule test :  0.0\n"
          ],
          "name": "stdout"
        },
        {
          "output_type": "stream",
          "text": [
            "FAGTB/functions.py:132: RuntimeWarning: divide by zero encountered in double_scalars\n",
            "  return np.min([odds, 1/odds]) * 100\n",
            "FAGTB/functions.py:132: RuntimeWarning: divide by zero encountered in double_scalars\n",
            "  return np.min([odds, 1/odds]) * 100\n",
            "FAGTB/functions.py:132: RuntimeWarning: divide by zero encountered in double_scalars\n",
            "  return np.min([odds, 1/odds]) * 100\n",
            "FAGTB/functions.py:132: RuntimeWarning: divide by zero encountered in double_scalars\n",
            "  return np.min([odds, 1/odds]) * 100\n"
          ],
          "name": "stderr"
        },
        {
          "output_type": "stream",
          "text": [
            "125 37151.85229956213 9903.772429562965 15476.550274497285 Accuracy: 0.7613  test :  0.7525  Prule Train :  0.0  Prule test :  0.0\n"
          ],
          "name": "stdout"
        },
        {
          "output_type": "stream",
          "text": [
            "FAGTB/functions.py:132: RuntimeWarning: divide by zero encountered in double_scalars\n",
            "  return np.min([odds, 1/odds]) * 100\n",
            "FAGTB/functions.py:132: RuntimeWarning: divide by zero encountered in double_scalars\n",
            "  return np.min([odds, 1/odds]) * 100\n",
            "FAGTB/functions.py:132: RuntimeWarning: divide by zero encountered in double_scalars\n",
            "  return np.min([odds, 1/odds]) * 100\n",
            "FAGTB/functions.py:132: RuntimeWarning: divide by zero encountered in double_scalars\n",
            "  return np.min([odds, 1/odds]) * 100\n"
          ],
          "name": "stderr"
        },
        {
          "output_type": "stream",
          "text": [
            "130 27825.687562893218 9855.398601501329 14029.251735935308 Accuracy: 0.7616  test :  0.7527  Prule Train :  0.0  Prule test :  0.0\n"
          ],
          "name": "stdout"
        },
        {
          "output_type": "stream",
          "text": [
            "FAGTB/functions.py:132: RuntimeWarning: divide by zero encountered in double_scalars\n",
            "  return np.min([odds, 1/odds]) * 100\n",
            "FAGTB/functions.py:132: RuntimeWarning: divide by zero encountered in double_scalars\n",
            "  return np.min([odds, 1/odds]) * 100\n",
            "FAGTB/functions.py:132: RuntimeWarning: divide by zero encountered in double_scalars\n",
            "  return np.min([odds, 1/odds]) * 100\n",
            "FAGTB/functions.py:132: RuntimeWarning: divide by zero encountered in double_scalars\n",
            "  return np.min([odds, 1/odds]) * 100\n"
          ],
          "name": "stderr"
        },
        {
          "output_type": "stream",
          "text": [
            "135 11730.021805893859 9819.537766284247 11579.041037168327 Accuracy: 0.7625  test :  0.7538  Prule Train :  0.0  Prule test :  0.017494947191484433\n"
          ],
          "name": "stdout"
        },
        {
          "output_type": "stream",
          "text": [
            "FAGTB/functions.py:132: RuntimeWarning: divide by zero encountered in double_scalars\n",
            "  return np.min([odds, 1/odds]) * 100\n",
            "FAGTB/functions.py:132: RuntimeWarning: divide by zero encountered in double_scalars\n",
            "  return np.min([odds, 1/odds]) * 100\n"
          ],
          "name": "stderr"
        },
        {
          "output_type": "stream",
          "text": [
            "140 38841.04403366759 9780.04728337216 15606.203888422297 Accuracy: 0.7638  test :  0.755  Prule Train :  0.004296601324010925  Prule test :  0.04285583963185333\n",
            "145 23670.057462359546 9736.690706074018 13287.199325427951 Accuracy: 0.7655  test :  0.7566  Prule Train :  0.0133933119396903  Prule test :  0.0671854569228534\n",
            "150 15020.93849226834 9707.032019635128 11960.172793475378 Accuracy: 0.7678  test :  0.7587  Prule Train :  0.02909777530320269  Prule test :  0.08685333072930933\n",
            "155 41960.250841457644 9673.303507831339 15967.341134049986 Accuracy: 0.7697  test :  0.7612  Prule Train :  0.0505706173534029  Prule test :  0.1105680662501816\n",
            "160 20874.361193476132 9636.807038353178 12767.961217374597 Accuracy: 0.7712  test :  0.7626  Prule Train :  0.06630059391139508  Prule test :  0.1341279284680473\n",
            "165 16211.208676285416 9613.906612813182 12045.587914255995 Accuracy: 0.7786  test :  0.768  Prule Train :  0.23181968059625346  Prule test :  0.26249201774510167\n",
            "170 45131.23679541912 9587.242001610191 16356.927520923058 Accuracy: 0.7876  test :  0.7768  Prule Train :  0.425769263405499  Prule test :  0.438645475593584\n",
            "175 18146.384912885023 9554.697519029129 12276.655255961883 Accuracy: 0.7936  test :  0.7838  Prule Train :  0.5451325566901578  Prule test :  0.5659363797069363\n",
            "180 18856.964650910213 9537.132344717009 12365.677042353542 Accuracy: 0.7977  test :  0.7874  Prule Train :  0.5919020848354739  Prule test :  0.6068840174789616\n",
            "185 46363.75985347002 9516.200877342773 16470.764855363275 Accuracy: 0.8019  test :  0.7916  Prule Train :  0.6421759540471608  Prule test :  0.6183082652148314\n",
            "190 14609.842335358087 9488.732462729067 11680.20881303278 Accuracy: 0.8057  test :  0.7957  Prule Train :  0.6962053395378185  Prule test :  0.666955211341751\n",
            "195 20594.675052011913 9476.787524792693 12565.98878259448 Accuracy: 0.8102  test :  0.7994  Prule Train :  0.7264325238524182  Prule test :  0.663129185212579\n",
            "200 48446.41705591171 9458.388833166005 16725.351391552762 Accuracy: 0.8139  test :  0.8022  Prule Train :  0.7270655052974735  Prule test :  0.6324868196514626\n",
            "205 17083.525805508467 9432.76521882521 11995.294089651481 Accuracy: 0.8166  test :  0.805  Prule Train :  0.746964140179299  Prule test :  0.6521601310210928\n",
            "210 18981.45289658943 9421.59995527157 12268.817889759983 Accuracy: 0.8175  test :  0.8062  Prule Train :  0.7370586952797722  Prule test :  0.6357383748427361\n",
            "215 48108.161410769746 9406.142053166692 16622.36626478215 Accuracy: 0.8193  test :  0.8077  Prule Train :  0.740396715327088  Prule test :  0.6411526096851532\n",
            "220 19642.54448875554 9381.864674790912 12328.246348104243 Accuracy: 0.82  test :  0.8083  Prule Train :  0.743981544842654  Prule test :  0.640159104500809\n",
            "225 18289.814061697583 9372.194181107308 12115.666290361945 Accuracy: 0.8222  test :  0.8122  Prule Train :  0.7558129435630194  Prule test :  0.6864825643011748\n",
            "230 46304.745405498725 9355.965278220905 16301.677089045716 Accuracy: 0.8249  test :  0.8143  Prule Train :  0.7946315204046297  Prule test :  0.7145296292338412\n",
            "235 23689.675705744172 9331.621263179475 12885.0726190411 Accuracy: 0.828  test :  0.8177  Prule Train :  0.848499645603755  Prule test :  0.7636607836572779\n",
            "240 16631.609583292397 9320.418325036735 11815.159762530595 Accuracy: 0.8314  test :  0.821  Prule Train :  0.8916753344410074  Prule test :  0.8007409559784978\n",
            "245 45654.8492228705 9306.721703051628 16154.949086482202 Accuracy: 0.8354  test :  0.8253  Prule Train :  0.949798897825538  Prule test :  0.8574814038381231\n",
            "250 31422.505234640827 9282.61634504669 13995.992130242814 Accuracy: 0.8376  test :  0.8271  Prule Train :  0.9809347611015956  Prule test :  0.9023535122484674\n",
            "255 14361.464821651729 9273.365295936108 11427.585019183867 Accuracy: 0.8382  test :  0.8283  Prule Train :  0.9880145131553657  Prule test :  0.9018207903530437\n",
            "260 43477.53000126498 9260.309651607075 15781.939151796822 Accuracy: 0.842  test :  0.8335  Prule Train :  0.9420879526352273  Prule test :  0.9851023186487373\n",
            "265 33008.70224089869 9237.880003351807 14189.185339486608 Accuracy: 0.844  test :  0.8355  Prule Train :  0.9018312287933984  Prule test :  0.964451655904561\n",
            "270 13758.716028248065 9229.565592250465 11293.372996487675 Accuracy: 0.8453  test :  0.8374  Prule Train :  0.8904479267555732  Prule test :  0.9539617593356998\n",
            "275 44337.06568943248 9218.291964049591 15868.851817464465 Accuracy: 0.8464  test :  0.8387  Prule Train :  0.8773261580725716  Prule test :  0.9305788839563676\n",
            "280 37373.82309782993 9197.571678764209 14803.6451434387 Accuracy: 0.8466  test :  0.8397  Prule Train :  0.8704903903099354  Prule test :  0.9200074700014979\n",
            "285 13560.804544908038 9191.57052876971 11225.691210505915 Accuracy: 0.847  test :  0.8397  Prule Train :  0.8711527907240114  Prule test :  0.9311846403463363\n",
            "290 44721.627314419355 9184.79339451813 15893.037491681032 Accuracy: 0.8477  test :  0.8392  Prule Train :  0.8656875775145463  Prule test :  0.9326834003468938\n",
            "295 33324.3275122506 9167.692809170145 14166.341936007733 Accuracy: 0.8494  test :  0.8404  Prule Train :  0.8434672923590929  Prule test :  0.907486098416618\n",
            "\n",
            "Results on test set :\n",
            "Accuracy: 0.8411577481599364\n",
            "PRULE :  91.23434268444547\n",
            "DI :  0.013664899461848068\n",
            "DispFPR :  0.03258058409741971\n",
            "DispFNR :  0.30320997479771855\n"
          ],
          "name": "stdout"
        },
        {
          "output_type": "stream",
          "text": [
            "FAGTB/functions.py:131: RuntimeWarning: invalid value encountered in double_scalars\n",
            "  odds = y_z_1.mean() / y_z_0.mean()\n",
            "FAGTB/functions.py:131: RuntimeWarning: invalid value encountered in double_scalars\n",
            "  odds = y_z_1.mean() / y_z_0.mean()\n",
            "FAGTB/functions.py:131: RuntimeWarning: invalid value encountered in double_scalars\n",
            "  odds = y_z_1.mean() / y_z_0.mean()\n",
            "FAGTB/functions.py:131: RuntimeWarning: invalid value encountered in double_scalars\n",
            "  odds = y_z_1.mean() / y_z_0.mean()\n"
          ],
          "name": "stderr"
        },
        {
          "output_type": "stream",
          "text": [
            "0 11550.630804983684 11262.189038747416 12994.78365949497 Accuracy: 0.7513  test :  0.7505  Prule Train :  nan  Prule test :  nan\n"
          ],
          "name": "stdout"
        },
        {
          "output_type": "stream",
          "text": [
            "FAGTB/functions.py:131: RuntimeWarning: invalid value encountered in double_scalars\n",
            "  odds = y_z_1.mean() / y_z_0.mean()\n",
            "FAGTB/functions.py:131: RuntimeWarning: invalid value encountered in double_scalars\n",
            "  odds = y_z_1.mean() / y_z_0.mean()\n",
            "FAGTB/functions.py:131: RuntimeWarning: invalid value encountered in double_scalars\n",
            "  odds = y_z_1.mean() / y_z_0.mean()\n",
            "FAGTB/functions.py:131: RuntimeWarning: invalid value encountered in double_scalars\n",
            "  odds = y_z_1.mean() / y_z_0.mean()\n"
          ],
          "name": "stderr"
        },
        {
          "output_type": "stream",
          "text": [
            "5 35006.31263795958 11191.558469957203 16442.505365651137 Accuracy: 0.7513  test :  0.7505  Prule Train :  nan  Prule test :  nan\n"
          ],
          "name": "stdout"
        },
        {
          "output_type": "stream",
          "text": [
            "FAGTB/functions.py:131: RuntimeWarning: invalid value encountered in double_scalars\n",
            "  odds = y_z_1.mean() / y_z_0.mean()\n",
            "FAGTB/functions.py:131: RuntimeWarning: invalid value encountered in double_scalars\n",
            "  odds = y_z_1.mean() / y_z_0.mean()\n",
            "FAGTB/functions.py:131: RuntimeWarning: invalid value encountered in double_scalars\n",
            "  odds = y_z_1.mean() / y_z_0.mean()\n",
            "FAGTB/functions.py:131: RuntimeWarning: invalid value encountered in double_scalars\n",
            "  odds = y_z_1.mean() / y_z_0.mean()\n"
          ],
          "name": "stderr"
        },
        {
          "output_type": "stream",
          "text": [
            "10 6221.741332893982 11120.232856450395 12053.494056384494 Accuracy: 0.7513  test :  0.7505  Prule Train :  nan  Prule test :  nan\n"
          ],
          "name": "stdout"
        },
        {
          "output_type": "stream",
          "text": [
            "FAGTB/functions.py:131: RuntimeWarning: invalid value encountered in double_scalars\n",
            "  odds = y_z_1.mean() / y_z_0.mean()\n",
            "FAGTB/functions.py:131: RuntimeWarning: invalid value encountered in double_scalars\n",
            "  odds = y_z_1.mean() / y_z_0.mean()\n",
            "FAGTB/functions.py:131: RuntimeWarning: invalid value encountered in double_scalars\n",
            "  odds = y_z_1.mean() / y_z_0.mean()\n",
            "FAGTB/functions.py:131: RuntimeWarning: invalid value encountered in double_scalars\n",
            "  odds = y_z_1.mean() / y_z_0.mean()\n"
          ],
          "name": "stderr"
        },
        {
          "output_type": "stream",
          "text": [
            "15 19658.454685523444 11061.117124679444 14009.88532750796 Accuracy: 0.7513  test :  0.7505  Prule Train :  nan  Prule test :  nan\n"
          ],
          "name": "stdout"
        },
        {
          "output_type": "stream",
          "text": [
            "FAGTB/functions.py:131: RuntimeWarning: invalid value encountered in double_scalars\n",
            "  odds = y_z_1.mean() / y_z_0.mean()\n",
            "FAGTB/functions.py:131: RuntimeWarning: invalid value encountered in double_scalars\n",
            "  odds = y_z_1.mean() / y_z_0.mean()\n",
            "FAGTB/functions.py:131: RuntimeWarning: invalid value encountered in double_scalars\n",
            "  odds = y_z_1.mean() / y_z_0.mean()\n",
            "FAGTB/functions.py:131: RuntimeWarning: invalid value encountered in double_scalars\n",
            "  odds = y_z_1.mean() / y_z_0.mean()\n",
            "FAGTB/functions.py:131: RuntimeWarning: invalid value encountered in double_scalars\n",
            "  odds = y_z_1.mean() / y_z_0.mean()\n",
            "FAGTB/functions.py:131: RuntimeWarning: invalid value encountered in double_scalars\n",
            "  odds = y_z_1.mean() / y_z_0.mean()\n",
            "FAGTB/functions.py:131: RuntimeWarning: invalid value encountered in double_scalars\n",
            "  odds = y_z_1.mean() / y_z_0.mean()\n",
            "FAGTB/functions.py:131: RuntimeWarning: invalid value encountered in double_scalars\n",
            "  odds = y_z_1.mean() / y_z_0.mean()\n"
          ],
          "name": "stderr"
        },
        {
          "output_type": "stream",
          "text": [
            "20 33372.988751193356 10994.762746988896 16000.7110596679 Accuracy: 0.7513  test :  0.7505  Prule Train :  nan  Prule test :  nan\n"
          ],
          "name": "stdout"
        },
        {
          "output_type": "stream",
          "text": [
            "FAGTB/functions.py:131: RuntimeWarning: invalid value encountered in double_scalars\n",
            "  odds = y_z_1.mean() / y_z_0.mean()\n",
            "FAGTB/functions.py:131: RuntimeWarning: invalid value encountered in double_scalars\n",
            "  odds = y_z_1.mean() / y_z_0.mean()\n",
            "FAGTB/functions.py:131: RuntimeWarning: invalid value encountered in double_scalars\n",
            "  odds = y_z_1.mean() / y_z_0.mean()\n",
            "FAGTB/functions.py:131: RuntimeWarning: invalid value encountered in double_scalars\n",
            "  odds = y_z_1.mean() / y_z_0.mean()\n"
          ],
          "name": "stderr"
        },
        {
          "output_type": "stream",
          "text": [
            "25 11891.91546803819 10925.476253166707 12709.263573372435 Accuracy: 0.7513  test :  0.7505  Prule Train :  nan  Prule test :  nan\n"
          ],
          "name": "stdout"
        },
        {
          "output_type": "stream",
          "text": [
            "FAGTB/functions.py:131: RuntimeWarning: invalid value encountered in double_scalars\n",
            "  odds = y_z_1.mean() / y_z_0.mean()\n",
            "FAGTB/functions.py:131: RuntimeWarning: invalid value encountered in double_scalars\n",
            "  odds = y_z_1.mean() / y_z_0.mean()\n",
            "FAGTB/functions.py:131: RuntimeWarning: invalid value encountered in double_scalars\n",
            "  odds = y_z_1.mean() / y_z_0.mean()\n",
            "FAGTB/functions.py:131: RuntimeWarning: invalid value encountered in double_scalars\n",
            "  odds = y_z_1.mean() / y_z_0.mean()\n"
          ],
          "name": "stderr"
        },
        {
          "output_type": "stream",
          "text": [
            "30 18721.236327797247 10866.667884828908 13674.853333998495 Accuracy: 0.7513  test :  0.7505  Prule Train :  nan  Prule test :  nan\n"
          ],
          "name": "stdout"
        },
        {
          "output_type": "stream",
          "text": [
            "FAGTB/functions.py:131: RuntimeWarning: invalid value encountered in double_scalars\n",
            "  odds = y_z_1.mean() / y_z_0.mean()\n",
            "FAGTB/functions.py:131: RuntimeWarning: invalid value encountered in double_scalars\n",
            "  odds = y_z_1.mean() / y_z_0.mean()\n",
            "FAGTB/functions.py:131: RuntimeWarning: invalid value encountered in double_scalars\n",
            "  odds = y_z_1.mean() / y_z_0.mean()\n",
            "FAGTB/functions.py:131: RuntimeWarning: invalid value encountered in double_scalars\n",
            "  odds = y_z_1.mean() / y_z_0.mean()\n"
          ],
          "name": "stderr"
        },
        {
          "output_type": "stream",
          "text": [
            "35 20676.610722803547 10805.191965579594 13906.683574000126 Accuracy: 0.7513  test :  0.7505  Prule Train :  nan  Prule test :  nan\n"
          ],
          "name": "stdout"
        },
        {
          "output_type": "stream",
          "text": [
            "FAGTB/functions.py:131: RuntimeWarning: invalid value encountered in double_scalars\n",
            "  odds = y_z_1.mean() / y_z_0.mean()\n",
            "FAGTB/functions.py:131: RuntimeWarning: invalid value encountered in double_scalars\n",
            "  odds = y_z_1.mean() / y_z_0.mean()\n",
            "FAGTB/functions.py:131: RuntimeWarning: invalid value encountered in double_scalars\n",
            "  odds = y_z_1.mean() / y_z_0.mean()\n",
            "FAGTB/functions.py:131: RuntimeWarning: invalid value encountered in double_scalars\n",
            "  odds = y_z_1.mean() / y_z_0.mean()\n",
            "FAGTB/functions.py:131: RuntimeWarning: invalid value encountered in double_scalars\n",
            "  odds = y_z_1.mean() / y_z_0.mean()\n",
            "FAGTB/functions.py:131: RuntimeWarning: invalid value encountered in double_scalars\n",
            "  odds = y_z_1.mean() / y_z_0.mean()\n",
            "FAGTB/functions.py:131: RuntimeWarning: invalid value encountered in double_scalars\n",
            "  odds = y_z_1.mean() / y_z_0.mean()\n",
            "FAGTB/functions.py:131: RuntimeWarning: invalid value encountered in double_scalars\n",
            "  odds = y_z_1.mean() / y_z_0.mean()\n"
          ],
          "name": "stderr"
        },
        {
          "output_type": "stream",
          "text": [
            "40 14419.965676380607 10739.521893683144 12902.516745140234 Accuracy: 0.7513  test :  0.7505  Prule Train :  nan  Prule test :  nan\n"
          ],
          "name": "stdout"
        },
        {
          "output_type": "stream",
          "text": [
            "FAGTB/functions.py:131: RuntimeWarning: invalid value encountered in double_scalars\n",
            "  odds = y_z_1.mean() / y_z_0.mean()\n",
            "FAGTB/functions.py:131: RuntimeWarning: invalid value encountered in double_scalars\n",
            "  odds = y_z_1.mean() / y_z_0.mean()\n",
            "FAGTB/functions.py:131: RuntimeWarning: invalid value encountered in double_scalars\n",
            "  odds = y_z_1.mean() / y_z_0.mean()\n",
            "FAGTB/functions.py:131: RuntimeWarning: invalid value encountered in double_scalars\n",
            "  odds = y_z_1.mean() / y_z_0.mean()\n"
          ],
          "name": "stderr"
        },
        {
          "output_type": "stream",
          "text": [
            "45 39671.664703014285 10680.776242115558 16631.5259475677 Accuracy: 0.7513  test :  0.7505  Prule Train :  nan  Prule test :  nan\n"
          ],
          "name": "stdout"
        },
        {
          "output_type": "stream",
          "text": [
            "FAGTB/functions.py:131: RuntimeWarning: invalid value encountered in double_scalars\n",
            "  odds = y_z_1.mean() / y_z_0.mean()\n",
            "FAGTB/functions.py:131: RuntimeWarning: invalid value encountered in double_scalars\n",
            "  odds = y_z_1.mean() / y_z_0.mean()\n",
            "FAGTB/functions.py:131: RuntimeWarning: invalid value encountered in double_scalars\n",
            "  odds = y_z_1.mean() / y_z_0.mean()\n",
            "FAGTB/functions.py:131: RuntimeWarning: invalid value encountered in double_scalars\n",
            "  odds = y_z_1.mean() / y_z_0.mean()\n"
          ],
          "name": "stderr"
        },
        {
          "output_type": "stream",
          "text": [
            "50 2164.212035850282 10621.426990553704 10946.058795931243 Accuracy: 0.7513  test :  0.7505  Prule Train :  nan  Prule test :  nan\n"
          ],
          "name": "stdout"
        },
        {
          "output_type": "stream",
          "text": [
            "FAGTB/functions.py:131: RuntimeWarning: invalid value encountered in double_scalars\n",
            "  odds = y_z_1.mean() / y_z_0.mean()\n",
            "FAGTB/functions.py:131: RuntimeWarning: invalid value encountered in double_scalars\n",
            "  odds = y_z_1.mean() / y_z_0.mean()\n",
            "FAGTB/functions.py:131: RuntimeWarning: invalid value encountered in double_scalars\n",
            "  odds = y_z_1.mean() / y_z_0.mean()\n",
            "FAGTB/functions.py:131: RuntimeWarning: invalid value encountered in double_scalars\n",
            "  odds = y_z_1.mean() / y_z_0.mean()\n"
          ],
          "name": "stderr"
        },
        {
          "output_type": "stream",
          "text": [
            "55 20903.504367167967 10570.075884163996 13705.601539239193 Accuracy: 0.7513  test :  0.7505  Prule Train :  nan  Prule test :  nan\n"
          ],
          "name": "stdout"
        },
        {
          "output_type": "stream",
          "text": [
            "FAGTB/functions.py:131: RuntimeWarning: invalid value encountered in double_scalars\n",
            "  odds = y_z_1.mean() / y_z_0.mean()\n",
            "FAGTB/functions.py:131: RuntimeWarning: invalid value encountered in double_scalars\n",
            "  odds = y_z_1.mean() / y_z_0.mean()\n",
            "FAGTB/functions.py:131: RuntimeWarning: invalid value encountered in double_scalars\n",
            "  odds = y_z_1.mean() / y_z_0.mean()\n",
            "FAGTB/functions.py:131: RuntimeWarning: invalid value encountered in double_scalars\n",
            "  odds = y_z_1.mean() / y_z_0.mean()\n",
            "FAGTB/functions.py:131: RuntimeWarning: invalid value encountered in double_scalars\n",
            "  odds = y_z_1.mean() / y_z_0.mean()\n",
            "FAGTB/functions.py:131: RuntimeWarning: invalid value encountered in double_scalars\n",
            "  odds = y_z_1.mean() / y_z_0.mean()\n",
            "FAGTB/functions.py:131: RuntimeWarning: invalid value encountered in double_scalars\n",
            "  odds = y_z_1.mean() / y_z_0.mean()\n",
            "FAGTB/functions.py:131: RuntimeWarning: invalid value encountered in double_scalars\n",
            "  odds = y_z_1.mean() / y_z_0.mean()\n"
          ],
          "name": "stderr"
        },
        {
          "output_type": "stream",
          "text": [
            "60 33328.623703203484 10512.931687391809 15512.225242872331 Accuracy: 0.7513  test :  0.7505  Prule Train :  nan  Prule test :  nan\n"
          ],
          "name": "stdout"
        },
        {
          "output_type": "stream",
          "text": [
            "FAGTB/functions.py:131: RuntimeWarning: invalid value encountered in double_scalars\n",
            "  odds = y_z_1.mean() / y_z_0.mean()\n",
            "FAGTB/functions.py:131: RuntimeWarning: invalid value encountered in double_scalars\n",
            "  odds = y_z_1.mean() / y_z_0.mean()\n",
            "FAGTB/functions.py:131: RuntimeWarning: invalid value encountered in double_scalars\n",
            "  odds = y_z_1.mean() / y_z_0.mean()\n",
            "FAGTB/functions.py:131: RuntimeWarning: invalid value encountered in double_scalars\n",
            "  odds = y_z_1.mean() / y_z_0.mean()\n"
          ],
          "name": "stderr"
        },
        {
          "output_type": "stream",
          "text": [
            "65 18158.369625163497 10451.124900847344 13174.880344621866 Accuracy: 0.7513  test :  0.7505  Prule Train :  nan  Prule test :  nan\n"
          ],
          "name": "stdout"
        },
        {
          "output_type": "stream",
          "text": [
            "FAGTB/functions.py:131: RuntimeWarning: invalid value encountered in double_scalars\n",
            "  odds = y_z_1.mean() / y_z_0.mean()\n",
            "FAGTB/functions.py:131: RuntimeWarning: invalid value encountered in double_scalars\n",
            "  odds = y_z_1.mean() / y_z_0.mean()\n",
            "FAGTB/functions.py:131: RuntimeWarning: invalid value encountered in double_scalars\n",
            "  odds = y_z_1.mean() / y_z_0.mean()\n",
            "FAGTB/functions.py:131: RuntimeWarning: invalid value encountered in double_scalars\n",
            "  odds = y_z_1.mean() / y_z_0.mean()\n"
          ],
          "name": "stderr"
        },
        {
          "output_type": "stream",
          "text": [
            "70 17379.182249691916 10400.453287139482 13007.330624593269 Accuracy: 0.7513  test :  0.7505  Prule Train :  nan  Prule test :  nan\n"
          ],
          "name": "stdout"
        },
        {
          "output_type": "stream",
          "text": [
            "FAGTB/functions.py:131: RuntimeWarning: invalid value encountered in double_scalars\n",
            "  odds = y_z_1.mean() / y_z_0.mean()\n",
            "FAGTB/functions.py:131: RuntimeWarning: invalid value encountered in double_scalars\n",
            "  odds = y_z_1.mean() / y_z_0.mean()\n",
            "FAGTB/functions.py:131: RuntimeWarning: invalid value encountered in double_scalars\n",
            "  odds = y_z_1.mean() / y_z_0.mean()\n",
            "FAGTB/functions.py:131: RuntimeWarning: invalid value encountered in double_scalars\n",
            "  odds = y_z_1.mean() / y_z_0.mean()\n"
          ],
          "name": "stderr"
        },
        {
          "output_type": "stream",
          "text": [
            "75 43737.86287858423 10350.571482629894 16911.250914417527 Accuracy: 0.7513  test :  0.7505  Prule Train :  nan  Prule test :  nan\n"
          ],
          "name": "stdout"
        },
        {
          "output_type": "stream",
          "text": [
            "FAGTB/functions.py:131: RuntimeWarning: invalid value encountered in double_scalars\n",
            "  odds = y_z_1.mean() / y_z_0.mean()\n",
            "FAGTB/functions.py:131: RuntimeWarning: invalid value encountered in double_scalars\n",
            "  odds = y_z_1.mean() / y_z_0.mean()\n",
            "FAGTB/functions.py:131: RuntimeWarning: invalid value encountered in double_scalars\n",
            "  odds = y_z_1.mean() / y_z_0.mean()\n",
            "FAGTB/functions.py:131: RuntimeWarning: invalid value encountered in double_scalars\n",
            "  odds = y_z_1.mean() / y_z_0.mean()\n",
            "FAGTB/functions.py:131: RuntimeWarning: invalid value encountered in double_scalars\n",
            "  odds = y_z_1.mean() / y_z_0.mean()\n",
            "FAGTB/functions.py:131: RuntimeWarning: invalid value encountered in double_scalars\n",
            "  odds = y_z_1.mean() / y_z_0.mean()\n",
            "FAGTB/functions.py:131: RuntimeWarning: invalid value encountered in double_scalars\n",
            "  odds = y_z_1.mean() / y_z_0.mean()\n",
            "FAGTB/functions.py:131: RuntimeWarning: invalid value encountered in double_scalars\n",
            "  odds = y_z_1.mean() / y_z_0.mean()\n"
          ],
          "name": "stderr"
        },
        {
          "output_type": "stream",
          "text": [
            "80 36621.46661932735 10291.971467635623 15785.191460534727 Accuracy: 0.7513  test :  0.7505  Prule Train :  nan  Prule test :  nan\n"
          ],
          "name": "stdout"
        },
        {
          "output_type": "stream",
          "text": [
            "FAGTB/functions.py:131: RuntimeWarning: invalid value encountered in double_scalars\n",
            "  odds = y_z_1.mean() / y_z_0.mean()\n",
            "FAGTB/functions.py:131: RuntimeWarning: invalid value encountered in double_scalars\n",
            "  odds = y_z_1.mean() / y_z_0.mean()\n",
            "FAGTB/functions.py:131: RuntimeWarning: invalid value encountered in double_scalars\n",
            "  odds = y_z_1.mean() / y_z_0.mean()\n",
            "FAGTB/functions.py:131: RuntimeWarning: invalid value encountered in double_scalars\n",
            "  odds = y_z_1.mean() / y_z_0.mean()\n"
          ],
          "name": "stderr"
        },
        {
          "output_type": "stream",
          "text": [
            "85 9310.621632062996 10239.171260038827 11635.764504848275 Accuracy: 0.7513  test :  0.7505  Prule Train :  nan  Prule test :  nan\n"
          ],
          "name": "stdout"
        },
        {
          "output_type": "stream",
          "text": [
            "FAGTB/functions.py:131: RuntimeWarning: invalid value encountered in double_scalars\n",
            "  odds = y_z_1.mean() / y_z_0.mean()\n",
            "FAGTB/functions.py:131: RuntimeWarning: invalid value encountered in double_scalars\n",
            "  odds = y_z_1.mean() / y_z_0.mean()\n",
            "FAGTB/functions.py:131: RuntimeWarning: invalid value encountered in double_scalars\n",
            "  odds = y_z_1.mean() / y_z_0.mean()\n",
            "FAGTB/functions.py:131: RuntimeWarning: invalid value encountered in double_scalars\n",
            "  odds = y_z_1.mean() / y_z_0.mean()\n"
          ],
          "name": "stderr"
        },
        {
          "output_type": "stream",
          "text": [
            "90 36721.01606280874 10187.311983641053 15695.464393062364 Accuracy: 0.7513  test :  0.7505  Prule Train :  nan  Prule test :  nan\n"
          ],
          "name": "stdout"
        },
        {
          "output_type": "stream",
          "text": [
            "FAGTB/functions.py:131: RuntimeWarning: invalid value encountered in double_scalars\n",
            "  odds = y_z_1.mean() / y_z_0.mean()\n",
            "FAGTB/functions.py:131: RuntimeWarning: invalid value encountered in double_scalars\n",
            "  odds = y_z_1.mean() / y_z_0.mean()\n",
            "FAGTB/functions.py:131: RuntimeWarning: invalid value encountered in double_scalars\n",
            "  odds = y_z_1.mean() / y_z_0.mean()\n",
            "FAGTB/functions.py:131: RuntimeWarning: invalid value encountered in double_scalars\n",
            "  odds = y_z_1.mean() / y_z_0.mean()\n"
          ],
          "name": "stderr"
        },
        {
          "output_type": "stream",
          "text": [
            "95 14854.528186801464 10135.5271101396 12363.70633815982 Accuracy: 0.7513  test :  0.7505  Prule Train :  nan  Prule test :  nan\n"
          ],
          "name": "stdout"
        },
        {
          "output_type": "stream",
          "text": [
            "FAGTB/functions.py:131: RuntimeWarning: invalid value encountered in double_scalars\n",
            "  odds = y_z_1.mean() / y_z_0.mean()\n",
            "FAGTB/functions.py:131: RuntimeWarning: invalid value encountered in double_scalars\n",
            "  odds = y_z_1.mean() / y_z_0.mean()\n",
            "FAGTB/functions.py:131: RuntimeWarning: invalid value encountered in double_scalars\n",
            "  odds = y_z_1.mean() / y_z_0.mean()\n",
            "FAGTB/functions.py:131: RuntimeWarning: invalid value encountered in double_scalars\n",
            "  odds = y_z_1.mean() / y_z_0.mean()\n",
            "FAGTB/functions.py:131: RuntimeWarning: invalid value encountered in double_scalars\n",
            "  odds = y_z_1.mean() / y_z_0.mean()\n",
            "FAGTB/functions.py:131: RuntimeWarning: invalid value encountered in double_scalars\n",
            "  odds = y_z_1.mean() / y_z_0.mean()\n",
            "FAGTB/functions.py:131: RuntimeWarning: invalid value encountered in double_scalars\n",
            "  odds = y_z_1.mean() / y_z_0.mean()\n",
            "FAGTB/functions.py:131: RuntimeWarning: invalid value encountered in double_scalars\n",
            "  odds = y_z_1.mean() / y_z_0.mean()\n"
          ],
          "name": "stderr"
        },
        {
          "output_type": "stream",
          "text": [
            "100 20552.684465983803 10095.275328791715 13178.177998689287 Accuracy: 0.7513  test :  0.7505  Prule Train :  nan  Prule test :  nan\n"
          ],
          "name": "stdout"
        },
        {
          "output_type": "stream",
          "text": [
            "FAGTB/functions.py:132: RuntimeWarning: divide by zero encountered in double_scalars\n",
            "  return np.min([odds, 1/odds]) * 100\n",
            "FAGTB/functions.py:132: RuntimeWarning: divide by zero encountered in double_scalars\n",
            "  return np.min([odds, 1/odds]) * 100\n",
            "FAGTB/functions.py:132: RuntimeWarning: divide by zero encountered in double_scalars\n",
            "  return np.min([odds, 1/odds]) * 100\n",
            "FAGTB/functions.py:132: RuntimeWarning: divide by zero encountered in double_scalars\n",
            "  return np.min([odds, 1/odds]) * 100\n"
          ],
          "name": "stderr"
        },
        {
          "output_type": "stream",
          "text": [
            "105 34306.75344381686 10054.964582892488 15200.977599465015 Accuracy: 0.752  test :  0.7507  Prule Train :  0.0  Prule test :  0.0\n"
          ],
          "name": "stdout"
        },
        {
          "output_type": "stream",
          "text": [
            "FAGTB/functions.py:132: RuntimeWarning: divide by zero encountered in double_scalars\n",
            "  return np.min([odds, 1/odds]) * 100\n",
            "FAGTB/functions.py:132: RuntimeWarning: divide by zero encountered in double_scalars\n",
            "  return np.min([odds, 1/odds]) * 100\n",
            "FAGTB/functions.py:132: RuntimeWarning: divide by zero encountered in double_scalars\n",
            "  return np.min([odds, 1/odds]) * 100\n",
            "FAGTB/functions.py:132: RuntimeWarning: divide by zero encountered in double_scalars\n",
            "  return np.min([odds, 1/odds]) * 100\n"
          ],
          "name": "stderr"
        },
        {
          "output_type": "stream",
          "text": [
            "110 22942.878025653677 10003.595349998763 13445.027053846816 Accuracy: 0.7549  test :  0.7533  Prule Train :  0.0  Prule test :  0.0\n"
          ],
          "name": "stdout"
        },
        {
          "output_type": "stream",
          "text": [
            "FAGTB/functions.py:132: RuntimeWarning: divide by zero encountered in double_scalars\n",
            "  return np.min([odds, 1/odds]) * 100\n",
            "FAGTB/functions.py:132: RuntimeWarning: divide by zero encountered in double_scalars\n",
            "  return np.min([odds, 1/odds]) * 100\n",
            "FAGTB/functions.py:132: RuntimeWarning: divide by zero encountered in double_scalars\n",
            "  return np.min([odds, 1/odds]) * 100\n",
            "FAGTB/functions.py:132: RuntimeWarning: divide by zero encountered in double_scalars\n",
            "  return np.min([odds, 1/odds]) * 100\n"
          ],
          "name": "stderr"
        },
        {
          "output_type": "stream",
          "text": [
            "115 17193.23160708048 9965.274994025482 12544.259735087551 Accuracy: 0.756  test :  0.755  Prule Train :  0.0  Prule test :  0.0\n"
          ],
          "name": "stdout"
        },
        {
          "output_type": "stream",
          "text": [
            "FAGTB/functions.py:132: RuntimeWarning: divide by zero encountered in double_scalars\n",
            "  return np.min([odds, 1/odds]) * 100\n",
            "FAGTB/functions.py:132: RuntimeWarning: divide by zero encountered in double_scalars\n",
            "  return np.min([odds, 1/odds]) * 100\n",
            "FAGTB/functions.py:132: RuntimeWarning: divide by zero encountered in double_scalars\n",
            "  return np.min([odds, 1/odds]) * 100\n",
            "FAGTB/functions.py:132: RuntimeWarning: divide by zero encountered in double_scalars\n",
            "  return np.min([odds, 1/odds]) * 100\n",
            "FAGTB/functions.py:132: RuntimeWarning: divide by zero encountered in double_scalars\n",
            "  return np.min([odds, 1/odds]) * 100\n",
            "FAGTB/functions.py:132: RuntimeWarning: divide by zero encountered in double_scalars\n",
            "  return np.min([odds, 1/odds]) * 100\n",
            "FAGTB/functions.py:132: RuntimeWarning: divide by zero encountered in double_scalars\n",
            "  return np.min([odds, 1/odds]) * 100\n",
            "FAGTB/functions.py:132: RuntimeWarning: divide by zero encountered in double_scalars\n",
            "  return np.min([odds, 1/odds]) * 100\n"
          ],
          "name": "stderr"
        },
        {
          "output_type": "stream",
          "text": [
            "120 45641.48959032468 9925.995018339836 16772.21845688854 Accuracy: 0.7569  test :  0.7556  Prule Train :  0.0  Prule test :  0.0\n"
          ],
          "name": "stdout"
        },
        {
          "output_type": "stream",
          "text": [
            "FAGTB/functions.py:132: RuntimeWarning: divide by zero encountered in double_scalars\n",
            "  return np.min([odds, 1/odds]) * 100\n",
            "FAGTB/functions.py:132: RuntimeWarning: divide by zero encountered in double_scalars\n",
            "  return np.min([odds, 1/odds]) * 100\n",
            "FAGTB/functions.py:132: RuntimeWarning: divide by zero encountered in double_scalars\n",
            "  return np.min([odds, 1/odds]) * 100\n",
            "FAGTB/functions.py:132: RuntimeWarning: divide by zero encountered in double_scalars\n",
            "  return np.min([odds, 1/odds]) * 100\n"
          ],
          "name": "stderr"
        },
        {
          "output_type": "stream",
          "text": [
            "125 1117.7066477019775 9887.297126878992 10054.95312403429 Accuracy: 0.7583  test :  0.7571  Prule Train :  0.0  Prule test :  0.0\n"
          ],
          "name": "stdout"
        },
        {
          "output_type": "stream",
          "text": [
            "FAGTB/functions.py:132: RuntimeWarning: divide by zero encountered in double_scalars\n",
            "  return np.min([odds, 1/odds]) * 100\n",
            "FAGTB/functions.py:132: RuntimeWarning: divide by zero encountered in double_scalars\n",
            "  return np.min([odds, 1/odds]) * 100\n",
            "FAGTB/functions.py:132: RuntimeWarning: divide by zero encountered in double_scalars\n",
            "  return np.min([odds, 1/odds]) * 100\n",
            "FAGTB/functions.py:132: RuntimeWarning: divide by zero encountered in double_scalars\n",
            "  return np.min([odds, 1/odds]) * 100\n"
          ],
          "name": "stderr"
        },
        {
          "output_type": "stream",
          "text": [
            "130 22058.21865618305 9844.001245665157 13152.734044092613 Accuracy: 0.7592  test :  0.7577  Prule Train :  0.0  Prule test :  0.0\n"
          ],
          "name": "stdout"
        },
        {
          "output_type": "stream",
          "text": [
            "FAGTB/functions.py:132: RuntimeWarning: divide by zero encountered in double_scalars\n",
            "  return np.min([odds, 1/odds]) * 100\n",
            "FAGTB/functions.py:132: RuntimeWarning: divide by zero encountered in double_scalars\n",
            "  return np.min([odds, 1/odds]) * 100\n"
          ],
          "name": "stderr"
        },
        {
          "output_type": "stream",
          "text": [
            "135 18028.99880358944 9811.342290700893 12515.692111239308 Accuracy: 0.7624  test :  0.759  Prule Train :  0.004075367063135016  Prule test :  0.00853513273031616\n",
            "140 46861.08875700881 9778.517037490212 16807.680351041534 Accuracy: 0.7651  test :  0.7614  Prule Train :  0.005821952947335738  Prule test :  0.009041906236178683\n",
            "145 11822.59673180943 9741.654864628632 11515.044374400044 Accuracy: 0.7662  test :  0.7618  Prule Train :  0.013488890983615897  Prule test :  0.027244915212591134\n",
            "150 17460.393735315723 9715.399550636153 12334.458610933512 Accuracy: 0.7678  test :  0.7615  Prule Train :  0.01944591390531429  Prule test :  0.030456947321865033\n",
            "155 46350.9550974257 9686.256928978226 16638.900193592082 Accuracy: 0.769  test :  0.7627  Prule Train :  0.03246478846904165  Prule test :  0.039990219451066684\n",
            "160 54004.39048607397 9639.522562835302 17740.181135746396 Accuracy: 0.77  test :  0.7638  Prule Train :  0.05118409345920758  Prule test :  0.05433633794511133\n",
            "165 3850.5706594890435 9598.18168444702 10175.767283370376 Accuracy: 0.7709  test :  0.7644  Prule Train :  0.06096541584608806  Prule test :  0.06109764696543061\n",
            "170 34232.42832874993 9558.396459794012 14693.2607091065 Accuracy: 0.7796  test :  0.7711  Prule Train :  0.22852112490681162  Prule test :  0.169171148934956\n",
            "175 32299.439466550924 9516.892573157967 14361.808493140605 Accuracy: 0.7929  test :  0.7817  Prule Train :  0.4839175287547108  Prule test :  0.3607416854950875\n",
            "180 15693.65405651527 9492.406361783036 11846.454470260327 Accuracy: 0.7971  test :  0.7855  Prule Train :  0.5216955968096693  Prule test :  0.41639479641147575\n",
            "185 47028.96826814515 9468.446935541686 16522.792175763458 Accuracy: 0.8025  test :  0.791  Prule Train :  0.5839702803882492  Prule test :  0.4940793676658105\n",
            "190 14508.12632055354 9439.454943894958 11615.673891977991 Accuracy: 0.8076  test :  0.7947  Prule Train :  0.6526689257145039  Prule test :  0.5437280528601409\n",
            "195 -1542.1095239848075 9413.371692254004 9182.055263656282 Accuracy: 0.8109  test :  0.7975  Prule Train :  0.6384741732244857  Prule test :  0.5515562804068996\n",
            "200 37580.90893668096 9382.71991932159 15019.856259823733 Accuracy: 0.8157  test :  0.801  Prule Train :  0.6951875141740884  Prule test :  0.5987382559655119\n",
            "205 28430.780309361406 9349.1673154062 13613.78436181041 Accuracy: 0.8201  test :  0.8047  Prule Train :  0.7463177143506156  Prule test :  0.6512357845030207\n",
            "210 18879.601460486185 9333.71026973646 12165.650488809388 Accuracy: 0.8239  test :  0.807  Prule Train :  0.7836487072437035  Prule test :  0.6740172179898807\n",
            "215 51373.169387352624 9319.755761327544 17025.731169430437 Accuracy: 0.8245  test :  0.8078  Prule Train :  0.7677228166980266  Prule test :  0.6719230045130752\n",
            "220 2026.4275043777775 9300.24128034064 9604.205405997309 Accuracy: 0.8267  test :  0.8096  Prule Train :  0.7806380269028874  Prule test :  0.6797461425779717\n",
            "225 34475.242440765694 9270.947667874583 14442.234033989438 Accuracy: 0.8297  test :  0.8119  Prule Train :  0.8106293763134162  Prule test :  0.7145617567202319\n",
            "230 38142.828884909155 9237.656724109722 14959.081056846095 Accuracy: 0.8317  test :  0.8135  Prule Train :  0.8340507400226456  Prule test :  0.7413278394837842\n",
            "235 15272.911609862702 9222.594374058526 11513.53111553793 Accuracy: 0.8324  test :  0.8146  Prule Train :  0.8420582040355498  Prule test :  0.7521884339647202\n",
            "240 48861.79535934378 9208.846605744413 16538.11590964598 Accuracy: 0.8343  test :  0.8167  Prule Train :  0.8643534646139177  Prule test :  0.7842286992962896\n",
            "245 9658.494130944246 9192.692382739091 10641.466502380728 Accuracy: 0.8367  test :  0.8194  Prule Train :  0.8931185419229675  Prule test :  0.8256804133720239\n",
            "250 28645.117178119075 9196.797050103427 13493.564626821291 Accuracy: 0.8403  test :  0.8227  Prule Train :  0.9510939081670026  Prule test :  0.8682548424227992\n",
            "255 47827.387260048956 9183.630943004779 16357.739032012125 Accuracy: 0.8412  test :  0.8241  Prule Train :  0.961859761581071  Prule test :  0.8928171566541215\n",
            "260 15786.92279624234 9166.242054046466 11534.280473482817 Accuracy: 0.8447  test :  0.8263  Prule Train :  0.983651304430042  Prule test :  0.9421443041154085\n",
            "265 25555.087766079727 9169.87943709255 13003.142602004506 Accuracy: 0.8458  test :  0.8264  Prule Train :  0.9752464165787926  Prule test :  0.9535349645288356\n",
            "270 22466.572466902213 9158.421825083286 12528.407695118618 Accuracy: 0.8472  test :  0.8273  Prule Train :  0.9606693062864544  Prule test :  0.9687949760975902\n",
            "275 55381.07345875827 9157.560234924296 17464.72125373804 Accuracy: 0.8482  test :  0.8277  Prule Train :  0.9439704957233271  Prule test :  0.9782481413618079\n",
            "280 25319.02817370739 9141.520705844367 12939.374931900475 Accuracy: 0.8487  test :  0.8282  Prule Train :  0.931658059839512  Prule test :  0.9886870399734246\n",
            "285 20662.48534828525 9142.364784572996 12241.737586815783 Accuracy: 0.8508  test :  0.8293  Prule Train :  0.9043789109063259  Prule test :  0.9860549416954187\n",
            "290 51508.51260488105 9139.669092926288 16865.945983658443 Accuracy: 0.8518  test :  0.8297  Prule Train :  0.9007195413193488  Prule test :  0.9796411551990118\n",
            "295 21947.42755267053 9125.897382011613 12418.011514912194 Accuracy: 0.8536  test :  0.8311  Prule Train :  0.8804936623176419  Prule test :  0.953530438364897\n",
            "\n",
            "Results on test set :\n",
            "Accuracy: 0.8328028645315297\n",
            "PRULE :  91.69453988474388\n",
            "DI :  0.013236329624932736\n",
            "DispFPR :  0.044239919785461705\n",
            "DispFNR :  0.27054506868491873\n"
          ],
          "name": "stdout"
        },
        {
          "output_type": "stream",
          "text": [
            "FAGTB/functions.py:131: RuntimeWarning: invalid value encountered in double_scalars\n",
            "  odds = y_z_1.mean() / y_z_0.mean()\n",
            "FAGTB/functions.py:131: RuntimeWarning: invalid value encountered in double_scalars\n",
            "  odds = y_z_1.mean() / y_z_0.mean()\n",
            "FAGTB/functions.py:131: RuntimeWarning: invalid value encountered in double_scalars\n",
            "  odds = y_z_1.mean() / y_z_0.mean()\n",
            "FAGTB/functions.py:131: RuntimeWarning: invalid value encountered in double_scalars\n",
            "  odds = y_z_1.mean() / y_z_0.mean()\n"
          ],
          "name": "stderr"
        },
        {
          "output_type": "stream",
          "text": [
            "0 11774.745241770484 11325.053856250246 13091.265642515817 Accuracy: 0.7486  test :  0.7561  Prule Train :  nan  Prule test :  nan\n"
          ],
          "name": "stdout"
        },
        {
          "output_type": "stream",
          "text": [
            "FAGTB/functions.py:131: RuntimeWarning: invalid value encountered in double_scalars\n",
            "  odds = y_z_1.mean() / y_z_0.mean()\n",
            "FAGTB/functions.py:131: RuntimeWarning: invalid value encountered in double_scalars\n",
            "  odds = y_z_1.mean() / y_z_0.mean()\n",
            "FAGTB/functions.py:131: RuntimeWarning: invalid value encountered in double_scalars\n",
            "  odds = y_z_1.mean() / y_z_0.mean()\n",
            "FAGTB/functions.py:131: RuntimeWarning: invalid value encountered in double_scalars\n",
            "  odds = y_z_1.mean() / y_z_0.mean()\n"
          ],
          "name": "stderr"
        },
        {
          "output_type": "stream",
          "text": [
            "5 35711.63055775075 11254.932641647 16611.677225309613 Accuracy: 0.7486  test :  0.7561  Prule Train :  nan  Prule test :  nan\n"
          ],
          "name": "stdout"
        },
        {
          "output_type": "stream",
          "text": [
            "FAGTB/functions.py:131: RuntimeWarning: invalid value encountered in double_scalars\n",
            "  odds = y_z_1.mean() / y_z_0.mean()\n",
            "FAGTB/functions.py:131: RuntimeWarning: invalid value encountered in double_scalars\n",
            "  odds = y_z_1.mean() / y_z_0.mean()\n",
            "FAGTB/functions.py:131: RuntimeWarning: invalid value encountered in double_scalars\n",
            "  odds = y_z_1.mean() / y_z_0.mean()\n",
            "FAGTB/functions.py:131: RuntimeWarning: invalid value encountered in double_scalars\n",
            "  odds = y_z_1.mean() / y_z_0.mean()\n"
          ],
          "name": "stderr"
        },
        {
          "output_type": "stream",
          "text": [
            "10 6148.804586802588 11185.859632210471 12108.18032023086 Accuracy: 0.7486  test :  0.7561  Prule Train :  nan  Prule test :  nan\n"
          ],
          "name": "stdout"
        },
        {
          "output_type": "stream",
          "text": [
            "FAGTB/functions.py:131: RuntimeWarning: invalid value encountered in double_scalars\n",
            "  odds = y_z_1.mean() / y_z_0.mean()\n",
            "FAGTB/functions.py:131: RuntimeWarning: invalid value encountered in double_scalars\n",
            "  odds = y_z_1.mean() / y_z_0.mean()\n",
            "FAGTB/functions.py:131: RuntimeWarning: invalid value encountered in double_scalars\n",
            "  odds = y_z_1.mean() / y_z_0.mean()\n",
            "FAGTB/functions.py:131: RuntimeWarning: invalid value encountered in double_scalars\n",
            "  odds = y_z_1.mean() / y_z_0.mean()\n"
          ],
          "name": "stderr"
        },
        {
          "output_type": "stream",
          "text": [
            "15 19316.517377951 11126.807672147275 14024.285278839925 Accuracy: 0.7486  test :  0.7561  Prule Train :  nan  Prule test :  nan\n"
          ],
          "name": "stdout"
        },
        {
          "output_type": "stream",
          "text": [
            "FAGTB/functions.py:131: RuntimeWarning: invalid value encountered in double_scalars\n",
            "  odds = y_z_1.mean() / y_z_0.mean()\n",
            "FAGTB/functions.py:131: RuntimeWarning: invalid value encountered in double_scalars\n",
            "  odds = y_z_1.mean() / y_z_0.mean()\n",
            "FAGTB/functions.py:131: RuntimeWarning: invalid value encountered in double_scalars\n",
            "  odds = y_z_1.mean() / y_z_0.mean()\n",
            "FAGTB/functions.py:131: RuntimeWarning: invalid value encountered in double_scalars\n",
            "  odds = y_z_1.mean() / y_z_0.mean()\n",
            "FAGTB/functions.py:131: RuntimeWarning: invalid value encountered in double_scalars\n",
            "  odds = y_z_1.mean() / y_z_0.mean()\n",
            "FAGTB/functions.py:131: RuntimeWarning: invalid value encountered in double_scalars\n",
            "  odds = y_z_1.mean() / y_z_0.mean()\n",
            "FAGTB/functions.py:131: RuntimeWarning: invalid value encountered in double_scalars\n",
            "  odds = y_z_1.mean() / y_z_0.mean()\n",
            "FAGTB/functions.py:131: RuntimeWarning: invalid value encountered in double_scalars\n",
            "  odds = y_z_1.mean() / y_z_0.mean()\n"
          ],
          "name": "stderr"
        },
        {
          "output_type": "stream",
          "text": [
            "20 37818.32692175334 11065.344287127547 16738.09332539055 Accuracy: 0.7486  test :  0.7561  Prule Train :  nan  Prule test :  nan\n"
          ],
          "name": "stdout"
        },
        {
          "output_type": "stream",
          "text": [
            "FAGTB/functions.py:131: RuntimeWarning: invalid value encountered in double_scalars\n",
            "  odds = y_z_1.mean() / y_z_0.mean()\n",
            "FAGTB/functions.py:131: RuntimeWarning: invalid value encountered in double_scalars\n",
            "  odds = y_z_1.mean() / y_z_0.mean()\n",
            "FAGTB/functions.py:131: RuntimeWarning: invalid value encountered in double_scalars\n",
            "  odds = y_z_1.mean() / y_z_0.mean()\n",
            "FAGTB/functions.py:131: RuntimeWarning: invalid value encountered in double_scalars\n",
            "  odds = y_z_1.mean() / y_z_0.mean()\n"
          ],
          "name": "stderr"
        },
        {
          "output_type": "stream",
          "text": [
            "25 4555.276653466591 10999.117604193387 11682.409102213374 Accuracy: 0.7486  test :  0.7561  Prule Train :  nan  Prule test :  nan\n"
          ],
          "name": "stdout"
        },
        {
          "output_type": "stream",
          "text": [
            "FAGTB/functions.py:131: RuntimeWarning: invalid value encountered in double_scalars\n",
            "  odds = y_z_1.mean() / y_z_0.mean()\n",
            "FAGTB/functions.py:131: RuntimeWarning: invalid value encountered in double_scalars\n",
            "  odds = y_z_1.mean() / y_z_0.mean()\n",
            "FAGTB/functions.py:131: RuntimeWarning: invalid value encountered in double_scalars\n",
            "  odds = y_z_1.mean() / y_z_0.mean()\n",
            "FAGTB/functions.py:131: RuntimeWarning: invalid value encountered in double_scalars\n",
            "  odds = y_z_1.mean() / y_z_0.mean()\n"
          ],
          "name": "stderr"
        },
        {
          "output_type": "stream",
          "text": [
            "30 15916.440596858629 10935.242518298579 13322.708607827371 Accuracy: 0.7486  test :  0.7561  Prule Train :  nan  Prule test :  nan\n"
          ],
          "name": "stdout"
        },
        {
          "output_type": "stream",
          "text": [
            "FAGTB/functions.py:131: RuntimeWarning: invalid value encountered in double_scalars\n",
            "  odds = y_z_1.mean() / y_z_0.mean()\n",
            "FAGTB/functions.py:131: RuntimeWarning: invalid value encountered in double_scalars\n",
            "  odds = y_z_1.mean() / y_z_0.mean()\n",
            "FAGTB/functions.py:131: RuntimeWarning: invalid value encountered in double_scalars\n",
            "  odds = y_z_1.mean() / y_z_0.mean()\n",
            "FAGTB/functions.py:131: RuntimeWarning: invalid value encountered in double_scalars\n",
            "  odds = y_z_1.mean() / y_z_0.mean()\n"
          ],
          "name": "stderr"
        },
        {
          "output_type": "stream",
          "text": [
            "35 17351.40327646372 10879.511416819812 13482.22190828937 Accuracy: 0.7486  test :  0.7561  Prule Train :  nan  Prule test :  nan\n"
          ],
          "name": "stdout"
        },
        {
          "output_type": "stream",
          "text": [
            "FAGTB/functions.py:131: RuntimeWarning: invalid value encountered in double_scalars\n",
            "  odds = y_z_1.mean() / y_z_0.mean()\n",
            "FAGTB/functions.py:131: RuntimeWarning: invalid value encountered in double_scalars\n",
            "  odds = y_z_1.mean() / y_z_0.mean()\n",
            "FAGTB/functions.py:131: RuntimeWarning: invalid value encountered in double_scalars\n",
            "  odds = y_z_1.mean() / y_z_0.mean()\n",
            "FAGTB/functions.py:131: RuntimeWarning: invalid value encountered in double_scalars\n",
            "  odds = y_z_1.mean() / y_z_0.mean()\n",
            "FAGTB/functions.py:131: RuntimeWarning: invalid value encountered in double_scalars\n",
            "  odds = y_z_1.mean() / y_z_0.mean()\n",
            "FAGTB/functions.py:131: RuntimeWarning: invalid value encountered in double_scalars\n",
            "  odds = y_z_1.mean() / y_z_0.mean()\n",
            "FAGTB/functions.py:131: RuntimeWarning: invalid value encountered in double_scalars\n",
            "  odds = y_z_1.mean() / y_z_0.mean()\n",
            "FAGTB/functions.py:131: RuntimeWarning: invalid value encountered in double_scalars\n",
            "  odds = y_z_1.mean() / y_z_0.mean()\n"
          ],
          "name": "stderr"
        },
        {
          "output_type": "stream",
          "text": [
            "40 40516.794204885715 10821.654708486989 16899.173839219846 Accuracy: 0.7486  test :  0.7561  Prule Train :  nan  Prule test :  nan\n"
          ],
          "name": "stdout"
        },
        {
          "output_type": "stream",
          "text": [
            "FAGTB/functions.py:131: RuntimeWarning: invalid value encountered in double_scalars\n",
            "  odds = y_z_1.mean() / y_z_0.mean()\n",
            "FAGTB/functions.py:131: RuntimeWarning: invalid value encountered in double_scalars\n",
            "  odds = y_z_1.mean() / y_z_0.mean()\n",
            "FAGTB/functions.py:131: RuntimeWarning: invalid value encountered in double_scalars\n",
            "  odds = y_z_1.mean() / y_z_0.mean()\n",
            "FAGTB/functions.py:131: RuntimeWarning: invalid value encountered in double_scalars\n",
            "  odds = y_z_1.mean() / y_z_0.mean()\n"
          ],
          "name": "stderr"
        },
        {
          "output_type": "stream",
          "text": [
            "45 2604.974591582482 10763.210680330696 11153.956869068068 Accuracy: 0.7486  test :  0.7561  Prule Train :  nan  Prule test :  nan\n"
          ],
          "name": "stdout"
        },
        {
          "output_type": "stream",
          "text": [
            "FAGTB/functions.py:131: RuntimeWarning: invalid value encountered in double_scalars\n",
            "  odds = y_z_1.mean() / y_z_0.mean()\n",
            "FAGTB/functions.py:131: RuntimeWarning: invalid value encountered in double_scalars\n",
            "  odds = y_z_1.mean() / y_z_0.mean()\n",
            "FAGTB/functions.py:131: RuntimeWarning: invalid value encountered in double_scalars\n",
            "  odds = y_z_1.mean() / y_z_0.mean()\n",
            "FAGTB/functions.py:131: RuntimeWarning: invalid value encountered in double_scalars\n",
            "  odds = y_z_1.mean() / y_z_0.mean()\n"
          ],
          "name": "stderr"
        },
        {
          "output_type": "stream",
          "text": [
            "50 6672.486909577439 10701.166063938554 11702.039100375172 Accuracy: 0.7486  test :  0.7561  Prule Train :  nan  Prule test :  nan\n"
          ],
          "name": "stdout"
        },
        {
          "output_type": "stream",
          "text": [
            "FAGTB/functions.py:131: RuntimeWarning: invalid value encountered in double_scalars\n",
            "  odds = y_z_1.mean() / y_z_0.mean()\n",
            "FAGTB/functions.py:131: RuntimeWarning: invalid value encountered in double_scalars\n",
            "  odds = y_z_1.mean() / y_z_0.mean()\n",
            "FAGTB/functions.py:131: RuntimeWarning: invalid value encountered in double_scalars\n",
            "  odds = y_z_1.mean() / y_z_0.mean()\n",
            "FAGTB/functions.py:131: RuntimeWarning: invalid value encountered in double_scalars\n",
            "  odds = y_z_1.mean() / y_z_0.mean()\n"
          ],
          "name": "stderr"
        },
        {
          "output_type": "stream",
          "text": [
            "55 33008.28813753345 10639.577875916455 15590.821096546471 Accuracy: 0.7486  test :  0.7561  Prule Train :  nan  Prule test :  nan\n"
          ],
          "name": "stdout"
        },
        {
          "output_type": "stream",
          "text": [
            "FAGTB/functions.py:131: RuntimeWarning: invalid value encountered in double_scalars\n",
            "  odds = y_z_1.mean() / y_z_0.mean()\n",
            "FAGTB/functions.py:131: RuntimeWarning: invalid value encountered in double_scalars\n",
            "  odds = y_z_1.mean() / y_z_0.mean()\n",
            "FAGTB/functions.py:131: RuntimeWarning: invalid value encountered in double_scalars\n",
            "  odds = y_z_1.mean() / y_z_0.mean()\n",
            "FAGTB/functions.py:131: RuntimeWarning: invalid value encountered in double_scalars\n",
            "  odds = y_z_1.mean() / y_z_0.mean()\n",
            "FAGTB/functions.py:131: RuntimeWarning: invalid value encountered in double_scalars\n",
            "  odds = y_z_1.mean() / y_z_0.mean()\n",
            "FAGTB/functions.py:131: RuntimeWarning: invalid value encountered in double_scalars\n",
            "  odds = y_z_1.mean() / y_z_0.mean()\n",
            "FAGTB/functions.py:131: RuntimeWarning: invalid value encountered in double_scalars\n",
            "  odds = y_z_1.mean() / y_z_0.mean()\n",
            "FAGTB/functions.py:131: RuntimeWarning: invalid value encountered in double_scalars\n",
            "  odds = y_z_1.mean() / y_z_0.mean()\n"
          ],
          "name": "stderr"
        },
        {
          "output_type": "stream",
          "text": [
            "60 18824.934328894407 10578.965634548156 13402.705783882317 Accuracy: 0.7486  test :  0.7561  Prule Train :  nan  Prule test :  nan\n"
          ],
          "name": "stdout"
        },
        {
          "output_type": "stream",
          "text": [
            "FAGTB/functions.py:131: RuntimeWarning: invalid value encountered in double_scalars\n",
            "  odds = y_z_1.mean() / y_z_0.mean()\n",
            "FAGTB/functions.py:131: RuntimeWarning: invalid value encountered in double_scalars\n",
            "  odds = y_z_1.mean() / y_z_0.mean()\n",
            "FAGTB/functions.py:131: RuntimeWarning: invalid value encountered in double_scalars\n",
            "  odds = y_z_1.mean() / y_z_0.mean()\n",
            "FAGTB/functions.py:131: RuntimeWarning: invalid value encountered in double_scalars\n",
            "  odds = y_z_1.mean() / y_z_0.mean()\n"
          ],
          "name": "stderr"
        },
        {
          "output_type": "stream",
          "text": [
            "65 17838.159318543276 10531.35793046391 13207.0818282454 Accuracy: 0.7486  test :  0.7561  Prule Train :  nan  Prule test :  nan\n"
          ],
          "name": "stdout"
        },
        {
          "output_type": "stream",
          "text": [
            "FAGTB/functions.py:131: RuntimeWarning: invalid value encountered in double_scalars\n",
            "  odds = y_z_1.mean() / y_z_0.mean()\n",
            "FAGTB/functions.py:131: RuntimeWarning: invalid value encountered in double_scalars\n",
            "  odds = y_z_1.mean() / y_z_0.mean()\n",
            "FAGTB/functions.py:131: RuntimeWarning: invalid value encountered in double_scalars\n",
            "  odds = y_z_1.mean() / y_z_0.mean()\n",
            "FAGTB/functions.py:131: RuntimeWarning: invalid value encountered in double_scalars\n",
            "  odds = y_z_1.mean() / y_z_0.mean()\n"
          ],
          "name": "stderr"
        },
        {
          "output_type": "stream",
          "text": [
            "70 44556.877605106754 10482.341032120763 17165.872672886777 Accuracy: 0.7486  test :  0.7561  Prule Train :  nan  Prule test :  nan\n"
          ],
          "name": "stdout"
        },
        {
          "output_type": "stream",
          "text": [
            "FAGTB/functions.py:131: RuntimeWarning: invalid value encountered in double_scalars\n",
            "  odds = y_z_1.mean() / y_z_0.mean()\n",
            "FAGTB/functions.py:131: RuntimeWarning: invalid value encountered in double_scalars\n",
            "  odds = y_z_1.mean() / y_z_0.mean()\n",
            "FAGTB/functions.py:131: RuntimeWarning: invalid value encountered in double_scalars\n",
            "  odds = y_z_1.mean() / y_z_0.mean()\n",
            "FAGTB/functions.py:131: RuntimeWarning: invalid value encountered in double_scalars\n",
            "  odds = y_z_1.mean() / y_z_0.mean()\n"
          ],
          "name": "stderr"
        },
        {
          "output_type": "stream",
          "text": [
            "75 38960.01189185903 10427.414768672314 16271.416552451168 Accuracy: 0.7486  test :  0.7561  Prule Train :  nan  Prule test :  nan\n"
          ],
          "name": "stdout"
        },
        {
          "output_type": "stream",
          "text": [
            "FAGTB/functions.py:131: RuntimeWarning: invalid value encountered in double_scalars\n",
            "  odds = y_z_1.mean() / y_z_0.mean()\n",
            "FAGTB/functions.py:131: RuntimeWarning: invalid value encountered in double_scalars\n",
            "  odds = y_z_1.mean() / y_z_0.mean()\n",
            "FAGTB/functions.py:131: RuntimeWarning: invalid value encountered in double_scalars\n",
            "  odds = y_z_1.mean() / y_z_0.mean()\n",
            "FAGTB/functions.py:131: RuntimeWarning: invalid value encountered in double_scalars\n",
            "  odds = y_z_1.mean() / y_z_0.mean()\n",
            "FAGTB/functions.py:131: RuntimeWarning: invalid value encountered in double_scalars\n",
            "  odds = y_z_1.mean() / y_z_0.mean()\n",
            "FAGTB/functions.py:131: RuntimeWarning: invalid value encountered in double_scalars\n",
            "  odds = y_z_1.mean() / y_z_0.mean()\n",
            "FAGTB/functions.py:131: RuntimeWarning: invalid value encountered in double_scalars\n",
            "  odds = y_z_1.mean() / y_z_0.mean()\n",
            "FAGTB/functions.py:131: RuntimeWarning: invalid value encountered in double_scalars\n",
            "  odds = y_z_1.mean() / y_z_0.mean()\n"
          ],
          "name": "stderr"
        },
        {
          "output_type": "stream",
          "text": [
            "80 9459.798546270316 10374.261025829106 11793.230807769654 Accuracy: 0.7486  test :  0.7561  Prule Train :  nan  Prule test :  nan\n"
          ],
          "name": "stdout"
        },
        {
          "output_type": "stream",
          "text": [
            "FAGTB/functions.py:131: RuntimeWarning: invalid value encountered in double_scalars\n",
            "  odds = y_z_1.mean() / y_z_0.mean()\n",
            "FAGTB/functions.py:131: RuntimeWarning: invalid value encountered in double_scalars\n",
            "  odds = y_z_1.mean() / y_z_0.mean()\n",
            "FAGTB/functions.py:131: RuntimeWarning: invalid value encountered in double_scalars\n",
            "  odds = y_z_1.mean() / y_z_0.mean()\n",
            "FAGTB/functions.py:131: RuntimeWarning: invalid value encountered in double_scalars\n",
            "  odds = y_z_1.mean() / y_z_0.mean()\n"
          ],
          "name": "stderr"
        },
        {
          "output_type": "stream",
          "text": [
            "85 22886.04243404749 10336.025497658095 13768.931862765217 Accuracy: 0.7486  test :  0.7561  Prule Train :  nan  Prule test :  nan\n"
          ],
          "name": "stdout"
        },
        {
          "output_type": "stream",
          "text": [
            "FAGTB/functions.py:131: RuntimeWarning: invalid value encountered in double_scalars\n",
            "  odds = y_z_1.mean() / y_z_0.mean()\n",
            "FAGTB/functions.py:131: RuntimeWarning: invalid value encountered in double_scalars\n",
            "  odds = y_z_1.mean() / y_z_0.mean()\n",
            "FAGTB/functions.py:131: RuntimeWarning: invalid value encountered in double_scalars\n",
            "  odds = y_z_1.mean() / y_z_0.mean()\n",
            "FAGTB/functions.py:131: RuntimeWarning: invalid value encountered in double_scalars\n",
            "  odds = y_z_1.mean() / y_z_0.mean()\n"
          ],
          "name": "stderr"
        },
        {
          "output_type": "stream",
          "text": [
            "90 22355.327075246998 10289.6537902913 13642.952851578351 Accuracy: 0.7486  test :  0.7561  Prule Train :  nan  Prule test :  nan\n"
          ],
          "name": "stdout"
        },
        {
          "output_type": "stream",
          "text": [
            "FAGTB/functions.py:131: RuntimeWarning: invalid value encountered in double_scalars\n",
            "  odds = y_z_1.mean() / y_z_0.mean()\n",
            "FAGTB/functions.py:131: RuntimeWarning: invalid value encountered in double_scalars\n",
            "  odds = y_z_1.mean() / y_z_0.mean()\n",
            "FAGTB/functions.py:131: RuntimeWarning: invalid value encountered in double_scalars\n",
            "  odds = y_z_1.mean() / y_z_0.mean()\n",
            "FAGTB/functions.py:131: RuntimeWarning: invalid value encountered in double_scalars\n",
            "  odds = y_z_1.mean() / y_z_0.mean()\n"
          ],
          "name": "stderr"
        },
        {
          "output_type": "stream",
          "text": [
            "95 45071.185571637194 10247.654224651676 17008.332060397253 Accuracy: 0.7486  test :  0.7561  Prule Train :  nan  Prule test :  nan\n"
          ],
          "name": "stdout"
        },
        {
          "output_type": "stream",
          "text": [
            "FAGTB/functions.py:131: RuntimeWarning: invalid value encountered in double_scalars\n",
            "  odds = y_z_1.mean() / y_z_0.mean()\n",
            "FAGTB/functions.py:131: RuntimeWarning: invalid value encountered in double_scalars\n",
            "  odds = y_z_1.mean() / y_z_0.mean()\n",
            "FAGTB/functions.py:131: RuntimeWarning: invalid value encountered in double_scalars\n",
            "  odds = y_z_1.mean() / y_z_0.mean()\n",
            "FAGTB/functions.py:132: RuntimeWarning: divide by zero encountered in double_scalars\n",
            "  return np.min([odds, 1/odds]) * 100\n",
            "FAGTB/functions.py:132: RuntimeWarning: divide by zero encountered in double_scalars\n",
            "  return np.min([odds, 1/odds]) * 100\n",
            "FAGTB/functions.py:132: RuntimeWarning: divide by zero encountered in double_scalars\n",
            "  return np.min([odds, 1/odds]) * 100\n",
            "FAGTB/functions.py:132: RuntimeWarning: divide by zero encountered in double_scalars\n",
            "  return np.min([odds, 1/odds]) * 100\n",
            "FAGTB/functions.py:132: RuntimeWarning: divide by zero encountered in double_scalars\n",
            "  return np.min([odds, 1/odds]) * 100\n"
          ],
          "name": "stderr"
        },
        {
          "output_type": "stream",
          "text": [
            "100 548.9211510500049 10202.794559331956 10285.132731989455 Accuracy: 0.7487  test :  0.7563  Prule Train :  0.0  Prule test :  0.0\n"
          ],
          "name": "stdout"
        },
        {
          "output_type": "stream",
          "text": [
            "FAGTB/functions.py:132: RuntimeWarning: divide by zero encountered in double_scalars\n",
            "  return np.min([odds, 1/odds]) * 100\n",
            "FAGTB/functions.py:132: RuntimeWarning: divide by zero encountered in double_scalars\n",
            "  return np.min([odds, 1/odds]) * 100\n",
            "FAGTB/functions.py:132: RuntimeWarning: divide by zero encountered in double_scalars\n",
            "  return np.min([odds, 1/odds]) * 100\n",
            "FAGTB/functions.py:132: RuntimeWarning: divide by zero encountered in double_scalars\n",
            "  return np.min([odds, 1/odds]) * 100\n"
          ],
          "name": "stderr"
        },
        {
          "output_type": "stream",
          "text": [
            "105 16253.52810164073 10153.013497614469 12591.04271286058 Accuracy: 0.7505  test :  0.7574  Prule Train :  0.0  Prule test :  0.0\n"
          ],
          "name": "stdout"
        },
        {
          "output_type": "stream",
          "text": [
            "FAGTB/functions.py:132: RuntimeWarning: divide by zero encountered in double_scalars\n",
            "  return np.min([odds, 1/odds]) * 100\n",
            "FAGTB/functions.py:132: RuntimeWarning: divide by zero encountered in double_scalars\n",
            "  return np.min([odds, 1/odds]) * 100\n",
            "FAGTB/functions.py:132: RuntimeWarning: divide by zero encountered in double_scalars\n",
            "  return np.min([odds, 1/odds]) * 100\n",
            "FAGTB/functions.py:132: RuntimeWarning: divide by zero encountered in double_scalars\n",
            "  return np.min([odds, 1/odds]) * 100\n"
          ],
          "name": "stderr"
        },
        {
          "output_type": "stream",
          "text": [
            "110 20352.187313858936 10118.676638054512 13171.504735133352 Accuracy: 0.7518  test :  0.7579  Prule Train :  0.0  Prule test :  0.0\n"
          ],
          "name": "stdout"
        },
        {
          "output_type": "stream",
          "text": [
            "FAGTB/functions.py:132: RuntimeWarning: divide by zero encountered in double_scalars\n",
            "  return np.min([odds, 1/odds]) * 100\n",
            "FAGTB/functions.py:132: RuntimeWarning: divide by zero encountered in double_scalars\n",
            "  return np.min([odds, 1/odds]) * 100\n",
            "FAGTB/functions.py:132: RuntimeWarning: divide by zero encountered in double_scalars\n",
            "  return np.min([odds, 1/odds]) * 100\n",
            "FAGTB/functions.py:132: RuntimeWarning: divide by zero encountered in double_scalars\n",
            "  return np.min([odds, 1/odds]) * 100\n"
          ],
          "name": "stderr"
        },
        {
          "output_type": "stream",
          "text": [
            "115 29287.156493333998 10077.170720136786 14470.244194136887 Accuracy: 0.7527  test :  0.7594  Prule Train :  0.0  Prule test :  0.0\n"
          ],
          "name": "stdout"
        },
        {
          "output_type": "stream",
          "text": [
            "FAGTB/functions.py:132: RuntimeWarning: divide by zero encountered in double_scalars\n",
            "  return np.min([odds, 1/odds]) * 100\n",
            "FAGTB/functions.py:132: RuntimeWarning: divide by zero encountered in double_scalars\n",
            "  return np.min([odds, 1/odds]) * 100\n",
            "FAGTB/functions.py:132: RuntimeWarning: divide by zero encountered in double_scalars\n",
            "  return np.min([odds, 1/odds]) * 100\n",
            "FAGTB/functions.py:132: RuntimeWarning: divide by zero encountered in double_scalars\n",
            "  return np.min([odds, 1/odds]) * 100\n",
            "FAGTB/functions.py:132: RuntimeWarning: divide by zero encountered in double_scalars\n",
            "  return np.min([odds, 1/odds]) * 100\n",
            "FAGTB/functions.py:132: RuntimeWarning: divide by zero encountered in double_scalars\n",
            "  return np.min([odds, 1/odds]) * 100\n",
            "FAGTB/functions.py:132: RuntimeWarning: divide by zero encountered in double_scalars\n",
            "  return np.min([odds, 1/odds]) * 100\n",
            "FAGTB/functions.py:132: RuntimeWarning: divide by zero encountered in double_scalars\n",
            "  return np.min([odds, 1/odds]) * 100\n"
          ],
          "name": "stderr"
        },
        {
          "output_type": "stream",
          "text": [
            "120 37354.04067317756 10022.27749113773 15625.383592114362 Accuracy: 0.7538  test :  0.7595  Prule Train :  0.0  Prule test :  0.0\n"
          ],
          "name": "stdout"
        },
        {
          "output_type": "stream",
          "text": [
            "FAGTB/functions.py:132: RuntimeWarning: divide by zero encountered in double_scalars\n",
            "  return np.min([odds, 1/odds]) * 100\n",
            "FAGTB/functions.py:132: RuntimeWarning: divide by zero encountered in double_scalars\n",
            "  return np.min([odds, 1/odds]) * 100\n",
            "FAGTB/functions.py:132: RuntimeWarning: divide by zero encountered in double_scalars\n",
            "  return np.min([odds, 1/odds]) * 100\n",
            "FAGTB/functions.py:132: RuntimeWarning: divide by zero encountered in double_scalars\n",
            "  return np.min([odds, 1/odds]) * 100\n"
          ],
          "name": "stderr"
        },
        {
          "output_type": "stream",
          "text": [
            "125 11264.527629650369 9981.24744987665 11670.926594324206 Accuracy: 0.7559  test :  0.7615  Prule Train :  0.0  Prule test :  0.0\n"
          ],
          "name": "stdout"
        },
        {
          "output_type": "stream",
          "text": [
            "FAGTB/functions.py:132: RuntimeWarning: divide by zero encountered in double_scalars\n",
            "  return np.min([odds, 1/odds]) * 100\n",
            "FAGTB/functions.py:132: RuntimeWarning: divide by zero encountered in double_scalars\n",
            "  return np.min([odds, 1/odds]) * 100\n",
            "FAGTB/functions.py:132: RuntimeWarning: divide by zero encountered in double_scalars\n",
            "  return np.min([odds, 1/odds]) * 100\n",
            "FAGTB/functions.py:132: RuntimeWarning: divide by zero encountered in double_scalars\n",
            "  return np.min([odds, 1/odds]) * 100\n"
          ],
          "name": "stderr"
        },
        {
          "output_type": "stream",
          "text": [
            "130 40903.627604359026 9940.606747031412 16076.150887685266 Accuracy: 0.7569  test :  0.7625  Prule Train :  0.0  Prule test :  0.0\n"
          ],
          "name": "stdout"
        },
        {
          "output_type": "stream",
          "text": [
            "FAGTB/functions.py:132: RuntimeWarning: divide by zero encountered in double_scalars\n",
            "  return np.min([odds, 1/odds]) * 100\n",
            "FAGTB/functions.py:132: RuntimeWarning: divide by zero encountered in double_scalars\n",
            "  return np.min([odds, 1/odds]) * 100\n",
            "FAGTB/functions.py:132: RuntimeWarning: divide by zero encountered in double_scalars\n",
            "  return np.min([odds, 1/odds]) * 100\n",
            "FAGTB/functions.py:132: RuntimeWarning: divide by zero encountered in double_scalars\n",
            "  return np.min([odds, 1/odds]) * 100\n"
          ],
          "name": "stderr"
        },
        {
          "output_type": "stream",
          "text": [
            "135 14242.540871911162 9898.960966506014 12035.342097292689 Accuracy: 0.7579  test :  0.7636  Prule Train :  0.0  Prule test :  0.005617553525422218\n"
          ],
          "name": "stdout"
        },
        {
          "output_type": "stream",
          "text": [
            "FAGTB/functions.py:132: RuntimeWarning: divide by zero encountered in double_scalars\n",
            "  return np.min([odds, 1/odds]) * 100\n",
            "FAGTB/functions.py:132: RuntimeWarning: divide by zero encountered in double_scalars\n",
            "  return np.min([odds, 1/odds]) * 100\n",
            "FAGTB/functions.py:132: RuntimeWarning: divide by zero encountered in double_scalars\n",
            "  return np.min([odds, 1/odds]) * 100\n",
            "FAGTB/functions.py:132: RuntimeWarning: divide by zero encountered in double_scalars\n",
            "  return np.min([odds, 1/odds]) * 100\n",
            "FAGTB/functions.py:132: RuntimeWarning: divide by zero encountered in double_scalars\n",
            "  return np.min([odds, 1/odds]) * 100\n"
          ],
          "name": "stderr"
        },
        {
          "output_type": "stream",
          "text": [
            "140 22919.555840338384 9874.32691613322 13312.260292183977 Accuracy: 0.7599  test :  0.7654  Prule Train :  0.0  Prule test :  0.01740935506977696\n",
            "145 29352.531445830875 9829.042590775109 14231.92230764974 Accuracy: 0.7612  test :  0.7662  Prule Train :  0.006621739852733198  Prule test :  0.03043210098811406\n",
            "150 40260.437766616735 9779.47617201562 15818.541837008132 Accuracy: 0.7618  test :  0.7673  Prule Train :  0.01059792699531587  Prule test :  0.03768940166701714\n",
            "155 11971.204928218525 9745.834428581811 11541.51516781459 Accuracy: 0.7636  test :  0.7687  Prule Train :  0.030507986944693966  Prule test :  0.055388362148749\n",
            "160 43558.48050885832 9713.66821393709 16247.440290265837 Accuracy: 0.765  test :  0.7701  Prule Train :  0.053157856039997065  Prule test :  0.07857806798813488\n",
            "165 11651.783364862025 9680.193720800235 11427.96122552954 Accuracy: 0.7722  test :  0.7772  Prule Train :  0.22763565771966485  Prule test :  0.2690042108651048\n",
            "170 26038.27968780817 9666.10885209314 13571.850805264365 Accuracy: 0.7807  test :  0.7843  Prule Train :  0.39110892581427836  Prule test :  0.4055116876486131\n",
            "175 52656.94751259507 9647.521913666442 17546.064040555702 Accuracy: 0.7873  test :  0.789  Prule Train :  0.5067631631490714  Prule test :  0.4807980739844622\n",
            "180 126.80860647201402 9622.960013924388 9641.981304895191 Accuracy: 0.793  test :  0.7926  Prule Train :  0.5868627306815675  Prule test :  0.5158998477464675\n",
            "185 15389.537582363533 9600.19361573749 11908.624253092019 Accuracy: 0.7979  test :  0.7982  Prule Train :  0.6268287595900062  Prule test :  0.5813352071536518\n",
            "190 47020.21559939567 9577.146157539744 16630.178497449095 Accuracy: 0.8059  test :  0.8067  Prule Train :  0.7462987018896247  Prule test :  0.7001314952426612\n",
            "195 12041.092631025054 9550.871393584146 11357.035288237905 Accuracy: 0.809  test :  0.8098  Prule Train :  0.776185393221589  Prule test :  0.7476258878206404\n",
            "200 25347.572722292978 9542.839724449364 13344.975632793314 Accuracy: 0.8122  test :  0.8127  Prule Train :  0.788189505744129  Prule test :  0.7705069218701379\n",
            "205 18514.90102293056 9514.231293421291 12291.466446860875 Accuracy: 0.8146  test :  0.8151  Prule Train :  0.7673996533022394  Prule test :  0.7603580696196918\n",
            "210 50331.653421365045 9498.095856877095 17047.84387008185 Accuracy: 0.8177  test :  0.8186  Prule Train :  0.7833565846149726  Prule test :  0.799796834706434\n",
            "215 3632.4567365894427 9475.448848954737 10020.317359443152 Accuracy: 0.8204  test :  0.8212  Prule Train :  0.7874310377231784  Prule test :  0.8187766651404357\n",
            "220 20194.04393723814 9450.729235238248 12479.83582582397 Accuracy: 0.8225  test :  0.8241  Prule Train :  0.8096897210490488  Prule test :  0.8776750025732011\n",
            "225 22127.56868098217 9444.896533819068 12764.031835966392 Accuracy: 0.823  test :  0.8248  Prule Train :  0.797826757342747  Prule test :  0.8633347538422034\n",
            "230 41945.91453477058 9423.751491515106 15715.638671730692 Accuracy: 0.8262  test :  0.8273  Prule Train :  0.8327322720240544  Prule test :  0.9164442775594863\n",
            "235 30156.08852312416 9396.218149684784 13919.631428153407 Accuracy: 0.8282  test :  0.8286  Prule Train :  0.8599711008123491  Prule test :  0.9416297954320008\n",
            "240 17996.340335502315 9386.690029920383 12086.14108024573 Accuracy: 0.8287  test :  0.8295  Prule Train :  0.8437485994555708  Prule test :  0.9220491855098729\n",
            "245 26693.089848488024 9366.071618645345 13370.035095918549 Accuracy: 0.8319  test :  0.8315  Prule Train :  0.8805174831216633  Prule test :  0.9594906603672411\n",
            "250 63279.80985443183 9326.602518293308 18818.57399645808 Accuracy: 0.8377  test :  0.8354  Prule Train :  0.9841442764136421  Prule test :  0.9420638673627935\n",
            "255 3768.394395238767 9301.186824611546 9866.445983897362 Accuracy: 0.8387  test :  0.838  Prule Train :  0.9851143342261669  Prule test :  0.918856343060249\n",
            "260 38359.84460670229 9282.2812884661 15036.257979471444 Accuracy: 0.8404  test :  0.839  Prule Train :  0.9579623827400948  Prule test :  0.8957564394446677\n",
            "265 37843.04789172733 9257.71462883659 14934.171812595689 Accuracy: 0.8413  test :  0.8393  Prule Train :  0.9527136456597036  Prule test :  0.8979991039977512\n",
            "270 17241.871736536814 9253.115074650279 11839.3958351308 Accuracy: 0.8407  test :  0.8391  Prule Train :  0.9737670274752682  Prule test :  0.920751026930325\n",
            "275 45122.372390904166 9246.00609770563 16014.361956341254 Accuracy: 0.8425  test :  0.8417  Prule Train :  0.958676543700406  Prule test :  0.898098026946982\n",
            "280 25733.064301697643 9229.934288820637 13089.893934075284 Accuracy: 0.8454  test :  0.8441  Prule Train :  0.9074363554542886  Prule test :  0.8452539606038463\n",
            "285 22143.606973958693 9233.817526809631 12555.358572903435 Accuracy: 0.8455  test :  0.8442  Prule Train :  0.9092887809037487  Prule test :  0.8465060954768142\n",
            "290 34620.262946080366 9211.940824179648 14404.980266091701 Accuracy: 0.8477  test :  0.8466  Prule Train :  0.8655322094091619  Prule test :  0.8111598872622161\n",
            "295 49031.289273326285 9185.779771243268 16540.473162242208 Accuracy: 0.849  test :  0.8485  Prule Train :  0.8356999871179452  Prule test :  0.7752872929699341\n",
            "\n",
            "Results on test set :\n",
            "Accuracy: 0.8480206882832704\n",
            "PRULE :  77.94383957262755\n",
            "DI :  0.03663554601153765\n",
            "DispFPR :  0.025714750265861612\n",
            "DispFNR :  0.23775492120169867\n"
          ],
          "name": "stdout"
        },
        {
          "output_type": "stream",
          "text": [
            "FAGTB/functions.py:131: RuntimeWarning: invalid value encountered in double_scalars\n",
            "  odds = y_z_1.mean() / y_z_0.mean()\n",
            "FAGTB/functions.py:131: RuntimeWarning: invalid value encountered in double_scalars\n",
            "  odds = y_z_1.mean() / y_z_0.mean()\n",
            "FAGTB/functions.py:131: RuntimeWarning: invalid value encountered in double_scalars\n",
            "  odds = y_z_1.mean() / y_z_0.mean()\n",
            "FAGTB/functions.py:131: RuntimeWarning: invalid value encountered in double_scalars\n",
            "  odds = y_z_1.mean() / y_z_0.mean()\n"
          ],
          "name": "stderr"
        },
        {
          "output_type": "stream",
          "text": [
            "0 11514.006559099942 11268.952130152878 12996.05311401787 Accuracy: 0.7511  test :  0.751  Prule Train :  nan  Prule test :  nan\n"
          ],
          "name": "stdout"
        },
        {
          "output_type": "stream",
          "text": [
            "FAGTB/functions.py:131: RuntimeWarning: invalid value encountered in double_scalars\n",
            "  odds = y_z_1.mean() / y_z_0.mean()\n",
            "FAGTB/functions.py:131: RuntimeWarning: invalid value encountered in double_scalars\n",
            "  odds = y_z_1.mean() / y_z_0.mean()\n",
            "FAGTB/functions.py:131: RuntimeWarning: invalid value encountered in double_scalars\n",
            "  odds = y_z_1.mean() / y_z_0.mean()\n",
            "FAGTB/functions.py:131: RuntimeWarning: invalid value encountered in double_scalars\n",
            "  odds = y_z_1.mean() / y_z_0.mean()\n"
          ],
          "name": "stderr"
        },
        {
          "output_type": "stream",
          "text": [
            "5 34506.590361948896 11200.99268468696 16376.981238979297 Accuracy: 0.7511  test :  0.751  Prule Train :  nan  Prule test :  nan\n"
          ],
          "name": "stdout"
        },
        {
          "output_type": "stream",
          "text": [
            "FAGTB/functions.py:131: RuntimeWarning: invalid value encountered in double_scalars\n",
            "  odds = y_z_1.mean() / y_z_0.mean()\n",
            "FAGTB/functions.py:131: RuntimeWarning: invalid value encountered in double_scalars\n",
            "  odds = y_z_1.mean() / y_z_0.mean()\n",
            "FAGTB/functions.py:131: RuntimeWarning: invalid value encountered in double_scalars\n",
            "  odds = y_z_1.mean() / y_z_0.mean()\n",
            "FAGTB/functions.py:131: RuntimeWarning: invalid value encountered in double_scalars\n",
            "  odds = y_z_1.mean() / y_z_0.mean()\n"
          ],
          "name": "stderr"
        },
        {
          "output_type": "stream",
          "text": [
            "10 9141.943071780152 11132.40699839286 12503.698459159883 Accuracy: 0.7511  test :  0.751  Prule Train :  nan  Prule test :  nan\n"
          ],
          "name": "stdout"
        },
        {
          "output_type": "stream",
          "text": [
            "FAGTB/functions.py:131: RuntimeWarning: invalid value encountered in double_scalars\n",
            "  odds = y_z_1.mean() / y_z_0.mean()\n",
            "FAGTB/functions.py:131: RuntimeWarning: invalid value encountered in double_scalars\n",
            "  odds = y_z_1.mean() / y_z_0.mean()\n",
            "FAGTB/functions.py:131: RuntimeWarning: invalid value encountered in double_scalars\n",
            "  odds = y_z_1.mean() / y_z_0.mean()\n",
            "FAGTB/functions.py:131: RuntimeWarning: invalid value encountered in double_scalars\n",
            "  odds = y_z_1.mean() / y_z_0.mean()\n"
          ],
          "name": "stderr"
        },
        {
          "output_type": "stream",
          "text": [
            "15 18897.509794060352 11073.6129456119 13908.239414720952 Accuracy: 0.7511  test :  0.751  Prule Train :  nan  Prule test :  nan\n"
          ],
          "name": "stdout"
        },
        {
          "output_type": "stream",
          "text": [
            "FAGTB/functions.py:131: RuntimeWarning: invalid value encountered in double_scalars\n",
            "  odds = y_z_1.mean() / y_z_0.mean()\n",
            "FAGTB/functions.py:131: RuntimeWarning: invalid value encountered in double_scalars\n",
            "  odds = y_z_1.mean() / y_z_0.mean()\n",
            "FAGTB/functions.py:131: RuntimeWarning: invalid value encountered in double_scalars\n",
            "  odds = y_z_1.mean() / y_z_0.mean()\n",
            "FAGTB/functions.py:131: RuntimeWarning: invalid value encountered in double_scalars\n",
            "  odds = y_z_1.mean() / y_z_0.mean()\n",
            "FAGTB/functions.py:131: RuntimeWarning: invalid value encountered in double_scalars\n",
            "  odds = y_z_1.mean() / y_z_0.mean()\n",
            "FAGTB/functions.py:131: RuntimeWarning: invalid value encountered in double_scalars\n",
            "  odds = y_z_1.mean() / y_z_0.mean()\n",
            "FAGTB/functions.py:131: RuntimeWarning: invalid value encountered in double_scalars\n",
            "  odds = y_z_1.mean() / y_z_0.mean()\n",
            "FAGTB/functions.py:131: RuntimeWarning: invalid value encountered in double_scalars\n",
            "  odds = y_z_1.mean() / y_z_0.mean()\n"
          ],
          "name": "stderr"
        },
        {
          "output_type": "stream",
          "text": [
            "20 33052.846312616435 11012.968266048 15970.895212940464 Accuracy: 0.7511  test :  0.751  Prule Train :  nan  Prule test :  nan\n"
          ],
          "name": "stdout"
        },
        {
          "output_type": "stream",
          "text": [
            "FAGTB/functions.py:131: RuntimeWarning: invalid value encountered in double_scalars\n",
            "  odds = y_z_1.mean() / y_z_0.mean()\n",
            "FAGTB/functions.py:131: RuntimeWarning: invalid value encountered in double_scalars\n",
            "  odds = y_z_1.mean() / y_z_0.mean()\n",
            "FAGTB/functions.py:131: RuntimeWarning: invalid value encountered in double_scalars\n",
            "  odds = y_z_1.mean() / y_z_0.mean()\n",
            "FAGTB/functions.py:131: RuntimeWarning: invalid value encountered in double_scalars\n",
            "  odds = y_z_1.mean() / y_z_0.mean()\n"
          ],
          "name": "stderr"
        },
        {
          "output_type": "stream",
          "text": [
            "25 14626.212711954624 10945.298835463793 13139.230742256987 Accuracy: 0.7511  test :  0.751  Prule Train :  nan  Prule test :  nan\n"
          ],
          "name": "stdout"
        },
        {
          "output_type": "stream",
          "text": [
            "FAGTB/functions.py:131: RuntimeWarning: invalid value encountered in double_scalars\n",
            "  odds = y_z_1.mean() / y_z_0.mean()\n",
            "FAGTB/functions.py:131: RuntimeWarning: invalid value encountered in double_scalars\n",
            "  odds = y_z_1.mean() / y_z_0.mean()\n",
            "FAGTB/functions.py:131: RuntimeWarning: invalid value encountered in double_scalars\n",
            "  odds = y_z_1.mean() / y_z_0.mean()\n",
            "FAGTB/functions.py:131: RuntimeWarning: invalid value encountered in double_scalars\n",
            "  odds = y_z_1.mean() / y_z_0.mean()\n"
          ],
          "name": "stderr"
        },
        {
          "output_type": "stream",
          "text": [
            "30 16898.596333146317 10889.672808473164 13424.462258445114 Accuracy: 0.7511  test :  0.751  Prule Train :  nan  Prule test :  nan\n"
          ],
          "name": "stdout"
        },
        {
          "output_type": "stream",
          "text": [
            "FAGTB/functions.py:131: RuntimeWarning: invalid value encountered in double_scalars\n",
            "  odds = y_z_1.mean() / y_z_0.mean()\n",
            "FAGTB/functions.py:131: RuntimeWarning: invalid value encountered in double_scalars\n",
            "  odds = y_z_1.mean() / y_z_0.mean()\n",
            "FAGTB/functions.py:131: RuntimeWarning: invalid value encountered in double_scalars\n",
            "  odds = y_z_1.mean() / y_z_0.mean()\n",
            "FAGTB/functions.py:131: RuntimeWarning: invalid value encountered in double_scalars\n",
            "  odds = y_z_1.mean() / y_z_0.mean()\n"
          ],
          "name": "stderr"
        },
        {
          "output_type": "stream",
          "text": [
            "35 41232.262058988366 10831.468665403041 17016.307974251296 Accuracy: 0.7511  test :  0.751  Prule Train :  nan  Prule test :  nan\n"
          ],
          "name": "stdout"
        },
        {
          "output_type": "stream",
          "text": [
            "FAGTB/functions.py:131: RuntimeWarning: invalid value encountered in double_scalars\n",
            "  odds = y_z_1.mean() / y_z_0.mean()\n",
            "FAGTB/functions.py:131: RuntimeWarning: invalid value encountered in double_scalars\n",
            "  odds = y_z_1.mean() / y_z_0.mean()\n",
            "FAGTB/functions.py:131: RuntimeWarning: invalid value encountered in double_scalars\n",
            "  odds = y_z_1.mean() / y_z_0.mean()\n",
            "FAGTB/functions.py:131: RuntimeWarning: invalid value encountered in double_scalars\n",
            "  odds = y_z_1.mean() / y_z_0.mean()\n",
            "FAGTB/functions.py:131: RuntimeWarning: invalid value encountered in double_scalars\n",
            "  odds = y_z_1.mean() / y_z_0.mean()\n",
            "FAGTB/functions.py:131: RuntimeWarning: invalid value encountered in double_scalars\n",
            "  odds = y_z_1.mean() / y_z_0.mean()\n",
            "FAGTB/functions.py:131: RuntimeWarning: invalid value encountered in double_scalars\n",
            "  odds = y_z_1.mean() / y_z_0.mean()\n",
            "FAGTB/functions.py:131: RuntimeWarning: invalid value encountered in double_scalars\n",
            "  odds = y_z_1.mean() / y_z_0.mean()\n"
          ],
          "name": "stderr"
        },
        {
          "output_type": "stream",
          "text": [
            "40 1063.0959617688748 10771.069363524488 10930.53375778982 Accuracy: 0.7511  test :  0.751  Prule Train :  nan  Prule test :  nan\n"
          ],
          "name": "stdout"
        },
        {
          "output_type": "stream",
          "text": [
            "FAGTB/functions.py:131: RuntimeWarning: invalid value encountered in double_scalars\n",
            "  odds = y_z_1.mean() / y_z_0.mean()\n",
            "FAGTB/functions.py:131: RuntimeWarning: invalid value encountered in double_scalars\n",
            "  odds = y_z_1.mean() / y_z_0.mean()\n",
            "FAGTB/functions.py:131: RuntimeWarning: invalid value encountered in double_scalars\n",
            "  odds = y_z_1.mean() / y_z_0.mean()\n",
            "FAGTB/functions.py:131: RuntimeWarning: invalid value encountered in double_scalars\n",
            "  odds = y_z_1.mean() / y_z_0.mean()\n"
          ],
          "name": "stderr"
        },
        {
          "output_type": "stream",
          "text": [
            "45 14654.512501403222 10715.385188342103 12913.562063552585 Accuracy: 0.7511  test :  0.751  Prule Train :  nan  Prule test :  nan\n"
          ],
          "name": "stdout"
        },
        {
          "output_type": "stream",
          "text": [
            "FAGTB/functions.py:131: RuntimeWarning: invalid value encountered in double_scalars\n",
            "  odds = y_z_1.mean() / y_z_0.mean()\n",
            "FAGTB/functions.py:131: RuntimeWarning: invalid value encountered in double_scalars\n",
            "  odds = y_z_1.mean() / y_z_0.mean()\n",
            "FAGTB/functions.py:131: RuntimeWarning: invalid value encountered in double_scalars\n",
            "  odds = y_z_1.mean() / y_z_0.mean()\n",
            "FAGTB/functions.py:131: RuntimeWarning: invalid value encountered in double_scalars\n",
            "  odds = y_z_1.mean() / y_z_0.mean()\n"
          ],
          "name": "stderr"
        },
        {
          "output_type": "stream",
          "text": [
            "50 39557.15062242698 10659.426863043089 16592.999456407135 Accuracy: 0.7511  test :  0.751  Prule Train :  nan  Prule test :  nan\n"
          ],
          "name": "stdout"
        },
        {
          "output_type": "stream",
          "text": [
            "FAGTB/functions.py:131: RuntimeWarning: invalid value encountered in double_scalars\n",
            "  odds = y_z_1.mean() / y_z_0.mean()\n",
            "FAGTB/functions.py:131: RuntimeWarning: invalid value encountered in double_scalars\n",
            "  odds = y_z_1.mean() / y_z_0.mean()\n",
            "FAGTB/functions.py:131: RuntimeWarning: invalid value encountered in double_scalars\n",
            "  odds = y_z_1.mean() / y_z_0.mean()\n",
            "FAGTB/functions.py:131: RuntimeWarning: invalid value encountered in double_scalars\n",
            "  odds = y_z_1.mean() / y_z_0.mean()\n"
          ],
          "name": "stderr"
        },
        {
          "output_type": "stream",
          "text": [
            "55 6258.567710069239 10602.138230813245 11540.923387323632 Accuracy: 0.7511  test :  0.751  Prule Train :  nan  Prule test :  nan\n"
          ],
          "name": "stdout"
        },
        {
          "output_type": "stream",
          "text": [
            "FAGTB/functions.py:131: RuntimeWarning: invalid value encountered in double_scalars\n",
            "  odds = y_z_1.mean() / y_z_0.mean()\n",
            "FAGTB/functions.py:131: RuntimeWarning: invalid value encountered in double_scalars\n",
            "  odds = y_z_1.mean() / y_z_0.mean()\n",
            "FAGTB/functions.py:131: RuntimeWarning: invalid value encountered in double_scalars\n",
            "  odds = y_z_1.mean() / y_z_0.mean()\n",
            "FAGTB/functions.py:131: RuntimeWarning: invalid value encountered in double_scalars\n",
            "  odds = y_z_1.mean() / y_z_0.mean()\n",
            "FAGTB/functions.py:131: RuntimeWarning: invalid value encountered in double_scalars\n",
            "  odds = y_z_1.mean() / y_z_0.mean()\n",
            "FAGTB/functions.py:131: RuntimeWarning: invalid value encountered in double_scalars\n",
            "  odds = y_z_1.mean() / y_z_0.mean()\n",
            "FAGTB/functions.py:131: RuntimeWarning: invalid value encountered in double_scalars\n",
            "  odds = y_z_1.mean() / y_z_0.mean()\n",
            "FAGTB/functions.py:131: RuntimeWarning: invalid value encountered in double_scalars\n",
            "  odds = y_z_1.mean() / y_z_0.mean()\n"
          ],
          "name": "stderr"
        },
        {
          "output_type": "stream",
          "text": [
            "60 19767.003429063534 10554.94855935998 13519.999073719511 Accuracy: 0.7511  test :  0.751  Prule Train :  nan  Prule test :  nan\n"
          ],
          "name": "stdout"
        },
        {
          "output_type": "stream",
          "text": [
            "FAGTB/functions.py:131: RuntimeWarning: invalid value encountered in double_scalars\n",
            "  odds = y_z_1.mean() / y_z_0.mean()\n",
            "FAGTB/functions.py:131: RuntimeWarning: invalid value encountered in double_scalars\n",
            "  odds = y_z_1.mean() / y_z_0.mean()\n",
            "FAGTB/functions.py:131: RuntimeWarning: invalid value encountered in double_scalars\n",
            "  odds = y_z_1.mean() / y_z_0.mean()\n",
            "FAGTB/functions.py:131: RuntimeWarning: invalid value encountered in double_scalars\n",
            "  odds = y_z_1.mean() / y_z_0.mean()\n"
          ],
          "name": "stderr"
        },
        {
          "output_type": "stream",
          "text": [
            "65 34446.17225935602 10503.274850901767 15670.20068980517 Accuracy: 0.7511  test :  0.751  Prule Train :  nan  Prule test :  nan\n"
          ],
          "name": "stdout"
        },
        {
          "output_type": "stream",
          "text": [
            "FAGTB/functions.py:131: RuntimeWarning: invalid value encountered in double_scalars\n",
            "  odds = y_z_1.mean() / y_z_0.mean()\n",
            "FAGTB/functions.py:131: RuntimeWarning: invalid value encountered in double_scalars\n",
            "  odds = y_z_1.mean() / y_z_0.mean()\n",
            "FAGTB/functions.py:131: RuntimeWarning: invalid value encountered in double_scalars\n",
            "  odds = y_z_1.mean() / y_z_0.mean()\n",
            "FAGTB/functions.py:131: RuntimeWarning: invalid value encountered in double_scalars\n",
            "  odds = y_z_1.mean() / y_z_0.mean()\n"
          ],
          "name": "stderr"
        },
        {
          "output_type": "stream",
          "text": [
            "70 19887.86716620942 10444.452600561104 13427.632675492518 Accuracy: 0.7511  test :  0.751  Prule Train :  nan  Prule test :  nan\n"
          ],
          "name": "stdout"
        },
        {
          "output_type": "stream",
          "text": [
            "FAGTB/functions.py:131: RuntimeWarning: invalid value encountered in double_scalars\n",
            "  odds = y_z_1.mean() / y_z_0.mean()\n",
            "FAGTB/functions.py:131: RuntimeWarning: invalid value encountered in double_scalars\n",
            "  odds = y_z_1.mean() / y_z_0.mean()\n",
            "FAGTB/functions.py:131: RuntimeWarning: invalid value encountered in double_scalars\n",
            "  odds = y_z_1.mean() / y_z_0.mean()\n",
            "FAGTB/functions.py:131: RuntimeWarning: invalid value encountered in double_scalars\n",
            "  odds = y_z_1.mean() / y_z_0.mean()\n"
          ],
          "name": "stderr"
        },
        {
          "output_type": "stream",
          "text": [
            "75 15996.620684357955 10396.989317764359 12796.482420418055 Accuracy: 0.7511  test :  0.751  Prule Train :  nan  Prule test :  nan\n"
          ],
          "name": "stdout"
        },
        {
          "output_type": "stream",
          "text": [
            "FAGTB/functions.py:131: RuntimeWarning: invalid value encountered in double_scalars\n",
            "  odds = y_z_1.mean() / y_z_0.mean()\n",
            "FAGTB/functions.py:131: RuntimeWarning: invalid value encountered in double_scalars\n",
            "  odds = y_z_1.mean() / y_z_0.mean()\n",
            "FAGTB/functions.py:131: RuntimeWarning: invalid value encountered in double_scalars\n",
            "  odds = y_z_1.mean() / y_z_0.mean()\n",
            "FAGTB/functions.py:131: RuntimeWarning: invalid value encountered in double_scalars\n",
            "  odds = y_z_1.mean() / y_z_0.mean()\n",
            "FAGTB/functions.py:131: RuntimeWarning: invalid value encountered in double_scalars\n",
            "  odds = y_z_1.mean() / y_z_0.mean()\n",
            "FAGTB/functions.py:131: RuntimeWarning: invalid value encountered in double_scalars\n",
            "  odds = y_z_1.mean() / y_z_0.mean()\n",
            "FAGTB/functions.py:131: RuntimeWarning: invalid value encountered in double_scalars\n",
            "  odds = y_z_1.mean() / y_z_0.mean()\n",
            "FAGTB/functions.py:131: RuntimeWarning: invalid value encountered in double_scalars\n",
            "  odds = y_z_1.mean() / y_z_0.mean()\n"
          ],
          "name": "stderr"
        },
        {
          "output_type": "stream",
          "text": [
            "80 42019.046743515464 10348.096724319645 16650.953735846964 Accuracy: 0.7511  test :  0.751  Prule Train :  nan  Prule test :  nan\n"
          ],
          "name": "stdout"
        },
        {
          "output_type": "stream",
          "text": [
            "FAGTB/functions.py:131: RuntimeWarning: invalid value encountered in double_scalars\n",
            "  odds = y_z_1.mean() / y_z_0.mean()\n",
            "FAGTB/functions.py:131: RuntimeWarning: invalid value encountered in double_scalars\n",
            "  odds = y_z_1.mean() / y_z_0.mean()\n",
            "FAGTB/functions.py:131: RuntimeWarning: invalid value encountered in double_scalars\n",
            "  odds = y_z_1.mean() / y_z_0.mean()\n",
            "FAGTB/functions.py:131: RuntimeWarning: invalid value encountered in double_scalars\n",
            "  odds = y_z_1.mean() / y_z_0.mean()\n"
          ],
          "name": "stderr"
        },
        {
          "output_type": "stream",
          "text": [
            "85 5713.276460615163 10297.431999024559 11154.423468116835 Accuracy: 0.7511  test :  0.751  Prule Train :  nan  Prule test :  nan\n"
          ],
          "name": "stdout"
        },
        {
          "output_type": "stream",
          "text": [
            "FAGTB/functions.py:131: RuntimeWarning: invalid value encountered in double_scalars\n",
            "  odds = y_z_1.mean() / y_z_0.mean()\n",
            "FAGTB/functions.py:131: RuntimeWarning: invalid value encountered in double_scalars\n",
            "  odds = y_z_1.mean() / y_z_0.mean()\n",
            "FAGTB/functions.py:131: RuntimeWarning: invalid value encountered in double_scalars\n",
            "  odds = y_z_1.mean() / y_z_0.mean()\n",
            "FAGTB/functions.py:131: RuntimeWarning: invalid value encountered in double_scalars\n",
            "  odds = y_z_1.mean() / y_z_0.mean()\n"
          ],
          "name": "stderr"
        },
        {
          "output_type": "stream",
          "text": [
            "90 13360.19955539183 10251.899395564977 12255.929328873752 Accuracy: 0.7511  test :  0.751  Prule Train :  nan  Prule test :  nan\n"
          ],
          "name": "stdout"
        },
        {
          "output_type": "stream",
          "text": [
            "FAGTB/functions.py:131: RuntimeWarning: invalid value encountered in double_scalars\n",
            "  odds = y_z_1.mean() / y_z_0.mean()\n",
            "FAGTB/functions.py:131: RuntimeWarning: invalid value encountered in double_scalars\n",
            "  odds = y_z_1.mean() / y_z_0.mean()\n",
            "FAGTB/functions.py:131: RuntimeWarning: invalid value encountered in double_scalars\n",
            "  odds = y_z_1.mean() / y_z_0.mean()\n",
            "FAGTB/functions.py:131: RuntimeWarning: invalid value encountered in double_scalars\n",
            "  odds = y_z_1.mean() / y_z_0.mean()\n"
          ],
          "name": "stderr"
        },
        {
          "output_type": "stream",
          "text": [
            "95 40001.74566835895 10204.552803246372 16204.814653500214 Accuracy: 0.7511  test :  0.751  Prule Train :  nan  Prule test :  nan\n"
          ],
          "name": "stdout"
        },
        {
          "output_type": "stream",
          "text": [
            "FAGTB/functions.py:131: RuntimeWarning: invalid value encountered in double_scalars\n",
            "  odds = y_z_1.mean() / y_z_0.mean()\n",
            "FAGTB/functions.py:131: RuntimeWarning: invalid value encountered in double_scalars\n",
            "  odds = y_z_1.mean() / y_z_0.mean()\n",
            "FAGTB/functions.py:131: RuntimeWarning: invalid value encountered in double_scalars\n",
            "  odds = y_z_1.mean() / y_z_0.mean()\n",
            "FAGTB/functions.py:132: RuntimeWarning: divide by zero encountered in double_scalars\n",
            "  return np.min([odds, 1/odds]) * 100\n",
            "FAGTB/functions.py:131: RuntimeWarning: invalid value encountered in double_scalars\n",
            "  odds = y_z_1.mean() / y_z_0.mean()\n",
            "FAGTB/functions.py:132: RuntimeWarning: divide by zero encountered in double_scalars\n",
            "  return np.min([odds, 1/odds]) * 100\n",
            "FAGTB/functions.py:131: RuntimeWarning: invalid value encountered in double_scalars\n",
            "  odds = y_z_1.mean() / y_z_0.mean()\n",
            "FAGTB/functions.py:132: RuntimeWarning: divide by zero encountered in double_scalars\n",
            "  return np.min([odds, 1/odds]) * 100\n",
            "FAGTB/functions.py:132: RuntimeWarning: divide by zero encountered in double_scalars\n",
            "  return np.min([odds, 1/odds]) * 100\n",
            "FAGTB/functions.py:132: RuntimeWarning: divide by zero encountered in double_scalars\n",
            "  return np.min([odds, 1/odds]) * 100\n"
          ],
          "name": "stderr"
        },
        {
          "output_type": "stream",
          "text": [
            "100 13247.230305999476 10155.069081215177 12142.153627115098 Accuracy: 0.7512  test :  0.751  Prule Train :  0.0  Prule test :  nan\n"
          ],
          "name": "stdout"
        },
        {
          "output_type": "stream",
          "text": [
            "FAGTB/functions.py:132: RuntimeWarning: divide by zero encountered in double_scalars\n",
            "  return np.min([odds, 1/odds]) * 100\n",
            "FAGTB/functions.py:132: RuntimeWarning: divide by zero encountered in double_scalars\n",
            "  return np.min([odds, 1/odds]) * 100\n",
            "FAGTB/functions.py:132: RuntimeWarning: divide by zero encountered in double_scalars\n",
            "  return np.min([odds, 1/odds]) * 100\n",
            "FAGTB/functions.py:132: RuntimeWarning: divide by zero encountered in double_scalars\n",
            "  return np.min([odds, 1/odds]) * 100\n"
          ],
          "name": "stderr"
        },
        {
          "output_type": "stream",
          "text": [
            "105 14776.341401717602 10116.710182052131 12333.16139230977 Accuracy: 0.7543  test :  0.7535  Prule Train :  0.0  Prule test :  0.0\n"
          ],
          "name": "stdout"
        },
        {
          "output_type": "stream",
          "text": [
            "FAGTB/functions.py:132: RuntimeWarning: divide by zero encountered in double_scalars\n",
            "  return np.min([odds, 1/odds]) * 100\n",
            "FAGTB/functions.py:132: RuntimeWarning: divide by zero encountered in double_scalars\n",
            "  return np.min([odds, 1/odds]) * 100\n",
            "FAGTB/functions.py:132: RuntimeWarning: divide by zero encountered in double_scalars\n",
            "  return np.min([odds, 1/odds]) * 100\n",
            "FAGTB/functions.py:132: RuntimeWarning: divide by zero encountered in double_scalars\n",
            "  return np.min([odds, 1/odds]) * 100\n"
          ],
          "name": "stderr"
        },
        {
          "output_type": "stream",
          "text": [
            "110 41981.2113192526 10074.908659823599 16372.090357711488 Accuracy: 0.7551  test :  0.7543  Prule Train :  0.0  Prule test :  0.0\n"
          ],
          "name": "stdout"
        },
        {
          "output_type": "stream",
          "text": [
            "FAGTB/functions.py:132: RuntimeWarning: divide by zero encountered in double_scalars\n",
            "  return np.min([odds, 1/odds]) * 100\n",
            "FAGTB/functions.py:132: RuntimeWarning: divide by zero encountered in double_scalars\n",
            "  return np.min([odds, 1/odds]) * 100\n",
            "FAGTB/functions.py:132: RuntimeWarning: divide by zero encountered in double_scalars\n",
            "  return np.min([odds, 1/odds]) * 100\n",
            "FAGTB/functions.py:132: RuntimeWarning: divide by zero encountered in double_scalars\n",
            "  return np.min([odds, 1/odds]) * 100\n"
          ],
          "name": "stderr"
        },
        {
          "output_type": "stream",
          "text": [
            "115 10030.115823955191 10030.323013744119 11534.840387337399 Accuracy: 0.7562  test :  0.7548  Prule Train :  0.0  Prule test :  0.0\n"
          ],
          "name": "stdout"
        },
        {
          "output_type": "stream",
          "text": [
            "FAGTB/functions.py:132: RuntimeWarning: divide by zero encountered in double_scalars\n",
            "  return np.min([odds, 1/odds]) * 100\n",
            "FAGTB/functions.py:132: RuntimeWarning: divide by zero encountered in double_scalars\n",
            "  return np.min([odds, 1/odds]) * 100\n",
            "FAGTB/functions.py:132: RuntimeWarning: divide by zero encountered in double_scalars\n",
            "  return np.min([odds, 1/odds]) * 100\n",
            "FAGTB/functions.py:132: RuntimeWarning: divide by zero encountered in double_scalars\n",
            "  return np.min([odds, 1/odds]) * 100\n",
            "FAGTB/functions.py:132: RuntimeWarning: divide by zero encountered in double_scalars\n",
            "  return np.min([odds, 1/odds]) * 100\n",
            "FAGTB/functions.py:132: RuntimeWarning: divide by zero encountered in double_scalars\n",
            "  return np.min([odds, 1/odds]) * 100\n",
            "FAGTB/functions.py:132: RuntimeWarning: divide by zero encountered in double_scalars\n",
            "  return np.min([odds, 1/odds]) * 100\n",
            "FAGTB/functions.py:132: RuntimeWarning: divide by zero encountered in double_scalars\n",
            "  return np.min([odds, 1/odds]) * 100\n"
          ],
          "name": "stderr"
        },
        {
          "output_type": "stream",
          "text": [
            "120 10385.374630500773 9987.622079980409 11545.428274555527 Accuracy: 0.7575  test :  0.7554  Prule Train :  0.0  Prule test :  0.0\n"
          ],
          "name": "stdout"
        },
        {
          "output_type": "stream",
          "text": [
            "FAGTB/functions.py:132: RuntimeWarning: divide by zero encountered in double_scalars\n",
            "  return np.min([odds, 1/odds]) * 100\n",
            "FAGTB/functions.py:132: RuntimeWarning: divide by zero encountered in double_scalars\n",
            "  return np.min([odds, 1/odds]) * 100\n",
            "FAGTB/functions.py:132: RuntimeWarning: divide by zero encountered in double_scalars\n",
            "  return np.min([odds, 1/odds]) * 100\n",
            "FAGTB/functions.py:132: RuntimeWarning: divide by zero encountered in double_scalars\n",
            "  return np.min([odds, 1/odds]) * 100\n"
          ],
          "name": "stderr"
        },
        {
          "output_type": "stream",
          "text": [
            "125 38403.11087913376 9947.164563310938 15707.631195181 Accuracy: 0.7589  test :  0.7561  Prule Train :  0.0  Prule test :  0.0\n"
          ],
          "name": "stdout"
        },
        {
          "output_type": "stream",
          "text": [
            "FAGTB/functions.py:132: RuntimeWarning: divide by zero encountered in double_scalars\n",
            "  return np.min([odds, 1/odds]) * 100\n",
            "FAGTB/functions.py:132: RuntimeWarning: divide by zero encountered in double_scalars\n",
            "  return np.min([odds, 1/odds]) * 100\n",
            "FAGTB/functions.py:132: RuntimeWarning: divide by zero encountered in double_scalars\n",
            "  return np.min([odds, 1/odds]) * 100\n",
            "FAGTB/functions.py:132: RuntimeWarning: divide by zero encountered in double_scalars\n",
            "  return np.min([odds, 1/odds]) * 100\n"
          ],
          "name": "stderr"
        },
        {
          "output_type": "stream",
          "text": [
            "130 20889.785274434027 9902.844077832735 13036.31186899784 Accuracy: 0.7596  test :  0.757  Prule Train :  0.0  Prule test :  0.0\n"
          ],
          "name": "stdout"
        },
        {
          "output_type": "stream",
          "text": [
            "FAGTB/functions.py:132: RuntimeWarning: divide by zero encountered in double_scalars\n",
            "  return np.min([odds, 1/odds]) * 100\n",
            "FAGTB/functions.py:132: RuntimeWarning: divide by zero encountered in double_scalars\n",
            "  return np.min([odds, 1/odds]) * 100\n",
            "FAGTB/functions.py:132: RuntimeWarning: divide by zero encountered in double_scalars\n",
            "  return np.min([odds, 1/odds]) * 100\n",
            "FAGTB/functions.py:132: RuntimeWarning: divide by zero encountered in double_scalars\n",
            "  return np.min([odds, 1/odds]) * 100\n"
          ],
          "name": "stderr"
        },
        {
          "output_type": "stream",
          "text": [
            "135 18032.51164126417 9873.138526371044 12578.015272560668 Accuracy: 0.7606  test :  0.7583  Prule Train :  0.0  Prule test :  0.011121929363513385\n"
          ],
          "name": "stdout"
        },
        {
          "output_type": "stream",
          "text": [
            "FAGTB/functions.py:132: RuntimeWarning: divide by zero encountered in double_scalars\n",
            "  return np.min([odds, 1/odds]) * 100\n",
            "FAGTB/functions.py:132: RuntimeWarning: divide by zero encountered in double_scalars\n",
            "  return np.min([odds, 1/odds]) * 100\n"
          ],
          "name": "stderr"
        },
        {
          "output_type": "stream",
          "text": [
            "140 35661.287373135194 9831.576770660693 15180.769876630971 Accuracy: 0.7622  test :  0.76  Prule Train :  0.0020236684308033515  Prule test :  0.03939016649577658\n",
            "145 28413.37962276088 9786.952792254071 14048.959735668202 Accuracy: 0.7649  test :  0.7621  Prule Train :  0.016793637325069482  Prule test :  0.07944235259652419\n",
            "150 15627.12227762097 9757.167311944455 12101.235653587599 Accuracy: 0.7667  test :  0.7641  Prule Train :  0.033914955378433004  Prule test :  0.08862787461549729\n",
            "155 45054.50108599174 9726.496526798814 16484.67168969757 Accuracy: 0.7691  test :  0.7662  Prule Train :  0.06253082056236953  Prule test :  0.10009736427162047\n",
            "160 35326.61520674923 9684.927576441587 14983.91985745397 Accuracy: 0.7704  test :  0.7671  Prule Train :  0.07213462604567741  Prule test :  0.09989671090681482\n",
            "165 13077.568872006043 9654.880576974841 11616.515907775749 Accuracy: 0.7723  test :  0.7678  Prule Train :  0.08406674973380152  Prule test :  0.1067346446982333\n",
            "170 43551.29286489899 9624.899826105897 16157.593755840746 Accuracy: 0.7821  test :  0.7766  Prule Train :  0.26050823127389616  Prule test :  0.2641458223834429\n",
            "175 15702.559160162673 9592.47137077242 11947.855244796823 Accuracy: 0.7924  test :  0.7869  Prule Train :  0.442866426230266  Prule test :  0.43486743811337336\n",
            "180 15255.223835895526 9573.251626820205 11861.535202204534 Accuracy: 0.7959  test :  0.7912  Prule Train :  0.4930118179206471  Prule test :  0.47978999791848154\n",
            "185 46084.86327850835 9549.025503840105 16461.754995616357 Accuracy: 0.8025  test :  0.7976  Prule Train :  0.6077649034050805  Prule test :  0.5689372411680892\n",
            "190 13201.288177924656 9522.13006467984 11502.323291368539 Accuracy: 0.8056  test :  0.8001  Prule Train :  0.6508357072316762  Prule test :  0.5975099903655122\n",
            "195 13357.286353282827 9505.624447648885 11509.217400641308 Accuracy: 0.8074  test :  0.8021  Prule Train :  0.6640615836334401  Prule test :  0.6112267214861882\n",
            "200 44484.01446832878 9484.316086190956 16156.918256440273 Accuracy: 0.8115  test :  0.8069  Prule Train :  0.7141297129786763  Prule test :  0.6752599970704555\n",
            "205 19371.088998365107 9456.761574824532 12362.424924579296 Accuracy: 0.8143  test :  0.8089  Prule Train :  0.7402407622554016  Prule test :  0.7010920909181172\n",
            "210 21837.18390667987 9448.127221182549 12723.70480718453 Accuracy: 0.8155  test :  0.8104  Prule Train :  0.7120288634257758  Prule test :  0.6756833575701863\n",
            "215 46709.54065127665 9430.783584200235 16437.214681891735 Accuracy: 0.8179  test :  0.8119  Prule Train :  0.7379739218903771  Prule test :  0.6795701672645222\n",
            "220 17736.49591972074 9407.093914142368 12067.568302100477 Accuracy: 0.8215  test :  0.8154  Prule Train :  0.786313129232701  Prule test :  0.7260055836766484\n",
            "225 14034.616286956156 9397.208436850726 11502.400879894149 Accuracy: 0.8232  test :  0.8172  Prule Train :  0.7943215260329732  Prule test :  0.7481800855114958\n",
            "230 45717.86094581303 9381.459306004515 16239.138447876467 Accuracy: 0.8254  test :  0.8197  Prule Train :  0.8116300051079073  Prule test :  0.7679389479577758\n",
            "235 22374.868075198476 9358.821707840581 12715.051919120353 Accuracy: 0.831  test :  0.8246  Prule Train :  0.8906610368374577  Prule test :  0.8482015852090555\n",
            "240 17133.40244331088 9352.616233044882 11922.626599541514 Accuracy: 0.8337  test :  0.8267  Prule Train :  0.9193421198258688  Prule test :  0.8878756447966936\n",
            "245 48425.473720854745 9342.09793690056 16605.91899502877 Accuracy: 0.8347  test :  0.829  Prule Train :  0.9311522572165627  Prule test :  0.8994604947854493\n",
            "250 36452.934456090625 9316.81524536814 14784.755413781735 Accuracy: 0.8365  test :  0.831  Prule Train :  0.962823327848758  Prule test :  0.9159744416219963\n",
            "255 14840.534342169602 9305.345551906436 11531.425703231875 Accuracy: 0.8374  test :  0.832  Prule Train :  0.9717103895145658  Prule test :  0.9111800110095348\n",
            "260 47453.87336324557 9295.03547478359 16413.116479270426 Accuracy: 0.8405  test :  0.8355  Prule Train :  0.9748766951415209  Prule test :  0.9579841463293234\n",
            "265 36532.124853213645 9271.706243761004 14751.524971743049 Accuracy: 0.8416  test :  0.8361  Prule Train :  0.956857715573058  Prule test :  0.9726998222860681\n",
            "270 15511.285410749117 9264.715636480156 11591.408448092523 Accuracy: 0.842  test :  0.8363  Prule Train :  0.951443177521479  Prule test :  0.9721828326617198\n",
            "275 43217.64024292346 9255.267633141655 15737.913669580174 Accuracy: 0.8444  test :  0.8383  Prule Train :  0.9266124480272208  Prule test :  0.9953487589001749\n",
            "280 33279.00464219806 9234.50295018237 14226.35364651208 Accuracy: 0.846  test :  0.8396  Prule Train :  0.899376313289889  Prule test :  0.9748944301266838\n",
            "285 16956.186866521664 9232.16307201221 11775.59110199046 Accuracy: 0.8465  test :  0.8398  Prule Train :  0.9021592260424217  Prule test :  0.9737733494818728\n",
            "290 43253.81801432593 9220.107084957235 15708.179787106126 Accuracy: 0.8488  test :  0.8409  Prule Train :  0.870560841462925  Prule test :  0.9521168535246225\n",
            "295 34596.92889363048 9202.088095736166 14391.627429780736 Accuracy: 0.8511  test :  0.8411  Prule Train :  0.8452562131597364  Prule test :  0.9382689139481668\n",
            "\n",
            "Results on test set :\n",
            "Accuracy: 0.8423513029639944\n",
            "PRULE :  93.8962289293661\n",
            "DI :  0.009709528903923265\n",
            "DispFPR :  0.044560560539655174\n",
            "DispFNR :  0.30078765585342837\n"
          ],
          "name": "stdout"
        },
        {
          "output_type": "stream",
          "text": [
            "FAGTB/functions.py:131: RuntimeWarning: invalid value encountered in double_scalars\n",
            "  odds = y_z_1.mean() / y_z_0.mean()\n",
            "FAGTB/functions.py:131: RuntimeWarning: invalid value encountered in double_scalars\n",
            "  odds = y_z_1.mean() / y_z_0.mean()\n",
            "FAGTB/functions.py:131: RuntimeWarning: invalid value encountered in double_scalars\n",
            "  odds = y_z_1.mean() / y_z_0.mean()\n",
            "FAGTB/functions.py:131: RuntimeWarning: invalid value encountered in double_scalars\n",
            "  odds = y_z_1.mean() / y_z_0.mean()\n"
          ],
          "name": "stderr"
        },
        {
          "output_type": "stream",
          "text": [
            "0 11664.573869916921 11303.567350376983 13053.25343086452 Accuracy: 0.7496  test :  0.7541  Prule Train :  nan  Prule test :  nan\n"
          ],
          "name": "stdout"
        },
        {
          "output_type": "stream",
          "text": [
            "FAGTB/functions.py:131: RuntimeWarning: invalid value encountered in double_scalars\n",
            "  odds = y_z_1.mean() / y_z_0.mean()\n",
            "FAGTB/functions.py:131: RuntimeWarning: invalid value encountered in double_scalars\n",
            "  odds = y_z_1.mean() / y_z_0.mean()\n",
            "FAGTB/functions.py:131: RuntimeWarning: invalid value encountered in double_scalars\n",
            "  odds = y_z_1.mean() / y_z_0.mean()\n",
            "FAGTB/functions.py:131: RuntimeWarning: invalid value encountered in double_scalars\n",
            "  odds = y_z_1.mean() / y_z_0.mean()\n"
          ],
          "name": "stderr"
        },
        {
          "output_type": "stream",
          "text": [
            "5 35151.76129460137 11230.514988001481 16503.279182191687 Accuracy: 0.7496  test :  0.7541  Prule Train :  nan  Prule test :  nan\n"
          ],
          "name": "stdout"
        },
        {
          "output_type": "stream",
          "text": [
            "FAGTB/functions.py:131: RuntimeWarning: invalid value encountered in double_scalars\n",
            "  odds = y_z_1.mean() / y_z_0.mean()\n",
            "FAGTB/functions.py:131: RuntimeWarning: invalid value encountered in double_scalars\n",
            "  odds = y_z_1.mean() / y_z_0.mean()\n",
            "FAGTB/functions.py:131: RuntimeWarning: invalid value encountered in double_scalars\n",
            "  odds = y_z_1.mean() / y_z_0.mean()\n",
            "FAGTB/functions.py:131: RuntimeWarning: invalid value encountered in double_scalars\n",
            "  odds = y_z_1.mean() / y_z_0.mean()\n"
          ],
          "name": "stderr"
        },
        {
          "output_type": "stream",
          "text": [
            "10 7780.7757047604655 11158.08288532214 12325.199241036207 Accuracy: 0.7496  test :  0.7541  Prule Train :  nan  Prule test :  nan\n"
          ],
          "name": "stdout"
        },
        {
          "output_type": "stream",
          "text": [
            "FAGTB/functions.py:131: RuntimeWarning: invalid value encountered in double_scalars\n",
            "  odds = y_z_1.mean() / y_z_0.mean()\n",
            "FAGTB/functions.py:131: RuntimeWarning: invalid value encountered in double_scalars\n",
            "  odds = y_z_1.mean() / y_z_0.mean()\n",
            "FAGTB/functions.py:131: RuntimeWarning: invalid value encountered in double_scalars\n",
            "  odds = y_z_1.mean() / y_z_0.mean()\n",
            "FAGTB/functions.py:131: RuntimeWarning: invalid value encountered in double_scalars\n",
            "  odds = y_z_1.mean() / y_z_0.mean()\n"
          ],
          "name": "stderr"
        },
        {
          "output_type": "stream",
          "text": [
            "15 20013.661478328682 11097.072730748356 14099.121952497657 Accuracy: 0.7496  test :  0.7541  Prule Train :  nan  Prule test :  nan\n"
          ],
          "name": "stdout"
        },
        {
          "output_type": "stream",
          "text": [
            "FAGTB/functions.py:131: RuntimeWarning: invalid value encountered in double_scalars\n",
            "  odds = y_z_1.mean() / y_z_0.mean()\n",
            "FAGTB/functions.py:131: RuntimeWarning: invalid value encountered in double_scalars\n",
            "  odds = y_z_1.mean() / y_z_0.mean()\n",
            "FAGTB/functions.py:131: RuntimeWarning: invalid value encountered in double_scalars\n",
            "  odds = y_z_1.mean() / y_z_0.mean()\n",
            "FAGTB/functions.py:131: RuntimeWarning: invalid value encountered in double_scalars\n",
            "  odds = y_z_1.mean() / y_z_0.mean()\n",
            "FAGTB/functions.py:131: RuntimeWarning: invalid value encountered in double_scalars\n",
            "  odds = y_z_1.mean() / y_z_0.mean()\n",
            "FAGTB/functions.py:131: RuntimeWarning: invalid value encountered in double_scalars\n",
            "  odds = y_z_1.mean() / y_z_0.mean()\n",
            "FAGTB/functions.py:131: RuntimeWarning: invalid value encountered in double_scalars\n",
            "  odds = y_z_1.mean() / y_z_0.mean()\n",
            "FAGTB/functions.py:131: RuntimeWarning: invalid value encountered in double_scalars\n",
            "  odds = y_z_1.mean() / y_z_0.mean()\n"
          ],
          "name": "stderr"
        },
        {
          "output_type": "stream",
          "text": [
            "20 35786.06729321751 11030.27996303052 16398.190057013144 Accuracy: 0.7496  test :  0.7541  Prule Train :  nan  Prule test :  nan\n"
          ],
          "name": "stdout"
        },
        {
          "output_type": "stream",
          "text": [
            "FAGTB/functions.py:131: RuntimeWarning: invalid value encountered in double_scalars\n",
            "  odds = y_z_1.mean() / y_z_0.mean()\n",
            "FAGTB/functions.py:131: RuntimeWarning: invalid value encountered in double_scalars\n",
            "  odds = y_z_1.mean() / y_z_0.mean()\n",
            "FAGTB/functions.py:131: RuntimeWarning: invalid value encountered in double_scalars\n",
            "  odds = y_z_1.mean() / y_z_0.mean()\n",
            "FAGTB/functions.py:131: RuntimeWarning: invalid value encountered in double_scalars\n",
            "  odds = y_z_1.mean() / y_z_0.mean()\n"
          ],
          "name": "stderr"
        },
        {
          "output_type": "stream",
          "text": [
            "25 8661.43756502835 10961.47787850625 12260.693513260503 Accuracy: 0.7496  test :  0.7541  Prule Train :  nan  Prule test :  nan\n"
          ],
          "name": "stdout"
        },
        {
          "output_type": "stream",
          "text": [
            "FAGTB/functions.py:131: RuntimeWarning: invalid value encountered in double_scalars\n",
            "  odds = y_z_1.mean() / y_z_0.mean()\n",
            "FAGTB/functions.py:131: RuntimeWarning: invalid value encountered in double_scalars\n",
            "  odds = y_z_1.mean() / y_z_0.mean()\n",
            "FAGTB/functions.py:131: RuntimeWarning: invalid value encountered in double_scalars\n",
            "  odds = y_z_1.mean() / y_z_0.mean()\n",
            "FAGTB/functions.py:131: RuntimeWarning: invalid value encountered in double_scalars\n",
            "  odds = y_z_1.mean() / y_z_0.mean()\n"
          ],
          "name": "stderr"
        },
        {
          "output_type": "stream",
          "text": [
            "30 20323.338887020556 10904.813802093633 13953.314635146715 Accuracy: 0.7496  test :  0.7541  Prule Train :  nan  Prule test :  nan\n"
          ],
          "name": "stdout"
        },
        {
          "output_type": "stream",
          "text": [
            "FAGTB/functions.py:131: RuntimeWarning: invalid value encountered in double_scalars\n",
            "  odds = y_z_1.mean() / y_z_0.mean()\n",
            "FAGTB/functions.py:131: RuntimeWarning: invalid value encountered in double_scalars\n",
            "  odds = y_z_1.mean() / y_z_0.mean()\n",
            "FAGTB/functions.py:131: RuntimeWarning: invalid value encountered in double_scalars\n",
            "  odds = y_z_1.mean() / y_z_0.mean()\n",
            "FAGTB/functions.py:131: RuntimeWarning: invalid value encountered in double_scalars\n",
            "  odds = y_z_1.mean() / y_z_0.mean()\n"
          ],
          "name": "stderr"
        },
        {
          "output_type": "stream",
          "text": [
            "35 41874.46579896886 10843.8402388581 17125.010108703427 Accuracy: 0.7496  test :  0.7541  Prule Train :  nan  Prule test :  nan\n"
          ],
          "name": "stdout"
        },
        {
          "output_type": "stream",
          "text": [
            "FAGTB/functions.py:131: RuntimeWarning: invalid value encountered in double_scalars\n",
            "  odds = y_z_1.mean() / y_z_0.mean()\n",
            "FAGTB/functions.py:131: RuntimeWarning: invalid value encountered in double_scalars\n",
            "  odds = y_z_1.mean() / y_z_0.mean()\n",
            "FAGTB/functions.py:131: RuntimeWarning: invalid value encountered in double_scalars\n",
            "  odds = y_z_1.mean() / y_z_0.mean()\n",
            "FAGTB/functions.py:131: RuntimeWarning: invalid value encountered in double_scalars\n",
            "  odds = y_z_1.mean() / y_z_0.mean()\n",
            "FAGTB/functions.py:131: RuntimeWarning: invalid value encountered in double_scalars\n",
            "  odds = y_z_1.mean() / y_z_0.mean()\n",
            "FAGTB/functions.py:131: RuntimeWarning: invalid value encountered in double_scalars\n",
            "  odds = y_z_1.mean() / y_z_0.mean()\n",
            "FAGTB/functions.py:131: RuntimeWarning: invalid value encountered in double_scalars\n",
            "  odds = y_z_1.mean() / y_z_0.mean()\n",
            "FAGTB/functions.py:131: RuntimeWarning: invalid value encountered in double_scalars\n",
            "  odds = y_z_1.mean() / y_z_0.mean()\n"
          ],
          "name": "stderr"
        },
        {
          "output_type": "stream",
          "text": [
            "40 6360.428654826936 10783.3072512629 11737.371549486941 Accuracy: 0.7496  test :  0.7541  Prule Train :  nan  Prule test :  nan\n"
          ],
          "name": "stdout"
        },
        {
          "output_type": "stream",
          "text": [
            "FAGTB/functions.py:131: RuntimeWarning: invalid value encountered in double_scalars\n",
            "  odds = y_z_1.mean() / y_z_0.mean()\n",
            "FAGTB/functions.py:131: RuntimeWarning: invalid value encountered in double_scalars\n",
            "  odds = y_z_1.mean() / y_z_0.mean()\n",
            "FAGTB/functions.py:131: RuntimeWarning: invalid value encountered in double_scalars\n",
            "  odds = y_z_1.mean() / y_z_0.mean()\n",
            "FAGTB/functions.py:131: RuntimeWarning: invalid value encountered in double_scalars\n",
            "  odds = y_z_1.mean() / y_z_0.mean()\n"
          ],
          "name": "stderr"
        },
        {
          "output_type": "stream",
          "text": [
            "45 20527.64019942363 10731.936163503924 13811.082193417471 Accuracy: 0.7496  test :  0.7541  Prule Train :  nan  Prule test :  nan\n"
          ],
          "name": "stdout"
        },
        {
          "output_type": "stream",
          "text": [
            "FAGTB/functions.py:131: RuntimeWarning: invalid value encountered in double_scalars\n",
            "  odds = y_z_1.mean() / y_z_0.mean()\n",
            "FAGTB/functions.py:131: RuntimeWarning: invalid value encountered in double_scalars\n",
            "  odds = y_z_1.mean() / y_z_0.mean()\n",
            "FAGTB/functions.py:131: RuntimeWarning: invalid value encountered in double_scalars\n",
            "  odds = y_z_1.mean() / y_z_0.mean()\n",
            "FAGTB/functions.py:131: RuntimeWarning: invalid value encountered in double_scalars\n",
            "  odds = y_z_1.mean() / y_z_0.mean()\n"
          ],
          "name": "stderr"
        },
        {
          "output_type": "stream",
          "text": [
            "50 42069.21332343279 10677.291400895085 16987.673399410003 Accuracy: 0.7496  test :  0.7541  Prule Train :  nan  Prule test :  nan\n"
          ],
          "name": "stdout"
        },
        {
          "output_type": "stream",
          "text": [
            "FAGTB/functions.py:131: RuntimeWarning: invalid value encountered in double_scalars\n",
            "  odds = y_z_1.mean() / y_z_0.mean()\n",
            "FAGTB/functions.py:131: RuntimeWarning: invalid value encountered in double_scalars\n",
            "  odds = y_z_1.mean() / y_z_0.mean()\n",
            "FAGTB/functions.py:131: RuntimeWarning: invalid value encountered in double_scalars\n",
            "  odds = y_z_1.mean() / y_z_0.mean()\n",
            "FAGTB/functions.py:131: RuntimeWarning: invalid value encountered in double_scalars\n",
            "  odds = y_z_1.mean() / y_z_0.mean()\n"
          ],
          "name": "stderr"
        },
        {
          "output_type": "stream",
          "text": [
            "55 3728.254076347001 10619.3338501176 11178.571961569649 Accuracy: 0.7496  test :  0.7541  Prule Train :  nan  Prule test :  nan\n"
          ],
          "name": "stdout"
        },
        {
          "output_type": "stream",
          "text": [
            "FAGTB/functions.py:131: RuntimeWarning: invalid value encountered in double_scalars\n",
            "  odds = y_z_1.mean() / y_z_0.mean()\n",
            "FAGTB/functions.py:131: RuntimeWarning: invalid value encountered in double_scalars\n",
            "  odds = y_z_1.mean() / y_z_0.mean()\n",
            "FAGTB/functions.py:131: RuntimeWarning: invalid value encountered in double_scalars\n",
            "  odds = y_z_1.mean() / y_z_0.mean()\n",
            "FAGTB/functions.py:131: RuntimeWarning: invalid value encountered in double_scalars\n",
            "  odds = y_z_1.mean() / y_z_0.mean()\n",
            "FAGTB/functions.py:131: RuntimeWarning: invalid value encountered in double_scalars\n",
            "  odds = y_z_1.mean() / y_z_0.mean()\n",
            "FAGTB/functions.py:131: RuntimeWarning: invalid value encountered in double_scalars\n",
            "  odds = y_z_1.mean() / y_z_0.mean()\n",
            "FAGTB/functions.py:131: RuntimeWarning: invalid value encountered in double_scalars\n",
            "  odds = y_z_1.mean() / y_z_0.mean()\n",
            "FAGTB/functions.py:131: RuntimeWarning: invalid value encountered in double_scalars\n",
            "  odds = y_z_1.mean() / y_z_0.mean()\n"
          ],
          "name": "stderr"
        },
        {
          "output_type": "stream",
          "text": [
            "60 18767.95580402256 10568.321995342689 13383.515365946072 Accuracy: 0.7496  test :  0.7541  Prule Train :  nan  Prule test :  nan\n"
          ],
          "name": "stdout"
        },
        {
          "output_type": "stream",
          "text": [
            "FAGTB/functions.py:131: RuntimeWarning: invalid value encountered in double_scalars\n",
            "  odds = y_z_1.mean() / y_z_0.mean()\n",
            "FAGTB/functions.py:131: RuntimeWarning: invalid value encountered in double_scalars\n",
            "  odds = y_z_1.mean() / y_z_0.mean()\n",
            "FAGTB/functions.py:131: RuntimeWarning: invalid value encountered in double_scalars\n",
            "  odds = y_z_1.mean() / y_z_0.mean()\n",
            "FAGTB/functions.py:131: RuntimeWarning: invalid value encountered in double_scalars\n",
            "  odds = y_z_1.mean() / y_z_0.mean()\n"
          ],
          "name": "stderr"
        },
        {
          "output_type": "stream",
          "text": [
            "65 30572.380527489164 10513.780618310888 15099.63769743426 Accuracy: 0.7496  test :  0.7541  Prule Train :  nan  Prule test :  nan\n"
          ],
          "name": "stdout"
        },
        {
          "output_type": "stream",
          "text": [
            "FAGTB/functions.py:131: RuntimeWarning: invalid value encountered in double_scalars\n",
            "  odds = y_z_1.mean() / y_z_0.mean()\n",
            "FAGTB/functions.py:131: RuntimeWarning: invalid value encountered in double_scalars\n",
            "  odds = y_z_1.mean() / y_z_0.mean()\n",
            "FAGTB/functions.py:131: RuntimeWarning: invalid value encountered in double_scalars\n",
            "  odds = y_z_1.mean() / y_z_0.mean()\n",
            "FAGTB/functions.py:131: RuntimeWarning: invalid value encountered in double_scalars\n",
            "  odds = y_z_1.mean() / y_z_0.mean()\n"
          ],
          "name": "stderr"
        },
        {
          "output_type": "stream",
          "text": [
            "70 27823.75237702936 10449.707297343783 14623.270153898187 Accuracy: 0.7496  test :  0.7541  Prule Train :  nan  Prule test :  nan\n"
          ],
          "name": "stdout"
        },
        {
          "output_type": "stream",
          "text": [
            "FAGTB/functions.py:131: RuntimeWarning: invalid value encountered in double_scalars\n",
            "  odds = y_z_1.mean() / y_z_0.mean()\n",
            "FAGTB/functions.py:131: RuntimeWarning: invalid value encountered in double_scalars\n",
            "  odds = y_z_1.mean() / y_z_0.mean()\n",
            "FAGTB/functions.py:131: RuntimeWarning: invalid value encountered in double_scalars\n",
            "  odds = y_z_1.mean() / y_z_0.mean()\n",
            "FAGTB/functions.py:131: RuntimeWarning: invalid value encountered in double_scalars\n",
            "  odds = y_z_1.mean() / y_z_0.mean()\n"
          ],
          "name": "stderr"
        },
        {
          "output_type": "stream",
          "text": [
            "75 12937.03386033645 10396.905316165214 12337.46039521568 Accuracy: 0.7496  test :  0.7541  Prule Train :  nan  Prule test :  nan\n"
          ],
          "name": "stdout"
        },
        {
          "output_type": "stream",
          "text": [
            "FAGTB/functions.py:131: RuntimeWarning: invalid value encountered in double_scalars\n",
            "  odds = y_z_1.mean() / y_z_0.mean()\n",
            "FAGTB/functions.py:131: RuntimeWarning: invalid value encountered in double_scalars\n",
            "  odds = y_z_1.mean() / y_z_0.mean()\n",
            "FAGTB/functions.py:131: RuntimeWarning: invalid value encountered in double_scalars\n",
            "  odds = y_z_1.mean() / y_z_0.mean()\n",
            "FAGTB/functions.py:131: RuntimeWarning: invalid value encountered in double_scalars\n",
            "  odds = y_z_1.mean() / y_z_0.mean()\n",
            "FAGTB/functions.py:131: RuntimeWarning: invalid value encountered in double_scalars\n",
            "  odds = y_z_1.mean() / y_z_0.mean()\n",
            "FAGTB/functions.py:131: RuntimeWarning: invalid value encountered in double_scalars\n",
            "  odds = y_z_1.mean() / y_z_0.mean()\n",
            "FAGTB/functions.py:131: RuntimeWarning: invalid value encountered in double_scalars\n",
            "  odds = y_z_1.mean() / y_z_0.mean()\n",
            "FAGTB/functions.py:131: RuntimeWarning: invalid value encountered in double_scalars\n",
            "  odds = y_z_1.mean() / y_z_0.mean()\n"
          ],
          "name": "stderr"
        },
        {
          "output_type": "stream",
          "text": [
            "80 39806.46563940543 10344.097123666004 16315.06696957682 Accuracy: 0.7496  test :  0.7541  Prule Train :  nan  Prule test :  nan\n"
          ],
          "name": "stdout"
        },
        {
          "output_type": "stream",
          "text": [
            "FAGTB/functions.py:131: RuntimeWarning: invalid value encountered in double_scalars\n",
            "  odds = y_z_1.mean() / y_z_0.mean()\n",
            "FAGTB/functions.py:131: RuntimeWarning: invalid value encountered in double_scalars\n",
            "  odds = y_z_1.mean() / y_z_0.mean()\n",
            "FAGTB/functions.py:131: RuntimeWarning: invalid value encountered in double_scalars\n",
            "  odds = y_z_1.mean() / y_z_0.mean()\n",
            "FAGTB/functions.py:131: RuntimeWarning: invalid value encountered in double_scalars\n",
            "  odds = y_z_1.mean() / y_z_0.mean()\n"
          ],
          "name": "stderr"
        },
        {
          "output_type": "stream",
          "text": [
            "85 10208.128703860606 10290.24657734083 11821.465882919922 Accuracy: 0.7496  test :  0.7541  Prule Train :  nan  Prule test :  nan\n"
          ],
          "name": "stdout"
        },
        {
          "output_type": "stream",
          "text": [
            "FAGTB/functions.py:131: RuntimeWarning: invalid value encountered in double_scalars\n",
            "  odds = y_z_1.mean() / y_z_0.mean()\n",
            "FAGTB/functions.py:131: RuntimeWarning: invalid value encountered in double_scalars\n",
            "  odds = y_z_1.mean() / y_z_0.mean()\n",
            "FAGTB/functions.py:131: RuntimeWarning: invalid value encountered in double_scalars\n",
            "  odds = y_z_1.mean() / y_z_0.mean()\n",
            "FAGTB/functions.py:131: RuntimeWarning: invalid value encountered in double_scalars\n",
            "  odds = y_z_1.mean() / y_z_0.mean()\n"
          ],
          "name": "stderr"
        },
        {
          "output_type": "stream",
          "text": [
            "90 5589.374171239834 10242.883045328072 11081.289171014047 Accuracy: 0.7496  test :  0.7541  Prule Train :  nan  Prule test :  nan\n"
          ],
          "name": "stdout"
        },
        {
          "output_type": "stream",
          "text": [
            "FAGTB/functions.py:131: RuntimeWarning: invalid value encountered in double_scalars\n",
            "  odds = y_z_1.mean() / y_z_0.mean()\n",
            "FAGTB/functions.py:131: RuntimeWarning: invalid value encountered in double_scalars\n",
            "  odds = y_z_1.mean() / y_z_0.mean()\n",
            "FAGTB/functions.py:131: RuntimeWarning: invalid value encountered in double_scalars\n",
            "  odds = y_z_1.mean() / y_z_0.mean()\n",
            "FAGTB/functions.py:131: RuntimeWarning: invalid value encountered in double_scalars\n",
            "  odds = y_z_1.mean() / y_z_0.mean()\n"
          ],
          "name": "stderr"
        },
        {
          "output_type": "stream",
          "text": [
            "95 33343.30178208498 10188.084751005996 15189.580018318742 Accuracy: 0.7496  test :  0.7541  Prule Train :  nan  Prule test :  nan\n"
          ],
          "name": "stdout"
        },
        {
          "output_type": "stream",
          "text": [
            "FAGTB/functions.py:131: RuntimeWarning: invalid value encountered in double_scalars\n",
            "  odds = y_z_1.mean() / y_z_0.mean()\n",
            "FAGTB/functions.py:131: RuntimeWarning: invalid value encountered in double_scalars\n",
            "  odds = y_z_1.mean() / y_z_0.mean()\n",
            "FAGTB/functions.py:131: RuntimeWarning: invalid value encountered in double_scalars\n",
            "  odds = y_z_1.mean() / y_z_0.mean()\n",
            "FAGTB/functions.py:131: RuntimeWarning: invalid value encountered in double_scalars\n",
            "  odds = y_z_1.mean() / y_z_0.mean()\n",
            "FAGTB/functions.py:131: RuntimeWarning: invalid value encountered in double_scalars\n",
            "  odds = y_z_1.mean() / y_z_0.mean()\n",
            "FAGTB/functions.py:132: RuntimeWarning: divide by zero encountered in double_scalars\n",
            "  return np.min([odds, 1/odds]) * 100\n",
            "FAGTB/functions.py:131: RuntimeWarning: invalid value encountered in double_scalars\n",
            "  odds = y_z_1.mean() / y_z_0.mean()\n",
            "FAGTB/functions.py:132: RuntimeWarning: divide by zero encountered in double_scalars\n",
            "  return np.min([odds, 1/odds]) * 100\n",
            "FAGTB/functions.py:131: RuntimeWarning: invalid value encountered in double_scalars\n",
            "  odds = y_z_1.mean() / y_z_0.mean()\n",
            "FAGTB/functions.py:132: RuntimeWarning: divide by zero encountered in double_scalars\n",
            "  return np.min([odds, 1/odds]) * 100\n"
          ],
          "name": "stderr"
        },
        {
          "output_type": "stream",
          "text": [
            "100 25020.91498749333 10131.636150835016 13884.773398959014 Accuracy: 0.7496  test :  0.7541  Prule Train :  nan  Prule test :  nan\n"
          ],
          "name": "stdout"
        },
        {
          "output_type": "stream",
          "text": [
            "FAGTB/functions.py:132: RuntimeWarning: divide by zero encountered in double_scalars\n",
            "  return np.min([odds, 1/odds]) * 100\n",
            "FAGTB/functions.py:132: RuntimeWarning: divide by zero encountered in double_scalars\n",
            "  return np.min([odds, 1/odds]) * 100\n",
            "FAGTB/functions.py:132: RuntimeWarning: divide by zero encountered in double_scalars\n",
            "  return np.min([odds, 1/odds]) * 100\n",
            "FAGTB/functions.py:132: RuntimeWarning: divide by zero encountered in double_scalars\n",
            "  return np.min([odds, 1/odds]) * 100\n"
          ],
          "name": "stderr"
        },
        {
          "output_type": "stream",
          "text": [
            "105 16387.270618544353 10090.469723373542 12548.560316155195 Accuracy: 0.7514  test :  0.7555  Prule Train :  0.0  Prule test :  0.0\n"
          ],
          "name": "stdout"
        },
        {
          "output_type": "stream",
          "text": [
            "FAGTB/functions.py:132: RuntimeWarning: divide by zero encountered in double_scalars\n",
            "  return np.min([odds, 1/odds]) * 100\n",
            "FAGTB/functions.py:132: RuntimeWarning: divide by zero encountered in double_scalars\n",
            "  return np.min([odds, 1/odds]) * 100\n",
            "FAGTB/functions.py:132: RuntimeWarning: divide by zero encountered in double_scalars\n",
            "  return np.min([odds, 1/odds]) * 100\n",
            "FAGTB/functions.py:132: RuntimeWarning: divide by zero encountered in double_scalars\n",
            "  return np.min([odds, 1/odds]) * 100\n"
          ],
          "name": "stderr"
        },
        {
          "output_type": "stream",
          "text": [
            "110 45143.34762911533 10049.590208295878 16821.092352663178 Accuracy: 0.7523  test :  0.7562  Prule Train :  0.0  Prule test :  0.0\n"
          ],
          "name": "stdout"
        },
        {
          "output_type": "stream",
          "text": [
            "FAGTB/functions.py:132: RuntimeWarning: divide by zero encountered in double_scalars\n",
            "  return np.min([odds, 1/odds]) * 100\n",
            "FAGTB/functions.py:132: RuntimeWarning: divide by zero encountered in double_scalars\n",
            "  return np.min([odds, 1/odds]) * 100\n",
            "FAGTB/functions.py:132: RuntimeWarning: divide by zero encountered in double_scalars\n",
            "  return np.min([odds, 1/odds]) * 100\n",
            "FAGTB/functions.py:132: RuntimeWarning: divide by zero encountered in double_scalars\n",
            "  return np.min([odds, 1/odds]) * 100\n"
          ],
          "name": "stderr"
        },
        {
          "output_type": "stream",
          "text": [
            "115 2034.9031362807432 10007.258067607589 10312.493538049699 Accuracy: 0.7536  test :  0.7568  Prule Train :  0.0  Prule test :  0.0\n"
          ],
          "name": "stdout"
        },
        {
          "output_type": "stream",
          "text": [
            "FAGTB/functions.py:132: RuntimeWarning: divide by zero encountered in double_scalars\n",
            "  return np.min([odds, 1/odds]) * 100\n",
            "FAGTB/functions.py:132: RuntimeWarning: divide by zero encountered in double_scalars\n",
            "  return np.min([odds, 1/odds]) * 100\n",
            "FAGTB/functions.py:132: RuntimeWarning: divide by zero encountered in double_scalars\n",
            "  return np.min([odds, 1/odds]) * 100\n",
            "FAGTB/functions.py:132: RuntimeWarning: divide by zero encountered in double_scalars\n",
            "  return np.min([odds, 1/odds]) * 100\n",
            "FAGTB/functions.py:132: RuntimeWarning: divide by zero encountered in double_scalars\n",
            "  return np.min([odds, 1/odds]) * 100\n",
            "FAGTB/functions.py:132: RuntimeWarning: divide by zero encountered in double_scalars\n",
            "  return np.min([odds, 1/odds]) * 100\n",
            "FAGTB/functions.py:132: RuntimeWarning: divide by zero encountered in double_scalars\n",
            "  return np.min([odds, 1/odds]) * 100\n",
            "FAGTB/functions.py:132: RuntimeWarning: divide by zero encountered in double_scalars\n",
            "  return np.min([odds, 1/odds]) * 100\n"
          ],
          "name": "stderr"
        },
        {
          "output_type": "stream",
          "text": [
            "120 10792.881985829343 9963.690900241758 11582.62319811616 Accuracy: 0.7567  test :  0.7586  Prule Train :  0.0  Prule test :  0.0\n"
          ],
          "name": "stdout"
        },
        {
          "output_type": "stream",
          "text": [
            "FAGTB/functions.py:132: RuntimeWarning: divide by zero encountered in double_scalars\n",
            "  return np.min([odds, 1/odds]) * 100\n",
            "FAGTB/functions.py:132: RuntimeWarning: divide by zero encountered in double_scalars\n",
            "  return np.min([odds, 1/odds]) * 100\n",
            "FAGTB/functions.py:132: RuntimeWarning: divide by zero encountered in double_scalars\n",
            "  return np.min([odds, 1/odds]) * 100\n",
            "FAGTB/functions.py:132: RuntimeWarning: divide by zero encountered in double_scalars\n",
            "  return np.min([odds, 1/odds]) * 100\n"
          ],
          "name": "stderr"
        },
        {
          "output_type": "stream",
          "text": [
            "125 40255.55959212434 9921.529735214617 15959.863674033266 Accuracy: 0.7577  test :  0.7601  Prule Train :  0.0  Prule test :  0.0\n"
          ],
          "name": "stdout"
        },
        {
          "output_type": "stream",
          "text": [
            "FAGTB/functions.py:132: RuntimeWarning: divide by zero encountered in double_scalars\n",
            "  return np.min([odds, 1/odds]) * 100\n",
            "FAGTB/functions.py:132: RuntimeWarning: divide by zero encountered in double_scalars\n",
            "  return np.min([odds, 1/odds]) * 100\n",
            "FAGTB/functions.py:132: RuntimeWarning: divide by zero encountered in double_scalars\n",
            "  return np.min([odds, 1/odds]) * 100\n",
            "FAGTB/functions.py:132: RuntimeWarning: divide by zero encountered in double_scalars\n",
            "  return np.min([odds, 1/odds]) * 100\n"
          ],
          "name": "stderr"
        },
        {
          "output_type": "stream",
          "text": [
            "130 14773.65478202695 9879.449410231415 12095.497627535458 Accuracy: 0.7581  test :  0.7604  Prule Train :  0.0  Prule test :  0.0\n"
          ],
          "name": "stdout"
        },
        {
          "output_type": "stream",
          "text": [
            "FAGTB/functions.py:132: RuntimeWarning: divide by zero encountered in double_scalars\n",
            "  return np.min([odds, 1/odds]) * 100\n",
            "FAGTB/functions.py:132: RuntimeWarning: divide by zero encountered in double_scalars\n",
            "  return np.min([odds, 1/odds]) * 100\n",
            "FAGTB/functions.py:132: RuntimeWarning: divide by zero encountered in double_scalars\n",
            "  return np.min([odds, 1/odds]) * 100\n",
            "FAGTB/functions.py:132: RuntimeWarning: divide by zero encountered in double_scalars\n",
            "  return np.min([odds, 1/odds]) * 100\n"
          ],
          "name": "stderr"
        },
        {
          "output_type": "stream",
          "text": [
            "135 22596.819755690987 9853.91991577233 13243.44287912598 Accuracy: 0.7592  test :  0.7609  Prule Train :  0.0  Prule test :  0.01085591363369141\n"
          ],
          "name": "stdout"
        },
        {
          "output_type": "stream",
          "text": [
            "FAGTB/functions.py:132: RuntimeWarning: divide by zero encountered in double_scalars\n",
            "  return np.min([odds, 1/odds]) * 100\n"
          ],
          "name": "stderr"
        },
        {
          "output_type": "stream",
          "text": [
            "140 51749.18774468083 9827.672523172514 17590.050684874637 Accuracy: 0.7612  test :  0.7626  Prule Train :  0.009982223939243529  Prule test :  0.027824866012568273\n",
            "145 37690.26451891624 9785.066797962216 15438.606475799654 Accuracy: 0.763  test :  0.7645  Prule Train :  0.015035724808485564  Prule test :  0.04549144760784972\n",
            "150 11952.895976337539 9750.416449518103 11543.350845968733 Accuracy: 0.7648  test :  0.7664  Prule Train :  0.030618203246370598  Prule test :  0.0677761094427761\n",
            "155 42460.4523601406 9715.536110105897 16084.603964126987 Accuracy: 0.7665  test :  0.7685  Prule Train :  0.05078733713088456  Prule test :  0.0868473090695313\n",
            "160 15546.148408298537 9679.472758247346 12011.395019492127 Accuracy: 0.7673  test :  0.7696  Prule Train :  0.07075635203993205  Prule test :  0.11108376741451678\n",
            "165 23164.349830913583 9660.548521481955 13135.200996118992 Accuracy: 0.7765  test :  0.7771  Prule Train :  0.2599820191824203  Prule test :  0.27885027885027885\n",
            "170 53822.59023293349 9640.410260066212 17713.798795006234 Accuracy: 0.7863  test :  0.7848  Prule Train :  0.44344994826869866  Prule test :  0.45291096672789244\n",
            "175 12128.147401635193 9611.589347403287 11430.811457648566 Accuracy: 0.7906  test :  0.787  Prule Train :  0.5076963502662145  Prule test :  0.5040635275141138\n",
            "180 24543.71498777956 9598.78718391778 13280.344432084714 Accuracy: 0.7973  test :  0.7932  Prule Train :  0.5678442446483895  Prule test :  0.5740490294551082\n",
            "185 38272.44897124354 9578.021152215966 15318.888497902499 Accuracy: 0.8026  test :  0.7977  Prule Train :  0.6193820965883605  Prule test :  0.6342042990035521\n",
            "190 32029.724784454516 9541.101609231748 14345.560326899924 Accuracy: 0.8099  test :  0.8044  Prule Train :  0.7260729719112159  Prule test :  0.7638615593161046\n",
            "195 15421.181367980693 9520.909696431789 11834.086901628893 Accuracy: 0.8145  test :  0.8079  Prule Train :  0.7562008746512947  Prule test :  0.7617232732973475\n",
            "200 46583.03545863921 9499.690737219891 16487.146056015772 Accuracy: 0.8168  test :  0.8098  Prule Train :  0.7746809743343418  Prule test :  0.7477154365650636\n",
            "205 16763.01518241647 9473.80793138163 11988.260208744101 Accuracy: 0.8184  test :  0.8117  Prule Train :  0.7848155375445578  Prule test :  0.7626092156743499\n",
            "210 15876.692402411787 9462.022068612701 11843.525928974468 Accuracy: 0.8186  test :  0.8117  Prule Train :  0.7461420606500159  Prule test :  0.7395005087880687\n",
            "215 47304.32086561879 9444.355942447437 16540.004072290256 Accuracy: 0.8193  test :  0.8119  Prule Train :  0.7459528314008356  Prule test :  0.7187648722040256\n",
            "220 12757.679491953546 9419.734734329664 11333.386658122694 Accuracy: 0.8205  test :  0.8117  Prule Train :  0.7538385945524394  Prule test :  0.7076990078012573\n",
            "225 5803.835031817873 9391.789878528596 10262.365133301277 Accuracy: 0.8249  test :  0.8164  Prule Train :  0.8091317955078045  Prule test :  0.7628304684689428\n",
            "230 38262.527933554826 9367.058836444048 15106.438026477272 Accuracy: 0.8296  test :  0.821  Prule Train :  0.881525510251125  Prule test :  0.825809033615966\n",
            "235 37167.982645219614 9336.627224480331 14911.824621263273 Accuracy: 0.8328  test :  0.824  Prule Train :  0.9298497679315116  Prule test :  0.8862943593194075\n",
            "240 15366.49999087313 9323.891017587473 11628.866016218442 Accuracy: 0.8333  test :  0.8242  Prule Train :  0.925070892084504  Prule test :  0.8718980549966466\n",
            "245 48413.29312399762 9312.295026118289 16574.288994717932 Accuracy: 0.8346  test :  0.8258  Prule Train :  0.9222449407363171  Prule test :  0.8880257307206356\n",
            "250 62051.91395308358 9278.043304645831 18585.830397608366 Accuracy: 0.8436  test :  0.8328  Prule Train :  0.912490694203449  Prule test :  0.9638177068214805\n",
            "255 4653.30317228279 9253.88342009587 9951.87889593829 Accuracy: 0.8441  test :  0.8336  Prule Train :  0.9055642696592875  Prule test :  0.951841628959276\n",
            "260 39634.73778297968 9235.075112465911 15180.285779912861 Accuracy: 0.8474  test :  0.8362  Prule Train :  0.8592885974096096  Prule test :  0.8968881839809675\n",
            "265 34957.209197927725 9211.360539370244 14454.9419190594 Accuracy: 0.8484  test :  0.8365  Prule Train :  0.8409141180865505  Prule test :  0.8878846153846154\n",
            "270 18863.428234371615 9208.449652573287 12037.963887729027 Accuracy: 0.8495  test :  0.8365  Prule Train :  0.8524245049539876  Prule test :  0.8998542510121458\n",
            "275 54497.89119443167 9205.288851892728 17379.97253105748 Accuracy: 0.8494  test :  0.836  Prule Train :  0.8634728592326664  Prule test :  0.9284583919847644\n",
            "280 7339.883128431532 9194.284183097814 10295.266652362543 Accuracy: 0.8513  test :  0.8374  Prule Train :  0.8425607969476442  Prule test :  0.9117370802572039\n",
            "285 19208.759045790655 9194.431988774733 12075.745845643332 Accuracy: 0.8513  test :  0.8372  Prule Train :  0.8429053503473896  Prule test :  0.9278664378218131\n",
            "290 54710.3968772058 9194.671296596733 17401.230828177602 Accuracy: 0.8543  test :  0.8402  Prule Train :  0.811925768243384  Prule test :  0.8732933507170796\n",
            "295 9652.927400223041 9186.21785037029 10634.156960403747 Accuracy: 0.8557  test :  0.84  Prule Train :  0.7991730649452561  Prule test :  0.8412045945005221\n",
            "\n",
            "Results on test set :\n",
            "Accuracy: 0.8397652675552019\n",
            "PRULE :  84.04034858985797\n",
            "DI :  0.026294487405598505\n",
            "DispFPR :  0.029170940831675173\n",
            "DispFNR :  0.2595749780607649\n"
          ],
          "name": "stdout"
        },
        {
          "output_type": "stream",
          "text": [
            "FAGTB/functions.py:131: RuntimeWarning: invalid value encountered in double_scalars\n",
            "  odds = y_z_1.mean() / y_z_0.mean()\n",
            "FAGTB/functions.py:131: RuntimeWarning: invalid value encountered in double_scalars\n",
            "  odds = y_z_1.mean() / y_z_0.mean()\n",
            "FAGTB/functions.py:131: RuntimeWarning: invalid value encountered in double_scalars\n",
            "  odds = y_z_1.mean() / y_z_0.mean()\n",
            "FAGTB/functions.py:131: RuntimeWarning: invalid value encountered in double_scalars\n",
            "  odds = y_z_1.mean() / y_z_0.mean()\n"
          ],
          "name": "stderr"
        },
        {
          "output_type": "stream",
          "text": [
            "0 11277.82674876056 11189.483658041467 12881.15767035555 Accuracy: 0.7546  test :  0.744  Prule Train :  nan  Prule test :  nan\n"
          ],
          "name": "stdout"
        },
        {
          "output_type": "stream",
          "text": [
            "FAGTB/functions.py:131: RuntimeWarning: invalid value encountered in double_scalars\n",
            "  odds = y_z_1.mean() / y_z_0.mean()\n",
            "FAGTB/functions.py:131: RuntimeWarning: invalid value encountered in double_scalars\n",
            "  odds = y_z_1.mean() / y_z_0.mean()\n",
            "FAGTB/functions.py:131: RuntimeWarning: invalid value encountered in double_scalars\n",
            "  odds = y_z_1.mean() / y_z_0.mean()\n",
            "FAGTB/functions.py:131: RuntimeWarning: invalid value encountered in double_scalars\n",
            "  odds = y_z_1.mean() / y_z_0.mean()\n"
          ],
          "name": "stderr"
        },
        {
          "output_type": "stream",
          "text": [
            "5 34077.74125681619 11120.772518654523 16232.433707176953 Accuracy: 0.7546  test :  0.744  Prule Train :  nan  Prule test :  nan\n"
          ],
          "name": "stdout"
        },
        {
          "output_type": "stream",
          "text": [
            "FAGTB/functions.py:131: RuntimeWarning: invalid value encountered in double_scalars\n",
            "  odds = y_z_1.mean() / y_z_0.mean()\n",
            "FAGTB/functions.py:131: RuntimeWarning: invalid value encountered in double_scalars\n",
            "  odds = y_z_1.mean() / y_z_0.mean()\n",
            "FAGTB/functions.py:131: RuntimeWarning: invalid value encountered in double_scalars\n",
            "  odds = y_z_1.mean() / y_z_0.mean()\n",
            "FAGTB/functions.py:131: RuntimeWarning: invalid value encountered in double_scalars\n",
            "  odds = y_z_1.mean() / y_z_0.mean()\n"
          ],
          "name": "stderr"
        },
        {
          "output_type": "stream",
          "text": [
            "10 6901.549477805162 11051.731780335234 12086.964202006011 Accuracy: 0.7546  test :  0.744  Prule Train :  nan  Prule test :  nan\n"
          ],
          "name": "stdout"
        },
        {
          "output_type": "stream",
          "text": [
            "FAGTB/functions.py:131: RuntimeWarning: invalid value encountered in double_scalars\n",
            "  odds = y_z_1.mean() / y_z_0.mean()\n",
            "FAGTB/functions.py:131: RuntimeWarning: invalid value encountered in double_scalars\n",
            "  odds = y_z_1.mean() / y_z_0.mean()\n",
            "FAGTB/functions.py:131: RuntimeWarning: invalid value encountered in double_scalars\n",
            "  odds = y_z_1.mean() / y_z_0.mean()\n",
            "FAGTB/functions.py:131: RuntimeWarning: invalid value encountered in double_scalars\n",
            "  odds = y_z_1.mean() / y_z_0.mean()\n"
          ],
          "name": "stderr"
        },
        {
          "output_type": "stream",
          "text": [
            "15 19603.237684260956 10994.075853712802 13934.561506351945 Accuracy: 0.7546  test :  0.744  Prule Train :  nan  Prule test :  nan\n"
          ],
          "name": "stdout"
        },
        {
          "output_type": "stream",
          "text": [
            "FAGTB/functions.py:131: RuntimeWarning: invalid value encountered in double_scalars\n",
            "  odds = y_z_1.mean() / y_z_0.mean()\n",
            "FAGTB/functions.py:131: RuntimeWarning: invalid value encountered in double_scalars\n",
            "  odds = y_z_1.mean() / y_z_0.mean()\n",
            "FAGTB/functions.py:131: RuntimeWarning: invalid value encountered in double_scalars\n",
            "  odds = y_z_1.mean() / y_z_0.mean()\n",
            "FAGTB/functions.py:131: RuntimeWarning: invalid value encountered in double_scalars\n",
            "  odds = y_z_1.mean() / y_z_0.mean()\n",
            "FAGTB/functions.py:131: RuntimeWarning: invalid value encountered in double_scalars\n",
            "  odds = y_z_1.mean() / y_z_0.mean()\n",
            "FAGTB/functions.py:131: RuntimeWarning: invalid value encountered in double_scalars\n",
            "  odds = y_z_1.mean() / y_z_0.mean()\n",
            "FAGTB/functions.py:131: RuntimeWarning: invalid value encountered in double_scalars\n",
            "  odds = y_z_1.mean() / y_z_0.mean()\n",
            "FAGTB/functions.py:131: RuntimeWarning: invalid value encountered in double_scalars\n",
            "  odds = y_z_1.mean() / y_z_0.mean()\n"
          ],
          "name": "stderr"
        },
        {
          "output_type": "stream",
          "text": [
            "20 24405.126614787972 10921.920482673635 14582.689474891831 Accuracy: 0.7546  test :  0.744  Prule Train :  nan  Prule test :  nan\n"
          ],
          "name": "stdout"
        },
        {
          "output_type": "stream",
          "text": [
            "FAGTB/functions.py:131: RuntimeWarning: invalid value encountered in double_scalars\n",
            "  odds = y_z_1.mean() / y_z_0.mean()\n",
            "FAGTB/functions.py:131: RuntimeWarning: invalid value encountered in double_scalars\n",
            "  odds = y_z_1.mean() / y_z_0.mean()\n",
            "FAGTB/functions.py:131: RuntimeWarning: invalid value encountered in double_scalars\n",
            "  odds = y_z_1.mean() / y_z_0.mean()\n",
            "FAGTB/functions.py:131: RuntimeWarning: invalid value encountered in double_scalars\n",
            "  odds = y_z_1.mean() / y_z_0.mean()\n"
          ],
          "name": "stderr"
        },
        {
          "output_type": "stream",
          "text": [
            "25 28411.18306987777 10847.995540348613 15109.67300083028 Accuracy: 0.7546  test :  0.744  Prule Train :  nan  Prule test :  nan\n"
          ],
          "name": "stdout"
        },
        {
          "output_type": "stream",
          "text": [
            "FAGTB/functions.py:131: RuntimeWarning: invalid value encountered in double_scalars\n",
            "  odds = y_z_1.mean() / y_z_0.mean()\n",
            "FAGTB/functions.py:131: RuntimeWarning: invalid value encountered in double_scalars\n",
            "  odds = y_z_1.mean() / y_z_0.mean()\n",
            "FAGTB/functions.py:131: RuntimeWarning: invalid value encountered in double_scalars\n",
            "  odds = y_z_1.mean() / y_z_0.mean()\n",
            "FAGTB/functions.py:131: RuntimeWarning: invalid value encountered in double_scalars\n",
            "  odds = y_z_1.mean() / y_z_0.mean()\n"
          ],
          "name": "stderr"
        },
        {
          "output_type": "stream",
          "text": [
            "30 10716.586533582158 10785.891574551093 12393.379554588417 Accuracy: 0.7546  test :  0.744  Prule Train :  nan  Prule test :  nan\n"
          ],
          "name": "stdout"
        },
        {
          "output_type": "stream",
          "text": [
            "FAGTB/functions.py:131: RuntimeWarning: invalid value encountered in double_scalars\n",
            "  odds = y_z_1.mean() / y_z_0.mean()\n",
            "FAGTB/functions.py:131: RuntimeWarning: invalid value encountered in double_scalars\n",
            "  odds = y_z_1.mean() / y_z_0.mean()\n",
            "FAGTB/functions.py:131: RuntimeWarning: invalid value encountered in double_scalars\n",
            "  odds = y_z_1.mean() / y_z_0.mean()\n",
            "FAGTB/functions.py:131: RuntimeWarning: invalid value encountered in double_scalars\n",
            "  odds = y_z_1.mean() / y_z_0.mean()\n"
          ],
          "name": "stderr"
        },
        {
          "output_type": "stream",
          "text": [
            "35 35517.082591745755 10725.052403924841 16052.614792686705 Accuracy: 0.7546  test :  0.744  Prule Train :  nan  Prule test :  nan\n"
          ],
          "name": "stdout"
        },
        {
          "output_type": "stream",
          "text": [
            "FAGTB/functions.py:131: RuntimeWarning: invalid value encountered in double_scalars\n",
            "  odds = y_z_1.mean() / y_z_0.mean()\n",
            "FAGTB/functions.py:131: RuntimeWarning: invalid value encountered in double_scalars\n",
            "  odds = y_z_1.mean() / y_z_0.mean()\n",
            "FAGTB/functions.py:131: RuntimeWarning: invalid value encountered in double_scalars\n",
            "  odds = y_z_1.mean() / y_z_0.mean()\n",
            "FAGTB/functions.py:131: RuntimeWarning: invalid value encountered in double_scalars\n",
            "  odds = y_z_1.mean() / y_z_0.mean()\n",
            "FAGTB/functions.py:131: RuntimeWarning: invalid value encountered in double_scalars\n",
            "  odds = y_z_1.mean() / y_z_0.mean()\n",
            "FAGTB/functions.py:131: RuntimeWarning: invalid value encountered in double_scalars\n",
            "  odds = y_z_1.mean() / y_z_0.mean()\n",
            "FAGTB/functions.py:131: RuntimeWarning: invalid value encountered in double_scalars\n",
            "  odds = y_z_1.mean() / y_z_0.mean()\n",
            "FAGTB/functions.py:131: RuntimeWarning: invalid value encountered in double_scalars\n",
            "  odds = y_z_1.mean() / y_z_0.mean()\n"
          ],
          "name": "stderr"
        },
        {
          "output_type": "stream",
          "text": [
            "40 6215.17120513503 10665.6335770847 11597.909257854953 Accuracy: 0.7546  test :  0.744  Prule Train :  nan  Prule test :  nan\n"
          ],
          "name": "stdout"
        },
        {
          "output_type": "stream",
          "text": [
            "FAGTB/functions.py:131: RuntimeWarning: invalid value encountered in double_scalars\n",
            "  odds = y_z_1.mean() / y_z_0.mean()\n",
            "FAGTB/functions.py:131: RuntimeWarning: invalid value encountered in double_scalars\n",
            "  odds = y_z_1.mean() / y_z_0.mean()\n",
            "FAGTB/functions.py:131: RuntimeWarning: invalid value encountered in double_scalars\n",
            "  odds = y_z_1.mean() / y_z_0.mean()\n",
            "FAGTB/functions.py:131: RuntimeWarning: invalid value encountered in double_scalars\n",
            "  odds = y_z_1.mean() / y_z_0.mean()\n"
          ],
          "name": "stderr"
        },
        {
          "output_type": "stream",
          "text": [
            "45 22069.63451831446 10616.644654453376 13927.089832200545 Accuracy: 0.7546  test :  0.744  Prule Train :  nan  Prule test :  nan\n"
          ],
          "name": "stdout"
        },
        {
          "output_type": "stream",
          "text": [
            "FAGTB/functions.py:131: RuntimeWarning: invalid value encountered in double_scalars\n",
            "  odds = y_z_1.mean() / y_z_0.mean()\n",
            "FAGTB/functions.py:131: RuntimeWarning: invalid value encountered in double_scalars\n",
            "  odds = y_z_1.mean() / y_z_0.mean()\n",
            "FAGTB/functions.py:131: RuntimeWarning: invalid value encountered in double_scalars\n",
            "  odds = y_z_1.mean() / y_z_0.mean()\n",
            "FAGTB/functions.py:131: RuntimeWarning: invalid value encountered in double_scalars\n",
            "  odds = y_z_1.mean() / y_z_0.mean()\n"
          ],
          "name": "stderr"
        },
        {
          "output_type": "stream",
          "text": [
            "50 41565.62024830906 10565.861685384038 16800.704722630395 Accuracy: 0.7546  test :  0.744  Prule Train :  nan  Prule test :  nan\n"
          ],
          "name": "stdout"
        },
        {
          "output_type": "stream",
          "text": [
            "FAGTB/functions.py:131: RuntimeWarning: invalid value encountered in double_scalars\n",
            "  odds = y_z_1.mean() / y_z_0.mean()\n",
            "FAGTB/functions.py:131: RuntimeWarning: invalid value encountered in double_scalars\n",
            "  odds = y_z_1.mean() / y_z_0.mean()\n",
            "FAGTB/functions.py:131: RuntimeWarning: invalid value encountered in double_scalars\n",
            "  odds = y_z_1.mean() / y_z_0.mean()\n",
            "FAGTB/functions.py:131: RuntimeWarning: invalid value encountered in double_scalars\n",
            "  odds = y_z_1.mean() / y_z_0.mean()\n"
          ],
          "name": "stderr"
        },
        {
          "output_type": "stream",
          "text": [
            "55 -3161.43762612847 10511.816884489523 10037.60124057025 Accuracy: 0.7546  test :  0.744  Prule Train :  nan  Prule test :  nan\n"
          ],
          "name": "stdout"
        },
        {
          "output_type": "stream",
          "text": [
            "FAGTB/functions.py:131: RuntimeWarning: invalid value encountered in double_scalars\n",
            "  odds = y_z_1.mean() / y_z_0.mean()\n",
            "FAGTB/functions.py:131: RuntimeWarning: invalid value encountered in double_scalars\n",
            "  odds = y_z_1.mean() / y_z_0.mean()\n",
            "FAGTB/functions.py:131: RuntimeWarning: invalid value encountered in double_scalars\n",
            "  odds = y_z_1.mean() / y_z_0.mean()\n",
            "FAGTB/functions.py:131: RuntimeWarning: invalid value encountered in double_scalars\n",
            "  odds = y_z_1.mean() / y_z_0.mean()\n",
            "FAGTB/functions.py:131: RuntimeWarning: invalid value encountered in double_scalars\n",
            "  odds = y_z_1.mean() / y_z_0.mean()\n",
            "FAGTB/functions.py:131: RuntimeWarning: invalid value encountered in double_scalars\n",
            "  odds = y_z_1.mean() / y_z_0.mean()\n",
            "FAGTB/functions.py:131: RuntimeWarning: invalid value encountered in double_scalars\n",
            "  odds = y_z_1.mean() / y_z_0.mean()\n",
            "FAGTB/functions.py:131: RuntimeWarning: invalid value encountered in double_scalars\n",
            "  odds = y_z_1.mean() / y_z_0.mean()\n"
          ],
          "name": "stderr"
        },
        {
          "output_type": "stream",
          "text": [
            "60 25518.31069468826 10470.55237212177 14298.298976325012 Accuracy: 0.7546  test :  0.744  Prule Train :  nan  Prule test :  nan\n"
          ],
          "name": "stdout"
        },
        {
          "output_type": "stream",
          "text": [
            "FAGTB/functions.py:131: RuntimeWarning: invalid value encountered in double_scalars\n",
            "  odds = y_z_1.mean() / y_z_0.mean()\n",
            "FAGTB/functions.py:131: RuntimeWarning: invalid value encountered in double_scalars\n",
            "  odds = y_z_1.mean() / y_z_0.mean()\n",
            "FAGTB/functions.py:131: RuntimeWarning: invalid value encountered in double_scalars\n",
            "  odds = y_z_1.mean() / y_z_0.mean()\n",
            "FAGTB/functions.py:131: RuntimeWarning: invalid value encountered in double_scalars\n",
            "  odds = y_z_1.mean() / y_z_0.mean()\n"
          ],
          "name": "stderr"
        },
        {
          "output_type": "stream",
          "text": [
            "65 43857.48316433152 10422.354309405002 17000.976784054732 Accuracy: 0.7546  test :  0.744  Prule Train :  nan  Prule test :  nan\n"
          ],
          "name": "stdout"
        },
        {
          "output_type": "stream",
          "text": [
            "FAGTB/functions.py:131: RuntimeWarning: invalid value encountered in double_scalars\n",
            "  odds = y_z_1.mean() / y_z_0.mean()\n",
            "FAGTB/functions.py:131: RuntimeWarning: invalid value encountered in double_scalars\n",
            "  odds = y_z_1.mean() / y_z_0.mean()\n",
            "FAGTB/functions.py:131: RuntimeWarning: invalid value encountered in double_scalars\n",
            "  odds = y_z_1.mean() / y_z_0.mean()\n",
            "FAGTB/functions.py:131: RuntimeWarning: invalid value encountered in double_scalars\n",
            "  odds = y_z_1.mean() / y_z_0.mean()\n"
          ],
          "name": "stderr"
        },
        {
          "output_type": "stream",
          "text": [
            "70 -4049.9312015417718 10373.813686136471 9766.324005905206 Accuracy: 0.7546  test :  0.744  Prule Train :  nan  Prule test :  nan\n"
          ],
          "name": "stdout"
        },
        {
          "output_type": "stream",
          "text": [
            "FAGTB/functions.py:131: RuntimeWarning: invalid value encountered in double_scalars\n",
            "  odds = y_z_1.mean() / y_z_0.mean()\n",
            "FAGTB/functions.py:131: RuntimeWarning: invalid value encountered in double_scalars\n",
            "  odds = y_z_1.mean() / y_z_0.mean()\n",
            "FAGTB/functions.py:131: RuntimeWarning: invalid value encountered in double_scalars\n",
            "  odds = y_z_1.mean() / y_z_0.mean()\n",
            "FAGTB/functions.py:131: RuntimeWarning: invalid value encountered in double_scalars\n",
            "  odds = y_z_1.mean() / y_z_0.mean()\n"
          ],
          "name": "stderr"
        },
        {
          "output_type": "stream",
          "text": [
            "75 19202.635344572518 10333.543199188682 13213.93850087456 Accuracy: 0.7546  test :  0.744  Prule Train :  nan  Prule test :  nan\n"
          ],
          "name": "stdout"
        },
        {
          "output_type": "stream",
          "text": [
            "FAGTB/functions.py:131: RuntimeWarning: invalid value encountered in double_scalars\n",
            "  odds = y_z_1.mean() / y_z_0.mean()\n",
            "FAGTB/functions.py:131: RuntimeWarning: invalid value encountered in double_scalars\n",
            "  odds = y_z_1.mean() / y_z_0.mean()\n",
            "FAGTB/functions.py:131: RuntimeWarning: invalid value encountered in double_scalars\n",
            "  odds = y_z_1.mean() / y_z_0.mean()\n",
            "FAGTB/functions.py:131: RuntimeWarning: invalid value encountered in double_scalars\n",
            "  odds = y_z_1.mean() / y_z_0.mean()\n",
            "FAGTB/functions.py:131: RuntimeWarning: invalid value encountered in double_scalars\n",
            "  odds = y_z_1.mean() / y_z_0.mean()\n",
            "FAGTB/functions.py:131: RuntimeWarning: invalid value encountered in double_scalars\n",
            "  odds = y_z_1.mean() / y_z_0.mean()\n",
            "FAGTB/functions.py:131: RuntimeWarning: invalid value encountered in double_scalars\n",
            "  odds = y_z_1.mean() / y_z_0.mean()\n",
            "FAGTB/functions.py:131: RuntimeWarning: invalid value encountered in double_scalars\n",
            "  odds = y_z_1.mean() / y_z_0.mean()\n"
          ],
          "name": "stderr"
        },
        {
          "output_type": "stream",
          "text": [
            "80 44733.52751551622 10287.425561838203 16997.454689165636 Accuracy: 0.7546  test :  0.744  Prule Train :  nan  Prule test :  nan\n"
          ],
          "name": "stdout"
        },
        {
          "output_type": "stream",
          "text": [
            "FAGTB/functions.py:131: RuntimeWarning: invalid value encountered in double_scalars\n",
            "  odds = y_z_1.mean() / y_z_0.mean()\n",
            "FAGTB/functions.py:131: RuntimeWarning: invalid value encountered in double_scalars\n",
            "  odds = y_z_1.mean() / y_z_0.mean()\n",
            "FAGTB/functions.py:131: RuntimeWarning: invalid value encountered in double_scalars\n",
            "  odds = y_z_1.mean() / y_z_0.mean()\n",
            "FAGTB/functions.py:131: RuntimeWarning: invalid value encountered in double_scalars\n",
            "  odds = y_z_1.mean() / y_z_0.mean()\n"
          ],
          "name": "stderr"
        },
        {
          "output_type": "stream",
          "text": [
            "85 -1954.294665500879 10241.332866949131 9948.188667123999 Accuracy: 0.7546  test :  0.744  Prule Train :  nan  Prule test :  nan\n"
          ],
          "name": "stdout"
        },
        {
          "output_type": "stream",
          "text": [
            "FAGTB/functions.py:131: RuntimeWarning: invalid value encountered in double_scalars\n",
            "  odds = y_z_1.mean() / y_z_0.mean()\n",
            "FAGTB/functions.py:131: RuntimeWarning: invalid value encountered in double_scalars\n",
            "  odds = y_z_1.mean() / y_z_0.mean()\n",
            "FAGTB/functions.py:131: RuntimeWarning: invalid value encountered in double_scalars\n",
            "  odds = y_z_1.mean() / y_z_0.mean()\n",
            "FAGTB/functions.py:131: RuntimeWarning: invalid value encountered in double_scalars\n",
            "  odds = y_z_1.mean() / y_z_0.mean()\n"
          ],
          "name": "stderr"
        },
        {
          "output_type": "stream",
          "text": [
            "90 11482.909240291447 10202.962144803045 11925.398530846762 Accuracy: 0.7546  test :  0.744  Prule Train :  nan  Prule test :  nan\n"
          ],
          "name": "stdout"
        },
        {
          "output_type": "stream",
          "text": [
            "FAGTB/functions.py:131: RuntimeWarning: invalid value encountered in double_scalars\n",
            "  odds = y_z_1.mean() / y_z_0.mean()\n",
            "FAGTB/functions.py:131: RuntimeWarning: invalid value encountered in double_scalars\n",
            "  odds = y_z_1.mean() / y_z_0.mean()\n",
            "FAGTB/functions.py:131: RuntimeWarning: invalid value encountered in double_scalars\n",
            "  odds = y_z_1.mean() / y_z_0.mean()\n",
            "FAGTB/functions.py:131: RuntimeWarning: invalid value encountered in double_scalars\n",
            "  odds = y_z_1.mean() / y_z_0.mean()\n"
          ],
          "name": "stderr"
        },
        {
          "output_type": "stream",
          "text": [
            "95 37322.50332752435 10154.606754043494 15752.982253172146 Accuracy: 0.7546  test :  0.744  Prule Train :  nan  Prule test :  nan\n"
          ],
          "name": "stdout"
        },
        {
          "output_type": "stream",
          "text": [
            "FAGTB/functions.py:131: RuntimeWarning: invalid value encountered in double_scalars\n",
            "  odds = y_z_1.mean() / y_z_0.mean()\n",
            "FAGTB/functions.py:131: RuntimeWarning: invalid value encountered in double_scalars\n",
            "  odds = y_z_1.mean() / y_z_0.mean()\n",
            "FAGTB/functions.py:131: RuntimeWarning: invalid value encountered in double_scalars\n",
            "  odds = y_z_1.mean() / y_z_0.mean()\n",
            "FAGTB/functions.py:131: RuntimeWarning: invalid value encountered in double_scalars\n",
            "  odds = y_z_1.mean() / y_z_0.mean()\n",
            "FAGTB/functions.py:131: RuntimeWarning: invalid value encountered in double_scalars\n",
            "  odds = y_z_1.mean() / y_z_0.mean()\n",
            "FAGTB/functions.py:132: RuntimeWarning: divide by zero encountered in double_scalars\n",
            "  return np.min([odds, 1/odds]) * 100\n",
            "FAGTB/functions.py:132: RuntimeWarning: divide by zero encountered in double_scalars\n",
            "  return np.min([odds, 1/odds]) * 100\n",
            "FAGTB/functions.py:132: RuntimeWarning: divide by zero encountered in double_scalars\n",
            "  return np.min([odds, 1/odds]) * 100\n"
          ],
          "name": "stderr"
        },
        {
          "output_type": "stream",
          "text": [
            "100 16076.149081444662 10104.426757539813 12515.849119756513 Accuracy: 0.7546  test :  0.744  Prule Train :  nan  Prule test :  nan\n"
          ],
          "name": "stdout"
        },
        {
          "output_type": "stream",
          "text": [
            "FAGTB/functions.py:132: RuntimeWarning: divide by zero encountered in double_scalars\n",
            "  return np.min([odds, 1/odds]) * 100\n",
            "FAGTB/functions.py:132: RuntimeWarning: divide by zero encountered in double_scalars\n",
            "  return np.min([odds, 1/odds]) * 100\n",
            "FAGTB/functions.py:132: RuntimeWarning: divide by zero encountered in double_scalars\n",
            "  return np.min([odds, 1/odds]) * 100\n",
            "FAGTB/functions.py:132: RuntimeWarning: divide by zero encountered in double_scalars\n",
            "  return np.min([odds, 1/odds]) * 100\n"
          ],
          "name": "stderr"
        },
        {
          "output_type": "stream",
          "text": [
            "105 18353.21561149133 10065.866378535062 12818.84872025876 Accuracy: 0.7561  test :  0.7449  Prule Train :  0.0  Prule test :  0.0\n"
          ],
          "name": "stdout"
        },
        {
          "output_type": "stream",
          "text": [
            "FAGTB/functions.py:132: RuntimeWarning: divide by zero encountered in double_scalars\n",
            "  return np.min([odds, 1/odds]) * 100\n",
            "FAGTB/functions.py:132: RuntimeWarning: divide by zero encountered in double_scalars\n",
            "  return np.min([odds, 1/odds]) * 100\n",
            "FAGTB/functions.py:132: RuntimeWarning: divide by zero encountered in double_scalars\n",
            "  return np.min([odds, 1/odds]) * 100\n",
            "FAGTB/functions.py:132: RuntimeWarning: divide by zero encountered in double_scalars\n",
            "  return np.min([odds, 1/odds]) * 100\n"
          ],
          "name": "stderr"
        },
        {
          "output_type": "stream",
          "text": [
            "110 44326.91612377748 10025.352722407526 16674.390140974152 Accuracy: 0.7582  test :  0.7462  Prule Train :  0.0  Prule test :  0.0\n"
          ],
          "name": "stdout"
        },
        {
          "output_type": "stream",
          "text": [
            "FAGTB/functions.py:132: RuntimeWarning: divide by zero encountered in double_scalars\n",
            "  return np.min([odds, 1/odds]) * 100\n",
            "FAGTB/functions.py:132: RuntimeWarning: divide by zero encountered in double_scalars\n",
            "  return np.min([odds, 1/odds]) * 100\n",
            "FAGTB/functions.py:132: RuntimeWarning: divide by zero encountered in double_scalars\n",
            "  return np.min([odds, 1/odds]) * 100\n",
            "FAGTB/functions.py:132: RuntimeWarning: divide by zero encountered in double_scalars\n",
            "  return np.min([odds, 1/odds]) * 100\n"
          ],
          "name": "stderr"
        },
        {
          "output_type": "stream",
          "text": [
            "115 48856.1483131033 9970.326778319384 17298.74902528488 Accuracy: 0.7589  test :  0.7467  Prule Train :  0.0  Prule test :  0.0\n"
          ],
          "name": "stdout"
        },
        {
          "output_type": "stream",
          "text": [
            "FAGTB/functions.py:132: RuntimeWarning: divide by zero encountered in double_scalars\n",
            "  return np.min([odds, 1/odds]) * 100\n",
            "FAGTB/functions.py:132: RuntimeWarning: divide by zero encountered in double_scalars\n",
            "  return np.min([odds, 1/odds]) * 100\n",
            "FAGTB/functions.py:132: RuntimeWarning: divide by zero encountered in double_scalars\n",
            "  return np.min([odds, 1/odds]) * 100\n",
            "FAGTB/functions.py:132: RuntimeWarning: divide by zero encountered in double_scalars\n",
            "  return np.min([odds, 1/odds]) * 100\n",
            "FAGTB/functions.py:132: RuntimeWarning: divide by zero encountered in double_scalars\n",
            "  return np.min([odds, 1/odds]) * 100\n",
            "FAGTB/functions.py:132: RuntimeWarning: divide by zero encountered in double_scalars\n",
            "  return np.min([odds, 1/odds]) * 100\n",
            "FAGTB/functions.py:132: RuntimeWarning: divide by zero encountered in double_scalars\n",
            "  return np.min([odds, 1/odds]) * 100\n",
            "FAGTB/functions.py:132: RuntimeWarning: divide by zero encountered in double_scalars\n",
            "  return np.min([odds, 1/odds]) * 100\n"
          ],
          "name": "stderr"
        },
        {
          "output_type": "stream",
          "text": [
            "120 3541.9794965161773 9919.88767158232 10451.18459605975 Accuracy: 0.7597  test :  0.748  Prule Train :  0.0  Prule test :  0.0\n"
          ],
          "name": "stdout"
        },
        {
          "output_type": "stream",
          "text": [
            "FAGTB/functions.py:132: RuntimeWarning: divide by zero encountered in double_scalars\n",
            "  return np.min([odds, 1/odds]) * 100\n",
            "FAGTB/functions.py:132: RuntimeWarning: divide by zero encountered in double_scalars\n",
            "  return np.min([odds, 1/odds]) * 100\n",
            "FAGTB/functions.py:132: RuntimeWarning: divide by zero encountered in double_scalars\n",
            "  return np.min([odds, 1/odds]) * 100\n",
            "FAGTB/functions.py:132: RuntimeWarning: divide by zero encountered in double_scalars\n",
            "  return np.min([odds, 1/odds]) * 100\n"
          ],
          "name": "stderr"
        },
        {
          "output_type": "stream",
          "text": [
            "125 31383.61692469858 9870.254418646093 14577.79695735088 Accuracy: 0.7611  test :  0.7489  Prule Train :  0.0  Prule test :  0.0\n"
          ],
          "name": "stdout"
        },
        {
          "output_type": "stream",
          "text": [
            "FAGTB/functions.py:132: RuntimeWarning: divide by zero encountered in double_scalars\n",
            "  return np.min([odds, 1/odds]) * 100\n",
            "FAGTB/functions.py:132: RuntimeWarning: divide by zero encountered in double_scalars\n",
            "  return np.min([odds, 1/odds]) * 100\n",
            "FAGTB/functions.py:132: RuntimeWarning: divide by zero encountered in double_scalars\n",
            "  return np.min([odds, 1/odds]) * 100\n",
            "FAGTB/functions.py:132: RuntimeWarning: divide by zero encountered in double_scalars\n",
            "  return np.min([odds, 1/odds]) * 100\n"
          ],
          "name": "stderr"
        },
        {
          "output_type": "stream",
          "text": [
            "130 30550.944406255825 9819.565441986635 14402.207102925007 Accuracy: 0.7617  test :  0.749  Prule Train :  0.0  Prule test :  0.0\n"
          ],
          "name": "stdout"
        },
        {
          "output_type": "stream",
          "text": [
            "FAGTB/functions.py:132: RuntimeWarning: divide by zero encountered in double_scalars\n",
            "  return np.min([odds, 1/odds]) * 100\n",
            "FAGTB/functions.py:132: RuntimeWarning: divide by zero encountered in double_scalars\n",
            "  return np.min([odds, 1/odds]) * 100\n",
            "FAGTB/functions.py:132: RuntimeWarning: divide by zero encountered in double_scalars\n",
            "  return np.min([odds, 1/odds]) * 100\n",
            "FAGTB/functions.py:132: RuntimeWarning: divide by zero encountered in double_scalars\n",
            "  return np.min([odds, 1/odds]) * 100\n"
          ],
          "name": "stderr"
        },
        {
          "output_type": "stream",
          "text": [
            "135 13968.723662465438 9784.421756022557 11879.730305392373 Accuracy: 0.7631  test :  0.7499  Prule Train :  0.0  Prule test :  0.014310437219435488\n"
          ],
          "name": "stdout"
        },
        {
          "output_type": "stream",
          "text": [
            "FAGTB/functions.py:132: RuntimeWarning: divide by zero encountered in double_scalars\n",
            "  return np.min([odds, 1/odds]) * 100\n",
            "FAGTB/functions.py:132: RuntimeWarning: divide by zero encountered in double_scalars\n",
            "  return np.min([odds, 1/odds]) * 100\n",
            "FAGTB/functions.py:132: RuntimeWarning: divide by zero encountered in double_scalars\n",
            "  return np.min([odds, 1/odds]) * 100\n",
            "FAGTB/functions.py:132: RuntimeWarning: divide by zero encountered in double_scalars\n",
            "  return np.min([odds, 1/odds]) * 100\n",
            "FAGTB/functions.py:132: RuntimeWarning: divide by zero encountered in double_scalars\n",
            "  return np.min([odds, 1/odds]) * 100\n",
            "FAGTB/functions.py:132: RuntimeWarning: divide by zero encountered in double_scalars\n",
            "  return np.min([odds, 1/odds]) * 100\n",
            "FAGTB/functions.py:132: RuntimeWarning: divide by zero encountered in double_scalars\n",
            "  return np.min([odds, 1/odds]) * 100\n",
            "FAGTB/functions.py:132: RuntimeWarning: divide by zero encountered in double_scalars\n",
            "  return np.min([odds, 1/odds]) * 100\n"
          ],
          "name": "stderr"
        },
        {
          "output_type": "stream",
          "text": [
            "140 42984.56417519812 9749.995378090272 16197.680004369991 Accuracy: 0.764  test :  0.7505  Prule Train :  0.0  Prule test :  0.017755542475966255\n"
          ],
          "name": "stdout"
        },
        {
          "output_type": "stream",
          "text": [
            "FAGTB/functions.py:132: RuntimeWarning: divide by zero encountered in double_scalars\n",
            "  return np.min([odds, 1/odds]) * 100\n",
            "FAGTB/functions.py:132: RuntimeWarning: divide by zero encountered in double_scalars\n",
            "  return np.min([odds, 1/odds]) * 100\n",
            "FAGTB/functions.py:132: RuntimeWarning: divide by zero encountered in double_scalars\n",
            "  return np.min([odds, 1/odds]) * 100\n"
          ],
          "name": "stderr"
        },
        {
          "output_type": "stream",
          "text": [
            "145 7294.094780732244 9713.633040167302 10807.74725727714 Accuracy: 0.7652  test :  0.7519  Prule Train :  0.0  Prule test :  0.02039998497238676\n",
            "150 20321.07168613145 9689.155097196313 12737.31585011603 Accuracy: 0.767  test :  0.7545  Prule Train :  0.010874058270551368  Prule test :  0.04507176166976049\n",
            "155 22658.458456362176 9656.97288742431 13055.741655878635 Accuracy: 0.7687  test :  0.7568  Prule Train :  0.018354302176408363  Prule test :  0.06506138064407634\n",
            "160 28532.593322628483 9614.513860709378 13894.402859103648 Accuracy: 0.7699  test :  0.759  Prule Train :  0.0368349368161745  Prule test :  0.0844225793196886\n",
            "165 40448.499879828545 9566.993327630182 15634.268309604464 Accuracy: 0.7713  test :  0.7602  Prule Train :  0.06105138647661256  Prule test :  0.08313288673718303\n",
            "170 11207.58906054353 9535.745436764024 11216.883795845555 Accuracy: 0.7781  test :  0.7683  Prule Train :  0.2388303694884007  Prule test :  0.2732062503559969\n",
            "175 42167.010422582745 9506.129600333863 15831.181163721274 Accuracy: 0.7879  test :  0.7781  Prule Train :  0.4714004680347203  Prule test :  0.5065821010539856\n",
            "180 12848.189379834 9475.071688621712 11402.300095596813 Accuracy: 0.7966  test :  0.7859  Prule Train :  0.67883252222557  Prule test :  0.6755176841992616\n",
            "185 24875.02383592991 9463.371687983748 13194.625263373237 Accuracy: 0.8036  test :  0.7927  Prule Train :  0.8032116892083994  Prule test :  0.7928532620998777\n",
            "190 54121.292458109354 9450.22950358545 17568.423372301855 Accuracy: 0.8086  test :  0.7977  Prule Train :  0.8816401648998823  Prule test :  0.8411284712932742\n",
            "195 4257.935277589553 9427.410629847178 10066.100921485611 Accuracy: 0.8128  test :  0.8017  Prule Train :  0.948369048976025  Prule test :  0.897554404897413\n",
            "200 28285.689606870408 9423.198287959782 13666.051728990344 Accuracy: 0.8158  test :  0.8042  Prule Train :  0.9059425950034096  Prule test :  0.8571665685697469\n",
            "205 33386.90948007635 9391.357275028686 14399.393697040137 Accuracy: 0.8181  test :  0.8066  Prule Train :  0.9094286450868254  Prule test :  0.8673108114786875\n",
            "210 38329.49760801612 9355.479961610212 15104.904602812629 Accuracy: 0.82  test :  0.8088  Prule Train :  0.9012033234648075  Prule test :  0.8692411179168095\n",
            "215 13157.77461187519 9335.486614485379 11309.152806266657 Accuracy: 0.8209  test :  0.8101  Prule Train :  0.8592483135239318  Prule test :  0.8258151450893757\n",
            "220 45043.86642712077 9316.572543583188 16073.152507651303 Accuracy: 0.8223  test :  0.811  Prule Train :  0.8381851010363911  Prule test :  0.8021023217540872\n",
            "225 15223.121159638311 9293.566019978474 11577.03419392422 Accuracy: 0.8255  test :  0.8148  Prule Train :  0.8800944257999855  Prule test :  0.8340652163083208\n",
            "230 24612.25398394375 9290.838481831226 12982.676579422787 Accuracy: 0.8262  test :  0.8158  Prule Train :  0.8665081897225367  Prule test :  0.834942242084115\n",
            "235 54394.77581371938 9284.799152942998 17444.015525000905 Accuracy: 0.828  test :  0.8177  Prule Train :  0.8619869876640748  Prule test :  0.8340432452526254\n",
            "240 5613.357245046419 9269.58783991016 10111.591426667124 Accuracy: 0.8314  test :  0.8195  Prule Train :  0.907820345917798  Prule test :  0.8715097626281356\n",
            "245 3845.295314323782 9258.983410098834 9835.7777072474 Accuracy: 0.8337  test :  0.8208  Prule Train :  0.9270831730662387  Prule test :  0.8811311944916662\n",
            "250 35769.77577616111 9236.592609020734 14602.0589754449 Accuracy: 0.8351  test :  0.8213  Prule Train :  0.9414129584298824  Prule test :  0.8698783914636692\n",
            "255 40417.28280962046 9207.945936754106 15270.538358197176 Accuracy: 0.8356  test :  0.8223  Prule Train :  0.9551150239896721  Prule test :  0.8780448077352832\n",
            "260 13379.141560911434 9196.18805438558 11203.059288522298 Accuracy: 0.8385  test :  0.8253  Prule Train :  0.9922892473183553  Prule test :  0.9174933189082196\n",
            "265 46481.76537525443 9184.271748270046 16156.53655455821 Accuracy: 0.8401  test :  0.828  Prule Train :  0.9811561340582198  Prule test :  0.9381145373659632\n",
            "270 19326.13575310602 9168.046227141012 12066.966590106917 Accuracy: 0.8409  test :  0.8285  Prule Train :  0.9823449342273062  Prule test :  0.9575856237101498\n",
            "275 23693.91135593172 9172.325194037967 12726.411897427726 Accuracy: 0.8413  test :  0.8289  Prule Train :  0.9961995445707541  Prule test :  0.9471066193887365\n",
            "280 36890.01123465941 9153.017840976287 14686.5195261752 Accuracy: 0.8442  test :  0.8331  Prule Train :  0.9467570909883744  Prule test :  0.9935300777249819\n",
            "285 41355.92197658427 9128.439428028785 15331.827724516424 Accuracy: 0.8467  test :  0.835  Prule Train :  0.9153830245543755  Prule test :  0.9573709241382237\n",
            "290 14188.134901424397 9120.749077577713 11248.96931279137 Accuracy: 0.8481  test :  0.8368  Prule Train :  0.8889751260347798  Prule test :  0.9373810937095716\n",
            "295 48488.417937977836 9115.537603578592 16388.800294275265 Accuracy: 0.8493  test :  0.8396  Prule Train :  0.8655125000453492  Prule test :  0.904721561081614\n",
            "\n",
            "Results on test set :\n",
            "Accuracy: 0.8399641933558782\n",
            "PRULE :  89.53997044486466\n",
            "DI :  0.016099456907992304\n",
            "DispFPR :  0.030870568237008254\n",
            "DispFNR :  0.2692119910165023\n"
          ],
          "name": "stdout"
        },
        {
          "output_type": "stream",
          "text": [
            "FAGTB/functions.py:131: RuntimeWarning: invalid value encountered in double_scalars\n",
            "  odds = y_z_1.mean() / y_z_0.mean()\n",
            "FAGTB/functions.py:131: RuntimeWarning: invalid value encountered in double_scalars\n",
            "  odds = y_z_1.mean() / y_z_0.mean()\n",
            "FAGTB/functions.py:131: RuntimeWarning: invalid value encountered in double_scalars\n",
            "  odds = y_z_1.mean() / y_z_0.mean()\n",
            "FAGTB/functions.py:131: RuntimeWarning: invalid value encountered in double_scalars\n",
            "  odds = y_z_1.mean() / y_z_0.mean()\n"
          ],
          "name": "stderr"
        },
        {
          "output_type": "stream",
          "text": [
            "0 11416.36531535605 11230.71190134787 12943.166698651277 Accuracy: 0.7528  test :  0.7477  Prule Train :  nan  Prule test :  nan\n"
          ],
          "name": "stdout"
        },
        {
          "output_type": "stream",
          "text": [
            "FAGTB/functions.py:131: RuntimeWarning: invalid value encountered in double_scalars\n",
            "  odds = y_z_1.mean() / y_z_0.mean()\n",
            "FAGTB/functions.py:131: RuntimeWarning: invalid value encountered in double_scalars\n",
            "  odds = y_z_1.mean() / y_z_0.mean()\n",
            "FAGTB/functions.py:131: RuntimeWarning: invalid value encountered in double_scalars\n",
            "  odds = y_z_1.mean() / y_z_0.mean()\n",
            "FAGTB/functions.py:131: RuntimeWarning: invalid value encountered in double_scalars\n",
            "  odds = y_z_1.mean() / y_z_0.mean()\n"
          ],
          "name": "stderr"
        },
        {
          "output_type": "stream",
          "text": [
            "5 34450.625416596966 11159.641031891995 16327.23484438154 Accuracy: 0.7528  test :  0.7477  Prule Train :  nan  Prule test :  nan\n"
          ],
          "name": "stdout"
        },
        {
          "output_type": "stream",
          "text": [
            "FAGTB/functions.py:131: RuntimeWarning: invalid value encountered in double_scalars\n",
            "  odds = y_z_1.mean() / y_z_0.mean()\n",
            "FAGTB/functions.py:131: RuntimeWarning: invalid value encountered in double_scalars\n",
            "  odds = y_z_1.mean() / y_z_0.mean()\n",
            "FAGTB/functions.py:131: RuntimeWarning: invalid value encountered in double_scalars\n",
            "  odds = y_z_1.mean() / y_z_0.mean()\n",
            "FAGTB/functions.py:131: RuntimeWarning: invalid value encountered in double_scalars\n",
            "  odds = y_z_1.mean() / y_z_0.mean()\n"
          ],
          "name": "stderr"
        },
        {
          "output_type": "stream",
          "text": [
            "10 7286.1340171748925 11087.959045489495 12180.87914806573 Accuracy: 0.7528  test :  0.7477  Prule Train :  nan  Prule test :  nan\n"
          ],
          "name": "stdout"
        },
        {
          "output_type": "stream",
          "text": [
            "FAGTB/functions.py:131: RuntimeWarning: invalid value encountered in double_scalars\n",
            "  odds = y_z_1.mean() / y_z_0.mean()\n",
            "FAGTB/functions.py:131: RuntimeWarning: invalid value encountered in double_scalars\n",
            "  odds = y_z_1.mean() / y_z_0.mean()\n",
            "FAGTB/functions.py:131: RuntimeWarning: invalid value encountered in double_scalars\n",
            "  odds = y_z_1.mean() / y_z_0.mean()\n",
            "FAGTB/functions.py:131: RuntimeWarning: invalid value encountered in double_scalars\n",
            "  odds = y_z_1.mean() / y_z_0.mean()\n"
          ],
          "name": "stderr"
        },
        {
          "output_type": "stream",
          "text": [
            "15 19742.89439459336 11029.671131152894 13991.105290341899 Accuracy: 0.7528  test :  0.7477  Prule Train :  nan  Prule test :  nan\n"
          ],
          "name": "stdout"
        },
        {
          "output_type": "stream",
          "text": [
            "FAGTB/functions.py:131: RuntimeWarning: invalid value encountered in double_scalars\n",
            "  odds = y_z_1.mean() / y_z_0.mean()\n",
            "FAGTB/functions.py:131: RuntimeWarning: invalid value encountered in double_scalars\n",
            "  odds = y_z_1.mean() / y_z_0.mean()\n",
            "FAGTB/functions.py:131: RuntimeWarning: invalid value encountered in double_scalars\n",
            "  odds = y_z_1.mean() / y_z_0.mean()\n",
            "FAGTB/functions.py:131: RuntimeWarning: invalid value encountered in double_scalars\n",
            "  odds = y_z_1.mean() / y_z_0.mean()\n",
            "FAGTB/functions.py:131: RuntimeWarning: invalid value encountered in double_scalars\n",
            "  odds = y_z_1.mean() / y_z_0.mean()\n",
            "FAGTB/functions.py:131: RuntimeWarning: invalid value encountered in double_scalars\n",
            "  odds = y_z_1.mean() / y_z_0.mean()\n",
            "FAGTB/functions.py:131: RuntimeWarning: invalid value encountered in double_scalars\n",
            "  odds = y_z_1.mean() / y_z_0.mean()\n",
            "FAGTB/functions.py:131: RuntimeWarning: invalid value encountered in double_scalars\n",
            "  odds = y_z_1.mean() / y_z_0.mean()\n"
          ],
          "name": "stderr"
        },
        {
          "output_type": "stream",
          "text": [
            "20 30107.52505338992 10960.815454336089 15476.944212344577 Accuracy: 0.7528  test :  0.7477  Prule Train :  nan  Prule test :  nan\n"
          ],
          "name": "stdout"
        },
        {
          "output_type": "stream",
          "text": [
            "FAGTB/functions.py:131: RuntimeWarning: invalid value encountered in double_scalars\n",
            "  odds = y_z_1.mean() / y_z_0.mean()\n",
            "FAGTB/functions.py:131: RuntimeWarning: invalid value encountered in double_scalars\n",
            "  odds = y_z_1.mean() / y_z_0.mean()\n",
            "FAGTB/functions.py:131: RuntimeWarning: invalid value encountered in double_scalars\n",
            "  odds = y_z_1.mean() / y_z_0.mean()\n",
            "FAGTB/functions.py:131: RuntimeWarning: invalid value encountered in double_scalars\n",
            "  odds = y_z_1.mean() / y_z_0.mean()\n"
          ],
          "name": "stderr"
        },
        {
          "output_type": "stream",
          "text": [
            "25 18148.10649434951 10887.939959489724 13610.155933642149 Accuracy: 0.7528  test :  0.7477  Prule Train :  nan  Prule test :  nan\n"
          ],
          "name": "stdout"
        },
        {
          "output_type": "stream",
          "text": [
            "FAGTB/functions.py:131: RuntimeWarning: invalid value encountered in double_scalars\n",
            "  odds = y_z_1.mean() / y_z_0.mean()\n",
            "FAGTB/functions.py:131: RuntimeWarning: invalid value encountered in double_scalars\n",
            "  odds = y_z_1.mean() / y_z_0.mean()\n",
            "FAGTB/functions.py:131: RuntimeWarning: invalid value encountered in double_scalars\n",
            "  odds = y_z_1.mean() / y_z_0.mean()\n",
            "FAGTB/functions.py:131: RuntimeWarning: invalid value encountered in double_scalars\n",
            "  odds = y_z_1.mean() / y_z_0.mean()\n"
          ],
          "name": "stderr"
        },
        {
          "output_type": "stream",
          "text": [
            "30 15528.418556833145 10828.39058719749 13157.653370722459 Accuracy: 0.7528  test :  0.7477  Prule Train :  nan  Prule test :  nan\n"
          ],
          "name": "stdout"
        },
        {
          "output_type": "stream",
          "text": [
            "FAGTB/functions.py:131: RuntimeWarning: invalid value encountered in double_scalars\n",
            "  odds = y_z_1.mean() / y_z_0.mean()\n",
            "FAGTB/functions.py:131: RuntimeWarning: invalid value encountered in double_scalars\n",
            "  odds = y_z_1.mean() / y_z_0.mean()\n",
            "FAGTB/functions.py:131: RuntimeWarning: invalid value encountered in double_scalars\n",
            "  odds = y_z_1.mean() / y_z_0.mean()\n",
            "FAGTB/functions.py:131: RuntimeWarning: invalid value encountered in double_scalars\n",
            "  odds = y_z_1.mean() / y_z_0.mean()\n"
          ],
          "name": "stderr"
        },
        {
          "output_type": "stream",
          "text": [
            "35 40143.82291634924 10768.218618184887 16789.792055637274 Accuracy: 0.7528  test :  0.7477  Prule Train :  nan  Prule test :  nan\n"
          ],
          "name": "stdout"
        },
        {
          "output_type": "stream",
          "text": [
            "FAGTB/functions.py:131: RuntimeWarning: invalid value encountered in double_scalars\n",
            "  odds = y_z_1.mean() / y_z_0.mean()\n",
            "FAGTB/functions.py:131: RuntimeWarning: invalid value encountered in double_scalars\n",
            "  odds = y_z_1.mean() / y_z_0.mean()\n",
            "FAGTB/functions.py:131: RuntimeWarning: invalid value encountered in double_scalars\n",
            "  odds = y_z_1.mean() / y_z_0.mean()\n",
            "FAGTB/functions.py:131: RuntimeWarning: invalid value encountered in double_scalars\n",
            "  odds = y_z_1.mean() / y_z_0.mean()\n",
            "FAGTB/functions.py:131: RuntimeWarning: invalid value encountered in double_scalars\n",
            "  odds = y_z_1.mean() / y_z_0.mean()\n",
            "FAGTB/functions.py:131: RuntimeWarning: invalid value encountered in double_scalars\n",
            "  odds = y_z_1.mean() / y_z_0.mean()\n",
            "FAGTB/functions.py:131: RuntimeWarning: invalid value encountered in double_scalars\n",
            "  odds = y_z_1.mean() / y_z_0.mean()\n",
            "FAGTB/functions.py:131: RuntimeWarning: invalid value encountered in double_scalars\n",
            "  odds = y_z_1.mean() / y_z_0.mean()\n"
          ],
          "name": "stderr"
        },
        {
          "output_type": "stream",
          "text": [
            "40 -414.57658450207225 10710.794351439927 10648.607863764617 Accuracy: 0.7528  test :  0.7477  Prule Train :  nan  Prule test :  nan\n"
          ],
          "name": "stdout"
        },
        {
          "output_type": "stream",
          "text": [
            "FAGTB/functions.py:131: RuntimeWarning: invalid value encountered in double_scalars\n",
            "  odds = y_z_1.mean() / y_z_0.mean()\n",
            "FAGTB/functions.py:131: RuntimeWarning: invalid value encountered in double_scalars\n",
            "  odds = y_z_1.mean() / y_z_0.mean()\n",
            "FAGTB/functions.py:131: RuntimeWarning: invalid value encountered in double_scalars\n",
            "  odds = y_z_1.mean() / y_z_0.mean()\n",
            "FAGTB/functions.py:131: RuntimeWarning: invalid value encountered in double_scalars\n",
            "  odds = y_z_1.mean() / y_z_0.mean()\n"
          ],
          "name": "stderr"
        },
        {
          "output_type": "stream",
          "text": [
            "45 19719.383375344667 10658.142912339563 13616.050418641262 Accuracy: 0.7528  test :  0.7477  Prule Train :  nan  Prule test :  nan\n"
          ],
          "name": "stdout"
        },
        {
          "output_type": "stream",
          "text": [
            "FAGTB/functions.py:131: RuntimeWarning: invalid value encountered in double_scalars\n",
            "  odds = y_z_1.mean() / y_z_0.mean()\n",
            "FAGTB/functions.py:131: RuntimeWarning: invalid value encountered in double_scalars\n",
            "  odds = y_z_1.mean() / y_z_0.mean()\n",
            "FAGTB/functions.py:131: RuntimeWarning: invalid value encountered in double_scalars\n",
            "  odds = y_z_1.mean() / y_z_0.mean()\n",
            "FAGTB/functions.py:131: RuntimeWarning: invalid value encountered in double_scalars\n",
            "  odds = y_z_1.mean() / y_z_0.mean()\n"
          ],
          "name": "stderr"
        },
        {
          "output_type": "stream",
          "text": [
            "50 41059.972847744546 10605.368554195245 16764.364481356926 Accuracy: 0.7528  test :  0.7477  Prule Train :  nan  Prule test :  nan\n"
          ],
          "name": "stdout"
        },
        {
          "output_type": "stream",
          "text": [
            "FAGTB/functions.py:131: RuntimeWarning: invalid value encountered in double_scalars\n",
            "  odds = y_z_1.mean() / y_z_0.mean()\n",
            "FAGTB/functions.py:131: RuntimeWarning: invalid value encountered in double_scalars\n",
            "  odds = y_z_1.mean() / y_z_0.mean()\n",
            "FAGTB/functions.py:131: RuntimeWarning: invalid value encountered in double_scalars\n",
            "  odds = y_z_1.mean() / y_z_0.mean()\n",
            "FAGTB/functions.py:131: RuntimeWarning: invalid value encountered in double_scalars\n",
            "  odds = y_z_1.mean() / y_z_0.mean()\n"
          ],
          "name": "stderr"
        },
        {
          "output_type": "stream",
          "text": [
            "55 977.809254406144 10549.356013507242 10696.027401668165 Accuracy: 0.7528  test :  0.7477  Prule Train :  nan  Prule test :  nan\n"
          ],
          "name": "stdout"
        },
        {
          "output_type": "stream",
          "text": [
            "FAGTB/functions.py:131: RuntimeWarning: invalid value encountered in double_scalars\n",
            "  odds = y_z_1.mean() / y_z_0.mean()\n",
            "FAGTB/functions.py:131: RuntimeWarning: invalid value encountered in double_scalars\n",
            "  odds = y_z_1.mean() / y_z_0.mean()\n",
            "FAGTB/functions.py:131: RuntimeWarning: invalid value encountered in double_scalars\n",
            "  odds = y_z_1.mean() / y_z_0.mean()\n",
            "FAGTB/functions.py:131: RuntimeWarning: invalid value encountered in double_scalars\n",
            "  odds = y_z_1.mean() / y_z_0.mean()\n",
            "FAGTB/functions.py:131: RuntimeWarning: invalid value encountered in double_scalars\n",
            "  odds = y_z_1.mean() / y_z_0.mean()\n",
            "FAGTB/functions.py:131: RuntimeWarning: invalid value encountered in double_scalars\n",
            "  odds = y_z_1.mean() / y_z_0.mean()\n",
            "FAGTB/functions.py:131: RuntimeWarning: invalid value encountered in double_scalars\n",
            "  odds = y_z_1.mean() / y_z_0.mean()\n",
            "FAGTB/functions.py:131: RuntimeWarning: invalid value encountered in double_scalars\n",
            "  odds = y_z_1.mean() / y_z_0.mean()\n"
          ],
          "name": "stderr"
        },
        {
          "output_type": "stream",
          "text": [
            "60 21594.50532504359 10501.128717154908 13740.304515911448 Accuracy: 0.7528  test :  0.7477  Prule Train :  nan  Prule test :  nan\n"
          ],
          "name": "stdout"
        },
        {
          "output_type": "stream",
          "text": [
            "FAGTB/functions.py:131: RuntimeWarning: invalid value encountered in double_scalars\n",
            "  odds = y_z_1.mean() / y_z_0.mean()\n",
            "FAGTB/functions.py:131: RuntimeWarning: invalid value encountered in double_scalars\n",
            "  odds = y_z_1.mean() / y_z_0.mean()\n",
            "FAGTB/functions.py:131: RuntimeWarning: invalid value encountered in double_scalars\n",
            "  odds = y_z_1.mean() / y_z_0.mean()\n",
            "FAGTB/functions.py:131: RuntimeWarning: invalid value encountered in double_scalars\n",
            "  odds = y_z_1.mean() / y_z_0.mean()\n"
          ],
          "name": "stderr"
        },
        {
          "output_type": "stream",
          "text": [
            "65 34031.285982505055 10445.544268614518 15550.237165990275 Accuracy: 0.7528  test :  0.7477  Prule Train :  nan  Prule test :  nan\n"
          ],
          "name": "stdout"
        },
        {
          "output_type": "stream",
          "text": [
            "FAGTB/functions.py:131: RuntimeWarning: invalid value encountered in double_scalars\n",
            "  odds = y_z_1.mean() / y_z_0.mean()\n",
            "FAGTB/functions.py:131: RuntimeWarning: invalid value encountered in double_scalars\n",
            "  odds = y_z_1.mean() / y_z_0.mean()\n",
            "FAGTB/functions.py:131: RuntimeWarning: invalid value encountered in double_scalars\n",
            "  odds = y_z_1.mean() / y_z_0.mean()\n",
            "FAGTB/functions.py:131: RuntimeWarning: invalid value encountered in double_scalars\n",
            "  odds = y_z_1.mean() / y_z_0.mean()\n"
          ],
          "name": "stderr"
        },
        {
          "output_type": "stream",
          "text": [
            "70 18514.171298791272 10385.377736363553 13162.503431182242 Accuracy: 0.7528  test :  0.7477  Prule Train :  nan  Prule test :  nan\n"
          ],
          "name": "stdout"
        },
        {
          "output_type": "stream",
          "text": [
            "FAGTB/functions.py:131: RuntimeWarning: invalid value encountered in double_scalars\n",
            "  odds = y_z_1.mean() / y_z_0.mean()\n",
            "FAGTB/functions.py:131: RuntimeWarning: invalid value encountered in double_scalars\n",
            "  odds = y_z_1.mean() / y_z_0.mean()\n",
            "FAGTB/functions.py:131: RuntimeWarning: invalid value encountered in double_scalars\n",
            "  odds = y_z_1.mean() / y_z_0.mean()\n",
            "FAGTB/functions.py:131: RuntimeWarning: invalid value encountered in double_scalars\n",
            "  odds = y_z_1.mean() / y_z_0.mean()\n"
          ],
          "name": "stderr"
        },
        {
          "output_type": "stream",
          "text": [
            "75 16680.914294624992 10339.320288625568 12841.457432819316 Accuracy: 0.7528  test :  0.7477  Prule Train :  nan  Prule test :  nan\n"
          ],
          "name": "stdout"
        },
        {
          "output_type": "stream",
          "text": [
            "FAGTB/functions.py:131: RuntimeWarning: invalid value encountered in double_scalars\n",
            "  odds = y_z_1.mean() / y_z_0.mean()\n",
            "FAGTB/functions.py:131: RuntimeWarning: invalid value encountered in double_scalars\n",
            "  odds = y_z_1.mean() / y_z_0.mean()\n",
            "FAGTB/functions.py:131: RuntimeWarning: invalid value encountered in double_scalars\n",
            "  odds = y_z_1.mean() / y_z_0.mean()\n",
            "FAGTB/functions.py:131: RuntimeWarning: invalid value encountered in double_scalars\n",
            "  odds = y_z_1.mean() / y_z_0.mean()\n",
            "FAGTB/functions.py:131: RuntimeWarning: invalid value encountered in double_scalars\n",
            "  odds = y_z_1.mean() / y_z_0.mean()\n",
            "FAGTB/functions.py:131: RuntimeWarning: invalid value encountered in double_scalars\n",
            "  odds = y_z_1.mean() / y_z_0.mean()\n",
            "FAGTB/functions.py:131: RuntimeWarning: invalid value encountered in double_scalars\n",
            "  odds = y_z_1.mean() / y_z_0.mean()\n",
            "FAGTB/functions.py:131: RuntimeWarning: invalid value encountered in double_scalars\n",
            "  odds = y_z_1.mean() / y_z_0.mean()\n"
          ],
          "name": "stderr"
        },
        {
          "output_type": "stream",
          "text": [
            "80 42618.38023835882 10291.547453568011 16684.304489321836 Accuracy: 0.7528  test :  0.7477  Prule Train :  nan  Prule test :  nan\n"
          ],
          "name": "stdout"
        },
        {
          "output_type": "stream",
          "text": [
            "FAGTB/functions.py:131: RuntimeWarning: invalid value encountered in double_scalars\n",
            "  odds = y_z_1.mean() / y_z_0.mean()\n",
            "FAGTB/functions.py:131: RuntimeWarning: invalid value encountered in double_scalars\n",
            "  odds = y_z_1.mean() / y_z_0.mean()\n",
            "FAGTB/functions.py:131: RuntimeWarning: invalid value encountered in double_scalars\n",
            "  odds = y_z_1.mean() / y_z_0.mean()\n",
            "FAGTB/functions.py:131: RuntimeWarning: invalid value encountered in double_scalars\n",
            "  odds = y_z_1.mean() / y_z_0.mean()\n"
          ],
          "name": "stderr"
        },
        {
          "output_type": "stream",
          "text": [
            "85 8552.24552355047 10241.061018994104 11523.897847526674 Accuracy: 0.7528  test :  0.7477  Prule Train :  nan  Prule test :  nan\n"
          ],
          "name": "stdout"
        },
        {
          "output_type": "stream",
          "text": [
            "FAGTB/functions.py:131: RuntimeWarning: invalid value encountered in double_scalars\n",
            "  odds = y_z_1.mean() / y_z_0.mean()\n",
            "FAGTB/functions.py:131: RuntimeWarning: invalid value encountered in double_scalars\n",
            "  odds = y_z_1.mean() / y_z_0.mean()\n",
            "FAGTB/functions.py:131: RuntimeWarning: invalid value encountered in double_scalars\n",
            "  odds = y_z_1.mean() / y_z_0.mean()\n",
            "FAGTB/functions.py:131: RuntimeWarning: invalid value encountered in double_scalars\n",
            "  odds = y_z_1.mean() / y_z_0.mean()\n"
          ],
          "name": "stderr"
        },
        {
          "output_type": "stream",
          "text": [
            "90 854.4554814266461 10195.373023842349 10323.541346056345 Accuracy: 0.7528  test :  0.7477  Prule Train :  nan  Prule test :  nan\n"
          ],
          "name": "stdout"
        },
        {
          "output_type": "stream",
          "text": [
            "FAGTB/functions.py:131: RuntimeWarning: invalid value encountered in double_scalars\n",
            "  odds = y_z_1.mean() / y_z_0.mean()\n",
            "FAGTB/functions.py:131: RuntimeWarning: invalid value encountered in double_scalars\n",
            "  odds = y_z_1.mean() / y_z_0.mean()\n",
            "FAGTB/functions.py:131: RuntimeWarning: invalid value encountered in double_scalars\n",
            "  odds = y_z_1.mean() / y_z_0.mean()\n",
            "FAGTB/functions.py:131: RuntimeWarning: invalid value encountered in double_scalars\n",
            "  odds = y_z_1.mean() / y_z_0.mean()\n"
          ],
          "name": "stderr"
        },
        {
          "output_type": "stream",
          "text": [
            "95 27551.889944768154 10136.98817713124 14269.771668846464 Accuracy: 0.7528  test :  0.7477  Prule Train :  nan  Prule test :  nan\n"
          ],
          "name": "stdout"
        },
        {
          "output_type": "stream",
          "text": [
            "FAGTB/functions.py:131: RuntimeWarning: invalid value encountered in double_scalars\n",
            "  odds = y_z_1.mean() / y_z_0.mean()\n",
            "FAGTB/functions.py:131: RuntimeWarning: invalid value encountered in double_scalars\n",
            "  odds = y_z_1.mean() / y_z_0.mean()\n",
            "FAGTB/functions.py:131: RuntimeWarning: invalid value encountered in double_scalars\n",
            "  odds = y_z_1.mean() / y_z_0.mean()\n",
            "FAGTB/functions.py:131: RuntimeWarning: invalid value encountered in double_scalars\n",
            "  odds = y_z_1.mean() / y_z_0.mean()\n",
            "FAGTB/functions.py:131: RuntimeWarning: invalid value encountered in double_scalars\n",
            "  odds = y_z_1.mean() / y_z_0.mean()\n",
            "FAGTB/functions.py:131: RuntimeWarning: invalid value encountered in double_scalars\n",
            "  odds = y_z_1.mean() / y_z_0.mean()\n",
            "FAGTB/functions.py:131: RuntimeWarning: invalid value encountered in double_scalars\n",
            "  odds = y_z_1.mean() / y_z_0.mean()\n",
            "FAGTB/functions.py:131: RuntimeWarning: invalid value encountered in double_scalars\n",
            "  odds = y_z_1.mean() / y_z_0.mean()\n"
          ],
          "name": "stderr"
        },
        {
          "output_type": "stream",
          "text": [
            "100 35633.1736103624 10076.365889177621 15421.341930731982 Accuracy: 0.7528  test :  0.7477  Prule Train :  nan  Prule test :  nan\n"
          ],
          "name": "stdout"
        },
        {
          "output_type": "stream",
          "text": [
            "FAGTB/functions.py:131: RuntimeWarning: invalid value encountered in double_scalars\n",
            "  odds = y_z_1.mean() / y_z_0.mean()\n",
            "FAGTB/functions.py:131: RuntimeWarning: invalid value encountered in double_scalars\n",
            "  odds = y_z_1.mean() / y_z_0.mean()\n",
            "FAGTB/functions.py:131: RuntimeWarning: invalid value encountered in double_scalars\n",
            "  odds = y_z_1.mean() / y_z_0.mean()\n",
            "FAGTB/functions.py:132: RuntimeWarning: divide by zero encountered in double_scalars\n",
            "  return np.min([odds, 1/odds]) * 100\n"
          ],
          "name": "stderr"
        },
        {
          "output_type": "stream",
          "text": [
            "105 10463.638932794784 10030.193461351479 11599.739301270698 Accuracy: 0.7528  test :  0.7477  Prule Train :  nan  Prule test :  nan\n"
          ],
          "name": "stdout"
        },
        {
          "output_type": "stream",
          "text": [
            "FAGTB/functions.py:132: RuntimeWarning: divide by zero encountered in double_scalars\n",
            "  return np.min([odds, 1/odds]) * 100\n",
            "FAGTB/functions.py:132: RuntimeWarning: divide by zero encountered in double_scalars\n",
            "  return np.min([odds, 1/odds]) * 100\n",
            "FAGTB/functions.py:132: RuntimeWarning: divide by zero encountered in double_scalars\n",
            "  return np.min([odds, 1/odds]) * 100\n",
            "FAGTB/functions.py:132: RuntimeWarning: divide by zero encountered in double_scalars\n",
            "  return np.min([odds, 1/odds]) * 100\n"
          ],
          "name": "stderr"
        },
        {
          "output_type": "stream",
          "text": [
            "110 38527.91192763105 9985.69610630823 15764.88289545289 Accuracy: 0.7549  test :  0.7489  Prule Train :  0.0  Prule test :  0.0\n"
          ],
          "name": "stdout"
        },
        {
          "output_type": "stream",
          "text": [
            "FAGTB/functions.py:132: RuntimeWarning: divide by zero encountered in double_scalars\n",
            "  return np.min([odds, 1/odds]) * 100\n",
            "FAGTB/functions.py:132: RuntimeWarning: divide by zero encountered in double_scalars\n",
            "  return np.min([odds, 1/odds]) * 100\n",
            "FAGTB/functions.py:132: RuntimeWarning: divide by zero encountered in double_scalars\n",
            "  return np.min([odds, 1/odds]) * 100\n",
            "FAGTB/functions.py:132: RuntimeWarning: divide by zero encountered in double_scalars\n",
            "  return np.min([odds, 1/odds]) * 100\n"
          ],
          "name": "stderr"
        },
        {
          "output_type": "stream",
          "text": [
            "115 13942.059889212416 9938.487737068677 12029.79672045054 Accuracy: 0.7569  test :  0.7497  Prule Train :  0.0  Prule test :  0.0\n"
          ],
          "name": "stdout"
        },
        {
          "output_type": "stream",
          "text": [
            "FAGTB/functions.py:132: RuntimeWarning: divide by zero encountered in double_scalars\n",
            "  return np.min([odds, 1/odds]) * 100\n",
            "FAGTB/functions.py:132: RuntimeWarning: divide by zero encountered in double_scalars\n",
            "  return np.min([odds, 1/odds]) * 100\n",
            "FAGTB/functions.py:132: RuntimeWarning: divide by zero encountered in double_scalars\n",
            "  return np.min([odds, 1/odds]) * 100\n",
            "FAGTB/functions.py:132: RuntimeWarning: divide by zero encountered in double_scalars\n",
            "  return np.min([odds, 1/odds]) * 100\n",
            "FAGTB/functions.py:132: RuntimeWarning: divide by zero encountered in double_scalars\n",
            "  return np.min([odds, 1/odds]) * 100\n",
            "FAGTB/functions.py:132: RuntimeWarning: divide by zero encountered in double_scalars\n",
            "  return np.min([odds, 1/odds]) * 100\n",
            "FAGTB/functions.py:132: RuntimeWarning: divide by zero encountered in double_scalars\n",
            "  return np.min([odds, 1/odds]) * 100\n",
            "FAGTB/functions.py:132: RuntimeWarning: divide by zero encountered in double_scalars\n",
            "  return np.min([odds, 1/odds]) * 100\n"
          ],
          "name": "stderr"
        },
        {
          "output_type": "stream",
          "text": [
            "120 21566.494303145268 9906.037563046631 13141.011708518423 Accuracy: 0.758  test :  0.7505  Prule Train :  0.0  Prule test :  0.0\n"
          ],
          "name": "stdout"
        },
        {
          "output_type": "stream",
          "text": [
            "FAGTB/functions.py:132: RuntimeWarning: divide by zero encountered in double_scalars\n",
            "  return np.min([odds, 1/odds]) * 100\n",
            "FAGTB/functions.py:132: RuntimeWarning: divide by zero encountered in double_scalars\n",
            "  return np.min([odds, 1/odds]) * 100\n",
            "FAGTB/functions.py:132: RuntimeWarning: divide by zero encountered in double_scalars\n",
            "  return np.min([odds, 1/odds]) * 100\n",
            "FAGTB/functions.py:132: RuntimeWarning: divide by zero encountered in double_scalars\n",
            "  return np.min([odds, 1/odds]) * 100\n"
          ],
          "name": "stderr"
        },
        {
          "output_type": "stream",
          "text": [
            "125 44452.180452548884 9869.529560690067 16537.3566285724 Accuracy: 0.7595  test :  0.751  Prule Train :  0.0  Prule test :  0.0\n"
          ],
          "name": "stdout"
        },
        {
          "output_type": "stream",
          "text": [
            "FAGTB/functions.py:132: RuntimeWarning: divide by zero encountered in double_scalars\n",
            "  return np.min([odds, 1/odds]) * 100\n",
            "FAGTB/functions.py:132: RuntimeWarning: divide by zero encountered in double_scalars\n",
            "  return np.min([odds, 1/odds]) * 100\n",
            "FAGTB/functions.py:132: RuntimeWarning: divide by zero encountered in double_scalars\n",
            "  return np.min([odds, 1/odds]) * 100\n",
            "FAGTB/functions.py:132: RuntimeWarning: divide by zero encountered in double_scalars\n",
            "  return np.min([odds, 1/odds]) * 100\n"
          ],
          "name": "stderr"
        },
        {
          "output_type": "stream",
          "text": [
            "130 4287.942723098007 9830.711798381471 10473.903206846173 Accuracy: 0.7607  test :  0.7516  Prule Train :  0.0  Prule test :  0.011671449067431849\n"
          ],
          "name": "stdout"
        },
        {
          "output_type": "stream",
          "text": [
            "FAGTB/functions.py:132: RuntimeWarning: divide by zero encountered in double_scalars\n",
            "  return np.min([odds, 1/odds]) * 100\n",
            "FAGTB/functions.py:132: RuntimeWarning: divide by zero encountered in double_scalars\n",
            "  return np.min([odds, 1/odds]) * 100\n",
            "FAGTB/functions.py:132: RuntimeWarning: divide by zero encountered in double_scalars\n",
            "  return np.min([odds, 1/odds]) * 100\n",
            "FAGTB/functions.py:132: RuntimeWarning: divide by zero encountered in double_scalars\n",
            "  return np.min([odds, 1/odds]) * 100\n"
          ],
          "name": "stderr"
        },
        {
          "output_type": "stream",
          "text": [
            "135 18357.03855270677 9797.989863272356 12551.545646178372 Accuracy: 0.7631  test :  0.7531  Prule Train :  0.0  Prule test :  0.024751521298174442\n"
          ],
          "name": "stdout"
        },
        {
          "output_type": "stream",
          "text": [
            "FAGTB/functions.py:132: RuntimeWarning: divide by zero encountered in double_scalars\n",
            "  return np.min([odds, 1/odds]) * 100\n"
          ],
          "name": "stderr"
        },
        {
          "output_type": "stream",
          "text": [
            "140 46976.4007570804 9765.52025674599 16811.980370308047 Accuracy: 0.7643  test :  0.7541  Prule Train :  0.0018704549491985808  Prule test :  0.03148219814241486\n",
            "145 19698.434278131608 9726.64314844045 12681.408290160192 Accuracy: 0.7664  test :  0.756  Prule Train :  0.0077533374507102485  Prule test :  0.07250445632798573\n",
            "150 19204.231803129966 9699.373503187031 12580.008273656525 Accuracy: 0.7678  test :  0.7574  Prule Train :  0.016817734878508524  Prule test :  0.0627579556412729\n",
            "155 44428.40818878269 9670.44125676029 16334.702485077694 Accuracy: 0.7692  test :  0.7585  Prule Train :  0.02595075928232581  Prule test :  0.07281969309462916\n",
            "160 10460.010636827177 9635.438061682744 11204.439657206822 Accuracy: 0.7705  test :  0.7597  Prule Train :  0.0413384330910104  Prule test :  0.08729928457869635\n",
            "165 17825.687023414677 9611.549935635643 12285.402989147844 Accuracy: 0.7714  test :  0.7605  Prule Train :  0.044509900180003274  Prule test :  0.09753465717497187\n",
            "170 37216.7151144944 9582.703620514629 15165.210887688789 Accuracy: 0.7747  test :  0.7633  Prule Train :  0.10778182106368506  Prule test :  0.15290288896623735\n",
            "175 29171.01650450783 9544.376017366716 13920.028493042893 Accuracy: 0.7852  test :  0.7753  Prule Train :  0.33008541973490424  Prule test :  0.473091577540107\n",
            "180 15508.37646854346 9521.159414241534 11847.415884523054 Accuracy: 0.7956  test :  0.7834  Prule Train :  0.5305426287546481  Prule test :  0.6662398440038999\n",
            "185 40413.64667787873 9495.791847592356 15557.838849274163 Accuracy: 0.8055  test :  0.793  Prule Train :  0.6951301340145075  Prule test :  0.8764643962848297\n",
            "190 24376.493957677358 9461.796851634395 13118.270945286002 Accuracy: 0.8123  test :  0.7985  Prule Train :  0.7963518285217452  Prule test :  0.942774363476734\n",
            "195 115.00857048965415 9431.980814463235 9449.232100036683 Accuracy: 0.8161  test :  0.801  Prule Train :  0.8255216948000456  Prule test :  0.9304738562091502\n",
            "200 30997.069327852812 9395.566073802474 14045.126472980395 Accuracy: 0.8196  test :  0.8036  Prule Train :  0.8410157934564155  Prule test :  0.9340726945800154\n",
            "205 44097.992487927884 9356.779617040751 15971.478490229936 Accuracy: 0.821  test :  0.8057  Prule Train :  0.8416678543715457  Prule test :  0.9350344572975635\n",
            "210 10837.003028928864 9331.672548785065 10957.223003124396 Accuracy: 0.8223  test :  0.8064  Prule Train :  0.7932457457822365  Prule test :  0.8825795376516364\n",
            "215 43126.467696799875 9309.971897608993 15778.942052128974 Accuracy: 0.8233  test :  0.8069  Prule Train :  0.7772320184691318  Prule test :  0.8542636165577342\n",
            "220 18651.51211199409 9284.260631751698 12081.98744855081 Accuracy: 0.8266  test :  0.809  Prule Train :  0.8019166163306026  Prule test :  0.8719112413648732\n",
            "225 20068.080482322675 9274.5795297429 12284.7916020913 Accuracy: 0.8298  test :  0.8118  Prule Train :  0.8321008707335348  Prule test :  0.9011481706084494\n",
            "230 30255.457304672243 9242.306241875474 13780.624837576312 Accuracy: 0.8313  test :  0.8146  Prule Train :  0.8535141606891217  Prule test :  0.9393949861823924\n",
            "235 47687.113486294416 9207.679204610524 16360.746227554682 Accuracy: 0.8338  test :  0.816  Prule Train :  0.8907821563556375  Prule test :  0.9681505648617064\n",
            "240 11155.063829187417 9189.38291973791 10862.642494116022 Accuracy: 0.8349  test :  0.817  Prule Train :  0.8993871442823886  Prule test :  0.9694479345136112\n",
            "245 45312.24172681351 9174.660001732127 15971.496260754153 Accuracy: 0.841  test :  0.8225  Prule Train :  0.9943841403177026  Prule test :  0.9251588079169667\n",
            "250 16907.441022828876 9156.329875317693 11692.446028742022 Accuracy: 0.8439  test :  0.8268  Prule Train :  0.953080744076924  Prule test :  0.8455889341587516\n",
            "255 26015.0510933755 9159.491814429697 13061.74947843602 Accuracy: 0.8454  test :  0.8277  Prule Train :  0.9473878944156957  Prule test :  0.8510828392431601\n",
            "260 38985.44843344673 9153.002326941118 15000.819591958127 Accuracy: 0.8453  test :  0.8281  Prule Train :  0.9461356160893182  Prule test :  0.8487938871057084\n",
            "265 34060.9716899938 9130.406093507967 14239.551847007035 Accuracy: 0.8476  test :  0.831  Prule Train :  0.9072644603705297  Prule test :  0.8183580402388021\n",
            "270 17944.390073042683 9126.12751819524 11817.78602915164 Accuracy: 0.849  test :  0.8308  Prule Train :  0.9038256751857895  Prule test :  0.8268395568229683\n",
            "275 52200.265086752916 9123.17439761433 16953.214160627267 Accuracy: 0.85  test :  0.8306  Prule Train :  0.9045131823352012  Prule test :  0.8363550856582925\n",
            "280 9033.699859672513 9112.265983152085 10467.320962102964 Accuracy: 0.85  test :  0.8312  Prule Train :  0.9148371342224422  Prule test :  0.8527213179660691\n",
            "285 29356.697943352883 9124.627992548238 13528.132684051172 Accuracy: 0.8485  test :  0.8305  Prule Train :  0.9506083341004633  Prule test :  0.8710945229948247\n",
            "290 48484.651932089764 9119.34064449827 16392.038434311733 Accuracy: 0.8482  test :  0.8307  Prule Train :  0.9661096256684494  Prule test :  0.873849357041841\n",
            "295 21045.3097136423 9106.710959779015 12263.507416825358 Accuracy: 0.8479  test :  0.8308  Prule Train :  0.9774373427887384  Prule test :  0.8825265511029018\n",
            "\n",
            "Results on test set :\n",
            "Accuracy: 0.8325044758305152\n",
            "PRULE :  86.67298657193754\n",
            "DI :  0.019657344806392113\n",
            "DispFPR :  0.036953014720709824\n",
            "DispFNR :  0.27080470300809284\n"
          ],
          "name": "stdout"
        },
        {
          "output_type": "stream",
          "text": [
            "FAGTB/functions.py:131: RuntimeWarning: invalid value encountered in double_scalars\n",
            "  odds = y_z_1.mean() / y_z_0.mean()\n",
            "FAGTB/functions.py:131: RuntimeWarning: invalid value encountered in double_scalars\n",
            "  odds = y_z_1.mean() / y_z_0.mean()\n",
            "FAGTB/functions.py:131: RuntimeWarning: invalid value encountered in double_scalars\n",
            "  odds = y_z_1.mean() / y_z_0.mean()\n",
            "FAGTB/functions.py:131: RuntimeWarning: invalid value encountered in double_scalars\n",
            "  odds = y_z_1.mean() / y_z_0.mean()\n"
          ],
          "name": "stderr"
        },
        {
          "output_type": "stream",
          "text": [
            "0 11676.179245966105 11303.868764723793 13055.295651618708 Accuracy: 0.7495  test :  0.7542  Prule Train :  nan  Prule test :  nan\n"
          ],
          "name": "stdout"
        },
        {
          "output_type": "stream",
          "text": [
            "FAGTB/functions.py:131: RuntimeWarning: invalid value encountered in double_scalars\n",
            "  odds = y_z_1.mean() / y_z_0.mean()\n",
            "FAGTB/functions.py:131: RuntimeWarning: invalid value encountered in double_scalars\n",
            "  odds = y_z_1.mean() / y_z_0.mean()\n",
            "FAGTB/functions.py:131: RuntimeWarning: invalid value encountered in double_scalars\n",
            "  odds = y_z_1.mean() / y_z_0.mean()\n",
            "FAGTB/functions.py:131: RuntimeWarning: invalid value encountered in double_scalars\n",
            "  odds = y_z_1.mean() / y_z_0.mean()\n"
          ],
          "name": "stderr"
        },
        {
          "output_type": "stream",
          "text": [
            "5 35250.6228796399 11232.239220740787 16519.83265268677 Accuracy: 0.7495  test :  0.7542  Prule Train :  nan  Prule test :  nan\n"
          ],
          "name": "stdout"
        },
        {
          "output_type": "stream",
          "text": [
            "FAGTB/functions.py:131: RuntimeWarning: invalid value encountered in double_scalars\n",
            "  odds = y_z_1.mean() / y_z_0.mean()\n",
            "FAGTB/functions.py:131: RuntimeWarning: invalid value encountered in double_scalars\n",
            "  odds = y_z_1.mean() / y_z_0.mean()\n",
            "FAGTB/functions.py:131: RuntimeWarning: invalid value encountered in double_scalars\n",
            "  odds = y_z_1.mean() / y_z_0.mean()\n",
            "FAGTB/functions.py:131: RuntimeWarning: invalid value encountered in double_scalars\n",
            "  odds = y_z_1.mean() / y_z_0.mean()\n"
          ],
          "name": "stderr"
        },
        {
          "output_type": "stream",
          "text": [
            "10 7345.092981546862 11159.517126929153 12261.28107416118 Accuracy: 0.7495  test :  0.7542  Prule Train :  nan  Prule test :  nan\n"
          ],
          "name": "stdout"
        },
        {
          "output_type": "stream",
          "text": [
            "FAGTB/functions.py:131: RuntimeWarning: invalid value encountered in double_scalars\n",
            "  odds = y_z_1.mean() / y_z_0.mean()\n",
            "FAGTB/functions.py:131: RuntimeWarning: invalid value encountered in double_scalars\n",
            "  odds = y_z_1.mean() / y_z_0.mean()\n",
            "FAGTB/functions.py:131: RuntimeWarning: invalid value encountered in double_scalars\n",
            "  odds = y_z_1.mean() / y_z_0.mean()\n",
            "FAGTB/functions.py:131: RuntimeWarning: invalid value encountered in double_scalars\n",
            "  odds = y_z_1.mean() / y_z_0.mean()\n"
          ],
          "name": "stderr"
        },
        {
          "output_type": "stream",
          "text": [
            "15 20208.10140973544 11099.448870452276 14130.66408191259 Accuracy: 0.7495  test :  0.7542  Prule Train :  nan  Prule test :  nan\n"
          ],
          "name": "stdout"
        },
        {
          "output_type": "stream",
          "text": [
            "FAGTB/functions.py:131: RuntimeWarning: invalid value encountered in double_scalars\n",
            "  odds = y_z_1.mean() / y_z_0.mean()\n",
            "FAGTB/functions.py:131: RuntimeWarning: invalid value encountered in double_scalars\n",
            "  odds = y_z_1.mean() / y_z_0.mean()\n",
            "FAGTB/functions.py:131: RuntimeWarning: invalid value encountered in double_scalars\n",
            "  odds = y_z_1.mean() / y_z_0.mean()\n",
            "FAGTB/functions.py:131: RuntimeWarning: invalid value encountered in double_scalars\n",
            "  odds = y_z_1.mean() / y_z_0.mean()\n",
            "FAGTB/functions.py:131: RuntimeWarning: invalid value encountered in double_scalars\n",
            "  odds = y_z_1.mean() / y_z_0.mean()\n",
            "FAGTB/functions.py:131: RuntimeWarning: invalid value encountered in double_scalars\n",
            "  odds = y_z_1.mean() / y_z_0.mean()\n",
            "FAGTB/functions.py:131: RuntimeWarning: invalid value encountered in double_scalars\n",
            "  odds = y_z_1.mean() / y_z_0.mean()\n",
            "FAGTB/functions.py:131: RuntimeWarning: invalid value encountered in double_scalars\n",
            "  odds = y_z_1.mean() / y_z_0.mean()\n"
          ],
          "name": "stderr"
        },
        {
          "output_type": "stream",
          "text": [
            "20 27899.203844700118 11027.141730847397 15212.022307552412 Accuracy: 0.7495  test :  0.7542  Prule Train :  nan  Prule test :  nan\n"
          ],
          "name": "stdout"
        },
        {
          "output_type": "stream",
          "text": [
            "FAGTB/functions.py:131: RuntimeWarning: invalid value encountered in double_scalars\n",
            "  odds = y_z_1.mean() / y_z_0.mean()\n",
            "FAGTB/functions.py:131: RuntimeWarning: invalid value encountered in double_scalars\n",
            "  odds = y_z_1.mean() / y_z_0.mean()\n",
            "FAGTB/functions.py:131: RuntimeWarning: invalid value encountered in double_scalars\n",
            "  odds = y_z_1.mean() / y_z_0.mean()\n",
            "FAGTB/functions.py:131: RuntimeWarning: invalid value encountered in double_scalars\n",
            "  odds = y_z_1.mean() / y_z_0.mean()\n"
          ],
          "name": "stderr"
        },
        {
          "output_type": "stream",
          "text": [
            "25 24312.661060304905 10951.563816366339 14598.462975412072 Accuracy: 0.7495  test :  0.7542  Prule Train :  nan  Prule test :  nan\n"
          ],
          "name": "stdout"
        },
        {
          "output_type": "stream",
          "text": [
            "FAGTB/functions.py:131: RuntimeWarning: invalid value encountered in double_scalars\n",
            "  odds = y_z_1.mean() / y_z_0.mean()\n",
            "FAGTB/functions.py:131: RuntimeWarning: invalid value encountered in double_scalars\n",
            "  odds = y_z_1.mean() / y_z_0.mean()\n",
            "FAGTB/functions.py:131: RuntimeWarning: invalid value encountered in double_scalars\n",
            "  odds = y_z_1.mean() / y_z_0.mean()\n",
            "FAGTB/functions.py:131: RuntimeWarning: invalid value encountered in double_scalars\n",
            "  odds = y_z_1.mean() / y_z_0.mean()\n"
          ],
          "name": "stderr"
        },
        {
          "output_type": "stream",
          "text": [
            "30 13347.227153227775 10888.14343310851 12890.227506092677 Accuracy: 0.7495  test :  0.7542  Prule Train :  nan  Prule test :  nan\n"
          ],
          "name": "stdout"
        },
        {
          "output_type": "stream",
          "text": [
            "FAGTB/functions.py:131: RuntimeWarning: invalid value encountered in double_scalars\n",
            "  odds = y_z_1.mean() / y_z_0.mean()\n",
            "FAGTB/functions.py:131: RuntimeWarning: invalid value encountered in double_scalars\n",
            "  odds = y_z_1.mean() / y_z_0.mean()\n",
            "FAGTB/functions.py:131: RuntimeWarning: invalid value encountered in double_scalars\n",
            "  odds = y_z_1.mean() / y_z_0.mean()\n",
            "FAGTB/functions.py:131: RuntimeWarning: invalid value encountered in double_scalars\n",
            "  odds = y_z_1.mean() / y_z_0.mean()\n"
          ],
          "name": "stderr"
        },
        {
          "output_type": "stream",
          "text": [
            "35 38798.549922279795 10824.24905873393 16644.031547075898 Accuracy: 0.7495  test :  0.7542  Prule Train :  nan  Prule test :  nan\n"
          ],
          "name": "stdout"
        },
        {
          "output_type": "stream",
          "text": [
            "FAGTB/functions.py:131: RuntimeWarning: invalid value encountered in double_scalars\n",
            "  odds = y_z_1.mean() / y_z_0.mean()\n",
            "FAGTB/functions.py:131: RuntimeWarning: invalid value encountered in double_scalars\n",
            "  odds = y_z_1.mean() / y_z_0.mean()\n",
            "FAGTB/functions.py:131: RuntimeWarning: invalid value encountered in double_scalars\n",
            "  odds = y_z_1.mean() / y_z_0.mean()\n",
            "FAGTB/functions.py:131: RuntimeWarning: invalid value encountered in double_scalars\n",
            "  odds = y_z_1.mean() / y_z_0.mean()\n",
            "FAGTB/functions.py:131: RuntimeWarning: invalid value encountered in double_scalars\n",
            "  odds = y_z_1.mean() / y_z_0.mean()\n",
            "FAGTB/functions.py:131: RuntimeWarning: invalid value encountered in double_scalars\n",
            "  odds = y_z_1.mean() / y_z_0.mean()\n",
            "FAGTB/functions.py:131: RuntimeWarning: invalid value encountered in double_scalars\n",
            "  odds = y_z_1.mean() / y_z_0.mean()\n",
            "FAGTB/functions.py:131: RuntimeWarning: invalid value encountered in double_scalars\n",
            "  odds = y_z_1.mean() / y_z_0.mean()\n"
          ],
          "name": "stderr"
        },
        {
          "output_type": "stream",
          "text": [
            "40 3206.0563609262394 10763.228037932106 11244.136492071042 Accuracy: 0.7495  test :  0.7542  Prule Train :  nan  Prule test :  nan\n"
          ],
          "name": "stdout"
        },
        {
          "output_type": "stream",
          "text": [
            "FAGTB/functions.py:131: RuntimeWarning: invalid value encountered in double_scalars\n",
            "  odds = y_z_1.mean() / y_z_0.mean()\n",
            "FAGTB/functions.py:131: RuntimeWarning: invalid value encountered in double_scalars\n",
            "  odds = y_z_1.mean() / y_z_0.mean()\n",
            "FAGTB/functions.py:131: RuntimeWarning: invalid value encountered in double_scalars\n",
            "  odds = y_z_1.mean() / y_z_0.mean()\n",
            "FAGTB/functions.py:131: RuntimeWarning: invalid value encountered in double_scalars\n",
            "  odds = y_z_1.mean() / y_z_0.mean()\n"
          ],
          "name": "stderr"
        },
        {
          "output_type": "stream",
          "text": [
            "45 23799.293703201776 10713.55744038581 14283.451495866077 Accuracy: 0.7495  test :  0.7542  Prule Train :  nan  Prule test :  nan\n"
          ],
          "name": "stdout"
        },
        {
          "output_type": "stream",
          "text": [
            "FAGTB/functions.py:131: RuntimeWarning: invalid value encountered in double_scalars\n",
            "  odds = y_z_1.mean() / y_z_0.mean()\n",
            "FAGTB/functions.py:131: RuntimeWarning: invalid value encountered in double_scalars\n",
            "  odds = y_z_1.mean() / y_z_0.mean()\n",
            "FAGTB/functions.py:131: RuntimeWarning: invalid value encountered in double_scalars\n",
            "  odds = y_z_1.mean() / y_z_0.mean()\n",
            "FAGTB/functions.py:131: RuntimeWarning: invalid value encountered in double_scalars\n",
            "  odds = y_z_1.mean() / y_z_0.mean()\n"
          ],
          "name": "stderr"
        },
        {
          "output_type": "stream",
          "text": [
            "50 32611.463443281056 10648.468497389342 15540.1880138815 Accuracy: 0.7495  test :  0.7542  Prule Train :  nan  Prule test :  nan\n"
          ],
          "name": "stdout"
        },
        {
          "output_type": "stream",
          "text": [
            "FAGTB/functions.py:131: RuntimeWarning: invalid value encountered in double_scalars\n",
            "  odds = y_z_1.mean() / y_z_0.mean()\n",
            "FAGTB/functions.py:131: RuntimeWarning: invalid value encountered in double_scalars\n",
            "  odds = y_z_1.mean() / y_z_0.mean()\n",
            "FAGTB/functions.py:131: RuntimeWarning: invalid value encountered in double_scalars\n",
            "  odds = y_z_1.mean() / y_z_0.mean()\n",
            "FAGTB/functions.py:131: RuntimeWarning: invalid value encountered in double_scalars\n",
            "  odds = y_z_1.mean() / y_z_0.mean()\n"
          ],
          "name": "stderr"
        },
        {
          "output_type": "stream",
          "text": [
            "55 18458.364158619763 10584.44248310276 13353.197106895728 Accuracy: 0.7495  test :  0.7542  Prule Train :  nan  Prule test :  nan\n"
          ],
          "name": "stdout"
        },
        {
          "output_type": "stream",
          "text": [
            "FAGTB/functions.py:131: RuntimeWarning: invalid value encountered in double_scalars\n",
            "  odds = y_z_1.mean() / y_z_0.mean()\n",
            "FAGTB/functions.py:131: RuntimeWarning: invalid value encountered in double_scalars\n",
            "  odds = y_z_1.mean() / y_z_0.mean()\n",
            "FAGTB/functions.py:131: RuntimeWarning: invalid value encountered in double_scalars\n",
            "  odds = y_z_1.mean() / y_z_0.mean()\n",
            "FAGTB/functions.py:131: RuntimeWarning: invalid value encountered in double_scalars\n",
            "  odds = y_z_1.mean() / y_z_0.mean()\n",
            "FAGTB/functions.py:131: RuntimeWarning: invalid value encountered in double_scalars\n",
            "  odds = y_z_1.mean() / y_z_0.mean()\n",
            "FAGTB/functions.py:131: RuntimeWarning: invalid value encountered in double_scalars\n",
            "  odds = y_z_1.mean() / y_z_0.mean()\n",
            "FAGTB/functions.py:131: RuntimeWarning: invalid value encountered in double_scalars\n",
            "  odds = y_z_1.mean() / y_z_0.mean()\n",
            "FAGTB/functions.py:131: RuntimeWarning: invalid value encountered in double_scalars\n",
            "  odds = y_z_1.mean() / y_z_0.mean()\n"
          ],
          "name": "stderr"
        },
        {
          "output_type": "stream",
          "text": [
            "60 17620.579786593546 10532.553356613118 13175.64032460215 Accuracy: 0.7495  test :  0.7542  Prule Train :  nan  Prule test :  nan\n"
          ],
          "name": "stdout"
        },
        {
          "output_type": "stream",
          "text": [
            "FAGTB/functions.py:131: RuntimeWarning: invalid value encountered in double_scalars\n",
            "  odds = y_z_1.mean() / y_z_0.mean()\n",
            "FAGTB/functions.py:131: RuntimeWarning: invalid value encountered in double_scalars\n",
            "  odds = y_z_1.mean() / y_z_0.mean()\n",
            "FAGTB/functions.py:131: RuntimeWarning: invalid value encountered in double_scalars\n",
            "  odds = y_z_1.mean() / y_z_0.mean()\n",
            "FAGTB/functions.py:131: RuntimeWarning: invalid value encountered in double_scalars\n",
            "  odds = y_z_1.mean() / y_z_0.mean()\n"
          ],
          "name": "stderr"
        },
        {
          "output_type": "stream",
          "text": [
            "65 44424.81657424114 10481.928855187767 17145.651341323937 Accuracy: 0.7495  test :  0.7542  Prule Train :  nan  Prule test :  nan\n"
          ],
          "name": "stdout"
        },
        {
          "output_type": "stream",
          "text": [
            "FAGTB/functions.py:131: RuntimeWarning: invalid value encountered in double_scalars\n",
            "  odds = y_z_1.mean() / y_z_0.mean()\n",
            "FAGTB/functions.py:131: RuntimeWarning: invalid value encountered in double_scalars\n",
            "  odds = y_z_1.mean() / y_z_0.mean()\n",
            "FAGTB/functions.py:131: RuntimeWarning: invalid value encountered in double_scalars\n",
            "  odds = y_z_1.mean() / y_z_0.mean()\n",
            "FAGTB/functions.py:131: RuntimeWarning: invalid value encountered in double_scalars\n",
            "  odds = y_z_1.mean() / y_z_0.mean()\n"
          ],
          "name": "stderr"
        },
        {
          "output_type": "stream",
          "text": [
            "70 -3464.386297037885 10429.693996667103 9910.03605211142 Accuracy: 0.7495  test :  0.7542  Prule Train :  nan  Prule test :  nan\n"
          ],
          "name": "stdout"
        },
        {
          "output_type": "stream",
          "text": [
            "FAGTB/functions.py:131: RuntimeWarning: invalid value encountered in double_scalars\n",
            "  odds = y_z_1.mean() / y_z_0.mean()\n",
            "FAGTB/functions.py:131: RuntimeWarning: invalid value encountered in double_scalars\n",
            "  odds = y_z_1.mean() / y_z_0.mean()\n",
            "FAGTB/functions.py:131: RuntimeWarning: invalid value encountered in double_scalars\n",
            "  odds = y_z_1.mean() / y_z_0.mean()\n",
            "FAGTB/functions.py:131: RuntimeWarning: invalid value encountered in double_scalars\n",
            "  odds = y_z_1.mean() / y_z_0.mean()\n"
          ],
          "name": "stderr"
        },
        {
          "output_type": "stream",
          "text": [
            "75 26610.76829422108 10392.051415113221 14383.666659246383 Accuracy: 0.7495  test :  0.7542  Prule Train :  nan  Prule test :  nan\n"
          ],
          "name": "stdout"
        },
        {
          "output_type": "stream",
          "text": [
            "FAGTB/functions.py:131: RuntimeWarning: invalid value encountered in double_scalars\n",
            "  odds = y_z_1.mean() / y_z_0.mean()\n",
            "FAGTB/functions.py:131: RuntimeWarning: invalid value encountered in double_scalars\n",
            "  odds = y_z_1.mean() / y_z_0.mean()\n",
            "FAGTB/functions.py:131: RuntimeWarning: invalid value encountered in double_scalars\n",
            "  odds = y_z_1.mean() / y_z_0.mean()\n",
            "FAGTB/functions.py:131: RuntimeWarning: invalid value encountered in double_scalars\n",
            "  odds = y_z_1.mean() / y_z_0.mean()\n",
            "FAGTB/functions.py:131: RuntimeWarning: invalid value encountered in double_scalars\n",
            "  odds = y_z_1.mean() / y_z_0.mean()\n",
            "FAGTB/functions.py:131: RuntimeWarning: invalid value encountered in double_scalars\n",
            "  odds = y_z_1.mean() / y_z_0.mean()\n",
            "FAGTB/functions.py:131: RuntimeWarning: invalid value encountered in double_scalars\n",
            "  odds = y_z_1.mean() / y_z_0.mean()\n",
            "FAGTB/functions.py:131: RuntimeWarning: invalid value encountered in double_scalars\n",
            "  odds = y_z_1.mean() / y_z_0.mean()\n"
          ],
          "name": "stderr"
        },
        {
          "output_type": "stream",
          "text": [
            "80 50421.02351164914 10350.807662310943 17913.961189058315 Accuracy: 0.7495  test :  0.7542  Prule Train :  nan  Prule test :  nan\n"
          ],
          "name": "stdout"
        },
        {
          "output_type": "stream",
          "text": [
            "FAGTB/functions.py:131: RuntimeWarning: invalid value encountered in double_scalars\n",
            "  odds = y_z_1.mean() / y_z_0.mean()\n",
            "FAGTB/functions.py:131: RuntimeWarning: invalid value encountered in double_scalars\n",
            "  odds = y_z_1.mean() / y_z_0.mean()\n",
            "FAGTB/functions.py:131: RuntimeWarning: invalid value encountered in double_scalars\n",
            "  odds = y_z_1.mean() / y_z_0.mean()\n",
            "FAGTB/functions.py:131: RuntimeWarning: invalid value encountered in double_scalars\n",
            "  odds = y_z_1.mean() / y_z_0.mean()\n"
          ],
          "name": "stderr"
        },
        {
          "output_type": "stream",
          "text": [
            "85 32969.04461690099 10296.293315900646 15241.650008435796 Accuracy: 0.7495  test :  0.7542  Prule Train :  nan  Prule test :  nan\n"
          ],
          "name": "stdout"
        },
        {
          "output_type": "stream",
          "text": [
            "FAGTB/functions.py:131: RuntimeWarning: invalid value encountered in double_scalars\n",
            "  odds = y_z_1.mean() / y_z_0.mean()\n",
            "FAGTB/functions.py:131: RuntimeWarning: invalid value encountered in double_scalars\n",
            "  odds = y_z_1.mean() / y_z_0.mean()\n",
            "FAGTB/functions.py:131: RuntimeWarning: invalid value encountered in double_scalars\n",
            "  odds = y_z_1.mean() / y_z_0.mean()\n",
            "FAGTB/functions.py:131: RuntimeWarning: invalid value encountered in double_scalars\n",
            "  odds = y_z_1.mean() / y_z_0.mean()\n"
          ],
          "name": "stderr"
        },
        {
          "output_type": "stream",
          "text": [
            "90 11149.30144009737 10245.128266184875 11917.52348219948 Accuracy: 0.7495  test :  0.7542  Prule Train :  nan  Prule test :  nan\n"
          ],
          "name": "stdout"
        },
        {
          "output_type": "stream",
          "text": [
            "FAGTB/functions.py:131: RuntimeWarning: invalid value encountered in double_scalars\n",
            "  odds = y_z_1.mean() / y_z_0.mean()\n",
            "FAGTB/functions.py:131: RuntimeWarning: invalid value encountered in double_scalars\n",
            "  odds = y_z_1.mean() / y_z_0.mean()\n",
            "FAGTB/functions.py:131: RuntimeWarning: invalid value encountered in double_scalars\n",
            "  odds = y_z_1.mean() / y_z_0.mean()\n",
            "FAGTB/functions.py:131: RuntimeWarning: invalid value encountered in double_scalars\n",
            "  odds = y_z_1.mean() / y_z_0.mean()\n"
          ],
          "name": "stderr"
        },
        {
          "output_type": "stream",
          "text": [
            "95 38724.202156118765 10194.161197095558 16002.791520513374 Accuracy: 0.7495  test :  0.7542  Prule Train :  nan  Prule test :  nan\n"
          ],
          "name": "stdout"
        },
        {
          "output_type": "stream",
          "text": [
            "FAGTB/functions.py:131: RuntimeWarning: invalid value encountered in double_scalars\n",
            "  odds = y_z_1.mean() / y_z_0.mean()\n",
            "FAGTB/functions.py:131: RuntimeWarning: invalid value encountered in double_scalars\n",
            "  odds = y_z_1.mean() / y_z_0.mean()\n",
            "FAGTB/functions.py:131: RuntimeWarning: invalid value encountered in double_scalars\n",
            "  odds = y_z_1.mean() / y_z_0.mean()\n",
            "FAGTB/functions.py:131: RuntimeWarning: invalid value encountered in double_scalars\n",
            "  odds = y_z_1.mean() / y_z_0.mean()\n",
            "FAGTB/functions.py:131: RuntimeWarning: invalid value encountered in double_scalars\n",
            "  odds = y_z_1.mean() / y_z_0.mean()\n",
            "FAGTB/functions.py:132: RuntimeWarning: divide by zero encountered in double_scalars\n",
            "  return np.min([odds, 1/odds]) * 100\n",
            "FAGTB/functions.py:132: RuntimeWarning: divide by zero encountered in double_scalars\n",
            "  return np.min([odds, 1/odds]) * 100\n",
            "FAGTB/functions.py:132: RuntimeWarning: divide by zero encountered in double_scalars\n",
            "  return np.min([odds, 1/odds]) * 100\n"
          ],
          "name": "stderr"
        },
        {
          "output_type": "stream",
          "text": [
            "100 14521.67712147754 10142.214068255595 12320.465636477224 Accuracy: 0.7495  test :  0.7542  Prule Train :  nan  Prule test :  nan\n"
          ],
          "name": "stdout"
        },
        {
          "output_type": "stream",
          "text": [
            "FAGTB/functions.py:132: RuntimeWarning: divide by zero encountered in double_scalars\n",
            "  return np.min([odds, 1/odds]) * 100\n",
            "FAGTB/functions.py:132: RuntimeWarning: divide by zero encountered in double_scalars\n",
            "  return np.min([odds, 1/odds]) * 100\n",
            "FAGTB/functions.py:132: RuntimeWarning: divide by zero encountered in double_scalars\n",
            "  return np.min([odds, 1/odds]) * 100\n",
            "FAGTB/functions.py:132: RuntimeWarning: divide by zero encountered in double_scalars\n",
            "  return np.min([odds, 1/odds]) * 100\n"
          ],
          "name": "stderr"
        },
        {
          "output_type": "stream",
          "text": [
            "105 20842.88384037909 10106.011547136663 13232.444123193529 Accuracy: 0.7509  test :  0.7549  Prule Train :  0.0  Prule test :  0.0\n"
          ],
          "name": "stdout"
        },
        {
          "output_type": "stream",
          "text": [
            "FAGTB/functions.py:132: RuntimeWarning: divide by zero encountered in double_scalars\n",
            "  return np.min([odds, 1/odds]) * 100\n",
            "FAGTB/functions.py:132: RuntimeWarning: divide by zero encountered in double_scalars\n",
            "  return np.min([odds, 1/odds]) * 100\n",
            "FAGTB/functions.py:132: RuntimeWarning: divide by zero encountered in double_scalars\n",
            "  return np.min([odds, 1/odds]) * 100\n",
            "FAGTB/functions.py:132: RuntimeWarning: divide by zero encountered in double_scalars\n",
            "  return np.min([odds, 1/odds]) * 100\n"
          ],
          "name": "stderr"
        },
        {
          "output_type": "stream",
          "text": [
            "110 48888.86359463737 10068.490295428519 17401.819834624126 Accuracy: 0.7533  test :  0.7569  Prule Train :  0.0  Prule test :  0.0\n"
          ],
          "name": "stdout"
        },
        {
          "output_type": "stream",
          "text": [
            "FAGTB/functions.py:132: RuntimeWarning: divide by zero encountered in double_scalars\n",
            "  return np.min([odds, 1/odds]) * 100\n",
            "FAGTB/functions.py:132: RuntimeWarning: divide by zero encountered in double_scalars\n",
            "  return np.min([odds, 1/odds]) * 100\n",
            "FAGTB/functions.py:132: RuntimeWarning: divide by zero encountered in double_scalars\n",
            "  return np.min([odds, 1/odds]) * 100\n",
            "FAGTB/functions.py:132: RuntimeWarning: divide by zero encountered in double_scalars\n",
            "  return np.min([odds, 1/odds]) * 100\n"
          ],
          "name": "stderr"
        },
        {
          "output_type": "stream",
          "text": [
            "115 -2484.836583059415 10029.298232068268 9656.572744609355 Accuracy: 0.7564  test :  0.7581  Prule Train :  0.0  Prule test :  0.0\n"
          ],
          "name": "stdout"
        },
        {
          "output_type": "stream",
          "text": [
            "FAGTB/functions.py:132: RuntimeWarning: divide by zero encountered in double_scalars\n",
            "  return np.min([odds, 1/odds]) * 100\n",
            "FAGTB/functions.py:132: RuntimeWarning: divide by zero encountered in double_scalars\n",
            "  return np.min([odds, 1/odds]) * 100\n",
            "FAGTB/functions.py:132: RuntimeWarning: divide by zero encountered in double_scalars\n",
            "  return np.min([odds, 1/odds]) * 100\n",
            "FAGTB/functions.py:132: RuntimeWarning: divide by zero encountered in double_scalars\n",
            "  return np.min([odds, 1/odds]) * 100\n",
            "FAGTB/functions.py:132: RuntimeWarning: divide by zero encountered in double_scalars\n",
            "  return np.min([odds, 1/odds]) * 100\n",
            "FAGTB/functions.py:132: RuntimeWarning: divide by zero encountered in double_scalars\n",
            "  return np.min([odds, 1/odds]) * 100\n",
            "FAGTB/functions.py:132: RuntimeWarning: divide by zero encountered in double_scalars\n",
            "  return np.min([odds, 1/odds]) * 100\n",
            "FAGTB/functions.py:132: RuntimeWarning: divide by zero encountered in double_scalars\n",
            "  return np.min([odds, 1/odds]) * 100\n"
          ],
          "name": "stderr"
        },
        {
          "output_type": "stream",
          "text": [
            "120 21472.832060315952 9998.731817764645 13219.656626812035 Accuracy: 0.7576  test :  0.7592  Prule Train :  0.0  Prule test :  0.007368683096838437\n"
          ],
          "name": "stdout"
        },
        {
          "output_type": "stream",
          "text": [
            "FAGTB/functions.py:132: RuntimeWarning: divide by zero encountered in double_scalars\n",
            "  return np.min([odds, 1/odds]) * 100\n",
            "FAGTB/functions.py:132: RuntimeWarning: divide by zero encountered in double_scalars\n",
            "  return np.min([odds, 1/odds]) * 100\n",
            "FAGTB/functions.py:132: RuntimeWarning: divide by zero encountered in double_scalars\n",
            "  return np.min([odds, 1/odds]) * 100\n",
            "FAGTB/functions.py:132: RuntimeWarning: divide by zero encountered in double_scalars\n",
            "  return np.min([odds, 1/odds]) * 100\n"
          ],
          "name": "stderr"
        },
        {
          "output_type": "stream",
          "text": [
            "125 49424.18854361292 9965.259306162341 17378.887587704277 Accuracy: 0.7585  test :  0.76  Prule Train :  0.0  Prule test :  0.012944983818770225\n"
          ],
          "name": "stdout"
        },
        {
          "output_type": "stream",
          "text": [
            "FAGTB/functions.py:132: RuntimeWarning: divide by zero encountered in double_scalars\n",
            "  return np.min([odds, 1/odds]) * 100\n",
            "FAGTB/functions.py:132: RuntimeWarning: divide by zero encountered in double_scalars\n",
            "  return np.min([odds, 1/odds]) * 100\n",
            "FAGTB/functions.py:132: RuntimeWarning: divide by zero encountered in double_scalars\n",
            "  return np.min([odds, 1/odds]) * 100\n"
          ],
          "name": "stderr"
        },
        {
          "output_type": "stream",
          "text": [
            "130 20238.964324399873 9921.918153113329 12957.76280177331 Accuracy: 0.7598  test :  0.7604  Prule Train :  0.0  Prule test :  0.017739422270166606\n",
            "135 18254.377252532657 9891.48822817431 12629.64481605421 Accuracy: 0.7614  test :  0.7617  Prule Train :  0.0037247200181727068  Prule test :  0.02547682985609034\n",
            "140 46541.10982355656 9858.337089864282 16839.503563397764 Accuracy: 0.7631  test :  0.7631  Prule Train :  0.009299784819566694  Prule test :  0.026609133405249907\n",
            "145 27466.972694356176 9815.346079568348 13935.391983721773 Accuracy: 0.7648  test :  0.7641  Prule Train :  0.014722500573223038  Prule test :  0.033969106474787125\n",
            "150 15336.66064309712 9783.505691540147 12084.004788004715 Accuracy: 0.7659  test :  0.765  Prule Train :  0.027744764859774652  Prule test :  0.044624012542965684\n",
            "155 44055.84828049544 9749.815791884106 16358.193033958425 Accuracy: 0.7675  test :  0.7663  Prule Train :  0.052721972127551836  Prule test :  0.05473878871937124\n",
            "160 60774.9915976381 9700.3201106837 18816.568850329415 Accuracy: 0.7688  test :  0.7671  Prule Train :  0.07507638786629363  Prule test :  0.059870550161812294\n",
            "165 727.5397397041417 9656.464950826685 9765.595911782304 Accuracy: 0.7714  test :  0.7689  Prule Train :  0.11397643255608485  Prule test :  0.09479503775620281\n",
            "170 31524.14837638885 9615.977830846265 14344.600087304592 Accuracy: 0.7836  test :  0.7824  Prule Train :  0.38175829008175605  Prule test :  0.4136510738452486\n",
            "175 40555.73931974325 9571.368071625 15654.72896958649 Accuracy: 0.7947  test :  0.7903  Prule Train :  0.6152866683413168  Prule test :  0.6065277845538372\n",
            "180 12393.623295713167 9542.1903503343 11401.233844691274 Accuracy: 0.8035  test :  0.7979  Prule Train :  0.7730062898373898  Prule test :  0.7543110860966497\n",
            "185 44601.624983153124 9514.434255562752 16204.678003035719 Accuracy: 0.8108  test :  0.8047  Prule Train :  0.8836109107517676  Prule test :  0.8758839745894762\n",
            "190 8125.038709567791 9483.380528311558 10702.136334746727 Accuracy: 0.8146  test :  0.8088  Prule Train :  0.9371025407211406  Prule test :  0.9258552935737403\n",
            "195 1680.999528225237 9445.480730132153 9697.63065936594 Accuracy: 0.8163  test :  0.8112  Prule Train :  0.9416032129811276  Prule test :  0.9579288025889967\n",
            "200 35177.146850113495 9412.63342476033 14689.205452277354 Accuracy: 0.8197  test :  0.8136  Prule Train :  0.9847643430224337  Prule test :  0.9949303443199022\n",
            "205 33696.480004648074 9377.194367172706 14431.666367869915 Accuracy: 0.8221  test :  0.8162  Prule Train :  0.9831147149608113  Prule test :  0.9810810810810812\n",
            "210 18183.576146253574 9361.94185124006 12089.478273178094 Accuracy: 0.8234  test :  0.8184  Prule Train :  0.9705701017226547  Prule test :  0.9247159426452177\n",
            "215 52511.218327754475 9349.11287143864 17225.79562060181 Accuracy: 0.825  test :  0.8197  Prule Train :  0.9601406760433594  Prule test :  0.942588305750383\n",
            "220 -29.067928990664463 9331.736635412972 9327.37644606437 Accuracy: 0.8275  test :  0.8217  Prule Train :  0.9530489052439333  Prule test :  0.9662731301376815\n",
            "225 28224.813383587374 9336.244316194676 13569.966323732782 Accuracy: 0.8294  test :  0.8237  Prule Train :  0.9330166964970077  Prule test :  0.9187681911624026\n",
            "230 60031.33299780829 9333.705357213756 18338.405306885 Accuracy: 0.8302  test :  0.8244  Prule Train :  0.9030959399649369  Prule test :  0.9197291877618282\n",
            "235 10236.516911839588 9318.2915411256 10853.76907790154 Accuracy: 0.8326  test :  0.8267  Prule Train :  0.937772335711704  Prule test :  0.9354553995957066\n",
            "240 27907.209664954105 9322.208961221739 13508.290410964855 Accuracy: 0.8337  test :  0.8275  Prule Train :  0.940115289471439  Prule test :  0.9405362405308167\n",
            "245 48418.12204231415 9317.108024064188 16579.82633041131 Accuracy: 0.8351  test :  0.8276  Prule Train :  0.9363210983577335  Prule test :  0.9256535733912543\n",
            "250 19405.99267226039 9297.133975437384 12208.032876276444 Accuracy: 0.8377  test :  0.8299  Prule Train :  0.9772020646118718  Prule test :  0.965511352477564\n",
            "255 23226.560324712475 9298.503920805691 12782.487969512562 Accuracy: 0.8381  test :  0.8307  Prule Train :  0.9789736029786062  Prule test :  0.9412068534166202\n",
            "260 53959.42297367661 9295.440164026832 17389.35361007832 Accuracy: 0.8391  test :  0.8327  Prule Train :  0.9893781931986545  Prule test :  0.9660272344949423\n",
            "265 18095.099375419057 9280.179578050725 11994.444484363583 Accuracy: 0.841  test :  0.8348  Prule Train :  0.9928832253159108  Prule test :  0.988214607823075\n",
            "270 4785.745540893592 9270.303236043042 9988.165067177082 Accuracy: 0.8415  test :  0.8363  Prule Train :  0.9983186149735995  Prule test :  0.9842334836669555\n",
            "275 37767.38743914101 9252.128594489743 14917.236710360896 Accuracy: 0.8435  test :  0.8372  Prule Train :  0.9647576448270889  Prule test :  0.9948458073458073\n",
            "280 46369.51198431211 9226.004440481795 16181.431238128607 Accuracy: 0.8456  test :  0.8381  Prule Train :  0.9318398612738841  Prule test :  0.9672713043964336\n",
            "285 11622.343601694909 9215.678635283763 10959.030175537999 Accuracy: 0.8477  test :  0.8381  Prule Train :  0.8979550772379458  Prule test :  0.9557004187285877\n",
            "290 45937.64067572246 9207.916558349561 16098.562659707928 Accuracy: 0.8491  test :  0.84  Prule Train :  0.8839093688005732  Prule test :  0.9241249446167479\n",
            "295 25070.545856169974 9190.635400506138 12951.217278931636 Accuracy: 0.8515  test :  0.8406  Prule Train :  0.8546000944098782  Prule test :  0.8959005647438485\n",
            "\n",
            "Results on test set :\n",
            "Accuracy: 0.8396658046548637\n",
            "PRULE :  88.25859950859952\n",
            "DI :  0.018999029921360017\n",
            "DispFPR :  0.03417408919141067\n",
            "DispFNR :  0.26421404682274247\n"
          ],
          "name": "stdout"
        },
        {
          "output_type": "stream",
          "text": [
            "FAGTB/functions.py:131: RuntimeWarning: invalid value encountered in double_scalars\n",
            "  odds = y_z_1.mean() / y_z_0.mean()\n",
            "FAGTB/functions.py:131: RuntimeWarning: invalid value encountered in double_scalars\n",
            "  odds = y_z_1.mean() / y_z_0.mean()\n",
            "FAGTB/functions.py:131: RuntimeWarning: invalid value encountered in double_scalars\n",
            "  odds = y_z_1.mean() / y_z_0.mean()\n",
            "FAGTB/functions.py:131: RuntimeWarning: invalid value encountered in double_scalars\n",
            "  odds = y_z_1.mean() / y_z_0.mean()\n"
          ],
          "name": "stderr"
        },
        {
          "output_type": "stream",
          "text": [
            "0 11684.099951832537 11316.885174646251 13069.50016742113 Accuracy: 0.7489  test :  0.7554  Prule Train :  nan  Prule test :  nan\n"
          ],
          "name": "stdout"
        },
        {
          "output_type": "stream",
          "text": [
            "FAGTB/functions.py:131: RuntimeWarning: invalid value encountered in double_scalars\n",
            "  odds = y_z_1.mean() / y_z_0.mean()\n",
            "FAGTB/functions.py:131: RuntimeWarning: invalid value encountered in double_scalars\n",
            "  odds = y_z_1.mean() / y_z_0.mean()\n",
            "FAGTB/functions.py:131: RuntimeWarning: invalid value encountered in double_scalars\n",
            "  odds = y_z_1.mean() / y_z_0.mean()\n",
            "FAGTB/functions.py:131: RuntimeWarning: invalid value encountered in double_scalars\n",
            "  odds = y_z_1.mean() / y_z_0.mean()\n"
          ],
          "name": "stderr"
        },
        {
          "output_type": "stream",
          "text": [
            "5 34999.290455475704 11246.267674640158 16496.161242961516 Accuracy: 0.7489  test :  0.7554  Prule Train :  nan  Prule test :  nan\n"
          ],
          "name": "stdout"
        },
        {
          "output_type": "stream",
          "text": [
            "FAGTB/functions.py:131: RuntimeWarning: invalid value encountered in double_scalars\n",
            "  odds = y_z_1.mean() / y_z_0.mean()\n",
            "FAGTB/functions.py:131: RuntimeWarning: invalid value encountered in double_scalars\n",
            "  odds = y_z_1.mean() / y_z_0.mean()\n",
            "FAGTB/functions.py:131: RuntimeWarning: invalid value encountered in double_scalars\n",
            "  odds = y_z_1.mean() / y_z_0.mean()\n",
            "FAGTB/functions.py:131: RuntimeWarning: invalid value encountered in double_scalars\n",
            "  odds = y_z_1.mean() / y_z_0.mean()\n"
          ],
          "name": "stderr"
        },
        {
          "output_type": "stream",
          "text": [
            "10 9458.107207463265 11174.799918420877 12593.515999540365 Accuracy: 0.7489  test :  0.7554  Prule Train :  nan  Prule test :  nan\n"
          ],
          "name": "stdout"
        },
        {
          "output_type": "stream",
          "text": [
            "FAGTB/functions.py:131: RuntimeWarning: invalid value encountered in double_scalars\n",
            "  odds = y_z_1.mean() / y_z_0.mean()\n",
            "FAGTB/functions.py:131: RuntimeWarning: invalid value encountered in double_scalars\n",
            "  odds = y_z_1.mean() / y_z_0.mean()\n",
            "FAGTB/functions.py:131: RuntimeWarning: invalid value encountered in double_scalars\n",
            "  odds = y_z_1.mean() / y_z_0.mean()\n",
            "FAGTB/functions.py:131: RuntimeWarning: invalid value encountered in double_scalars\n",
            "  odds = y_z_1.mean() / y_z_0.mean()\n"
          ],
          "name": "stderr"
        },
        {
          "output_type": "stream",
          "text": [
            "15 19033.26800929833 11116.263345574112 13971.25354696886 Accuracy: 0.7489  test :  0.7554  Prule Train :  nan  Prule test :  nan\n"
          ],
          "name": "stdout"
        },
        {
          "output_type": "stream",
          "text": [
            "FAGTB/functions.py:131: RuntimeWarning: invalid value encountered in double_scalars\n",
            "  odds = y_z_1.mean() / y_z_0.mean()\n",
            "FAGTB/functions.py:131: RuntimeWarning: invalid value encountered in double_scalars\n",
            "  odds = y_z_1.mean() / y_z_0.mean()\n",
            "FAGTB/functions.py:131: RuntimeWarning: invalid value encountered in double_scalars\n",
            "  odds = y_z_1.mean() / y_z_0.mean()\n",
            "FAGTB/functions.py:131: RuntimeWarning: invalid value encountered in double_scalars\n",
            "  odds = y_z_1.mean() / y_z_0.mean()\n",
            "FAGTB/functions.py:131: RuntimeWarning: invalid value encountered in double_scalars\n",
            "  odds = y_z_1.mean() / y_z_0.mean()\n",
            "FAGTB/functions.py:131: RuntimeWarning: invalid value encountered in double_scalars\n",
            "  odds = y_z_1.mean() / y_z_0.mean()\n",
            "FAGTB/functions.py:131: RuntimeWarning: invalid value encountered in double_scalars\n",
            "  odds = y_z_1.mean() / y_z_0.mean()\n",
            "FAGTB/functions.py:131: RuntimeWarning: invalid value encountered in double_scalars\n",
            "  odds = y_z_1.mean() / y_z_0.mean()\n"
          ],
          "name": "stderr"
        },
        {
          "output_type": "stream",
          "text": [
            "20 34350.28951463264 11055.023330231837 16207.566757426734 Accuracy: 0.7489  test :  0.7554  Prule Train :  nan  Prule test :  nan\n"
          ],
          "name": "stdout"
        },
        {
          "output_type": "stream",
          "text": [
            "FAGTB/functions.py:131: RuntimeWarning: invalid value encountered in double_scalars\n",
            "  odds = y_z_1.mean() / y_z_0.mean()\n",
            "FAGTB/functions.py:131: RuntimeWarning: invalid value encountered in double_scalars\n",
            "  odds = y_z_1.mean() / y_z_0.mean()\n",
            "FAGTB/functions.py:131: RuntimeWarning: invalid value encountered in double_scalars\n",
            "  odds = y_z_1.mean() / y_z_0.mean()\n",
            "FAGTB/functions.py:131: RuntimeWarning: invalid value encountered in double_scalars\n",
            "  odds = y_z_1.mean() / y_z_0.mean()\n"
          ],
          "name": "stderr"
        },
        {
          "output_type": "stream",
          "text": [
            "25 13457.666607774703 10983.986520720922 13002.636511887127 Accuracy: 0.7489  test :  0.7554  Prule Train :  nan  Prule test :  nan\n"
          ],
          "name": "stdout"
        },
        {
          "output_type": "stream",
          "text": [
            "FAGTB/functions.py:131: RuntimeWarning: invalid value encountered in double_scalars\n",
            "  odds = y_z_1.mean() / y_z_0.mean()\n",
            "FAGTB/functions.py:131: RuntimeWarning: invalid value encountered in double_scalars\n",
            "  odds = y_z_1.mean() / y_z_0.mean()\n",
            "FAGTB/functions.py:131: RuntimeWarning: invalid value encountered in double_scalars\n",
            "  odds = y_z_1.mean() / y_z_0.mean()\n",
            "FAGTB/functions.py:131: RuntimeWarning: invalid value encountered in double_scalars\n",
            "  odds = y_z_1.mean() / y_z_0.mean()\n"
          ],
          "name": "stderr"
        },
        {
          "output_type": "stream",
          "text": [
            "30 17700.44859365657 10928.401458181546 13583.46874723003 Accuracy: 0.7489  test :  0.7554  Prule Train :  nan  Prule test :  nan\n"
          ],
          "name": "stdout"
        },
        {
          "output_type": "stream",
          "text": [
            "FAGTB/functions.py:131: RuntimeWarning: invalid value encountered in double_scalars\n",
            "  odds = y_z_1.mean() / y_z_0.mean()\n",
            "FAGTB/functions.py:131: RuntimeWarning: invalid value encountered in double_scalars\n",
            "  odds = y_z_1.mean() / y_z_0.mean()\n",
            "FAGTB/functions.py:131: RuntimeWarning: invalid value encountered in double_scalars\n",
            "  odds = y_z_1.mean() / y_z_0.mean()\n",
            "FAGTB/functions.py:131: RuntimeWarning: invalid value encountered in double_scalars\n",
            "  odds = y_z_1.mean() / y_z_0.mean()\n"
          ],
          "name": "stderr"
        },
        {
          "output_type": "stream",
          "text": [
            "35 42178.40495818098 10871.06625951427 17197.82700324142 Accuracy: 0.7489  test :  0.7554  Prule Train :  nan  Prule test :  nan\n"
          ],
          "name": "stdout"
        },
        {
          "output_type": "stream",
          "text": [
            "FAGTB/functions.py:131: RuntimeWarning: invalid value encountered in double_scalars\n",
            "  odds = y_z_1.mean() / y_z_0.mean()\n",
            "FAGTB/functions.py:131: RuntimeWarning: invalid value encountered in double_scalars\n",
            "  odds = y_z_1.mean() / y_z_0.mean()\n",
            "FAGTB/functions.py:131: RuntimeWarning: invalid value encountered in double_scalars\n",
            "  odds = y_z_1.mean() / y_z_0.mean()\n",
            "FAGTB/functions.py:131: RuntimeWarning: invalid value encountered in double_scalars\n",
            "  odds = y_z_1.mean() / y_z_0.mean()\n",
            "FAGTB/functions.py:131: RuntimeWarning: invalid value encountered in double_scalars\n",
            "  odds = y_z_1.mean() / y_z_0.mean()\n",
            "FAGTB/functions.py:131: RuntimeWarning: invalid value encountered in double_scalars\n",
            "  odds = y_z_1.mean() / y_z_0.mean()\n",
            "FAGTB/functions.py:131: RuntimeWarning: invalid value encountered in double_scalars\n",
            "  odds = y_z_1.mean() / y_z_0.mean()\n",
            "FAGTB/functions.py:131: RuntimeWarning: invalid value encountered in double_scalars\n",
            "  odds = y_z_1.mean() / y_z_0.mean()\n"
          ],
          "name": "stderr"
        },
        {
          "output_type": "stream",
          "text": [
            "40 13012.630301387195 10809.95081736762 12761.845362575701 Accuracy: 0.7489  test :  0.7554  Prule Train :  nan  Prule test :  nan\n"
          ],
          "name": "stdout"
        },
        {
          "output_type": "stream",
          "text": [
            "FAGTB/functions.py:131: RuntimeWarning: invalid value encountered in double_scalars\n",
            "  odds = y_z_1.mean() / y_z_0.mean()\n",
            "FAGTB/functions.py:131: RuntimeWarning: invalid value encountered in double_scalars\n",
            "  odds = y_z_1.mean() / y_z_0.mean()\n",
            "FAGTB/functions.py:131: RuntimeWarning: invalid value encountered in double_scalars\n",
            "  odds = y_z_1.mean() / y_z_0.mean()\n",
            "FAGTB/functions.py:131: RuntimeWarning: invalid value encountered in double_scalars\n",
            "  odds = y_z_1.mean() / y_z_0.mean()\n"
          ],
          "name": "stderr"
        },
        {
          "output_type": "stream",
          "text": [
            "45 18389.276625141178 10758.586888598791 13516.978382369965 Accuracy: 0.7489  test :  0.7554  Prule Train :  nan  Prule test :  nan\n"
          ],
          "name": "stdout"
        },
        {
          "output_type": "stream",
          "text": [
            "FAGTB/functions.py:131: RuntimeWarning: invalid value encountered in double_scalars\n",
            "  odds = y_z_1.mean() / y_z_0.mean()\n",
            "FAGTB/functions.py:131: RuntimeWarning: invalid value encountered in double_scalars\n",
            "  odds = y_z_1.mean() / y_z_0.mean()\n",
            "FAGTB/functions.py:131: RuntimeWarning: invalid value encountered in double_scalars\n",
            "  odds = y_z_1.mean() / y_z_0.mean()\n",
            "FAGTB/functions.py:131: RuntimeWarning: invalid value encountered in double_scalars\n",
            "  odds = y_z_1.mean() / y_z_0.mean()\n"
          ],
          "name": "stderr"
        },
        {
          "output_type": "stream",
          "text": [
            "50 41993.85665297265 10702.527719234968 17001.606217180866 Accuracy: 0.7489  test :  0.7554  Prule Train :  nan  Prule test :  nan\n"
          ],
          "name": "stdout"
        },
        {
          "output_type": "stream",
          "text": [
            "FAGTB/functions.py:131: RuntimeWarning: invalid value encountered in double_scalars\n",
            "  odds = y_z_1.mean() / y_z_0.mean()\n",
            "FAGTB/functions.py:131: RuntimeWarning: invalid value encountered in double_scalars\n",
            "  odds = y_z_1.mean() / y_z_0.mean()\n",
            "FAGTB/functions.py:131: RuntimeWarning: invalid value encountered in double_scalars\n",
            "  odds = y_z_1.mean() / y_z_0.mean()\n",
            "FAGTB/functions.py:131: RuntimeWarning: invalid value encountered in double_scalars\n",
            "  odds = y_z_1.mean() / y_z_0.mean()\n"
          ],
          "name": "stderr"
        },
        {
          "output_type": "stream",
          "text": [
            "55 6702.900638791722 10643.058300597457 11648.493396416214 Accuracy: 0.7489  test :  0.7554  Prule Train :  nan  Prule test :  nan\n"
          ],
          "name": "stdout"
        },
        {
          "output_type": "stream",
          "text": [
            "FAGTB/functions.py:131: RuntimeWarning: invalid value encountered in double_scalars\n",
            "  odds = y_z_1.mean() / y_z_0.mean()\n",
            "FAGTB/functions.py:131: RuntimeWarning: invalid value encountered in double_scalars\n",
            "  odds = y_z_1.mean() / y_z_0.mean()\n",
            "FAGTB/functions.py:131: RuntimeWarning: invalid value encountered in double_scalars\n",
            "  odds = y_z_1.mean() / y_z_0.mean()\n",
            "FAGTB/functions.py:131: RuntimeWarning: invalid value encountered in double_scalars\n",
            "  odds = y_z_1.mean() / y_z_0.mean()\n",
            "FAGTB/functions.py:131: RuntimeWarning: invalid value encountered in double_scalars\n",
            "  odds = y_z_1.mean() / y_z_0.mean()\n",
            "FAGTB/functions.py:131: RuntimeWarning: invalid value encountered in double_scalars\n",
            "  odds = y_z_1.mean() / y_z_0.mean()\n",
            "FAGTB/functions.py:131: RuntimeWarning: invalid value encountered in double_scalars\n",
            "  odds = y_z_1.mean() / y_z_0.mean()\n",
            "FAGTB/functions.py:131: RuntimeWarning: invalid value encountered in double_scalars\n",
            "  odds = y_z_1.mean() / y_z_0.mean()\n"
          ],
          "name": "stderr"
        },
        {
          "output_type": "stream",
          "text": [
            "60 16952.226221166693 10594.265660799227 13137.099593974228 Accuracy: 0.7489  test :  0.7554  Prule Train :  nan  Prule test :  nan\n"
          ],
          "name": "stdout"
        },
        {
          "output_type": "stream",
          "text": [
            "FAGTB/functions.py:131: RuntimeWarning: invalid value encountered in double_scalars\n",
            "  odds = y_z_1.mean() / y_z_0.mean()\n",
            "FAGTB/functions.py:131: RuntimeWarning: invalid value encountered in double_scalars\n",
            "  odds = y_z_1.mean() / y_z_0.mean()\n",
            "FAGTB/functions.py:131: RuntimeWarning: invalid value encountered in double_scalars\n",
            "  odds = y_z_1.mean() / y_z_0.mean()\n",
            "FAGTB/functions.py:131: RuntimeWarning: invalid value encountered in double_scalars\n",
            "  odds = y_z_1.mean() / y_z_0.mean()\n"
          ],
          "name": "stderr"
        },
        {
          "output_type": "stream",
          "text": [
            "65 42016.31344914269 10544.01067349068 16846.45769086208 Accuracy: 0.7489  test :  0.7554  Prule Train :  nan  Prule test :  nan\n"
          ],
          "name": "stdout"
        },
        {
          "output_type": "stream",
          "text": [
            "FAGTB/functions.py:131: RuntimeWarning: invalid value encountered in double_scalars\n",
            "  odds = y_z_1.mean() / y_z_0.mean()\n",
            "FAGTB/functions.py:131: RuntimeWarning: invalid value encountered in double_scalars\n",
            "  odds = y_z_1.mean() / y_z_0.mean()\n",
            "FAGTB/functions.py:131: RuntimeWarning: invalid value encountered in double_scalars\n",
            "  odds = y_z_1.mean() / y_z_0.mean()\n",
            "FAGTB/functions.py:131: RuntimeWarning: invalid value encountered in double_scalars\n",
            "  odds = y_z_1.mean() / y_z_0.mean()\n"
          ],
          "name": "stderr"
        },
        {
          "output_type": "stream",
          "text": [
            "70 27721.666257868004 10484.03461251694 14642.284551197139 Accuracy: 0.7489  test :  0.7554  Prule Train :  nan  Prule test :  nan\n"
          ],
          "name": "stdout"
        },
        {
          "output_type": "stream",
          "text": [
            "FAGTB/functions.py:131: RuntimeWarning: invalid value encountered in double_scalars\n",
            "  odds = y_z_1.mean() / y_z_0.mean()\n",
            "FAGTB/functions.py:131: RuntimeWarning: invalid value encountered in double_scalars\n",
            "  odds = y_z_1.mean() / y_z_0.mean()\n",
            "FAGTB/functions.py:131: RuntimeWarning: invalid value encountered in double_scalars\n",
            "  odds = y_z_1.mean() / y_z_0.mean()\n",
            "FAGTB/functions.py:131: RuntimeWarning: invalid value encountered in double_scalars\n",
            "  odds = y_z_1.mean() / y_z_0.mean()\n"
          ],
          "name": "stderr"
        },
        {
          "output_type": "stream",
          "text": [
            "75 12292.141520172716 10431.60807648651 12275.429304512414 Accuracy: 0.7489  test :  0.7554  Prule Train :  nan  Prule test :  nan\n"
          ],
          "name": "stdout"
        },
        {
          "output_type": "stream",
          "text": [
            "FAGTB/functions.py:131: RuntimeWarning: invalid value encountered in double_scalars\n",
            "  odds = y_z_1.mean() / y_z_0.mean()\n",
            "FAGTB/functions.py:131: RuntimeWarning: invalid value encountered in double_scalars\n",
            "  odds = y_z_1.mean() / y_z_0.mean()\n",
            "FAGTB/functions.py:131: RuntimeWarning: invalid value encountered in double_scalars\n",
            "  odds = y_z_1.mean() / y_z_0.mean()\n",
            "FAGTB/functions.py:131: RuntimeWarning: invalid value encountered in double_scalars\n",
            "  odds = y_z_1.mean() / y_z_0.mean()\n",
            "FAGTB/functions.py:131: RuntimeWarning: invalid value encountered in double_scalars\n",
            "  odds = y_z_1.mean() / y_z_0.mean()\n",
            "FAGTB/functions.py:131: RuntimeWarning: invalid value encountered in double_scalars\n",
            "  odds = y_z_1.mean() / y_z_0.mean()\n",
            "FAGTB/functions.py:131: RuntimeWarning: invalid value encountered in double_scalars\n",
            "  odds = y_z_1.mean() / y_z_0.mean()\n",
            "FAGTB/functions.py:131: RuntimeWarning: invalid value encountered in double_scalars\n",
            "  odds = y_z_1.mean() / y_z_0.mean()\n"
          ],
          "name": "stderr"
        },
        {
          "output_type": "stream",
          "text": [
            "80 38569.82995009556 10378.980042109459 16164.454534623794 Accuracy: 0.7489  test :  0.7554  Prule Train :  nan  Prule test :  nan\n"
          ],
          "name": "stdout"
        },
        {
          "output_type": "stream",
          "text": [
            "FAGTB/functions.py:131: RuntimeWarning: invalid value encountered in double_scalars\n",
            "  odds = y_z_1.mean() / y_z_0.mean()\n",
            "FAGTB/functions.py:131: RuntimeWarning: invalid value encountered in double_scalars\n",
            "  odds = y_z_1.mean() / y_z_0.mean()\n",
            "FAGTB/functions.py:131: RuntimeWarning: invalid value encountered in double_scalars\n",
            "  odds = y_z_1.mean() / y_z_0.mean()\n",
            "FAGTB/functions.py:131: RuntimeWarning: invalid value encountered in double_scalars\n",
            "  odds = y_z_1.mean() / y_z_0.mean()\n"
          ],
          "name": "stderr"
        },
        {
          "output_type": "stream",
          "text": [
            "85 15530.898953163229 10325.070023111091 12654.704866085576 Accuracy: 0.7489  test :  0.7554  Prule Train :  nan  Prule test :  nan\n"
          ],
          "name": "stdout"
        },
        {
          "output_type": "stream",
          "text": [
            "FAGTB/functions.py:131: RuntimeWarning: invalid value encountered in double_scalars\n",
            "  odds = y_z_1.mean() / y_z_0.mean()\n",
            "FAGTB/functions.py:131: RuntimeWarning: invalid value encountered in double_scalars\n",
            "  odds = y_z_1.mean() / y_z_0.mean()\n",
            "FAGTB/functions.py:131: RuntimeWarning: invalid value encountered in double_scalars\n",
            "  odds = y_z_1.mean() / y_z_0.mean()\n",
            "FAGTB/functions.py:131: RuntimeWarning: invalid value encountered in double_scalars\n",
            "  odds = y_z_1.mean() / y_z_0.mean()\n"
          ],
          "name": "stderr"
        },
        {
          "output_type": "stream",
          "text": [
            "90 7846.628762985943 10278.609619244373 11455.603933692266 Accuracy: 0.7489  test :  0.7554  Prule Train :  nan  Prule test :  nan\n"
          ],
          "name": "stdout"
        },
        {
          "output_type": "stream",
          "text": [
            "FAGTB/functions.py:131: RuntimeWarning: invalid value encountered in double_scalars\n",
            "  odds = y_z_1.mean() / y_z_0.mean()\n",
            "FAGTB/functions.py:131: RuntimeWarning: invalid value encountered in double_scalars\n",
            "  odds = y_z_1.mean() / y_z_0.mean()\n",
            "FAGTB/functions.py:131: RuntimeWarning: invalid value encountered in double_scalars\n",
            "  odds = y_z_1.mean() / y_z_0.mean()\n",
            "FAGTB/functions.py:131: RuntimeWarning: invalid value encountered in double_scalars\n",
            "  odds = y_z_1.mean() / y_z_0.mean()\n"
          ],
          "name": "stderr"
        },
        {
          "output_type": "stream",
          "text": [
            "95 34949.64884763773 10225.150142616534 15467.597469762195 Accuracy: 0.7489  test :  0.7554  Prule Train :  nan  Prule test :  nan\n"
          ],
          "name": "stdout"
        },
        {
          "output_type": "stream",
          "text": [
            "FAGTB/functions.py:131: RuntimeWarning: invalid value encountered in double_scalars\n",
            "  odds = y_z_1.mean() / y_z_0.mean()\n",
            "FAGTB/functions.py:131: RuntimeWarning: invalid value encountered in double_scalars\n",
            "  odds = y_z_1.mean() / y_z_0.mean()\n",
            "FAGTB/functions.py:131: RuntimeWarning: invalid value encountered in double_scalars\n",
            "  odds = y_z_1.mean() / y_z_0.mean()\n",
            "FAGTB/functions.py:131: RuntimeWarning: invalid value encountered in double_scalars\n",
            "  odds = y_z_1.mean() / y_z_0.mean()\n",
            "FAGTB/functions.py:131: RuntimeWarning: invalid value encountered in double_scalars\n",
            "  odds = y_z_1.mean() / y_z_0.mean()\n",
            "FAGTB/functions.py:132: RuntimeWarning: divide by zero encountered in double_scalars\n",
            "  return np.min([odds, 1/odds]) * 100\n",
            "FAGTB/functions.py:132: RuntimeWarning: divide by zero encountered in double_scalars\n",
            "  return np.min([odds, 1/odds]) * 100\n",
            "FAGTB/functions.py:132: RuntimeWarning: divide by zero encountered in double_scalars\n",
            "  return np.min([odds, 1/odds]) * 100\n"
          ],
          "name": "stderr"
        },
        {
          "output_type": "stream",
          "text": [
            "100 24801.06812605184 10169.342816603896 13889.50303551167 Accuracy: 0.7489  test :  0.7554  Prule Train :  nan  Prule test :  nan\n"
          ],
          "name": "stdout"
        },
        {
          "output_type": "stream",
          "text": [
            "FAGTB/functions.py:132: RuntimeWarning: divide by zero encountered in double_scalars\n",
            "  return np.min([odds, 1/odds]) * 100\n",
            "FAGTB/functions.py:132: RuntimeWarning: divide by zero encountered in double_scalars\n",
            "  return np.min([odds, 1/odds]) * 100\n",
            "FAGTB/functions.py:132: RuntimeWarning: divide by zero encountered in double_scalars\n",
            "  return np.min([odds, 1/odds]) * 100\n",
            "FAGTB/functions.py:132: RuntimeWarning: divide by zero encountered in double_scalars\n",
            "  return np.min([odds, 1/odds]) * 100\n"
          ],
          "name": "stderr"
        },
        {
          "output_type": "stream",
          "text": [
            "105 15621.950468486753 10129.170358573534 12472.462928846548 Accuracy: 0.7505  test :  0.7566  Prule Train :  0.0  Prule test :  0.0\n"
          ],
          "name": "stdout"
        },
        {
          "output_type": "stream",
          "text": [
            "FAGTB/functions.py:132: RuntimeWarning: divide by zero encountered in double_scalars\n",
            "  return np.min([odds, 1/odds]) * 100\n",
            "FAGTB/functions.py:132: RuntimeWarning: divide by zero encountered in double_scalars\n",
            "  return np.min([odds, 1/odds]) * 100\n",
            "FAGTB/functions.py:132: RuntimeWarning: divide by zero encountered in double_scalars\n",
            "  return np.min([odds, 1/odds]) * 100\n",
            "FAGTB/functions.py:132: RuntimeWarning: divide by zero encountered in double_scalars\n",
            "  return np.min([odds, 1/odds]) * 100\n"
          ],
          "name": "stderr"
        },
        {
          "output_type": "stream",
          "text": [
            "110 33929.96554270338 10085.674491977585 15175.16932338309 Accuracy: 0.7526  test :  0.7579  Prule Train :  0.0  Prule test :  0.0\n"
          ],
          "name": "stdout"
        },
        {
          "output_type": "stream",
          "text": [
            "FAGTB/functions.py:132: RuntimeWarning: divide by zero encountered in double_scalars\n",
            "  return np.min([odds, 1/odds]) * 100\n",
            "FAGTB/functions.py:132: RuntimeWarning: divide by zero encountered in double_scalars\n",
            "  return np.min([odds, 1/odds]) * 100\n",
            "FAGTB/functions.py:132: RuntimeWarning: divide by zero encountered in double_scalars\n",
            "  return np.min([odds, 1/odds]) * 100\n",
            "FAGTB/functions.py:132: RuntimeWarning: divide by zero encountered in double_scalars\n",
            "  return np.min([odds, 1/odds]) * 100\n"
          ],
          "name": "stderr"
        },
        {
          "output_type": "stream",
          "text": [
            "115 28909.59183146771 10031.950099077358 14368.388873797514 Accuracy: 0.7537  test :  0.7585  Prule Train :  0.0  Prule test :  0.0\n"
          ],
          "name": "stdout"
        },
        {
          "output_type": "stream",
          "text": [
            "FAGTB/functions.py:132: RuntimeWarning: divide by zero encountered in double_scalars\n",
            "  return np.min([odds, 1/odds]) * 100\n",
            "FAGTB/functions.py:132: RuntimeWarning: divide by zero encountered in double_scalars\n",
            "  return np.min([odds, 1/odds]) * 100\n",
            "FAGTB/functions.py:132: RuntimeWarning: divide by zero encountered in double_scalars\n",
            "  return np.min([odds, 1/odds]) * 100\n",
            "FAGTB/functions.py:132: RuntimeWarning: divide by zero encountered in double_scalars\n",
            "  return np.min([odds, 1/odds]) * 100\n",
            "FAGTB/functions.py:132: RuntimeWarning: divide by zero encountered in double_scalars\n",
            "  return np.min([odds, 1/odds]) * 100\n",
            "FAGTB/functions.py:132: RuntimeWarning: divide by zero encountered in double_scalars\n",
            "  return np.min([odds, 1/odds]) * 100\n",
            "FAGTB/functions.py:132: RuntimeWarning: divide by zero encountered in double_scalars\n",
            "  return np.min([odds, 1/odds]) * 100\n",
            "FAGTB/functions.py:132: RuntimeWarning: divide by zero encountered in double_scalars\n",
            "  return np.min([odds, 1/odds]) * 100\n"
          ],
          "name": "stderr"
        },
        {
          "output_type": "stream",
          "text": [
            "120 14570.55520122045 9993.473574976128 12179.056855159193 Accuracy: 0.7563  test :  0.7598  Prule Train :  0.0  Prule test :  0.0\n"
          ],
          "name": "stdout"
        },
        {
          "output_type": "stream",
          "text": [
            "FAGTB/functions.py:132: RuntimeWarning: divide by zero encountered in double_scalars\n",
            "  return np.min([odds, 1/odds]) * 100\n",
            "FAGTB/functions.py:132: RuntimeWarning: divide by zero encountered in double_scalars\n",
            "  return np.min([odds, 1/odds]) * 100\n",
            "FAGTB/functions.py:132: RuntimeWarning: divide by zero encountered in double_scalars\n",
            "  return np.min([odds, 1/odds]) * 100\n",
            "FAGTB/functions.py:132: RuntimeWarning: divide by zero encountered in double_scalars\n",
            "  return np.min([odds, 1/odds]) * 100\n"
          ],
          "name": "stderr"
        },
        {
          "output_type": "stream",
          "text": [
            "125 43374.69920893739 9954.10008309725 16460.30496443786 Accuracy: 0.7576  test :  0.7605  Prule Train :  0.0  Prule test :  0.0\n"
          ],
          "name": "stdout"
        },
        {
          "output_type": "stream",
          "text": [
            "FAGTB/functions.py:132: RuntimeWarning: divide by zero encountered in double_scalars\n",
            "  return np.min([odds, 1/odds]) * 100\n",
            "FAGTB/functions.py:132: RuntimeWarning: divide by zero encountered in double_scalars\n",
            "  return np.min([odds, 1/odds]) * 100\n",
            "FAGTB/functions.py:132: RuntimeWarning: divide by zero encountered in double_scalars\n",
            "  return np.min([odds, 1/odds]) * 100\n",
            "FAGTB/functions.py:132: RuntimeWarning: divide by zero encountered in double_scalars\n",
            "  return np.min([odds, 1/odds]) * 100\n"
          ],
          "name": "stderr"
        },
        {
          "output_type": "stream",
          "text": [
            "130 28215.59890364117 9907.73455908561 14140.074394631783 Accuracy: 0.7582  test :  0.761  Prule Train :  0.0  Prule test :  0.01276935986953562\n"
          ],
          "name": "stdout"
        },
        {
          "output_type": "stream",
          "text": [
            "FAGTB/functions.py:132: RuntimeWarning: divide by zero encountered in double_scalars\n",
            "  return np.min([odds, 1/odds]) * 100\n",
            "FAGTB/functions.py:132: RuntimeWarning: divide by zero encountered in double_scalars\n",
            "  return np.min([odds, 1/odds]) * 100\n"
          ],
          "name": "stderr"
        },
        {
          "output_type": "stream",
          "text": [
            "135 15639.147816597038 9874.017644724912 12219.889817214467 Accuracy: 0.7591  test :  0.7619  Prule Train :  0.00223965848965849  Prule test :  0.016481383087423876\n",
            "140 45152.19112495889 9840.28481687693 16613.113485620765 Accuracy: 0.761  test :  0.7634  Prule Train :  0.005713774414561817  Prule test :  0.03274519016049232\n",
            "145 24124.591523244148 9799.585064947343 13418.273793433964 Accuracy: 0.7632  test :  0.7651  Prule Train :  0.015406567954338654  Prule test :  0.05653443087537991\n",
            "150 18134.835776378655 9772.451625106753 12492.676991563552 Accuracy: 0.7656  test :  0.7663  Prule Train :  0.027382994364126438  Prule test :  0.06065445938029418\n",
            "155 44478.33142996181 9743.272017320156 16415.021731814428 Accuracy: 0.7673  test :  0.7679  Prule Train :  0.0436480812420662  Prule test :  0.07382286174575278\n",
            "160 13973.62689681795 9707.720274671236 11803.764309193928 Accuracy: 0.7688  test :  0.7689  Prule Train :  0.060037814214425195  Prule test :  0.07919955572261107\n",
            "165 18920.371059704103 9686.680740228725 12524.73639918434 Accuracy: 0.7738  test :  0.774  Prule Train :  0.15322912381735912  Prule test :  0.19409427001694135\n",
            "170 41185.02034748907 9659.77285176254 15837.5259038859 Accuracy: 0.7844  test :  0.7823  Prule Train :  0.34224955542382934  Prule test :  0.3674738006899695\n",
            "175 24155.934697184355 9623.0488101749 13246.439014752556 Accuracy: 0.7912  test :  0.789  Prule Train :  0.4577469343405599  Prule test :  0.5077908994848042\n",
            "180 18839.038363166193 9602.550019701735 12428.405774176665 Accuracy: 0.7968  test :  0.7954  Prule Train :  0.5284075623058674  Prule test :  0.5865099084903945\n",
            "185 38173.66220306846 9576.968990392474 15303.018320852745 Accuracy: 0.8037  test :  0.8001  Prule Train :  0.6346657929226736  Prule test :  0.6610639800771936\n",
            "190 32890.21299771958 9539.644711393501 14473.176661051437 Accuracy: 0.8103  test :  0.8057  Prule Train :  0.7458795749704841  Prule test :  0.7521663737551261\n",
            "195 15318.354766164788 9519.897805171748 11817.651020096468 Accuracy: 0.8138  test :  0.8087  Prule Train :  0.7752120908863467  Prule test :  0.7948550949377995\n",
            "200 46773.690555949936 9498.828421520568 16514.882004913055 Accuracy: 0.8161  test :  0.8104  Prule Train :  0.7901241373227792  Prule test :  0.7916039393838911\n",
            "205 14646.811539363662 9470.80487099191 11667.826601896457 Accuracy: 0.8173  test :  0.8116  Prule Train :  0.7895128798594144  Prule test :  0.777778482739368\n",
            "210 11984.216528052111 9449.382227146572 11247.014706354388 Accuracy: 0.8193  test :  0.813  Prule Train :  0.7662136000645318  Prule test :  0.7390267024493739\n",
            "215 44077.53153049573 9427.70657848677 16039.336308061127 Accuracy: 0.8196  test :  0.8142  Prule Train :  0.7377435064935065  Prule test :  0.7225053066441467\n",
            "220 24508.989725700398 9400.086273556406 13076.434732411464 Accuracy: 0.823  test :  0.8172  Prule Train :  0.7798645320197043  Prule test :  0.7690618884201073\n",
            "225 19239.360930210954 9390.098993604675 12276.003133136319 Accuracy: 0.8258  test :  0.8197  Prule Train :  0.7977781580416808  Prule test :  0.7642837451324993\n",
            "230 47833.220388461436 9375.787335050478 16550.770393319694 Accuracy: 0.8288  test :  0.8236  Prule Train :  0.845460614152203  Prule test :  0.8174204146029715\n",
            "235 18416.557794148186 9352.871517188232 12115.355186310462 Accuracy: 0.8319  test :  0.8255  Prule Train :  0.8905117908407383  Prule test :  0.8428484957653591\n",
            "240 14900.758739898825 9341.457863668144 11576.571674652965 Accuracy: 0.836  test :  0.828  Prule Train :  0.9482067545856206  Prule test :  0.8982051925812911\n",
            "245 47772.75709820494 9328.608311126014 16494.521875856757 Accuracy: 0.8373  test :  0.8291  Prule Train :  0.9675324675324676  Prule test :  0.9067278070162972\n",
            "250 20614.964565659808 9307.364990112075 12399.609674961044 Accuracy: 0.842  test :  0.8333  Prule Train :  0.9651376291071507  Prule test :  0.9854659335240007\n",
            "255 14511.975573193637 9297.966844447017 11474.763180426064 Accuracy: 0.8426  test :  0.8336  Prule Train :  0.9682922506722967  Prule test :  0.9974288875870598\n",
            "260 47888.36489533016 9288.464911873847 16471.719646173373 Accuracy: 0.8438  test :  0.8363  Prule Train :  0.947143036451296  Prule test :  0.9714500126425234\n",
            "265 25656.04599658962 9268.336007220829 13116.742906709273 Accuracy: 0.8446  test :  0.8373  Prule Train :  0.9419336114638128  Prule test :  0.9458499002761913\n",
            "270 18038.80347333227 9265.118549261206 11970.939070261044 Accuracy: 0.8442  test :  0.837  Prule Train :  0.9582281303725444  Prule test :  0.9563324365675675\n",
            "275 40747.70509392864 9248.941014728154 15361.09677881745 Accuracy: 0.8443  test :  0.8366  Prule Train :  0.9639959738656936  Prule test :  0.9534022553241399\n",
            "280 40145.477508472744 9225.748796331507 15247.570422602417 Accuracy: 0.8476  test :  0.8386  Prule Train :  0.911962100276352  Prule test :  0.9122298521961292\n",
            "285 15184.595902756066 9220.280538236615 11497.969923650026 Accuracy: 0.8491  test :  0.8399  Prule Train :  0.8930012352089375  Prule test :  0.8938944678547712\n",
            "290 49471.37977780579 9215.857609617866 16636.564576288736 Accuracy: 0.8516  test :  0.8422  Prule Train :  0.8596569724086504  Prule test :  0.8677056388110965\n",
            "295 47024.097568274636 9194.591577381485 16248.206212622677 Accuracy: 0.8521  test :  0.8441  Prule Train :  0.8392519710692645  Prule test :  0.845444250175388\n",
            "\n",
            "Results on test set :\n",
            "Accuracy: 0.8437437835687288\n",
            "PRULE :  84.46882776074531\n",
            "DI :  0.024907196253637798\n",
            "DispFPR :  0.03529387753056991\n",
            "DispFNR :  0.26575628259838785\n"
          ],
          "name": "stdout"
        },
        {
          "output_type": "stream",
          "text": [
            "FAGTB/functions.py:131: RuntimeWarning: invalid value encountered in double_scalars\n",
            "  odds = y_z_1.mean() / y_z_0.mean()\n",
            "FAGTB/functions.py:131: RuntimeWarning: invalid value encountered in double_scalars\n",
            "  odds = y_z_1.mean() / y_z_0.mean()\n",
            "FAGTB/functions.py:131: RuntimeWarning: invalid value encountered in double_scalars\n",
            "  odds = y_z_1.mean() / y_z_0.mean()\n",
            "FAGTB/functions.py:131: RuntimeWarning: invalid value encountered in double_scalars\n",
            "  odds = y_z_1.mean() / y_z_0.mean()\n"
          ],
          "name": "stderr"
        },
        {
          "output_type": "stream",
          "text": [
            "0 11802.536126843963 11334.35723301963 13104.737652046224 Accuracy: 0.7481  test :  0.757  Prule Train :  nan  Prule test :  nan\n"
          ],
          "name": "stdout"
        },
        {
          "output_type": "stream",
          "text": [
            "FAGTB/functions.py:131: RuntimeWarning: invalid value encountered in double_scalars\n",
            "  odds = y_z_1.mean() / y_z_0.mean()\n",
            "FAGTB/functions.py:131: RuntimeWarning: invalid value encountered in double_scalars\n",
            "  odds = y_z_1.mean() / y_z_0.mean()\n",
            "FAGTB/functions.py:131: RuntimeWarning: invalid value encountered in double_scalars\n",
            "  odds = y_z_1.mean() / y_z_0.mean()\n",
            "FAGTB/functions.py:131: RuntimeWarning: invalid value encountered in double_scalars\n",
            "  odds = y_z_1.mean() / y_z_0.mean()\n"
          ],
          "name": "stderr"
        },
        {
          "output_type": "stream",
          "text": [
            "5 35738.767220535694 11265.72261071521 16626.537693795563 Accuracy: 0.7481  test :  0.757  Prule Train :  nan  Prule test :  nan\n"
          ],
          "name": "stdout"
        },
        {
          "output_type": "stream",
          "text": [
            "FAGTB/functions.py:131: RuntimeWarning: invalid value encountered in double_scalars\n",
            "  odds = y_z_1.mean() / y_z_0.mean()\n",
            "FAGTB/functions.py:131: RuntimeWarning: invalid value encountered in double_scalars\n",
            "  odds = y_z_1.mean() / y_z_0.mean()\n",
            "FAGTB/functions.py:131: RuntimeWarning: invalid value encountered in double_scalars\n",
            "  odds = y_z_1.mean() / y_z_0.mean()\n",
            "FAGTB/functions.py:131: RuntimeWarning: invalid value encountered in double_scalars\n",
            "  odds = y_z_1.mean() / y_z_0.mean()\n"
          ],
          "name": "stderr"
        },
        {
          "output_type": "stream",
          "text": [
            "10 6610.913846282015 11198.3547377047 12189.991814647 Accuracy: 0.7481  test :  0.757  Prule Train :  nan  Prule test :  nan\n"
          ],
          "name": "stdout"
        },
        {
          "output_type": "stream",
          "text": [
            "FAGTB/functions.py:131: RuntimeWarning: invalid value encountered in double_scalars\n",
            "  odds = y_z_1.mean() / y_z_0.mean()\n",
            "FAGTB/functions.py:131: RuntimeWarning: invalid value encountered in double_scalars\n",
            "  odds = y_z_1.mean() / y_z_0.mean()\n",
            "FAGTB/functions.py:131: RuntimeWarning: invalid value encountered in double_scalars\n",
            "  odds = y_z_1.mean() / y_z_0.mean()\n",
            "FAGTB/functions.py:131: RuntimeWarning: invalid value encountered in double_scalars\n",
            "  odds = y_z_1.mean() / y_z_0.mean()\n"
          ],
          "name": "stderr"
        },
        {
          "output_type": "stream",
          "text": [
            "15 20194.537469002575 11142.962218621675 14172.142838972064 Accuracy: 0.7481  test :  0.757  Prule Train :  nan  Prule test :  nan\n"
          ],
          "name": "stdout"
        },
        {
          "output_type": "stream",
          "text": [
            "FAGTB/functions.py:131: RuntimeWarning: invalid value encountered in double_scalars\n",
            "  odds = y_z_1.mean() / y_z_0.mean()\n",
            "FAGTB/functions.py:131: RuntimeWarning: invalid value encountered in double_scalars\n",
            "  odds = y_z_1.mean() / y_z_0.mean()\n",
            "FAGTB/functions.py:131: RuntimeWarning: invalid value encountered in double_scalars\n",
            "  odds = y_z_1.mean() / y_z_0.mean()\n",
            "FAGTB/functions.py:131: RuntimeWarning: invalid value encountered in double_scalars\n",
            "  odds = y_z_1.mean() / y_z_0.mean()\n",
            "FAGTB/functions.py:131: RuntimeWarning: invalid value encountered in double_scalars\n",
            "  odds = y_z_1.mean() / y_z_0.mean()\n",
            "FAGTB/functions.py:131: RuntimeWarning: invalid value encountered in double_scalars\n",
            "  odds = y_z_1.mean() / y_z_0.mean()\n",
            "FAGTB/functions.py:131: RuntimeWarning: invalid value encountered in double_scalars\n",
            "  odds = y_z_1.mean() / y_z_0.mean()\n",
            "FAGTB/functions.py:131: RuntimeWarning: invalid value encountered in double_scalars\n",
            "  odds = y_z_1.mean() / y_z_0.mean()\n"
          ],
          "name": "stderr"
        },
        {
          "output_type": "stream",
          "text": [
            "20 27837.128682833856 11072.359007900039 15247.928310325118 Accuracy: 0.7481  test :  0.757  Prule Train :  nan  Prule test :  nan\n"
          ],
          "name": "stdout"
        },
        {
          "output_type": "stream",
          "text": [
            "FAGTB/functions.py:131: RuntimeWarning: invalid value encountered in double_scalars\n",
            "  odds = y_z_1.mean() / y_z_0.mean()\n",
            "FAGTB/functions.py:131: RuntimeWarning: invalid value encountered in double_scalars\n",
            "  odds = y_z_1.mean() / y_z_0.mean()\n",
            "FAGTB/functions.py:131: RuntimeWarning: invalid value encountered in double_scalars\n",
            "  odds = y_z_1.mean() / y_z_0.mean()\n",
            "FAGTB/functions.py:131: RuntimeWarning: invalid value encountered in double_scalars\n",
            "  odds = y_z_1.mean() / y_z_0.mean()\n"
          ],
          "name": "stderr"
        },
        {
          "output_type": "stream",
          "text": [
            "25 24997.31136977803 10998.265681827277 14747.86238729398 Accuracy: 0.7481  test :  0.757  Prule Train :  nan  Prule test :  nan\n"
          ],
          "name": "stdout"
        },
        {
          "output_type": "stream",
          "text": [
            "FAGTB/functions.py:131: RuntimeWarning: invalid value encountered in double_scalars\n",
            "  odds = y_z_1.mean() / y_z_0.mean()\n",
            "FAGTB/functions.py:131: RuntimeWarning: invalid value encountered in double_scalars\n",
            "  odds = y_z_1.mean() / y_z_0.mean()\n",
            "FAGTB/functions.py:131: RuntimeWarning: invalid value encountered in double_scalars\n",
            "  odds = y_z_1.mean() / y_z_0.mean()\n",
            "FAGTB/functions.py:131: RuntimeWarning: invalid value encountered in double_scalars\n",
            "  odds = y_z_1.mean() / y_z_0.mean()\n"
          ],
          "name": "stderr"
        },
        {
          "output_type": "stream",
          "text": [
            "30 13307.083975477944 10938.346847339528 12934.409443661218 Accuracy: 0.7481  test :  0.757  Prule Train :  nan  Prule test :  nan\n"
          ],
          "name": "stdout"
        },
        {
          "output_type": "stream",
          "text": [
            "FAGTB/functions.py:131: RuntimeWarning: invalid value encountered in double_scalars\n",
            "  odds = y_z_1.mean() / y_z_0.mean()\n",
            "FAGTB/functions.py:131: RuntimeWarning: invalid value encountered in double_scalars\n",
            "  odds = y_z_1.mean() / y_z_0.mean()\n",
            "FAGTB/functions.py:131: RuntimeWarning: invalid value encountered in double_scalars\n",
            "  odds = y_z_1.mean() / y_z_0.mean()\n",
            "FAGTB/functions.py:131: RuntimeWarning: invalid value encountered in double_scalars\n",
            "  odds = y_z_1.mean() / y_z_0.mean()\n"
          ],
          "name": "stderr"
        },
        {
          "output_type": "stream",
          "text": [
            "35 39013.53601163013 10877.78899810764 16729.81939985216 Accuracy: 0.7481  test :  0.757  Prule Train :  nan  Prule test :  nan\n"
          ],
          "name": "stdout"
        },
        {
          "output_type": "stream",
          "text": [
            "FAGTB/functions.py:131: RuntimeWarning: invalid value encountered in double_scalars\n",
            "  odds = y_z_1.mean() / y_z_0.mean()\n",
            "FAGTB/functions.py:131: RuntimeWarning: invalid value encountered in double_scalars\n",
            "  odds = y_z_1.mean() / y_z_0.mean()\n",
            "FAGTB/functions.py:131: RuntimeWarning: invalid value encountered in double_scalars\n",
            "  odds = y_z_1.mean() / y_z_0.mean()\n",
            "FAGTB/functions.py:131: RuntimeWarning: invalid value encountered in double_scalars\n",
            "  odds = y_z_1.mean() / y_z_0.mean()\n",
            "FAGTB/functions.py:131: RuntimeWarning: invalid value encountered in double_scalars\n",
            "  odds = y_z_1.mean() / y_z_0.mean()\n",
            "FAGTB/functions.py:131: RuntimeWarning: invalid value encountered in double_scalars\n",
            "  odds = y_z_1.mean() / y_z_0.mean()\n",
            "FAGTB/functions.py:131: RuntimeWarning: invalid value encountered in double_scalars\n",
            "  odds = y_z_1.mean() / y_z_0.mean()\n",
            "FAGTB/functions.py:131: RuntimeWarning: invalid value encountered in double_scalars\n",
            "  odds = y_z_1.mean() / y_z_0.mean()\n"
          ],
          "name": "stderr"
        },
        {
          "output_type": "stream",
          "text": [
            "40 3474.8522813247473 10816.874952192538 11338.10279439125 Accuracy: 0.7481  test :  0.757  Prule Train :  nan  Prule test :  nan\n"
          ],
          "name": "stdout"
        },
        {
          "output_type": "stream",
          "text": [
            "FAGTB/functions.py:131: RuntimeWarning: invalid value encountered in double_scalars\n",
            "  odds = y_z_1.mean() / y_z_0.mean()\n",
            "FAGTB/functions.py:131: RuntimeWarning: invalid value encountered in double_scalars\n",
            "  odds = y_z_1.mean() / y_z_0.mean()\n",
            "FAGTB/functions.py:131: RuntimeWarning: invalid value encountered in double_scalars\n",
            "  odds = y_z_1.mean() / y_z_0.mean()\n",
            "FAGTB/functions.py:131: RuntimeWarning: invalid value encountered in double_scalars\n",
            "  odds = y_z_1.mean() / y_z_0.mean()\n"
          ],
          "name": "stderr"
        },
        {
          "output_type": "stream",
          "text": [
            "45 19675.972763178823 10767.51433076472 13718.910245241543 Accuracy: 0.7481  test :  0.757  Prule Train :  nan  Prule test :  nan\n"
          ],
          "name": "stdout"
        },
        {
          "output_type": "stream",
          "text": [
            "FAGTB/functions.py:131: RuntimeWarning: invalid value encountered in double_scalars\n",
            "  odds = y_z_1.mean() / y_z_0.mean()\n",
            "FAGTB/functions.py:131: RuntimeWarning: invalid value encountered in double_scalars\n",
            "  odds = y_z_1.mean() / y_z_0.mean()\n",
            "FAGTB/functions.py:131: RuntimeWarning: invalid value encountered in double_scalars\n",
            "  odds = y_z_1.mean() / y_z_0.mean()\n",
            "FAGTB/functions.py:131: RuntimeWarning: invalid value encountered in double_scalars\n",
            "  odds = y_z_1.mean() / y_z_0.mean()\n"
          ],
          "name": "stderr"
        },
        {
          "output_type": "stream",
          "text": [
            "50 45222.11687377946 10716.843090744329 17500.160621811243 Accuracy: 0.7481  test :  0.757  Prule Train :  nan  Prule test :  nan\n"
          ],
          "name": "stdout"
        },
        {
          "output_type": "stream",
          "text": [
            "FAGTB/functions.py:131: RuntimeWarning: invalid value encountered in double_scalars\n",
            "  odds = y_z_1.mean() / y_z_0.mean()\n",
            "FAGTB/functions.py:131: RuntimeWarning: invalid value encountered in double_scalars\n",
            "  odds = y_z_1.mean() / y_z_0.mean()\n",
            "FAGTB/functions.py:131: RuntimeWarning: invalid value encountered in double_scalars\n",
            "  odds = y_z_1.mean() / y_z_0.mean()\n",
            "FAGTB/functions.py:131: RuntimeWarning: invalid value encountered in double_scalars\n",
            "  odds = y_z_1.mean() / y_z_0.mean()\n"
          ],
          "name": "stderr"
        },
        {
          "output_type": "stream",
          "text": [
            "55 45529.53178781256 10662.45801228613 17491.887780458015 Accuracy: 0.7481  test :  0.757  Prule Train :  nan  Prule test :  nan\n"
          ],
          "name": "stdout"
        },
        {
          "output_type": "stream",
          "text": [
            "FAGTB/functions.py:131: RuntimeWarning: invalid value encountered in double_scalars\n",
            "  odds = y_z_1.mean() / y_z_0.mean()\n",
            "FAGTB/functions.py:131: RuntimeWarning: invalid value encountered in double_scalars\n",
            "  odds = y_z_1.mean() / y_z_0.mean()\n",
            "FAGTB/functions.py:131: RuntimeWarning: invalid value encountered in double_scalars\n",
            "  odds = y_z_1.mean() / y_z_0.mean()\n",
            "FAGTB/functions.py:131: RuntimeWarning: invalid value encountered in double_scalars\n",
            "  odds = y_z_1.mean() / y_z_0.mean()\n",
            "FAGTB/functions.py:131: RuntimeWarning: invalid value encountered in double_scalars\n",
            "  odds = y_z_1.mean() / y_z_0.mean()\n",
            "FAGTB/functions.py:131: RuntimeWarning: invalid value encountered in double_scalars\n",
            "  odds = y_z_1.mean() / y_z_0.mean()\n",
            "FAGTB/functions.py:131: RuntimeWarning: invalid value encountered in double_scalars\n",
            "  odds = y_z_1.mean() / y_z_0.mean()\n",
            "FAGTB/functions.py:131: RuntimeWarning: invalid value encountered in double_scalars\n",
            "  odds = y_z_1.mean() / y_z_0.mean()\n"
          ],
          "name": "stderr"
        },
        {
          "output_type": "stream",
          "text": [
            "60 43140.52510981946 10607.677056456443 17078.75582292936 Accuracy: 0.7481  test :  0.757  Prule Train :  nan  Prule test :  nan\n"
          ],
          "name": "stdout"
        },
        {
          "output_type": "stream",
          "text": [
            "FAGTB/functions.py:131: RuntimeWarning: invalid value encountered in double_scalars\n",
            "  odds = y_z_1.mean() / y_z_0.mean()\n",
            "FAGTB/functions.py:131: RuntimeWarning: invalid value encountered in double_scalars\n",
            "  odds = y_z_1.mean() / y_z_0.mean()\n",
            "FAGTB/functions.py:131: RuntimeWarning: invalid value encountered in double_scalars\n",
            "  odds = y_z_1.mean() / y_z_0.mean()\n",
            "FAGTB/functions.py:131: RuntimeWarning: invalid value encountered in double_scalars\n",
            "  odds = y_z_1.mean() / y_z_0.mean()\n"
          ],
          "name": "stderr"
        },
        {
          "output_type": "stream",
          "text": [
            "65 5.514415244009732 10554.920649542039 10555.747811828638 Accuracy: 0.7481  test :  0.757  Prule Train :  nan  Prule test :  nan\n"
          ],
          "name": "stdout"
        },
        {
          "output_type": "stream",
          "text": [
            "FAGTB/functions.py:131: RuntimeWarning: invalid value encountered in double_scalars\n",
            "  odds = y_z_1.mean() / y_z_0.mean()\n",
            "FAGTB/functions.py:131: RuntimeWarning: invalid value encountered in double_scalars\n",
            "  odds = y_z_1.mean() / y_z_0.mean()\n",
            "FAGTB/functions.py:131: RuntimeWarning: invalid value encountered in double_scalars\n",
            "  odds = y_z_1.mean() / y_z_0.mean()\n",
            "FAGTB/functions.py:131: RuntimeWarning: invalid value encountered in double_scalars\n",
            "  odds = y_z_1.mean() / y_z_0.mean()\n"
          ],
          "name": "stderr"
        },
        {
          "output_type": "stream",
          "text": [
            "70 20401.825550336853 10510.436977772151 13570.710810322678 Accuracy: 0.7481  test :  0.757  Prule Train :  nan  Prule test :  nan\n"
          ],
          "name": "stdout"
        },
        {
          "output_type": "stream",
          "text": [
            "FAGTB/functions.py:131: RuntimeWarning: invalid value encountered in double_scalars\n",
            "  odds = y_z_1.mean() / y_z_0.mean()\n",
            "FAGTB/functions.py:131: RuntimeWarning: invalid value encountered in double_scalars\n",
            "  odds = y_z_1.mean() / y_z_0.mean()\n",
            "FAGTB/functions.py:131: RuntimeWarning: invalid value encountered in double_scalars\n",
            "  odds = y_z_1.mean() / y_z_0.mean()\n",
            "FAGTB/functions.py:131: RuntimeWarning: invalid value encountered in double_scalars\n",
            "  odds = y_z_1.mean() / y_z_0.mean()\n"
          ],
          "name": "stderr"
        },
        {
          "output_type": "stream",
          "text": [
            "75 42580.53912168407 10463.820089032899 16850.90095728551 Accuracy: 0.7481  test :  0.757  Prule Train :  nan  Prule test :  nan\n"
          ],
          "name": "stdout"
        },
        {
          "output_type": "stream",
          "text": [
            "FAGTB/functions.py:131: RuntimeWarning: invalid value encountered in double_scalars\n",
            "  odds = y_z_1.mean() / y_z_0.mean()\n",
            "FAGTB/functions.py:131: RuntimeWarning: invalid value encountered in double_scalars\n",
            "  odds = y_z_1.mean() / y_z_0.mean()\n",
            "FAGTB/functions.py:131: RuntimeWarning: invalid value encountered in double_scalars\n",
            "  odds = y_z_1.mean() / y_z_0.mean()\n",
            "FAGTB/functions.py:131: RuntimeWarning: invalid value encountered in double_scalars\n",
            "  odds = y_z_1.mean() / y_z_0.mean()\n",
            "FAGTB/functions.py:131: RuntimeWarning: invalid value encountered in double_scalars\n",
            "  odds = y_z_1.mean() / y_z_0.mean()\n",
            "FAGTB/functions.py:131: RuntimeWarning: invalid value encountered in double_scalars\n",
            "  odds = y_z_1.mean() / y_z_0.mean()\n",
            "FAGTB/functions.py:131: RuntimeWarning: invalid value encountered in double_scalars\n",
            "  odds = y_z_1.mean() / y_z_0.mean()\n",
            "FAGTB/functions.py:131: RuntimeWarning: invalid value encountered in double_scalars\n",
            "  odds = y_z_1.mean() / y_z_0.mean()\n"
          ],
          "name": "stderr"
        },
        {
          "output_type": "stream",
          "text": [
            "80 4786.564792122208 10413.593787968111 11131.578506786442 Accuracy: 0.7481  test :  0.757  Prule Train :  nan  Prule test :  nan\n"
          ],
          "name": "stdout"
        },
        {
          "output_type": "stream",
          "text": [
            "FAGTB/functions.py:131: RuntimeWarning: invalid value encountered in double_scalars\n",
            "  odds = y_z_1.mean() / y_z_0.mean()\n",
            "FAGTB/functions.py:131: RuntimeWarning: invalid value encountered in double_scalars\n",
            "  odds = y_z_1.mean() / y_z_0.mean()\n",
            "FAGTB/functions.py:131: RuntimeWarning: invalid value encountered in double_scalars\n",
            "  odds = y_z_1.mean() / y_z_0.mean()\n",
            "FAGTB/functions.py:131: RuntimeWarning: invalid value encountered in double_scalars\n",
            "  odds = y_z_1.mean() / y_z_0.mean()\n"
          ],
          "name": "stderr"
        },
        {
          "output_type": "stream",
          "text": [
            "85 7044.2882278000425 10370.361632708822 11427.00486687883 Accuracy: 0.7481  test :  0.757  Prule Train :  nan  Prule test :  nan\n"
          ],
          "name": "stdout"
        },
        {
          "output_type": "stream",
          "text": [
            "FAGTB/functions.py:131: RuntimeWarning: invalid value encountered in double_scalars\n",
            "  odds = y_z_1.mean() / y_z_0.mean()\n",
            "FAGTB/functions.py:131: RuntimeWarning: invalid value encountered in double_scalars\n",
            "  odds = y_z_1.mean() / y_z_0.mean()\n",
            "FAGTB/functions.py:131: RuntimeWarning: invalid value encountered in double_scalars\n",
            "  odds = y_z_1.mean() / y_z_0.mean()\n",
            "FAGTB/functions.py:131: RuntimeWarning: invalid value encountered in double_scalars\n",
            "  odds = y_z_1.mean() / y_z_0.mean()\n"
          ],
          "name": "stderr"
        },
        {
          "output_type": "stream",
          "text": [
            "90 34244.772527104025 10317.854150057174 15454.570029122779 Accuracy: 0.7481  test :  0.757  Prule Train :  nan  Prule test :  nan\n"
          ],
          "name": "stdout"
        },
        {
          "output_type": "stream",
          "text": [
            "FAGTB/functions.py:131: RuntimeWarning: invalid value encountered in double_scalars\n",
            "  odds = y_z_1.mean() / y_z_0.mean()\n",
            "FAGTB/functions.py:131: RuntimeWarning: invalid value encountered in double_scalars\n",
            "  odds = y_z_1.mean() / y_z_0.mean()\n",
            "FAGTB/functions.py:131: RuntimeWarning: invalid value encountered in double_scalars\n",
            "  odds = y_z_1.mean() / y_z_0.mean()\n",
            "FAGTB/functions.py:131: RuntimeWarning: invalid value encountered in double_scalars\n",
            "  odds = y_z_1.mean() / y_z_0.mean()\n"
          ],
          "name": "stderr"
        },
        {
          "output_type": "stream",
          "text": [
            "95 24242.915447998595 10263.481757400903 13899.91907460069 Accuracy: 0.7481  test :  0.757  Prule Train :  nan  Prule test :  nan\n"
          ],
          "name": "stdout"
        },
        {
          "output_type": "stream",
          "text": [
            "FAGTB/functions.py:131: RuntimeWarning: invalid value encountered in double_scalars\n",
            "  odds = y_z_1.mean() / y_z_0.mean()\n",
            "FAGTB/functions.py:131: RuntimeWarning: invalid value encountered in double_scalars\n",
            "  odds = y_z_1.mean() / y_z_0.mean()\n",
            "FAGTB/functions.py:131: RuntimeWarning: invalid value encountered in double_scalars\n",
            "  odds = y_z_1.mean() / y_z_0.mean()\n",
            "FAGTB/functions.py:131: RuntimeWarning: invalid value encountered in double_scalars\n",
            "  odds = y_z_1.mean() / y_z_0.mean()\n",
            "FAGTB/functions.py:131: RuntimeWarning: invalid value encountered in double_scalars\n",
            "  odds = y_z_1.mean() / y_z_0.mean()\n",
            "FAGTB/functions.py:132: RuntimeWarning: divide by zero encountered in double_scalars\n",
            "  return np.min([odds, 1/odds]) * 100\n",
            "FAGTB/functions.py:132: RuntimeWarning: divide by zero encountered in double_scalars\n",
            "  return np.min([odds, 1/odds]) * 100\n",
            "FAGTB/functions.py:132: RuntimeWarning: divide by zero encountered in double_scalars\n",
            "  return np.min([odds, 1/odds]) * 100\n"
          ],
          "name": "stderr"
        },
        {
          "output_type": "stream",
          "text": [
            "100 16073.001222425537 10223.08341093209 12634.033594295921 Accuracy: 0.7481  test :  0.757  Prule Train :  nan  Prule test :  nan\n"
          ],
          "name": "stdout"
        },
        {
          "output_type": "stream",
          "text": [
            "FAGTB/functions.py:132: RuntimeWarning: divide by zero encountered in double_scalars\n",
            "  return np.min([odds, 1/odds]) * 100\n",
            "FAGTB/functions.py:132: RuntimeWarning: divide by zero encountered in double_scalars\n",
            "  return np.min([odds, 1/odds]) * 100\n",
            "FAGTB/functions.py:132: RuntimeWarning: divide by zero encountered in double_scalars\n",
            "  return np.min([odds, 1/odds]) * 100\n",
            "FAGTB/functions.py:132: RuntimeWarning: divide by zero encountered in double_scalars\n",
            "  return np.min([odds, 1/odds]) * 100\n"
          ],
          "name": "stderr"
        },
        {
          "output_type": "stream",
          "text": [
            "105 44141.2597998885 10181.798862383343 16802.98783236662 Accuracy: 0.7499  test :  0.7587  Prule Train :  0.0  Prule test :  0.0\n"
          ],
          "name": "stdout"
        },
        {
          "output_type": "stream",
          "text": [
            "FAGTB/functions.py:132: RuntimeWarning: divide by zero encountered in double_scalars\n",
            "  return np.min([odds, 1/odds]) * 100\n",
            "FAGTB/functions.py:132: RuntimeWarning: divide by zero encountered in double_scalars\n",
            "  return np.min([odds, 1/odds]) * 100\n",
            "FAGTB/functions.py:132: RuntimeWarning: divide by zero encountered in double_scalars\n",
            "  return np.min([odds, 1/odds]) * 100\n",
            "FAGTB/functions.py:132: RuntimeWarning: divide by zero encountered in double_scalars\n",
            "  return np.min([odds, 1/odds]) * 100\n"
          ],
          "name": "stderr"
        },
        {
          "output_type": "stream",
          "text": [
            "110 28225.273836379303 10132.69557323872 14366.486648695613 Accuracy: 0.7508  test :  0.7594  Prule Train :  0.0  Prule test :  0.0\n"
          ],
          "name": "stdout"
        },
        {
          "output_type": "stream",
          "text": [
            "FAGTB/functions.py:132: RuntimeWarning: divide by zero encountered in double_scalars\n",
            "  return np.min([odds, 1/odds]) * 100\n",
            "FAGTB/functions.py:132: RuntimeWarning: divide by zero encountered in double_scalars\n",
            "  return np.min([odds, 1/odds]) * 100\n",
            "FAGTB/functions.py:132: RuntimeWarning: divide by zero encountered in double_scalars\n",
            "  return np.min([odds, 1/odds]) * 100\n",
            "FAGTB/functions.py:132: RuntimeWarning: divide by zero encountered in double_scalars\n",
            "  return np.min([odds, 1/odds]) * 100\n"
          ],
          "name": "stderr"
        },
        {
          "output_type": "stream",
          "text": [
            "115 14851.19110766215 10094.362253207797 12322.04091935712 Accuracy: 0.7523  test :  0.7601  Prule Train :  0.0  Prule test :  0.0\n"
          ],
          "name": "stdout"
        },
        {
          "output_type": "stream",
          "text": [
            "FAGTB/functions.py:132: RuntimeWarning: divide by zero encountered in double_scalars\n",
            "  return np.min([odds, 1/odds]) * 100\n",
            "FAGTB/functions.py:132: RuntimeWarning: divide by zero encountered in double_scalars\n",
            "  return np.min([odds, 1/odds]) * 100\n",
            "FAGTB/functions.py:132: RuntimeWarning: divide by zero encountered in double_scalars\n",
            "  return np.min([odds, 1/odds]) * 100\n",
            "FAGTB/functions.py:132: RuntimeWarning: divide by zero encountered in double_scalars\n",
            "  return np.min([odds, 1/odds]) * 100\n",
            "FAGTB/functions.py:132: RuntimeWarning: divide by zero encountered in double_scalars\n",
            "  return np.min([odds, 1/odds]) * 100\n",
            "FAGTB/functions.py:132: RuntimeWarning: divide by zero encountered in double_scalars\n",
            "  return np.min([odds, 1/odds]) * 100\n",
            "FAGTB/functions.py:132: RuntimeWarning: divide by zero encountered in double_scalars\n",
            "  return np.min([odds, 1/odds]) * 100\n",
            "FAGTB/functions.py:132: RuntimeWarning: divide by zero encountered in double_scalars\n",
            "  return np.min([odds, 1/odds]) * 100\n"
          ],
          "name": "stderr"
        },
        {
          "output_type": "stream",
          "text": [
            "120 43657.87057944514 10055.77663194453 16604.457218861302 Accuracy: 0.7544  test :  0.7614  Prule Train :  0.0  Prule test :  0.0\n"
          ],
          "name": "stdout"
        },
        {
          "output_type": "stream",
          "text": [
            "FAGTB/functions.py:132: RuntimeWarning: divide by zero encountered in double_scalars\n",
            "  return np.min([odds, 1/odds]) * 100\n",
            "FAGTB/functions.py:132: RuntimeWarning: divide by zero encountered in double_scalars\n",
            "  return np.min([odds, 1/odds]) * 100\n",
            "FAGTB/functions.py:132: RuntimeWarning: divide by zero encountered in double_scalars\n",
            "  return np.min([odds, 1/odds]) * 100\n",
            "FAGTB/functions.py:132: RuntimeWarning: divide by zero encountered in double_scalars\n",
            "  return np.min([odds, 1/odds]) * 100\n"
          ],
          "name": "stderr"
        },
        {
          "output_type": "stream",
          "text": [
            "125 17659.422337020802 10012.9122635232 12661.825614076322 Accuracy: 0.7556  test :  0.7627  Prule Train :  0.0  Prule test :  0.0\n"
          ],
          "name": "stdout"
        },
        {
          "output_type": "stream",
          "text": [
            "FAGTB/functions.py:132: RuntimeWarning: divide by zero encountered in double_scalars\n",
            "  return np.min([odds, 1/odds]) * 100\n",
            "FAGTB/functions.py:132: RuntimeWarning: divide by zero encountered in double_scalars\n",
            "  return np.min([odds, 1/odds]) * 100\n",
            "FAGTB/functions.py:132: RuntimeWarning: divide by zero encountered in double_scalars\n",
            "  return np.min([odds, 1/odds]) * 100\n",
            "FAGTB/functions.py:132: RuntimeWarning: divide by zero encountered in double_scalars\n",
            "  return np.min([odds, 1/odds]) * 100\n"
          ],
          "name": "stderr"
        },
        {
          "output_type": "stream",
          "text": [
            "130 15049.311001221835 9981.41812814865 12238.814778331925 Accuracy: 0.7565  test :  0.7634  Prule Train :  0.0  Prule test :  0.0\n"
          ],
          "name": "stdout"
        },
        {
          "output_type": "stream",
          "text": [
            "FAGTB/functions.py:132: RuntimeWarning: divide by zero encountered in double_scalars\n",
            "  return np.min([odds, 1/odds]) * 100\n",
            "FAGTB/functions.py:132: RuntimeWarning: divide by zero encountered in double_scalars\n",
            "  return np.min([odds, 1/odds]) * 100\n",
            "FAGTB/functions.py:132: RuntimeWarning: divide by zero encountered in double_scalars\n",
            "  return np.min([odds, 1/odds]) * 100\n"
          ],
          "name": "stderr"
        },
        {
          "output_type": "stream",
          "text": [
            "135 44288.16928096663 9945.919201191113 16589.144593336106 Accuracy: 0.7588  test :  0.7643  Prule Train :  0.0061158279404975235  Prule test :  0.004817980840088431\n",
            "140 60028.16589877308 9893.149604068121 18897.37448888408 Accuracy: 0.7595  test :  0.7652  Prule Train :  0.005592294031194234  Prule test :  0.022100829541690046\n",
            "145 1510.6575633023322 9846.622681203093 10073.221315698444 Accuracy: 0.7606  test :  0.7666  Prule Train :  0.0118081419743174  Prule test :  0.03108374735540923\n",
            "150 32569.344368660997 9803.63395157748 14689.035606876627 Accuracy: 0.7622  test :  0.7684  Prule Train :  0.03650081437503284  Prule test :  0.04887806649365074\n",
            "155 33899.66406884363 9758.43923925603 14843.388849582574 Accuracy: 0.7635  test :  0.7693  Prule Train :  0.05754632896964637  Prule test :  0.06691640055678376\n",
            "160 15707.458661770783 9731.047149104174 12087.165948369791 Accuracy: 0.7716  test :  0.778  Prule Train :  0.26355888889708523  Prule test :  0.2920900884303611\n",
            "165 47837.43754718051 9704.680429176717 16880.296061253794 Accuracy: 0.7822  test :  0.7884  Prule Train :  0.5142225802325023  Prule test :  0.5683486380224076\n",
            "170 2611.913019100505 9676.031874501856 10067.818827366933 Accuracy: 0.7864  test :  0.7916  Prule Train :  0.5635445317631409  Prule test :  0.6109953355866333\n",
            "175 8852.304312837095 9643.761015585837 10971.606662511402 Accuracy: 0.7928  test :  0.7961  Prule Train :  0.6550360897249302  Prule test :  0.7031647712561493\n",
            "180 41595.751113742874 9614.64858130261 15854.01124836404 Accuracy: 0.8013  test :  0.8056  Prule Train :  0.7905781768224601  Prule test :  0.8648275607958732\n",
            "185 18953.463383375314 9583.41829758404 12426.437805090336 Accuracy: 0.8049  test :  0.8096  Prule Train :  0.8344810639997  Prule test :  0.9353933533439976\n",
            "190 23885.011722928906 9570.987149564045 13153.73890800338 Accuracy: 0.8082  test :  0.8119  Prule Train :  0.7907482168239798  Prule test :  0.8748438893844782\n",
            "195 56764.39845462944 9559.107825631017 18073.767593825432 Accuracy: 0.8113  test :  0.8153  Prule Train :  0.7717928634560951  Prule test :  0.8436227320787251\n",
            "200 9403.562256730358 9538.242811256046 10948.777149765601 Accuracy: 0.8133  test :  0.8169  Prule Train :  0.7627882750264635  Prule test :  0.8185194215317521\n",
            "205 27826.678267646283 9534.872284207844 13708.874024354785 Accuracy: 0.8142  test :  0.8179  Prule Train :  0.7362115135826811  Prule test :  0.7692437205700512\n",
            "210 22821.816148678798 9517.234738720425 12940.507161022244 Accuracy: 0.8147  test :  0.8187  Prule Train :  0.7301942360886785  Prule test :  0.7648345822054572\n",
            "215 54961.870872079 9507.158871389238 17751.439502201087 Accuracy: 0.8146  test :  0.8194  Prule Train :  0.7139129870410835  Prule test :  0.7591030905605565\n",
            "220 11826.6697289035 9487.614744822471 11261.615204157995 Accuracy: 0.8153  test :  0.8208  Prule Train :  0.7111575334068898  Prule test :  0.7573263633014002\n",
            "225 23903.50149597108 9486.41800369642 13071.943228092085 Accuracy: 0.8172  test :  0.8227  Prule Train :  0.7085169489774414  Prule test :  0.7575173415242282\n",
            "230 52253.1125876495 9476.945670266026 17314.912558413453 Accuracy: 0.8173  test :  0.8221  Prule Train :  0.6917790983527226  Prule test :  0.7369474918783148\n",
            "235 63792.18740368809 9442.89698393502 19011.725094488233 Accuracy: 0.8191  test :  0.8246  Prule Train :  0.7215035136782917  Prule test :  0.7787044663112113\n",
            "240 1922.9885806527732 9413.308945034538 9701.757232132455 Accuracy: 0.8224  test :  0.8291  Prule Train :  0.7734969761477363  Prule test :  0.8504667836509688\n",
            "245 35234.53445091257 9387.29440800365 14672.474575640535 Accuracy: 0.8295  test :  0.8358  Prule Train :  0.8918516541079743  Prule test :  0.957067738695073\n",
            "250 45410.27144530668 9356.66042322523 16168.201140021232 Accuracy: 0.8318  test :  0.8379  Prule Train :  0.929600565584345  Prule test :  0.9934755001806537\n",
            "255 12588.13270076427 9343.16654530273 11231.38645041737 Accuracy: 0.8322  test :  0.8386  Prule Train :  0.9323831584915558  Prule test :  0.9903679077257049\n",
            "260 47179.655655709124 9332.781114529764 16409.72946288613 Accuracy: 0.8379  test :  0.8426  Prule Train :  0.9733693803866289  Prule test :  0.9142905443480221\n",
            "265 16332.791191469538 9314.376552572538 11764.295231292968 Accuracy: 0.8385  test :  0.8435  Prule Train :  0.9593799187308414  Prule test :  0.8961067356925397\n",
            "270 10771.279064714417 9300.855138576031 10916.546998283193 Accuracy: 0.8393  test :  0.8447  Prule Train :  0.9461632053767025  Prule test :  0.8849981302163379\n",
            "275 46091.18817251989 9291.30974726936 16204.987973147343 Accuracy: 0.8398  test :  0.8455  Prule Train :  0.9459077487726073  Prule test :  0.8768401267456565\n",
            "280 25337.935019933877 9275.537515700038 13076.227768690118 Accuracy: 0.8401  test :  0.8458  Prule Train :  0.9500252997085233  Prule test :  0.8829359009842337\n",
            "285 19551.14413845532 9277.792847863444 12210.464468631742 Accuracy: 0.8429  test :  0.8472  Prule Train :  0.9178926757989511  Prule test :  0.8754625215189997\n",
            "290 38913.645545015796 9271.380531641425 15108.427363393797 Accuracy: 0.843  test :  0.8468  Prule Train :  0.9195933964108519  Prule test :  0.8793005498736451\n",
            "295 42913.4047461971 9249.353123964269 15686.363835893833 Accuracy: 0.8483  test :  0.8495  Prule Train :  0.8396047876773927  Prule test :  0.807784842046084\n",
            "\n",
            "Results on test set :\n",
            "Accuracy: 0.8511040381937537\n",
            "PRULE :  79.57817315232013\n",
            "DI :  0.03446277338333595\n",
            "DispFPR :  0.027280223334802643\n",
            "DispFNR :  0.26811119606071465\n",
            "84.11\n",
            "86.73\n",
            " 0.03\n",
            " 0.27\n"
          ],
          "name": "stdout"
        }
      ]
    },
    {
      "cell_type": "markdown",
      "metadata": {
        "id": "VZOFlu2pfCpG",
        "colab_type": "text"
      },
      "source": [
        "Results for FAGTB with logistic regression on Adversarial"
      ]
    },
    {
      "cell_type": "code",
      "metadata": {
        "id": "G5othDpTlKYi",
        "colab_type": "code",
        "colab": {
          "base_uri": "https://localhost:8080/",
          "height": 35
        },
        "outputId": "f16deed8-5468-4ee3-e992-d8d0d9526cf0"
      },
      "source": [
        "np.set_printoptions(suppress=True) \n",
        "np.mean(table[1:,], axis=0).astype(float)"
      ],
      "execution_count": 11,
      "outputs": [
        {
          "output_type": "execute_result",
          "data": {
            "text/plain": [
              "array([84.11080167, 86.73278571,  0.03408385,  0.27099708])"
            ]
          },
          "metadata": {
            "tags": []
          },
          "execution_count": 11
        }
      ]
    },
    {
      "cell_type": "code",
      "metadata": {
        "id": "gUqlXceOlKSt",
        "colab_type": "code",
        "colab": {}
      },
      "source": [
        ""
      ],
      "execution_count": null,
      "outputs": []
    }
  ]
}